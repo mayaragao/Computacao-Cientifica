{
 "cells": [
  {
   "cell_type": "markdown",
   "metadata": {},
   "source": [
    "![CC-BY-SA](https://mirrors.creativecommons.org/presskit/buttons/88x31/svg/by-sa.svg)\n",
    "\n",
    "\n",
    "This notebook was created by [Bernardo Freitas Paulo da Costa](http://www.im.ufrj.br/bernardofpc),\n",
    "and is licensed under Creative Commons BY-SA."
   ]
  },
  {
   "cell_type": "markdown",
   "metadata": {},
   "source": [
    "Antes de enviar este Teste, verifique que tudo está funcionando como esperado.\n",
    "Por exemplo, **rode o código inteiro, do zero**.\n",
    "Para isso, vá no menu, escolha _Kernel_, depois _Restart & Run All_.\n",
    "\n",
    "Verifique, também, que você respondeu todas as questões:\n",
    "* as questões de código têm `YOUR CODE HERE` (e você pode apagar o `raise NotImplemented` ao incluir sua resposta)\n",
    "* as questões discursivas têm \"YOUR ANSWER HERE\"."
   ]
  },
  {
   "cell_type": "markdown",
   "metadata": {},
   "source": [
    "---"
   ]
  },
  {
   "cell_type": "markdown",
   "metadata": {},
   "source": [
    "# Integrando funções menos regulares"
   ]
  },
  {
   "cell_type": "code",
   "execution_count": null,
   "metadata": {
    "deletable": false,
    "editable": false,
    "nbgrader": {
     "cell_type": "code",
     "checksum": "6deb08579ec373034e710565eec09399",
     "grade": false,
     "grade_id": "cell-0883be87dad8a37a",
     "locked": true,
     "schema_version": 3,
     "solution": false,
     "task": false
    }
   },
   "outputs": [],
   "source": [
    "import numpy as np\n",
    "import matplotlib.pyplot as plt"
   ]
  },
  {
   "cell_type": "code",
   "execution_count": null,
   "metadata": {
    "deletable": false,
    "nbgrader": {
     "cell_type": "code",
     "checksum": "c759f4542401856dcddf62c16972e0e6",
     "grade": false,
     "grade_id": "cell-25b2a1e4698b3883",
     "locked": false,
     "schema_version": 3,
     "solution": true,
     "task": false
    }
   },
   "outputs": [],
   "source": [
    "def midpoint(f, a, b, n=1000):\n",
    "    # YOUR CODE HERE\n",
    "    raise NotImplementedError()\n",
    "\n",
    "def simpson(f, a, b, n=1000):\n",
    "    # YOUR CODE HERE\n",
    "    raise NotImplementedError()"
   ]
  },
  {
   "cell_type": "code",
   "execution_count": null,
   "metadata": {
    "deletable": false,
    "editable": false,
    "nbgrader": {
     "cell_type": "code",
     "checksum": "24234f8137bdd812696bf83eee436eee",
     "grade": false,
     "grade_id": "cell-b5dc08dde552e0a8",
     "locked": true,
     "schema_version": 3,
     "solution": false,
     "task": false
    }
   },
   "outputs": [],
   "source": [
    "def f(x):\n",
    "    return np.abs(np.sin(x))"
   ]
  },
  {
   "cell_type": "markdown",
   "metadata": {},
   "source": [
    "## Questão 1: Primitiva\n",
    "\n",
    "Dê uma primitiva analítica de $f$.\n",
    "\n",
    "Dica: use a função `np.divmod` (versão vetorizada da `divmod` do python)."
   ]
  },
  {
   "cell_type": "code",
   "execution_count": null,
   "metadata": {
    "deletable": false,
    "nbgrader": {
     "cell_type": "code",
     "checksum": "ae7b6006f972ef47542de5dcebb6e661",
     "grade": false,
     "grade_id": "cell-ab540a7e7e80c2e9",
     "locked": false,
     "schema_version": 3,
     "solution": true,
     "task": false
    }
   },
   "outputs": [],
   "source": [
    "def F(x):\n",
    "    \"\"\"Primitiva de |sin(x)|, exata até a precisão do computador.\"\"\"\n",
    "    # YOUR CODE HERE\n",
    "    raise NotImplementedError()"
   ]
  },
  {
   "cell_type": "code",
   "execution_count": null,
   "metadata": {
    "deletable": false,
    "editable": false,
    "nbgrader": {
     "cell_type": "code",
     "checksum": "5dbd85a58776a3877ed95a6248517cf6",
     "grade": true,
     "grade_id": "cell-3a001c03b90f0783",
     "locked": true,
     "points": 1,
     "schema_version": 3,
     "solution": false,
     "task": false
    }
   },
   "outputs": [],
   "source": [
    "assert np.isclose(F(10+0.1), F(10) + 0.1 * f(10), atol=1e-2)"
   ]
  },
  {
   "cell_type": "code",
   "execution_count": null,
   "metadata": {
    "deletable": false,
    "editable": false,
    "nbgrader": {
     "cell_type": "code",
     "checksum": "c72dcfa44d0e2765afbb5c8c1ab72bcc",
     "grade": true,
     "grade_id": "cell-324c73c9738ddcb5",
     "locked": true,
     "points": 1,
     "schema_version": 3,
     "solution": false,
     "task": false
    }
   },
   "outputs": [],
   "source": [
    "assert np.isclose(F(2+0.01), F(2) + 0.01 * f(2), atol=1e-4)"
   ]
  },
  {
   "cell_type": "markdown",
   "metadata": {},
   "source": [
    "Explique as tolerâncias dos testes acima."
   ]
  },
  {
   "cell_type": "markdown",
   "metadata": {
    "deletable": false,
    "nbgrader": {
     "cell_type": "markdown",
     "checksum": "bbfd786c8540b162815ab0a41f010208",
     "grade": true,
     "grade_id": "cell-705f645cd463d9a7",
     "locked": false,
     "points": 2,
     "schema_version": 3,
     "solution": true,
     "task": false
    }
   },
   "source": [
    "YOUR ANSWER HERE"
   ]
  },
  {
   "cell_type": "code",
   "execution_count": null,
   "metadata": {
    "deletable": false,
    "editable": false,
    "nbgrader": {
     "cell_type": "code",
     "checksum": "65479ce3ffadcf070f5c7e5edbb1d805",
     "grade": true,
     "grade_id": "cell-7e35b488ce517af7",
     "locked": true,
     "points": 1,
     "schema_version": 3,
     "solution": false,
     "task": false
    }
   },
   "outputs": [],
   "source": [
    "ts = np.linspace(0,10, num=200)\n",
    "Fts = F(ts)\n",
    "assert np.all(Fts[1:] > Fts[:-1])"
   ]
  },
  {
   "cell_type": "markdown",
   "metadata": {},
   "source": [
    "## Questão 2: Erros\n",
    "\n",
    "Faça um gráfico dos erros de integração de $f$\n",
    "pelos métodos do ponto médio e Simpson, no intervalo $[0,3]$"
   ]
  },
  {
   "cell_type": "code",
   "execution_count": null,
   "metadata": {
    "deletable": false,
    "nbgrader": {
     "cell_type": "code",
     "checksum": "9a58afc3d75eb42f3eb546e111c1d5b6",
     "grade": true,
     "grade_id": "cell-f522838820185ccf",
     "locked": false,
     "points": 1,
     "schema_version": 3,
     "solution": true,
     "task": false
    }
   },
   "outputs": [],
   "source": [
    "a, b = 0, 3\n",
    "exact = F(b) - F(a)\n",
    "ns = np.logspace(3,13, num=20, dtype=int, base=2)\n",
    "\n",
    "# YOUR CODE HERE\n",
    "raise NotImplementedError()\n",
    "\n",
    "ax = plt.gca()"
   ]
  },
  {
   "cell_type": "code",
   "execution_count": null,
   "metadata": {
    "deletable": false,
    "editable": false,
    "nbgrader": {
     "cell_type": "code",
     "checksum": "f0a8add1dde34ebb462208af1494fd1a",
     "grade": true,
     "grade_id": "cell-9160718d1a3426a9",
     "locked": true,
     "points": 2,
     "schema_version": 3,
     "solution": false,
     "task": false
    }
   },
   "outputs": [],
   "source": [
    "assert len(ax.lines) == 2\n",
    "assert len(ax.legend().texts) == 2"
   ]
  },
  {
   "cell_type": "code",
   "execution_count": null,
   "metadata": {
    "deletable": false,
    "editable": false,
    "nbgrader": {
     "cell_type": "code",
     "checksum": "966cb027186e3bdf18f6a8f1e14b8f62",
     "grade": false,
     "grade_id": "cell-3b08bf15109bacd9",
     "locked": true,
     "schema_version": 3,
     "solution": false,
     "task": false
    }
   },
   "outputs": [],
   "source": [
    "ax = None"
   ]
  },
  {
   "cell_type": "markdown",
   "metadata": {},
   "source": [
    "O que você observa neste gráfico?"
   ]
  },
  {
   "cell_type": "markdown",
   "metadata": {
    "deletable": false,
    "nbgrader": {
     "cell_type": "markdown",
     "checksum": "a1fbc11edd2b5ebc0afbec9abc1ed5c4",
     "grade": true,
     "grade_id": "cell-e098c0e743ef6a81",
     "locked": false,
     "points": 2,
     "schema_version": 3,
     "solution": true,
     "task": false
    }
   },
   "source": [
    "YOUR ANSWER HERE"
   ]
  },
  {
   "cell_type": "markdown",
   "metadata": {},
   "source": [
    "Agora, repita o gráfico para o intervalo $[0,6]$:"
   ]
  },
  {
   "cell_type": "code",
   "execution_count": null,
   "metadata": {
    "deletable": false,
    "nbgrader": {
     "cell_type": "code",
     "checksum": "9e13b51fa174a0571cd9d75b8834d022",
     "grade": false,
     "grade_id": "cell-e771e7f45189eb47",
     "locked": false,
     "schema_version": 3,
     "solution": true,
     "task": false
    }
   },
   "outputs": [],
   "source": [
    "# YOUR CODE HERE\n",
    "raise NotImplementedError()\n",
    "\n",
    "ax = plt.gca()"
   ]
  },
  {
   "cell_type": "code",
   "execution_count": null,
   "metadata": {
    "deletable": false,
    "editable": false,
    "nbgrader": {
     "cell_type": "code",
     "checksum": "8572dacd499d53b4dcb701734e6c3889",
     "grade": true,
     "grade_id": "cell-ffe3f5d3cdbd5614",
     "locked": true,
     "points": 1,
     "schema_version": 3,
     "solution": false,
     "task": false
    }
   },
   "outputs": [],
   "source": [
    "assert len(ax.lines) == 2\n",
    "assert len(ax.legend().texts) == 2"
   ]
  },
  {
   "cell_type": "code",
   "execution_count": null,
   "metadata": {
    "deletable": false,
    "editable": false,
    "nbgrader": {
     "cell_type": "code",
     "checksum": "ee872aca1fdcc05322f5627567c84fab",
     "grade": true,
     "grade_id": "cell-bed176376358bb71",
     "locked": true,
     "points": 1,
     "schema_version": 3,
     "solution": false,
     "task": false
    }
   },
   "outputs": [],
   "source": [
    "for l in ax.lines:\n",
    "    assert 1e-10 < min(l.get_ydata()) < 1e-7"
   ]
  },
  {
   "cell_type": "code",
   "execution_count": null,
   "metadata": {
    "deletable": false,
    "editable": false,
    "nbgrader": {
     "cell_type": "code",
     "checksum": "e70e973ea801fa3c8c65bbeecd339e0f",
     "grade": false,
     "grade_id": "cell-9d64227752111c9b",
     "locked": true,
     "schema_version": 3,
     "solution": false,
     "task": false
    }
   },
   "outputs": [],
   "source": [
    "ax = None"
   ]
  },
  {
   "cell_type": "markdown",
   "metadata": {},
   "source": [
    "Como esse gráfico é diferente do outro?"
   ]
  },
  {
   "cell_type": "markdown",
   "metadata": {
    "deletable": false,
    "nbgrader": {
     "cell_type": "markdown",
     "checksum": "4187cd94351499fdb7301b70be7eea97",
     "grade": true,
     "grade_id": "cell-d6d2104f2e3363f0",
     "locked": false,
     "points": 2,
     "schema_version": 3,
     "solution": true,
     "task": false
    }
   },
   "source": [
    "YOUR ANSWER HERE"
   ]
  },
  {
   "cell_type": "markdown",
   "metadata": {},
   "source": [
    "## Questão 3: Encontrando o intervalo contendo $\\pi$\n",
    "\n",
    "Como $|\\sin(x)|$ não é derivável em $\\pi$, vamos ver quanto erro tem no sub-intervalo que \"atravessa\" $\\pi$.\n",
    "\n",
    "Escreva a função `I_x(a, b, x, n)` que retorna o intervalo contendo $x$ ao dividir $[a,b]$ em $n$ partes.\n",
    "Você pode assumir que x nunca vai ser uma das extremidades $a_k$."
   ]
  },
  {
   "cell_type": "code",
   "execution_count": null,
   "metadata": {
    "deletable": false,
    "nbgrader": {
     "cell_type": "code",
     "checksum": "0b0aefe50155bfbca0e5f06ce73b0cf2",
     "grade": false,
     "grade_id": "cell-ebebd4ecbff8d451",
     "locked": false,
     "schema_version": 3,
     "solution": true,
     "task": false
    }
   },
   "outputs": [],
   "source": [
    "def I_x(a, b, x, n):\n",
    "    \"\"\"The interval  [xi, xi+h]  containing  x, when  [a,b]  is divided in  n  equal parts.\n",
    "    Returns  None  if  x  is outside  [a,b]\"\"\"\n",
    "    if (x-a)*(x-b) > 0:\n",
    "        return\n",
    "    # YOUR CODE HERE\n",
    "    raise NotImplementedError()"
   ]
  },
  {
   "cell_type": "code",
   "execution_count": null,
   "metadata": {
    "deletable": false,
    "editable": false,
    "nbgrader": {
     "cell_type": "code",
     "checksum": "890bf3f11b4d2e5863acefb5266926a9",
     "grade": true,
     "grade_id": "cell-6a808a637616f751",
     "locked": true,
     "points": 1,
     "schema_version": 3,
     "solution": false,
     "task": false
    }
   },
   "outputs": [],
   "source": [
    "l, r = I_x(0, 6, np.pi, 10)\n",
    "assert np.isclose(l, 3)\n",
    "assert np.isclose(r, 3.6)"
   ]
  },
  {
   "cell_type": "code",
   "execution_count": null,
   "metadata": {
    "deletable": false,
    "editable": false,
    "nbgrader": {
     "cell_type": "code",
     "checksum": "30ba741487d0445f7ee0c9e75343af8d",
     "grade": true,
     "grade_id": "cell-046e03f8c340519a",
     "locked": true,
     "points": 1,
     "schema_version": 3,
     "solution": false,
     "task": false
    }
   },
   "outputs": [],
   "source": [
    "l, r = I_x(0, 60, np.pi, 10)\n",
    "assert l <= np.pi <= r"
   ]
  },
  {
   "cell_type": "code",
   "execution_count": null,
   "metadata": {
    "deletable": false,
    "editable": false,
    "nbgrader": {
     "cell_type": "code",
     "checksum": "78461e9ebd8b95c0c5fef2c73f66f742",
     "grade": true,
     "grade_id": "cell-776e14883a36013b",
     "locked": true,
     "points": 1,
     "schema_version": 3,
     "solution": false,
     "task": false
    }
   },
   "outputs": [],
   "source": [
    "l, r = I_x(0, 1, 0.4, 36)\n",
    "assert l < 0.4 < r"
   ]
  },
  {
   "cell_type": "markdown",
   "metadata": {},
   "source": [
    "Agora, faça o gráfico do erro que os métodos do ponto médio e de Simpson\n",
    "vão dar quando integrarem o intervalo contendo a \"descontinuidade\" $\\pi$,\n",
    "em função de $n$."
   ]
  },
  {
   "cell_type": "code",
   "execution_count": null,
   "metadata": {
    "deletable": false,
    "nbgrader": {
     "cell_type": "code",
     "checksum": "15e815c96fc23124a5a97aee2bd9f008",
     "grade": false,
     "grade_id": "cell-a667781d9a71248b",
     "locked": false,
     "schema_version": 3,
     "solution": true,
     "task": false
    }
   },
   "outputs": [],
   "source": [
    "a, b = 0, 6\n",
    "\n",
    "# YOUR CODE HERE\n",
    "raise NotImplementedError()\n",
    "\n",
    "ax = plt.gca()"
   ]
  },
  {
   "cell_type": "code",
   "execution_count": null,
   "metadata": {
    "deletable": false,
    "editable": false,
    "nbgrader": {
     "cell_type": "code",
     "checksum": "2cf13e75d797ed187ea9bd405362b565",
     "grade": true,
     "grade_id": "cell-37ae30958f69fd59",
     "locked": true,
     "points": 1,
     "schema_version": 3,
     "solution": false,
     "task": false
    }
   },
   "outputs": [],
   "source": [
    "assert len(ax.lines) == 2\n",
    "assert len(ax.legend().texts) == 2"
   ]
  },
  {
   "cell_type": "code",
   "execution_count": null,
   "metadata": {
    "deletable": false,
    "editable": false,
    "nbgrader": {
     "cell_type": "code",
     "checksum": "9ad9040c7d2b5e92b45b7a8e90d85119",
     "grade": true,
     "grade_id": "cell-22932ced6fcb2767",
     "locked": true,
     "points": 2,
     "schema_version": 3,
     "solution": false,
     "task": false
    }
   },
   "outputs": [],
   "source": [
    "for l in ax.lines:\n",
    "    assert 1e-10 < min(l.get_ydata()) < 1e-7"
   ]
  },
  {
   "cell_type": "code",
   "execution_count": null,
   "metadata": {
    "deletable": false,
    "editable": false,
    "nbgrader": {
     "cell_type": "code",
     "checksum": "a1db704c3c66752cc4da61247dfe8ad3",
     "grade": false,
     "grade_id": "cell-ac8bf71562569203",
     "locked": true,
     "schema_version": 3,
     "solution": false,
     "task": false
    }
   },
   "outputs": [],
   "source": [
    "ax = None"
   ]
  },
  {
   "cell_type": "markdown",
   "metadata": {},
   "source": [
    "## Questão 4: Um intervalo contra todos\n",
    "\n",
    "Vamos ver quanto do erro de cada método é causado pelo erro em apenas um intervalo.\n",
    "\n",
    "Faça um gráfico para comparar esses erros:\n",
    "- à esquerda, os erros para o ponto médio\n",
    "- à direita, os erros para o método de Simpson"
   ]
  },
  {
   "cell_type": "code",
   "execution_count": null,
   "metadata": {
    "deletable": false,
    "nbgrader": {
     "cell_type": "code",
     "checksum": "a217cdbc2e7d13c27d8249b0d101c7f0",
     "grade": true,
     "grade_id": "cell-64ea43a87311541c",
     "locked": false,
     "points": 1,
     "schema_version": 3,
     "solution": true,
     "task": false
    }
   },
   "outputs": [],
   "source": [
    "fig, (ax1, ax2) = plt.subplots(ncols=2, figsize=(13,4))\n",
    "\n",
    "# YOUR CODE HERE\n",
    "raise NotImplementedError()"
   ]
  },
  {
   "cell_type": "code",
   "execution_count": null,
   "metadata": {
    "deletable": false,
    "editable": false,
    "nbgrader": {
     "cell_type": "code",
     "checksum": "129e6006b12f7689c841aedba7b6f3e9",
     "grade": true,
     "grade_id": "cell-a27d00cc15e2d685",
     "locked": true,
     "points": 1,
     "schema_version": 3,
     "solution": false,
     "task": false
    }
   },
   "outputs": [],
   "source": [
    "assert len(ax1.lines) == 2\n",
    "assert len(ax1.legend().texts) == 2"
   ]
  },
  {
   "cell_type": "code",
   "execution_count": null,
   "metadata": {
    "deletable": false,
    "editable": false,
    "nbgrader": {
     "cell_type": "code",
     "checksum": "b5e4b936b612b19f162b48825e3f39dc",
     "grade": true,
     "grade_id": "cell-b7a54c629922e2b1",
     "locked": true,
     "points": 1,
     "schema_version": 3,
     "solution": false,
     "task": false
    }
   },
   "outputs": [],
   "source": [
    "assert len(ax2.lines) == 2\n",
    "assert len(ax2.legend().texts) == 2"
   ]
  },
  {
   "cell_type": "code",
   "execution_count": null,
   "metadata": {
    "nbgrader": {
     "grade": false,
     "grade_id": "cell-62fa73ed09c704a4",
     "locked": false,
     "schema_version": 3,
     "solution": false,
     "task": false
    }
   },
   "outputs": [],
   "source": [
    "for l in ax1.lines:\n",
    "    assert 1e-10 < min(l.get_ydata()) < 1e-7\n",
    "for l in ax2.lines:\n",
    "    assert 1e-10 < min(l.get_ydata()) < 1e-7"
   ]
  },
  {
   "cell_type": "code",
   "execution_count": null,
   "metadata": {
    "deletable": false,
    "editable": false,
    "nbgrader": {
     "cell_type": "code",
     "checksum": "99793da848598e87ac9950771910a0e6",
     "grade": false,
     "grade_id": "cell-86fd14c4645c9d67",
     "locked": true,
     "schema_version": 3,
     "solution": false,
     "task": false
    }
   },
   "outputs": [],
   "source": [
    "ax = None"
   ]
  },
  {
   "cell_type": "markdown",
   "metadata": {},
   "source": [
    "O que você observa quanto aos erros dos métodos?"
   ]
  },
  {
   "cell_type": "markdown",
   "metadata": {
    "deletable": false,
    "nbgrader": {
     "cell_type": "markdown",
     "checksum": "cd53c7731afe0e3fafdf0e6691ee2bae",
     "grade": true,
     "grade_id": "cell-4770cfe4a90e8a05",
     "locked": false,
     "points": 2,
     "schema_version": 3,
     "solution": true,
     "task": false
    }
   },
   "source": [
    "YOUR ANSWER HERE"
   ]
  },
  {
   "cell_type": "markdown",
   "metadata": {},
   "source": [
    "## Questão 5: Integração com ajuda humana\n",
    "\n",
    "Mude a integral de $[0,6]$ por duas integrais, uma em $[0,\\pi]$ e outra em $[\\pi,6]$.\n",
    "Faça dois gráficos comparando os erros dos 4 métodos:\n",
    "- Um para o método do ponto médio, o outro para o método de Simpson\n",
    "- Em cada um, o erro cometido por uma única integral e o erro cometido pela integral feita em 2 partes\n",
    "\n",
    "Use o mesmo número $n$ **total** de sub-intervalos, para não \"roubar\" em favor do que quebra a integral em 2  :-)"
   ]
  },
  {
   "cell_type": "code",
   "execution_count": null,
   "metadata": {
    "deletable": false,
    "nbgrader": {
     "cell_type": "code",
     "checksum": "0194645ea07115657b63a8938b932b0d",
     "grade": true,
     "grade_id": "cell-089770b7f62c0c00",
     "locked": false,
     "points": 1,
     "schema_version": 3,
     "solution": true,
     "task": false
    }
   },
   "outputs": [],
   "source": [
    "a, c, b = 0, np.pi, 6\n",
    "exact = F(b) - F(a)\n",
    "\n",
    "fig, (ax1, ax2) = plt.subplots(ncols=2, figsize=(13,4))\n",
    "# YOUR CODE HERE\n",
    "raise NotImplementedError()\n",
    "\n",
    "ax = plt.gca()"
   ]
  },
  {
   "cell_type": "code",
   "execution_count": null,
   "metadata": {
    "deletable": false,
    "editable": false,
    "nbgrader": {
     "cell_type": "code",
     "checksum": "afc176ee74970f35829045ce39badec3",
     "grade": true,
     "grade_id": "cell-9a5b67b049806def",
     "locked": true,
     "points": 1,
     "schema_version": 3,
     "solution": false,
     "task": false
    }
   },
   "outputs": [],
   "source": [
    "assert len(ax1.lines) == 2\n",
    "assert len(ax1.legend().texts) == 2\n",
    "assert ax1.get_title != \"\""
   ]
  },
  {
   "cell_type": "code",
   "execution_count": null,
   "metadata": {
    "deletable": false,
    "editable": false,
    "nbgrader": {
     "cell_type": "code",
     "checksum": "771255b4d190a23a252500edb5c252e4",
     "grade": true,
     "grade_id": "cell-94ec0f89ceb454d4",
     "locked": true,
     "points": 1,
     "schema_version": 3,
     "solution": false,
     "task": false
    }
   },
   "outputs": [],
   "source": [
    "assert len(ax2.lines) == 2\n",
    "assert len(ax2.legend().texts) == 2\n",
    "assert ax2.get_title != \"\""
   ]
  },
  {
   "cell_type": "code",
   "execution_count": null,
   "metadata": {
    "deletable": false,
    "editable": false,
    "nbgrader": {
     "cell_type": "code",
     "checksum": "ab0ebddbeb61c121e341befff9cbe10f",
     "grade": false,
     "grade_id": "cell-ff239b5d0ffe0d79",
     "locked": true,
     "schema_version": 3,
     "solution": false,
     "task": false
    }
   },
   "outputs": [],
   "source": [
    "ax = None"
   ]
  },
  {
   "cell_type": "markdown",
   "metadata": {},
   "source": [
    "O que você observa?\n",
    "O que você conclui?"
   ]
  },
  {
   "cell_type": "markdown",
   "metadata": {
    "deletable": false,
    "nbgrader": {
     "cell_type": "markdown",
     "checksum": "91c2b15c724beda5963606c1ecef177f",
     "grade": true,
     "grade_id": "cell-9b400f10460b7b4b",
     "locked": false,
     "points": 2,
     "schema_version": 3,
     "solution": true,
     "task": false
    }
   },
   "source": [
    "YOUR ANSWER HERE"
   ]
  }
 ],
 "metadata": {
  "kernelspec": {
   "display_name": "Python 3 (ipykernel)",
   "language": "python",
   "name": "python3"
  },
  "language_info": {
   "codemirror_mode": {
    "name": "ipython",
    "version": 3
   },
   "file_extension": ".py",
   "mimetype": "text/x-python",
   "name": "python",
   "nbconvert_exporter": "python",
   "pygments_lexer": "ipython3",
   "version": "3.9.5"
  },
  "toc": {
   "base_numbering": 1,
   "nav_menu": {},
   "number_sections": true,
   "sideBar": true,
   "skip_h1_title": false,
   "title_cell": "Table of Contents",
   "title_sidebar": "Contents",
   "toc_cell": true,
   "toc_position": {},
   "toc_section_display": true,
   "toc_window_display": true
  }
 },
 "nbformat": 4,
 "nbformat_minor": 4
}
