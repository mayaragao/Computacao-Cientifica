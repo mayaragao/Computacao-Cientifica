{
 "cells": [
  {
   "cell_type": "markdown",
   "id": "fca63f65",
   "metadata": {},
   "source": [
    "![CC-BY-SA](https://mirrors.creativecommons.org/presskit/buttons/88x31/svg/by-sa.svg)\n",
    "\n",
    "\n",
    "This notebook was created by [Bernardo Freitas Paulo da Costa](http://www.im.ufrj.br/bernardofpc),\n",
    "and is licensed under Creative Commons BY-SA."
   ]
  },
  {
   "cell_type": "markdown",
   "id": "cbf0642b",
   "metadata": {},
   "source": [
    "Antes de enviar este Teste, verifique que tudo está funcionando como esperado.\n",
    "Por exemplo, **rode o código inteiro, do zero**.\n",
    "Para isso, vá no menu, escolha _Kernel_, depois _Restart & Run All_.\n",
    "\n",
    "Verifique, também, que você respondeu todas as questões:\n",
    "* as questões de código têm `YOUR CODE HERE` (e você pode apagar o `raise NotImplemented` ao incluir sua resposta)\n",
    "* as questões discursivas têm \"YOUR ANSWER HERE\"."
   ]
  },
  {
   "cell_type": "markdown",
   "id": "40998cb2",
   "metadata": {},
   "source": [
    "---"
   ]
  },
  {
   "cell_type": "markdown",
   "metadata": {},
   "source": [
    "# Teste 2: funções inversas\n",
    "\n",
    "Neste teste, iremos analisar a função $f(x) = x e^x$, para construir a função inversa $g(y) = x$."
   ]
  },
  {
   "cell_type": "code",
   "execution_count": null,
   "metadata": {
    "deletable": false,
    "editable": false,
    "nbgrader": {
     "cell_type": "code",
     "checksum": "73de49f21337a82a1c6ae1d3fcf0fd10",
     "grade": false,
     "grade_id": "cell-f892a1b6b8618c5a",
     "locked": true,
     "schema_version": 3,
     "solution": false,
     "task": false
    }
   },
   "outputs": [],
   "source": [
    "import numpy as np\n",
    "import matplotlib.pyplot as plt"
   ]
  },
  {
   "cell_type": "markdown",
   "metadata": {},
   "source": [
    "# Questão 1: Análise da função\n",
    "\n",
    "## 1.1 Gráfico\n",
    "\n",
    "Em geral, uma boa forma de analisar uma função é fazendo o gráfico dela.\n",
    "\n",
    "Faça um gráfico de $f$ no intervalo $[-4,1]$. Também indique:\n",
    "- um título; e\n",
    "- dê nome aos eixos."
   ]
  },
  {
   "cell_type": "code",
   "execution_count": null,
   "metadata": {
    "deletable": false,
    "nbgrader": {
     "cell_type": "code",
     "checksum": "87254f623e1913c82edef77d8286127f",
     "grade": false,
     "grade_id": "cell-b62ae0d9904027d1",
     "locked": false,
     "schema_version": 3,
     "solution": true,
     "task": false
    }
   },
   "outputs": [],
   "source": [
    "# YOUR CODE HERE\n",
    "raise NotImplementedError()\n",
    "\n",
    "ax = plt.gca()\n",
    "plt.show()"
   ]
  },
  {
   "cell_type": "code",
   "execution_count": null,
   "metadata": {
    "deletable": false,
    "editable": false,
    "nbgrader": {
     "cell_type": "code",
     "checksum": "3f0a8121e81accf2342420cb68bf607e",
     "grade": true,
     "grade_id": "cell-55a02f4e466c71f9",
     "locked": true,
     "points": 1,
     "schema_version": 3,
     "solution": false,
     "task": false
    }
   },
   "outputs": [],
   "source": [
    "assert len(ax.lines) == 1\n",
    "assert ax.title.get_text() != \"\"\n",
    "assert ax.get_xlabel() != \"\"\n",
    "assert ax.get_ylabel() != \"\""
   ]
  },
  {
   "cell_type": "code",
   "execution_count": null,
   "metadata": {
    "deletable": false,
    "editable": false,
    "nbgrader": {
     "cell_type": "code",
     "checksum": "a54967b19d4f6d4b0d9f4b0badde3aa6",
     "grade": true,
     "grade_id": "cell-5698f335a74400b0",
     "locked": true,
     "points": 1,
     "schema_version": 3,
     "solution": false,
     "task": false
    }
   },
   "outputs": [],
   "source": [
    "valores = ax.lines[0].get_ydata()\n",
    "a, b = min(valores), max(valores)\n",
    "assert np.isclose(a, -0.36787944117144, atol=1e-4)\n",
    "assert np.isclose(b, 2.718281828459045, atol=1e-4)"
   ]
  },
  {
   "cell_type": "code",
   "execution_count": null,
   "metadata": {
    "deletable": false,
    "editable": false,
    "nbgrader": {
     "cell_type": "code",
     "checksum": "09fd02acab044cf07600ad3f94fb3364",
     "grade": false,
     "grade_id": "cell-dda92a036aeac2eb",
     "locked": true,
     "schema_version": 3,
     "solution": false,
     "task": false
    }
   },
   "outputs": [],
   "source": [
    "ax = None"
   ]
  },
  {
   "cell_type": "markdown",
   "metadata": {},
   "source": [
    "## 1.2: Mínimos e Máximos\n",
    "\n",
    "Se uma função troca a direção de crescimento, isso muda a análise das raízes.\n",
    "Portanto, é importante saber onde estão os máximos e mínimos locais de $f$."
   ]
  },
  {
   "cell_type": "markdown",
   "metadata": {},
   "source": [
    "Calcule (analiticamente) a derivada de $f$, e indique o(s) ponto(s) em que ela se anula.\n",
    "\n",
    "São pontos de máximo ou de mínimo?"
   ]
  },
  {
   "cell_type": "markdown",
   "metadata": {
    "deletable": false,
    "nbgrader": {
     "cell_type": "markdown",
     "checksum": "7e3e8d3e8067a518e92008e4817894cc",
     "grade": true,
     "grade_id": "cell-afcca791543112ae",
     "locked": false,
     "points": 2,
     "schema_version": 3,
     "solution": true,
     "task": false
    }
   },
   "source": [
    "YOUR ANSWER HERE"
   ]
  },
  {
   "cell_type": "markdown",
   "metadata": {},
   "source": [
    "Agora, faça uma figura com dois gráficos:\n",
    "- No primeiro, o gráfico da derivada de $f$ no mesmo intervalo $[-4, 1]$;\n",
    "- Ao lado, um \"zoom\" em uma região que você considere importante."
   ]
  },
  {
   "cell_type": "code",
   "execution_count": null,
   "metadata": {
    "deletable": false,
    "nbgrader": {
     "cell_type": "code",
     "checksum": "92e71a245f6ba6ac1e1c6df575a61b7d",
     "grade": true,
     "grade_id": "cell-cdaee38e6b4914a3",
     "locked": false,
     "points": 2,
     "schema_version": 3,
     "solution": true,
     "task": false
    }
   },
   "outputs": [],
   "source": [
    "fig, [ax1, ax2] = plt.subplots(ncols=2, figsize=(12,4))\n",
    "# YOUR CODE HERE\n",
    "raise NotImplementedError()"
   ]
  },
  {
   "cell_type": "markdown",
   "metadata": {},
   "source": [
    "Como estes gráficos ajudam a confirmar os mínimos e máximos que você calculou?"
   ]
  },
  {
   "cell_type": "markdown",
   "metadata": {
    "deletable": false,
    "nbgrader": {
     "cell_type": "markdown",
     "checksum": "b3cd784e6f641d7e4583d269628e64d4",
     "grade": true,
     "grade_id": "cell-2ff292ac34b1722f",
     "locked": false,
     "points": 2,
     "schema_version": 3,
     "solution": true,
     "task": false
    }
   },
   "source": [
    "YOUR ANSWER HERE"
   ]
  },
  {
   "cell_type": "markdown",
   "metadata": {},
   "source": [
    "## 1.3: Número de raízes\n",
    "\n",
    "Usando a informação da derivada da função, seus maximo(s) e minimo(s), responda: \n",
    "\n",
    "Quantas raizes a equação $f(x) = y$ tem para cada valor de $y$?"
   ]
  },
  {
   "cell_type": "markdown",
   "metadata": {
    "deletable": false,
    "nbgrader": {
     "cell_type": "markdown",
     "checksum": "d6189a63d8e27d60d02d8283ae8d4e2c",
     "grade": true,
     "grade_id": "cell-5dde5d2327304877",
     "locked": false,
     "points": 2,
     "schema_version": 3,
     "solution": true,
     "task": false
    }
   },
   "source": [
    "YOUR ANSWER HERE"
   ]
  },
  {
   "cell_type": "markdown",
   "metadata": {},
   "source": [
    "# Questão 2: Construindo a função inversa"
   ]
  },
  {
   "cell_type": "markdown",
   "metadata": {},
   "source": [
    "A maior dificuldade de usar a bisseção para construir a função inversa é que precisamos de um intervalo onde a raiz estará.\n",
    "\n",
    "## 2.1: Gráficos para limitar a bisseção\n",
    "\n",
    "Faça um gráfico das funções $x e^x$ e $e^x$ e veja que,\n",
    "para $y$ suficientemente grande,\n",
    "a raiz estará sempre abaixo de $\\log y$.\n",
    "Isso permite achar um limite superior para um intervalo de bisseção.\n",
    "\n",
    "Escolha um intervalo razoável para o gráfico, que ajude a observar quão \"grande\" $y$ deve ser."
   ]
  },
  {
   "cell_type": "code",
   "execution_count": null,
   "metadata": {
    "deletable": false,
    "nbgrader": {
     "cell_type": "code",
     "checksum": "baad991f3fc242ba5ba13fd8eaa18daa",
     "grade": true,
     "grade_id": "cell-f37ddc6a9a659c5e",
     "locked": false,
     "points": 2,
     "schema_version": 3,
     "solution": true,
     "task": false
    }
   },
   "outputs": [],
   "source": [
    "# YOUR CODE HERE\n",
    "raise NotImplementedError()\n",
    "\n",
    "ax = plt.gca()\n",
    "plt.show()"
   ]
  },
  {
   "cell_type": "code",
   "execution_count": null,
   "metadata": {
    "deletable": false,
    "editable": false,
    "nbgrader": {
     "cell_type": "code",
     "checksum": "e1e52e841198123b0a7e783d9aff9f98",
     "grade": true,
     "grade_id": "cell-90cdc1d79362f65d",
     "locked": true,
     "points": 1,
     "schema_version": 3,
     "solution": false,
     "task": false
    }
   },
   "outputs": [],
   "source": [
    "assert len(ax.lines) == 2\n",
    "assert len(ax.legend().texts) == 2\n",
    "assert ax.title.get_text() != \"\""
   ]
  },
  {
   "cell_type": "markdown",
   "metadata": {},
   "source": [
    "Agora, falta estudar o que acontece quando $x \\to -\\infty$.\n",
    "\n",
    "Faça o gráfico de $f$ e o de $1/x$ para $x \\in [-4, -1]$."
   ]
  },
  {
   "cell_type": "code",
   "execution_count": null,
   "metadata": {
    "deletable": false,
    "nbgrader": {
     "cell_type": "code",
     "checksum": "a8f0f3fd4d3fbd14a425af6960ff5727",
     "grade": true,
     "grade_id": "cell-0d3b0647ca62048e",
     "locked": false,
     "points": 1,
     "schema_version": 3,
     "solution": true,
     "task": false
    }
   },
   "outputs": [],
   "source": [
    "# YOUR CODE HERE\n",
    "raise NotImplementedError()\n",
    "\n",
    "ax = plt.gca()\n",
    "plt.show()"
   ]
  },
  {
   "cell_type": "markdown",
   "metadata": {},
   "source": [
    "Explique porque (usando o gráfico e outras contas, se você julgar necessário),\n",
    "quando $f(x) = y$ tem uma raiz \"muito negativa\",\n",
    "esta raiz é menor (em valor absoluto) do que a raiz de $1/x = y$."
   ]
  },
  {
   "cell_type": "markdown",
   "metadata": {
    "deletable": false,
    "nbgrader": {
     "cell_type": "markdown",
     "checksum": "8b28ec6d4a6deac1e5f2eda36a16c613",
     "grade": true,
     "grade_id": "cell-29ae2d774355df0e",
     "locked": false,
     "points": 2,
     "schema_version": 3,
     "solution": true,
     "task": false
    }
   },
   "source": [
    "YOUR ANSWER HERE"
   ]
  },
  {
   "cell_type": "markdown",
   "metadata": {},
   "source": [
    "## 2.2: A função inversa propriamente dita\n",
    "\n",
    "Agora, programe a função inversa de $f$ (chamada $g$),\n",
    "que retorne **todas** as soluções de $f(x) = y$ em uma lista.\n",
    "\n",
    "Se não houver raízes, retorne a lista vazia."
   ]
  },
  {
   "cell_type": "code",
   "execution_count": null,
   "metadata": {
    "deletable": false,
    "nbgrader": {
     "cell_type": "code",
     "checksum": "0bcd1407d93f35562a811a8011057491",
     "grade": false,
     "grade_id": "cell-a187ca48ed58242e",
     "locked": false,
     "schema_version": 3,
     "solution": true,
     "task": false
    }
   },
   "outputs": [],
   "source": [
    "def bisseção(f, a, b, xtol=1e-10, ytol=1e-10):\n",
    "    # Inclua aqui a sua bisseção\n",
    "    # YOUR CODE HERE\n",
    "    raise NotImplementedError()"
   ]
  },
  {
   "cell_type": "code",
   "execution_count": null,
   "metadata": {
    "deletable": false,
    "nbgrader": {
     "cell_type": "code",
     "checksum": "ff9a5d21b420776145b66333e352887e",
     "grade": false,
     "grade_id": "cell-377500a0b349571b",
     "locked": false,
     "schema_version": 3,
     "solution": true,
     "task": false
    }
   },
   "outputs": [],
   "source": [
    "def g(y, xtol=1e-8, ytol=1e-8):\n",
    "    # YOUR CODE HERE\n",
    "    raise NotImplementedError()"
   ]
  },
  {
   "cell_type": "code",
   "execution_count": null,
   "metadata": {
    "deletable": false,
    "editable": false,
    "nbgrader": {
     "cell_type": "code",
     "checksum": "0824c7c0a39e8fa22bf419bd11445d3b",
     "grade": true,
     "grade_id": "cell-1469ba8d74314f46",
     "locked": true,
     "points": 1,
     "schema_version": 3,
     "solution": false,
     "task": false
    }
   },
   "outputs": [],
   "source": [
    "r1 = g(1)[0]\n",
    "assert np.isclose(r1, 0.5671432904097838)\n",
    "assert np.isclose(f(r1), 1)"
   ]
  },
  {
   "cell_type": "code",
   "execution_count": null,
   "metadata": {
    "deletable": false,
    "editable": false,
    "nbgrader": {
     "cell_type": "code",
     "checksum": "dd966c166eb16454a7e98edc9b1037b7",
     "grade": true,
     "grade_id": "cell-5cd8e074b90655de",
     "locked": true,
     "points": 1,
     "schema_version": 3,
     "solution": false,
     "task": false
    }
   },
   "outputs": [],
   "source": [
    "assert g(-1) == []"
   ]
  },
  {
   "cell_type": "code",
   "execution_count": null,
   "metadata": {
    "deletable": false,
    "editable": false,
    "nbgrader": {
     "cell_type": "code",
     "checksum": "1036ff9f308bd4b93490db1b3b6bed2c",
     "grade": true,
     "grade_id": "cell-d061712c94645455",
     "locked": true,
     "points": 1,
     "schema_version": 3,
     "solution": false,
     "task": false
    }
   },
   "outputs": [],
   "source": [
    "r1, r2 = g(-0.1)\n",
    "assert np.isclose(f(r1), -0.1)\n",
    "assert np.isclose(f(r2), -0.1)\n",
    "assert abs(r1 - r2) > 1"
   ]
  },
  {
   "cell_type": "code",
   "execution_count": null,
   "metadata": {
    "deletable": false,
    "editable": false,
    "nbgrader": {
     "cell_type": "code",
     "checksum": "f83b75875eb2af776c1290da3fca0d1b",
     "grade": true,
     "grade_id": "cell-b9e913444d2545ae",
     "locked": true,
     "points": 1,
     "schema_version": 3,
     "solution": false,
     "task": false
    }
   },
   "outputs": [],
   "source": [
    "r1 = g(200)[0]\n",
    "assert np.isclose(f(r1), 200)"
   ]
  },
  {
   "cell_type": "markdown",
   "metadata": {},
   "source": [
    "# Questão 3:  Mudança de Variaveis\n",
    "\n",
    "Vamos modificar um pouco nossa equação $x e^x = y$.\n",
    "\n",
    "Para cada um dos casos, ache as raízes a partir de uma mudança de variáveis para transformar a equação em algo da forma\n",
    "\n",
    "$$ u e^u = t. $$\n",
    "**Escreva sempre qual foi a mudança de variaveis feita**, relacionando $t$ com $y$ e $u$ com $x$.\n",
    "\n",
    "Dica: Ache uma mudança de variáveis \"na mão\" para as funções,\n",
    "utilize o código da questão anterior para descobrir as raízes \"transformadas\" $u$,\n",
    "e depois volte para as variáveis $x$"
   ]
  },
  {
   "cell_type": "markdown",
   "metadata": {},
   "source": [
    "## 3.1: Expoentes diferentes\n",
    "\n",
    "Resolva $x e^{2x} = 7$"
   ]
  },
  {
   "cell_type": "markdown",
   "metadata": {
    "deletable": false,
    "nbgrader": {
     "cell_type": "markdown",
     "checksum": "de8a85aeb59f2ee029f40196c93bd6e7",
     "grade": true,
     "grade_id": "cell-367099a2b6b5b7cf",
     "locked": false,
     "points": 1,
     "schema_version": 3,
     "solution": true,
     "task": false
    }
   },
   "source": [
    "YOUR ANSWER HERE"
   ]
  },
  {
   "cell_type": "code",
   "execution_count": null,
   "metadata": {
    "deletable": false,
    "nbgrader": {
     "cell_type": "code",
     "checksum": "acd393e4b54647c0ee201e3aaf61cf19",
     "grade": false,
     "grade_id": "cell-760f980e26af582f",
     "locked": false,
     "schema_version": 3,
     "solution": true,
     "task": false
    }
   },
   "outputs": [],
   "source": [
    "# Dê a resposta da forma $x = ...$\n",
    "# YOUR CODE HERE\n",
    "raise NotImplementedError()"
   ]
  },
  {
   "cell_type": "code",
   "execution_count": null,
   "metadata": {
    "deletable": false,
    "editable": false,
    "nbgrader": {
     "cell_type": "code",
     "checksum": "593a75ca3cbce4272999de27b213c271",
     "grade": true,
     "grade_id": "cell-6e5e9b4461a76dfa",
     "locked": true,
     "points": 1,
     "schema_version": 3,
     "solution": false,
     "task": false
    }
   },
   "outputs": [],
   "source": [
    "assert np.isclose(x * np.exp(2*x), 7)"
   ]
  },
  {
   "cell_type": "markdown",
   "metadata": {},
   "source": [
    "## 3.2: Parte linear diferente"
   ]
  },
  {
   "cell_type": "markdown",
   "metadata": {},
   "source": [
    "Encontre as duas raízes de $(x  + 1) e^{x} = -\\frac{1}{10}$."
   ]
  },
  {
   "cell_type": "markdown",
   "metadata": {
    "deletable": false,
    "nbgrader": {
     "cell_type": "markdown",
     "checksum": "d0469610b924f5e3f189bdb67aa19e5a",
     "grade": true,
     "grade_id": "cell-098e3c114fe9714e",
     "locked": false,
     "points": 1,
     "schema_version": 3,
     "solution": true,
     "task": false
    }
   },
   "source": [
    "YOUR ANSWER HERE"
   ]
  },
  {
   "cell_type": "code",
   "execution_count": null,
   "metadata": {
    "deletable": false,
    "nbgrader": {
     "cell_type": "code",
     "checksum": "65e49dc3375c9e2514fc3cf7b890e655",
     "grade": false,
     "grade_id": "cell-4ec726bcfe9735e6",
     "locked": false,
     "schema_version": 3,
     "solution": true,
     "task": false
    }
   },
   "outputs": [],
   "source": [
    "# Dê a resposta da forma $x1, x2 = ...$\n",
    "# YOUR CODE HERE\n",
    "raise NotImplementedError()"
   ]
  },
  {
   "cell_type": "code",
   "execution_count": null,
   "metadata": {
    "deletable": false,
    "editable": false,
    "nbgrader": {
     "cell_type": "code",
     "checksum": "be043b1690666fb4e174be3bafabd354",
     "grade": true,
     "grade_id": "cell-674ff2854bdc9a07",
     "locked": true,
     "points": 1,
     "schema_version": 3,
     "solution": false,
     "task": false
    }
   },
   "outputs": [],
   "source": [
    "assert np.isclose((x1+1)*np.exp(x1), -0.1)\n",
    "assert np.isclose((x2+1)*np.exp(x2), -0.1)\n",
    "assert abs(x1 - x2) > 1"
   ]
  },
  {
   "cell_type": "markdown",
   "metadata": {},
   "source": [
    "## 3.3: Mudança genérica de variáveis\n",
    "\n",
    "Para resolver a equação\n",
    "\n",
    "$$(x + a)e^{bx} = c, \\quad \\text{com $b \\neq 0$},$$\n",
    "\n",
    "podemos fazer uma mudança de variáveis (em função de $a$ e $b$)\n",
    "para transformar em uma equação $u e^u = t$.\n",
    "\n",
    "Explique qual é a mudança a ser feita."
   ]
  },
  {
   "cell_type": "markdown",
   "metadata": {
    "deletable": false,
    "nbgrader": {
     "cell_type": "markdown",
     "checksum": "94cc25498018f1b40e045d98a29c99d4",
     "grade": true,
     "grade_id": "cell-1e305d2548600ae0",
     "locked": false,
     "points": 1,
     "schema_version": 3,
     "solution": true,
     "task": false
    }
   },
   "source": [
    "YOUR ANSWER HERE"
   ]
  },
  {
   "cell_type": "markdown",
   "metadata": {},
   "source": [
    "Agora, faça um programa que recebe os parâmetros $a$, $b$ e $c$\n",
    "e retorna uma lista com as soluções.\n",
    "\n",
    "Dica: use uma _list comprehension_  para fazer a transformação inversa."
   ]
  },
  {
   "cell_type": "code",
   "execution_count": null,
   "metadata": {
    "deletable": false,
    "nbgrader": {
     "cell_type": "code",
     "checksum": "808a299cc3cf3ee5932e74d35138dacb",
     "grade": false,
     "grade_id": "cell-8e6df9766734c337",
     "locked": false,
     "schema_version": 3,
     "solution": true,
     "task": false
    }
   },
   "outputs": [],
   "source": [
    "def solução_geral(a,b,c):\n",
    "    \"\"\"Soluções da equação (x+a)e^{bx} = c\"\"\"\n",
    "    assert b != 0\n",
    "    # YOUR CODE HERE\n",
    "    raise NotImplementedError()"
   ]
  },
  {
   "cell_type": "markdown",
   "metadata": {},
   "source": [
    "Testes"
   ]
  },
  {
   "cell_type": "code",
   "execution_count": null,
   "metadata": {},
   "outputs": [],
   "source": [
    "def geral(x, a, b):\n",
    "    return (x+a)*np.exp(b*x)"
   ]
  },
  {
   "cell_type": "code",
   "execution_count": null,
   "metadata": {
    "deletable": false,
    "editable": false,
    "nbgrader": {
     "cell_type": "code",
     "checksum": "247de6e6cb19ab1e71566071d539245f",
     "grade": true,
     "grade_id": "cell-f63aaea2b1d1d4ed",
     "locked": true,
     "points": 1,
     "schema_version": 3,
     "solution": false,
     "task": false
    }
   },
   "outputs": [],
   "source": [
    "r1 = solução_geral(0, 1, 2)[0]\n",
    "assert np.isclose(geral(r1, 0, 1), 2)"
   ]
  },
  {
   "cell_type": "code",
   "execution_count": null,
   "metadata": {
    "deletable": false,
    "editable": false,
    "nbgrader": {
     "cell_type": "code",
     "checksum": "62a4f676956a8d402c0e17bfb795b9a4",
     "grade": true,
     "grade_id": "cell-54a5b058ab3b235c",
     "locked": true,
     "points": 1,
     "schema_version": 3,
     "solution": false,
     "task": false
    }
   },
   "outputs": [],
   "source": [
    "r1 = solução_geral(3, 2, 2)[0]\n",
    "assert np.isclose(geral(r1, 3, 2), 2)"
   ]
  },
  {
   "cell_type": "code",
   "execution_count": null,
   "metadata": {
    "deletable": false,
    "editable": false,
    "nbgrader": {
     "cell_type": "code",
     "checksum": "9517f12d518eef27f1ac256cb88f6085",
     "grade": true,
     "grade_id": "cell-e3f86c2c394c66e2",
     "locked": true,
     "points": 1,
     "schema_version": 3,
     "solution": false,
     "task": false
    }
   },
   "outputs": [],
   "source": [
    "r1 = solução_geral(-1, -1, -1)[0]\n",
    "assert np.isclose(r1, 0)"
   ]
  },
  {
   "cell_type": "code",
   "execution_count": null,
   "metadata": {
    "deletable": false,
    "editable": false,
    "nbgrader": {
     "cell_type": "code",
     "checksum": "3170d3e7508e35c9801036b128dea04c",
     "grade": true,
     "grade_id": "cell-755d90353c7c3dbd",
     "locked": true,
     "points": 2,
     "schema_version": 3,
     "solution": false,
     "task": false
    }
   },
   "outputs": [],
   "source": [
    "r1, r2 = solução_geral(-4, -1, 0.005)\n",
    "assert np.isclose(geral(r1, -4, -1), 0.005)\n",
    "assert np.isclose(geral(r2, -4, -1), 0.005)\n",
    "assert np.abs(r1 - r2) > 1"
   ]
  },
  {
   "cell_type": "markdown",
   "metadata": {},
   "source": [
    "# Questão 4: Uma outra função... (Bônus)"
   ]
  },
  {
   "cell_type": "markdown",
   "metadata": {},
   "source": [
    "Vamos aplicar o mesmo raciocínio das questões anteriores para uma função um pouco diferente. \n",
    "\n",
    "Faça o gráfico da função $h(x) = x - \\log(x)$."
   ]
  },
  {
   "cell_type": "code",
   "execution_count": null,
   "metadata": {
    "deletable": false,
    "nbgrader": {
     "cell_type": "code",
     "checksum": "6041a4afac3a968758394c8d18fc9371",
     "grade": true,
     "grade_id": "cell-40ba82c82590b4cc",
     "locked": false,
     "points": 0,
     "schema_version": 3,
     "solution": true,
     "task": false
    }
   },
   "outputs": [],
   "source": [
    "# YOUR CODE HERE\n",
    "raise NotImplementedError()"
   ]
  },
  {
   "cell_type": "markdown",
   "metadata": {},
   "source": [
    "Ao variar o y, o que acontecerá com o número de raízes?\n",
    "Essa função pode ter mais de 2 raizes?"
   ]
  },
  {
   "cell_type": "markdown",
   "metadata": {
    "deletable": false,
    "nbgrader": {
     "cell_type": "markdown",
     "checksum": "a155ceddeb39edf0306d9660383c7139",
     "grade": true,
     "grade_id": "cell-8ae773659416e3c0",
     "locked": false,
     "points": 0,
     "schema_version": 3,
     "solution": true,
     "task": false
    }
   },
   "source": [
    "YOUR ANSWER HERE"
   ]
  }
 ],
 "metadata": {
  "kernelspec": {
   "display_name": "Python 3",
   "language": "python",
   "name": "python3"
  },
  "language_info": {
   "codemirror_mode": {
    "name": "ipython",
    "version": 3
   },
   "file_extension": ".py",
   "mimetype": "text/x-python",
   "name": "python",
   "nbconvert_exporter": "python",
   "pygments_lexer": "ipython3",
   "version": "3.8.8"
  }
 },
 "nbformat": 4,
 "nbformat_minor": 4
}
