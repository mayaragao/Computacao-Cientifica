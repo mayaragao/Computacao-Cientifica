{
 "cells": [
  {
   "cell_type": "markdown",
   "id": "81e1bd5b",
   "metadata": {},
   "source": [
    "![CC-BY-SA](https://mirrors.creativecommons.org/presskit/buttons/88x31/svg/by-sa.svg)\n",
    "\n",
    "\n",
    "This notebook was created by [Bernardo Freitas Paulo da Costa](http://www.im.ufrj.br/bernardofpc),\n",
    "and is licensed under Creative Commons BY-SA."
   ]
  },
  {
   "cell_type": "markdown",
   "id": "673260ba",
   "metadata": {},
   "source": [
    "Antes de enviar este Teste, verifique que tudo está funcionando como esperado.\n",
    "Por exemplo, **rode o código inteiro, do zero**.\n",
    "Para isso, vá no menu, escolha _Kernel_, depois _Restart & Run All_.\n",
    "\n",
    "Verifique, também, que você respondeu todas as questões:\n",
    "* as questões de código têm `YOUR CODE HERE` (e você pode apagar o `raise NotImplemented` ao incluir sua resposta)\n",
    "* as questões discursivas têm \"YOUR ANSWER HERE\"."
   ]
  },
  {
   "cell_type": "markdown",
   "id": "1faaee8b",
   "metadata": {},
   "source": [
    "---"
   ]
  },
  {
   "cell_type": "markdown",
   "id": "c000e51f",
   "metadata": {},
   "source": [
    "# Integrais e Primitivas\n",
    "\n",
    "Neste teste, vamos usar os métodos de integração para calcular primitivas de funções.\n",
    "\n",
    "De forma análoga ao caso de EDOs, vamos retornar dois `np.array`s:\n",
    "- um com os pontos onde a primitiva foi calculada; e\n",
    "- outro com o valor da aproximação numérica da primitiva."
   ]
  },
  {
   "cell_type": "code",
   "execution_count": null,
   "id": "77e5e549",
   "metadata": {
    "deletable": false,
    "editable": false,
    "nbgrader": {
     "cell_type": "code",
     "checksum": "0563e5a5f6a1c9f7f9694f144cf7e864",
     "grade": false,
     "grade_id": "cell-6f4c7a19fbdf1a6d",
     "locked": true,
     "schema_version": 3,
     "solution": false,
     "task": false
    }
   },
   "outputs": [],
   "source": [
    "import numpy as np\n",
    "import matplotlib.pyplot as plt"
   ]
  },
  {
   "cell_type": "markdown",
   "id": "1ad9a21d",
   "metadata": {},
   "source": [
    "# Questão 0: o método do retângulo\n",
    "\n",
    "Para evitar efeitos de bordo e arredondamento, vamos usar o método do retângulo criando pontos com `np.linspace`:"
   ]
  },
  {
   "cell_type": "code",
   "execution_count": null,
   "id": "7fa62161",
   "metadata": {
    "deletable": false,
    "nbgrader": {
     "cell_type": "code",
     "checksum": "2543319c8f8af56935cea2d06a531c6f",
     "grade": false,
     "grade_id": "cell-e58721f1515c51de",
     "locked": false,
     "schema_version": 3,
     "solution": true,
     "task": false
    }
   },
   "outputs": [],
   "source": [
    "def retangulo(f, a, b, n=1000):\n",
    "    if a == b:\n",
    "        return 0\n",
    "    pts, h = np.linspace(a, b, num=n, endpoint=False, retstep=True)\n",
    "    # YOUR CODE HERE\n",
    "    raise NotImplementedError()"
   ]
  },
  {
   "cell_type": "markdown",
   "id": "30a49c0d",
   "metadata": {},
   "source": [
    "Explique porque os pontos criados têm `endpoint=False`"
   ]
  },
  {
   "cell_type": "markdown",
   "id": "f620a462",
   "metadata": {
    "deletable": false,
    "nbgrader": {
     "cell_type": "markdown",
     "checksum": "f660e1a944326cce55bea2d13ed2d1ad",
     "grade": true,
     "grade_id": "cell-1549d22006ecb487",
     "locked": false,
     "points": 2,
     "schema_version": 3,
     "solution": true,
     "task": false
    }
   },
   "source": [
    "YOUR ANSWER HERE"
   ]
  },
  {
   "cell_type": "code",
   "execution_count": null,
   "id": "2b48b21a",
   "metadata": {
    "deletable": false,
    "editable": false,
    "nbgrader": {
     "cell_type": "code",
     "checksum": "6188a407759ec412cfefc188c5597575",
     "grade": true,
     "grade_id": "cell-a91970e14a540c4c",
     "locked": true,
     "points": 1,
     "schema_version": 3,
     "solution": false,
     "task": false
    }
   },
   "outputs": [],
   "source": [
    "ans = (np.cos(0) - np.cos(1))\n",
    "assert abs(retangulo(np.sin, 0, 1) - ans) < 1e-3"
   ]
  },
  {
   "cell_type": "code",
   "execution_count": null,
   "id": "f088e57e",
   "metadata": {
    "deletable": false,
    "editable": false,
    "nbgrader": {
     "cell_type": "code",
     "checksum": "8b5a78d4934199461458d877bccfe059",
     "grade": true,
     "grade_id": "cell-4096352942140c09",
     "locked": true,
     "points": 1,
     "schema_version": 3,
     "solution": false,
     "task": false
    }
   },
   "outputs": [],
   "source": [
    "ans = (np.cos(0) - np.cos(1))\n",
    "assert abs(retangulo(np.sin, 0, 1) - ans) > 1e-4"
   ]
  },
  {
   "cell_type": "code",
   "execution_count": null,
   "id": "fce4b5c6",
   "metadata": {
    "deletable": false,
    "editable": false,
    "nbgrader": {
     "cell_type": "code",
     "checksum": "899858c7dd1f01c837d8cf4965d42c69",
     "grade": true,
     "grade_id": "cell-a76174554c52c73d",
     "locked": true,
     "points": 1,
     "schema_version": 3,
     "solution": false,
     "task": false
    }
   },
   "outputs": [],
   "source": [
    "ans = (np.cos(0) - np.cos(2))\n",
    "assert 1e-5 < abs(retangulo(np.sin, 0, 2, n=10**4) - ans) < 1e-4"
   ]
  },
  {
   "cell_type": "markdown",
   "id": "6183780c",
   "metadata": {},
   "source": [
    "# Questão 1: O jeito fácil\n",
    "\n",
    "Escreva uma função `primitiva_retangulo`,\n",
    "que calcula a integral de $a$ até cada um dos pontos escolhidos,\n",
    "**incluindo** $a$,\n",
    "chamando o método do retângulo para cada um deles."
   ]
  },
  {
   "cell_type": "code",
   "execution_count": null,
   "id": "0d262dbf",
   "metadata": {
    "deletable": false,
    "nbgrader": {
     "cell_type": "code",
     "checksum": "362cfe3959dfe952d3e852eb162ec45a",
     "grade": false,
     "grade_id": "cell-ca2f7a5c2102974b",
     "locked": false,
     "schema_version": 3,
     "solution": true,
     "task": false
    }
   },
   "outputs": [],
   "source": [
    "def primitiva_retangulo(f, a, b, h=0.01):\n",
    "    \"\"\"Primitiva da função  f, usando um passo de tamanho  h  no intervalo  [a,b].\"\"\"\n",
    "    pts = np.arange(a, b, h)\n",
    "    # YOUR CODE HERE\n",
    "    raise NotImplementedError()"
   ]
  },
  {
   "cell_type": "code",
   "execution_count": null,
   "id": "385c0456",
   "metadata": {
    "deletable": false,
    "editable": false,
    "nbgrader": {
     "cell_type": "code",
     "checksum": "08241b7f66fad685ee09ab465847e71c",
     "grade": true,
     "grade_id": "cell-f782ccb631628bac",
     "locked": true,
     "points": 1,
     "schema_version": 3,
     "solution": false,
     "task": false
    }
   },
   "outputs": [],
   "source": [
    "pts, Fs = primitiva_retangulo(np.sin, 0, 1)\n",
    "assert len(Fs) == len(pts)"
   ]
  },
  {
   "cell_type": "code",
   "execution_count": null,
   "id": "1d9d8af8",
   "metadata": {
    "deletable": false,
    "editable": false,
    "nbgrader": {
     "cell_type": "code",
     "checksum": "876eaaebe3d1dc8a63bcca167df43aca",
     "grade": true,
     "grade_id": "cell-610d0a8c1b3b1ee5",
     "locked": true,
     "points": 1,
     "schema_version": 3,
     "solution": false,
     "task": false
    }
   },
   "outputs": [],
   "source": [
    "assert np.allclose(Fs, 1 - np.cos(pts), atol=1e-2)"
   ]
  },
  {
   "cell_type": "code",
   "execution_count": null,
   "id": "ee61ebd3",
   "metadata": {
    "deletable": false,
    "editable": false,
    "nbgrader": {
     "cell_type": "code",
     "checksum": "a258533db17d66128ed4570e3751d176",
     "grade": true,
     "grade_id": "cell-f08c296c1f556aa0",
     "locked": true,
     "points": 1,
     "schema_version": 3,
     "solution": false,
     "task": false
    }
   },
   "outputs": [],
   "source": [
    "assert not np.allclose(Fs, 1 - np.cos(pts), atol=1e-3)"
   ]
  },
  {
   "cell_type": "markdown",
   "id": "c1fd2a60",
   "metadata": {},
   "source": [
    "## Questão 2: Gráficos\n",
    "\n",
    "Faça os gráficos dos erros de cálculo das primitivas, no intervalo $[0, 1.5]$, das seguintes funções:\n",
    "- Seno\n",
    "- Exponencial\n",
    "- Cosseno\n",
    "\n",
    "para quatro valores de passo: `1e-2`, `5e-3`, `2e-3` e `1e-3`.\n",
    "\n",
    "Use 3 eixos, um para cada função, e 4 curvas em cada eixo."
   ]
  },
  {
   "cell_type": "code",
   "execution_count": null,
   "id": "01ec1a6f",
   "metadata": {
    "deletable": false,
    "nbgrader": {
     "cell_type": "code",
     "checksum": "526da40dcd2ccbd88f859fa5bb56b20d",
     "grade": true,
     "grade_id": "cell-893a01adad1a224e",
     "locked": false,
     "points": 1,
     "schema_version": 3,
     "solution": true,
     "task": false
    }
   },
   "outputs": [],
   "source": [
    "fig, axs = plt.subplots(ncols=3, figsize=(18,4))\n",
    "hs = [1e-2, 5e-3, 2e-3, 1e-3]\n",
    "\n",
    "# YOUR CODE HERE\n",
    "raise NotImplementedError()"
   ]
  },
  {
   "cell_type": "code",
   "execution_count": null,
   "id": "c3790d3b",
   "metadata": {
    "deletable": false,
    "editable": false,
    "nbgrader": {
     "cell_type": "code",
     "checksum": "5d9458c230ead2b8ae2d59b15fde319e",
     "grade": true,
     "grade_id": "cell-63283f9cb6e27e97",
     "locked": true,
     "points": 2,
     "schema_version": 3,
     "solution": false,
     "task": false
    }
   },
   "outputs": [],
   "source": [
    "for ax in axs:\n",
    "    assert len(ax.lines) == 4\n",
    "    assert len(ax.get_legend().texts) == 4\n",
    "    assert len(ax.get_title()) > 0"
   ]
  },
  {
   "cell_type": "code",
   "execution_count": null,
   "id": "466b309b",
   "metadata": {
    "deletable": false,
    "editable": false,
    "nbgrader": {
     "cell_type": "code",
     "checksum": "800b3a08ab956d239d24c1740fc7cac9",
     "grade": true,
     "grade_id": "cell-b8348c3801bc1956",
     "locked": true,
     "points": 1,
     "schema_version": 3,
     "solution": false,
     "task": false
    }
   },
   "outputs": [],
   "source": [
    "for ax in axs:\n",
    "    for l in ax.lines:\n",
    "        assert max(np.abs(l.get_ydata())) < 2e-2"
   ]
  },
  {
   "cell_type": "markdown",
   "id": "c03f5322",
   "metadata": {},
   "source": [
    "Qual o erro, na extremidade final do intervalo, para cada um dos métodos e valores de $h$?\n",
    "\n",
    "Imprima uma tabela, com 3 colunas e 4 linhas (fora as \"de título\"), usando `print` formatado."
   ]
  },
  {
   "cell_type": "code",
   "execution_count": null,
   "id": "126f7731",
   "metadata": {
    "deletable": false,
    "nbgrader": {
     "cell_type": "code",
     "checksum": "93fd9df76175459ea884196ff17c7c2d",
     "grade": true,
     "grade_id": "cell-85eff91dd1f86421",
     "locked": false,
     "points": 2,
     "schema_version": 3,
     "solution": true,
     "task": false
    }
   },
   "outputs": [],
   "source": [
    "# YOUR CODE HERE\n",
    "raise NotImplementedError()"
   ]
  },
  {
   "cell_type": "markdown",
   "id": "80f13330",
   "metadata": {},
   "source": [
    "Como os erros se comportam ao diminuir o passo?  Isso é esperado?"
   ]
  },
  {
   "cell_type": "markdown",
   "id": "223c55f5",
   "metadata": {
    "deletable": false,
    "nbgrader": {
     "cell_type": "markdown",
     "checksum": "c6ce1eaa270db67ddc553aaba54dd84a",
     "grade": true,
     "grade_id": "cell-2de92a806cae4abd",
     "locked": false,
     "points": 2,
     "schema_version": 3,
     "solution": true,
     "task": false
    }
   },
   "source": [
    "YOUR ANSWER HERE"
   ]
  },
  {
   "cell_type": "markdown",
   "id": "7e980c70",
   "metadata": {},
   "source": [
    "Como os erros se comportam ao longo do eixo dos $x$, ou seja, ao calcular primitivas \"cada vez mais longe\"?  Como você explica este fenômeno?"
   ]
  },
  {
   "cell_type": "markdown",
   "id": "afce6a5e",
   "metadata": {
    "deletable": false,
    "nbgrader": {
     "cell_type": "markdown",
     "checksum": "75a2406633ac810f73b6c640d29477d7",
     "grade": true,
     "grade_id": "cell-b016645ddc678451",
     "locked": false,
     "points": 2,
     "schema_version": 3,
     "solution": true,
     "task": false
    }
   },
   "source": [
    "YOUR ANSWER HERE"
   ]
  },
  {
   "cell_type": "markdown",
   "id": "e1d98488",
   "metadata": {},
   "source": [
    "Como os erros se comportam para as diferentes funções?  Você esperava isso?"
   ]
  },
  {
   "cell_type": "markdown",
   "id": "3d4797a1",
   "metadata": {
    "deletable": false,
    "nbgrader": {
     "cell_type": "markdown",
     "checksum": "d81ce075eeae53d7e24bffd542d18b11",
     "grade": true,
     "grade_id": "cell-0842df6fbab5c7a4",
     "locked": false,
     "points": 2,
     "schema_version": 3,
     "solution": true,
     "task": false
    }
   },
   "source": [
    "YOUR ANSWER HERE"
   ]
  },
  {
   "cell_type": "markdown",
   "id": "2fb644da",
   "metadata": {},
   "source": [
    "## Questão 3: O jeito mais rápido\n",
    "\n",
    "Na questão anterior, ao calcular a primitiva de $[a, a+2h]$, era necessário calcular $f(a)$ e $f(a+h)$.\n",
    "Ora, $f(a)$ já tinha sido calculada para a primitiva em $[a, a+h]$ (era o único termo!),\n",
    "então podemos evitar estas contas repetidas.\n",
    "\n",
    "Vamos fazer uma nova primitiva, `primitiva_rapida`, que calcula apenas uma vez `f(pts)`,\n",
    "e calcula as somas parciais usando [`np.cumsum`](https://numpy.org/doc/stable/reference/generated/numpy.cumsum.html)."
   ]
  },
  {
   "cell_type": "markdown",
   "id": "ca89c3d5",
   "metadata": {},
   "source": [
    "Explique porque é ruim (neste caso!) que `np.cumsum` **não** retorne a soma vazia."
   ]
  },
  {
   "cell_type": "code",
   "execution_count": null,
   "id": "8da3a15f",
   "metadata": {
    "deletable": false,
    "editable": false,
    "nbgrader": {
     "cell_type": "code",
     "checksum": "930df8bda033bbd16173cdc5bc716ff5",
     "grade": false,
     "grade_id": "cell-6753e81af4219770",
     "locked": true,
     "schema_version": 3,
     "solution": false,
     "task": false
    }
   },
   "outputs": [],
   "source": [
    "np.cumsum([1,2])"
   ]
  },
  {
   "cell_type": "markdown",
   "id": "69e045e0",
   "metadata": {
    "deletable": false,
    "nbgrader": {
     "cell_type": "markdown",
     "checksum": "28bb8fb8a4c71caac89bdf82d578d34c",
     "grade": true,
     "grade_id": "cell-c5a49030557d7f4c",
     "locked": false,
     "points": 1,
     "schema_version": 3,
     "solution": true,
     "task": false
    }
   },
   "source": [
    "YOUR ANSWER HERE"
   ]
  },
  {
   "cell_type": "markdown",
   "id": "ce7b1397",
   "metadata": {},
   "source": [
    "Para incluir a soma vazia (que vale zero!), use `np.hstack`."
   ]
  },
  {
   "cell_type": "code",
   "execution_count": null,
   "id": "54825a79",
   "metadata": {},
   "outputs": [],
   "source": [
    "np.hstack([[0], [1, 3]])"
   ]
  },
  {
   "cell_type": "code",
   "execution_count": null,
   "id": "c74b49d5",
   "metadata": {
    "deletable": false,
    "nbgrader": {
     "cell_type": "code",
     "checksum": "64f0ee8b5f8bcb2dd4fa98036ff4557f",
     "grade": false,
     "grade_id": "cell-66631c20ed24bf35",
     "locked": false,
     "schema_version": 3,
     "solution": true,
     "task": false
    }
   },
   "outputs": [],
   "source": [
    "def primitiva_rapida(f, a, b, h=0.01):\n",
    "    \"\"\"Primitiva da função  f, usando um passo de tamanho  h  no intervalo  [a,b].\"\"\"\n",
    "    pts = np.arange(a, b, h)\n",
    "    # YOUR CODE HERE\n",
    "    raise NotImplementedError()"
   ]
  },
  {
   "cell_type": "code",
   "execution_count": null,
   "id": "85359ab3",
   "metadata": {
    "deletable": false,
    "editable": false,
    "nbgrader": {
     "cell_type": "code",
     "checksum": "01c82b6b18840bafcffae8e286d8611d",
     "grade": true,
     "grade_id": "cell-50f5e7584dce3ef8",
     "locked": true,
     "points": 1,
     "schema_version": 3,
     "solution": false,
     "task": false
    }
   },
   "outputs": [],
   "source": [
    "pts, Fs = primitiva_rapida(np.sin, 0, 1)\n",
    "assert len(pts) == len(Fs)"
   ]
  },
  {
   "cell_type": "code",
   "execution_count": null,
   "id": "916b04c3",
   "metadata": {
    "deletable": false,
    "editable": false,
    "nbgrader": {
     "cell_type": "code",
     "checksum": "5b9630f57e60e23aeb89b0af27475083",
     "grade": true,
     "grade_id": "cell-3df3bdeb658b648d",
     "locked": true,
     "points": 1,
     "schema_version": 3,
     "solution": false,
     "task": false
    }
   },
   "outputs": [],
   "source": [
    "assert np.allclose(Fs, 1 - np.cos(pts), atol=1e-2)"
   ]
  },
  {
   "cell_type": "code",
   "execution_count": null,
   "id": "f8b9be89",
   "metadata": {
    "deletable": false,
    "editable": false,
    "nbgrader": {
     "cell_type": "code",
     "checksum": "021112ccf30fa755f4528737dcd1950d",
     "grade": true,
     "grade_id": "cell-4d749fbf56409d26",
     "locked": true,
     "points": 1,
     "schema_version": 3,
     "solution": false,
     "task": false
    }
   },
   "outputs": [],
   "source": [
    "assert not np.allclose(Fs, 1 - np.cos(pts), atol=1e-3)"
   ]
  },
  {
   "cell_type": "markdown",
   "id": "3792438e",
   "metadata": {},
   "source": [
    "Ambas as funções devem ser (a menos de erro de truncamento / arredondamento) iguais:"
   ]
  },
  {
   "cell_type": "code",
   "execution_count": null,
   "id": "bafdc859",
   "metadata": {
    "deletable": false,
    "editable": false,
    "nbgrader": {
     "cell_type": "code",
     "checksum": "5739a5cbd441a04a760f2ca0443decd9",
     "grade": true,
     "grade_id": "cell-8e62b317e12f9bd6",
     "locked": true,
     "points": 2,
     "schema_version": 3,
     "solution": false,
     "task": false
    }
   },
   "outputs": [],
   "source": [
    "_, Fs_original = primitiva_retangulo(np.sin, 0, 1)\n",
    "assert np.allclose(Fs, Fs_original, atol=1e-15, rtol=1e-15)"
   ]
  },
  {
   "cell_type": "markdown",
   "id": "7021f683",
   "metadata": {},
   "source": [
    "## Questão 4: E terá valido a pena?\n",
    "\n",
    "Observe as duas caixas abaixo"
   ]
  },
  {
   "cell_type": "code",
   "execution_count": null,
   "id": "65d5d7bb",
   "metadata": {
    "deletable": false,
    "editable": false,
    "nbgrader": {
     "cell_type": "code",
     "checksum": "9971b352deee3d9ece4fa40da669fca1",
     "grade": false,
     "grade_id": "cell-105e2d428bae5984",
     "locked": true,
     "schema_version": 3,
     "solution": false,
     "task": false
    }
   },
   "outputs": [],
   "source": [
    "%time primitiva_retangulo(np.sin, 0, 1, h=1e-4)\n",
    "%time primitiva_retangulo(np.sin, 0, 1, h=1e-3)\n",
    "None"
   ]
  },
  {
   "cell_type": "code",
   "execution_count": null,
   "id": "2d883010",
   "metadata": {
    "deletable": false,
    "editable": false,
    "nbgrader": {
     "cell_type": "code",
     "checksum": "b904f651e0e6e04dfb340a7e4bfd2ab4",
     "grade": false,
     "grade_id": "cell-ee7ec148626d9633",
     "locked": true,
     "schema_version": 3,
     "solution": false,
     "task": false
    }
   },
   "outputs": [],
   "source": [
    "%time primitiva_rapida(np.sin, 0, 1, h=1e-4)\n",
    "%time primitiva_rapida(np.sin, 0, 1, h=1e-3)\n",
    "None"
   ]
  },
  {
   "cell_type": "markdown",
   "id": "d312430c",
   "metadata": {},
   "source": [
    "Quão mais rápido é o método usando `np.cumsum`?"
   ]
  },
  {
   "cell_type": "markdown",
   "id": "97642259",
   "metadata": {
    "deletable": false,
    "nbgrader": {
     "cell_type": "markdown",
     "checksum": "76bd6f5186c55fbb6a6a4c6c4c2d11f1",
     "grade": true,
     "grade_id": "cell-ffce7e6028d2340e",
     "locked": false,
     "points": 2,
     "schema_version": 3,
     "solution": true,
     "task": false
    }
   },
   "source": [
    "YOUR ANSWER HERE"
   ]
  },
  {
   "cell_type": "markdown",
   "id": "1da45532",
   "metadata": {},
   "source": [
    "Agora, observe com mais detalhe:"
   ]
  },
  {
   "cell_type": "code",
   "execution_count": null,
   "id": "0cf3def9",
   "metadata": {},
   "outputs": [],
   "source": [
    "%timeit primitiva_retangulo(np.sin, 0, 1, h=1e-4)\n",
    "%timeit primitiva_retangulo(np.sin, 0, 1, h=1e-3)\n",
    "None"
   ]
  },
  {
   "cell_type": "code",
   "execution_count": null,
   "id": "67d695ca",
   "metadata": {},
   "outputs": [],
   "source": [
    "%timeit primitiva_rapida(np.sin, 0, 1, h=1e-4)\n",
    "%timeit primitiva_rapida(np.sin, 0, 1, h=1e-3)\n",
    "None"
   ]
  },
  {
   "cell_type": "markdown",
   "id": "707582c4",
   "metadata": {},
   "source": [
    "Quantas vezes mais lento é o método \"simples\" com passo 10 vezes menor?\n",
    "\n",
    "E quantas vezes mais lento é o método `np.cumsum` com passo 10 vezes menor?\n",
    "\n",
    "Isso ajuda a explicar as diferenças acima?"
   ]
  },
  {
   "cell_type": "markdown",
   "id": "f63ed332",
   "metadata": {
    "deletable": false,
    "nbgrader": {
     "cell_type": "markdown",
     "checksum": "5e7b9b096a5088daa2f629c7df7b7296",
     "grade": true,
     "grade_id": "cell-af8d633f85cf0dbe",
     "locked": false,
     "points": 2,
     "schema_version": 3,
     "solution": true,
     "task": false
    }
   },
   "source": [
    "YOUR ANSWER HERE"
   ]
  }
 ],
 "metadata": {
  "kernelspec": {
   "display_name": "Python 3 (ipykernel)",
   "language": "python",
   "name": "python3"
  },
  "language_info": {
   "codemirror_mode": {
    "name": "ipython",
    "version": 3
   },
   "file_extension": ".py",
   "mimetype": "text/x-python",
   "name": "python",
   "nbconvert_exporter": "python",
   "pygments_lexer": "ipython3",
   "version": "3.9.5"
  }
 },
 "nbformat": 4,
 "nbformat_minor": 5
}
