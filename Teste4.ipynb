{
 "cells": [
  {
   "cell_type": "markdown",
   "metadata": {},
   "source": [
    "![CC-BY-SA](https://mirrors.creativecommons.org/presskit/buttons/88x31/svg/by-sa.svg)\n",
    "\n",
    "\n",
    "This notebook was created by [Bernardo Freitas Paulo da Costa](http://www.im.ufrj.br/bernardofpc),\n",
    "and is licensed under Creative Commons BY-SA."
   ]
  },
  {
   "cell_type": "markdown",
   "metadata": {},
   "source": [
    "Antes de enviar este Teste, verifique que tudo está funcionando como esperado.\n",
    "Por exemplo, **rode o código inteiro, do zero**.\n",
    "Para isso, vá no menu, escolha _Kernel_, depois _Restart & Run All_.\n",
    "\n",
    "Verifique, também, que você respondeu todas as questões:\n",
    "* as questões de código têm `YOUR CODE HERE` (e você pode apagar o `raise NotImplemented` ao incluir sua resposta)\n",
    "* as questões discursivas têm \"YOUR ANSWER HERE\"."
   ]
  },
  {
   "cell_type": "markdown",
   "metadata": {},
   "source": [
    "---"
   ]
  },
  {
   "cell_type": "code",
   "execution_count": null,
   "metadata": {
    "deletable": false,
    "editable": false,
    "nbgrader": {
     "cell_type": "code",
     "checksum": "034b5d1512154e1671944b6d9dadcae8",
     "grade": false,
     "grade_id": "cell-b0cf0d0a7b388d55",
     "locked": true,
     "schema_version": 3,
     "solution": false
    }
   },
   "outputs": [],
   "source": [
    "import numpy as np\n",
    "import matplotlib.pyplot as plt"
   ]
  },
  {
   "cell_type": "markdown",
   "metadata": {},
   "source": [
    "# Parte 1: Cálculo vetorial\n",
    "\n",
    "## Questão 1: Derivadas direcionais\n",
    "\n",
    "As derivadas direcionais são obtidas por um limite um pouco mais complicado:\n",
    "\n",
    "$$ \\frac{\\partial f}{\\partial v}(x)= \\lim_{h\\to0} \\frac{f(x+hv) - f(x)}{h}. $$\n",
    "\n",
    "(às vezes, também se escreve $\\nabla_v f(x)$ ou $f'_v(x)$ para a derivada direcional.)\n",
    "\n",
    "Generalize a função `df` para que ela calcule derivadas direcionais."
   ]
  },
  {
   "cell_type": "code",
   "execution_count": null,
   "metadata": {
    "deletable": false,
    "nbgrader": {
     "cell_type": "code",
     "checksum": "e598d80754eb7adf4b97b583eb11d823",
     "grade": false,
     "grade_id": "cell-b5f298e9443e23d7",
     "locked": false,
     "schema_version": 3,
     "solution": true
    }
   },
   "outputs": [],
   "source": [
    "def df(f,x,v,h=1e-8):\n",
    "    # YOUR CODE HERE\n",
    "    raise NotImplementedError()"
   ]
  },
  {
   "cell_type": "markdown",
   "metadata": {},
   "source": [
    "### Algumas funções vetoriais"
   ]
  },
  {
   "cell_type": "code",
   "execution_count": null,
   "metadata": {
    "deletable": false,
    "editable": false,
    "nbgrader": {
     "cell_type": "code",
     "checksum": "fd9a53fbfc6b36afcfdaa7e931e55a0a",
     "grade": false,
     "grade_id": "cell-45cfe22bc50ed809",
     "locked": true,
     "schema_version": 3,
     "solution": false
    }
   },
   "outputs": [],
   "source": [
    "def norm1(x):\n",
    "    return np.sum(np.abs(x))\n",
    "def norm2(x):\n",
    "    return np.sum(x**2)\n",
    "def estranha(x):\n",
    "    x1,x2 = x\n",
    "    return np.cos(x1) + 2*np.sin(x2/2)"
   ]
  },
  {
   "cell_type": "markdown",
   "metadata": {},
   "source": [
    "#### Testes simples"
   ]
  },
  {
   "cell_type": "code",
   "execution_count": null,
   "metadata": {
    "deletable": false,
    "editable": false,
    "nbgrader": {
     "cell_type": "code",
     "checksum": "c0835cb7e3ccdc2e1a537ca44afadd3c",
     "grade": true,
     "grade_id": "cell-248d2b2cb16b7b13",
     "locked": true,
     "points": 1,
     "schema_version": 3,
     "solution": false
    }
   },
   "outputs": [],
   "source": [
    "assert np.isclose(df(norm2, np.array([3,4]), np.array([0,2])), 16)\n",
    "assert np.isclose(df(norm2, np.array([3,4]), np.array([1,-1])), -2)"
   ]
  },
  {
   "cell_type": "code",
   "execution_count": null,
   "metadata": {
    "deletable": false,
    "editable": false,
    "nbgrader": {
     "cell_type": "code",
     "checksum": "53896a7dfaa13d93973c04ad208253ca",
     "grade": true,
     "grade_id": "cell-99f4fbbaf3e65ab4",
     "locked": true,
     "points": 1,
     "schema_version": 3,
     "solution": false
    }
   },
   "outputs": [],
   "source": [
    "assert np.isclose(df(estranha, np.array([1,2]), np.array([2,1])), -1.1426397161784507)\n",
    "assert np.isclose(df(estranha, np.array([1,2]), np.array([2,1]), h=1e-3), -1.1426397161784507, rtol=2e-3)"
   ]
  },
  {
   "cell_type": "code",
   "execution_count": null,
   "metadata": {
    "deletable": false,
    "editable": false,
    "nbgrader": {
     "cell_type": "code",
     "checksum": "964e87965cb4d695d8e24cc392777afd",
     "grade": true,
     "grade_id": "cell-3f795fc1959aa5ee",
     "locked": true,
     "points": 1,
     "schema_version": 3,
     "solution": false
    }
   },
   "outputs": [],
   "source": [
    "assert np.isclose(df(norm1, np.array([3,3]), np.array([0,2])), 2)\n",
    "assert np.isclose(df(norm1, np.array([3,3]), np.array([1,-1])), 0)"
   ]
  },
  {
   "cell_type": "markdown",
   "metadata": {},
   "source": [
    "#### Testando propriedades"
   ]
  },
  {
   "cell_type": "code",
   "execution_count": null,
   "metadata": {
    "deletable": false,
    "editable": false,
    "nbgrader": {
     "cell_type": "code",
     "checksum": "d4b3ae4de0b54ef0ab37dd95c0f38c9d",
     "grade": true,
     "grade_id": "cell-a2924509bf252fe5",
     "locked": true,
     "points": 1,
     "schema_version": 3,
     "solution": false
    }
   },
   "outputs": [],
   "source": [
    "assert np.isclose(df(norm2, np.array([0,3]), np.array([1,0])), \n",
    "                  -df(norm2, np.array([0,3]), np.array([-1,0])))\n",
    "\n",
    "assert np.isclose(df(norm1, np.array([0,3]), np.array([1,0])), \n",
    "                  df(norm1, np.array([0,3]), np.array([-1,0])))"
   ]
  },
  {
   "cell_type": "markdown",
   "metadata": {},
   "source": [
    "**Pergunta:** Como interpretar (em Cálculo) estas duas últimas igualdades?  Porque a segunda não tem um sinal de menos?"
   ]
  },
  {
   "cell_type": "markdown",
   "metadata": {
    "deletable": false,
    "nbgrader": {
     "cell_type": "markdown",
     "checksum": "86a0351ed0b0844617e3f707ae3858c6",
     "grade": true,
     "grade_id": "cell-3cc75fd5044d0a46",
     "locked": false,
     "points": 3,
     "schema_version": 3,
     "solution": true
    }
   },
   "source": [
    "YOUR ANSWER HERE"
   ]
  },
  {
   "cell_type": "markdown",
   "metadata": {},
   "source": [
    "## Questão 2: Gradientes\n",
    "\n",
    "Vamos usar a nova função `df` para calcular [gradientes](https://pt.wikipedia.org/wiki/Gradiente) e outros objetos do cálculo vetorial.\n",
    "\n",
    "Usando a função `len` (para descobrir a dimensão!), implemente `grad(f,x,delta)`,\n",
    "onde cada derivada parcial é calculada com um passo de tamanho $\\delta$."
   ]
  },
  {
   "cell_type": "code",
   "execution_count": null,
   "metadata": {
    "deletable": false,
    "nbgrader": {
     "cell_type": "code",
     "checksum": "158a239ef7d636c1df4a2c28d2ffc0ec",
     "grade": false,
     "grade_id": "cell-9e935e4d0b917421",
     "locked": false,
     "schema_version": 3,
     "solution": true
    }
   },
   "outputs": [],
   "source": [
    "def grad(f,x,delta=1e-8):\n",
    "    # YOUR CODE HERE\n",
    "    raise NotImplementedError()"
   ]
  },
  {
   "cell_type": "code",
   "execution_count": null,
   "metadata": {
    "deletable": false,
    "editable": false,
    "nbgrader": {
     "cell_type": "code",
     "checksum": "6a753331565cc668376778b6af0fdeff",
     "grade": true,
     "grade_id": "cell-d2c0bf67345f07ef",
     "locked": true,
     "points": 1,
     "schema_version": 3,
     "solution": false
    }
   },
   "outputs": [],
   "source": [
    "p = np.array([3,4])\n",
    "assert np.allclose(grad(norm2, p, delta=1e-5), 2*p, rtol=1e-5)"
   ]
  },
  {
   "cell_type": "code",
   "execution_count": null,
   "metadata": {
    "deletable": false,
    "editable": false,
    "nbgrader": {
     "cell_type": "code",
     "checksum": "66fe6ffe81de807ff7f4a00051e39b9c",
     "grade": true,
     "grade_id": "cell-4ac81ccce97336d5",
     "locked": true,
     "points": 1,
     "schema_version": 3,
     "solution": false
    }
   },
   "outputs": [],
   "source": [
    "assert np.allclose(grad(norm1, np.array([3,4])), [1,1])\n",
    "assert np.allclose(grad(norm1, np.array([3,-4])), [1,-1])"
   ]
  },
  {
   "cell_type": "code",
   "execution_count": null,
   "metadata": {
    "deletable": false,
    "editable": false,
    "nbgrader": {
     "cell_type": "code",
     "checksum": "35f958a4064fe9e7ea96368062dd368f",
     "grade": true,
     "grade_id": "cell-4ff877466a47984b",
     "locked": true,
     "points": 1,
     "schema_version": 3,
     "solution": false
    }
   },
   "outputs": [],
   "source": [
    "ans = [-0.14112000805986724, -0.41614683654714246]\n",
    "assert np.allclose(grad(estranha, np.array([3,4]), 1e-8), ans)"
   ]
  },
  {
   "cell_type": "markdown",
   "metadata": {},
   "source": [
    "## Questão 3: Funções vetoriais\n",
    "\n",
    "Agora, vejamos o que acontece quando a função $f$ vai de $R^n$ em $R^m$.\n",
    "Supondo que a função (programada) `f` receba um vetor (de dimensão $n$) e retorne um vetor (de dimensão $m$),\n",
    "dê a fórmula da $j$-ésima coordenada do vetor `df(f,x,v,h)`,\n",
    "onde `df` é a sua função da questão 1.\n",
    "\n",
    "**Sugestão:** use $f(p)[j]$ para a $j$-ésima coordenada do vetor `f(p)`."
   ]
  },
  {
   "cell_type": "markdown",
   "metadata": {
    "deletable": false,
    "nbgrader": {
     "cell_type": "markdown",
     "checksum": "1e31cfffe7141d50e54b5e62d16f8aad",
     "grade": true,
     "grade_id": "cell-3a85ad79e947a5f3",
     "locked": false,
     "points": 2,
     "schema_version": 3,
     "solution": true
    }
   },
   "source": [
    "YOUR ANSWER HERE"
   ]
  },
  {
   "cell_type": "markdown",
   "metadata": {},
   "source": [
    "### Mais funções vetoriais"
   ]
  },
  {
   "cell_type": "code",
   "execution_count": null,
   "metadata": {
    "deletable": false,
    "editable": false,
    "nbgrader": {
     "cell_type": "code",
     "checksum": "599b61774151b0b239e6ec6fa8c83471",
     "grade": false,
     "grade_id": "cell-db343dd2d38af7e1",
     "locked": true,
     "schema_version": 3,
     "solution": false
    }
   },
   "outputs": [],
   "source": [
    "def curva1(t):\n",
    "    return np.array([np.cos(t), np.sin(t), t])\n",
    "\n",
    "def superficie1(t):\n",
    "    u,v = t\n",
    "    return np.array([u*np.exp(v-u), v*np.cos(u+v), np.sin(v)])"
   ]
  },
  {
   "cell_type": "code",
   "execution_count": null,
   "metadata": {
    "deletable": false,
    "editable": false,
    "nbgrader": {
     "cell_type": "code",
     "checksum": "fb42ef86ecb30d40a22ceb62b4c5f5cc",
     "grade": true,
     "grade_id": "cell-221511232c88b938",
     "locked": true,
     "points": 1,
     "schema_version": 3,
     "solution": false
    }
   },
   "outputs": [],
   "source": [
    "assert np.allclose(df(superficie1, np.array([0,0]), np.array([1,2])), [1,2,2])"
   ]
  },
  {
   "cell_type": "code",
   "execution_count": null,
   "metadata": {
    "deletable": false,
    "editable": false,
    "nbgrader": {
     "cell_type": "code",
     "checksum": "a1c247b42d2402fb8617bbce801f40d3",
     "grade": true,
     "grade_id": "cell-e77bb4ced51f5cf4",
     "locked": true,
     "points": 1,
     "schema_version": 3,
     "solution": false
    }
   },
   "outputs": [],
   "source": [
    "ans = [-0.9092974268256819, -0.41614683654714246, 1.0]\n",
    "assert np.allclose(df(curva1, 2, 1, 1e-5), ans, rtol=2e-5)"
   ]
  },
  {
   "cell_type": "markdown",
   "metadata": {},
   "source": [
    "## Questão 4: Ordem dos eixos\n",
    "\n",
    "A sua função `grad` deveria retornar um `np.array`, e para a função `superficie1`,\n",
    "de $R^2$ em $R^3$, isso deve dar a matriz com todas as derivadas parciais."
   ]
  },
  {
   "cell_type": "code",
   "execution_count": null,
   "metadata": {
    "deletable": false,
    "editable": false,
    "nbgrader": {
     "cell_type": "code",
     "checksum": "c2ec68a7d33f7e8313a8fc6251770e0d",
     "grade": false,
     "grade_id": "cell-ed54cea17ee65d19",
     "locked": true,
     "schema_version": 3,
     "solution": false
    }
   },
   "outputs": [],
   "source": [
    "grad(superficie1, np.array([1,2]), delta=1e-5)"
   ]
  },
  {
   "cell_type": "markdown",
   "metadata": {},
   "source": [
    "Observando o resultado acima, o que você pode dizer sobre as linhas e colunas da matriz gradiente?\n",
    "Elas coincidem com a ordem típica da matriz Jacobiana do cálculo 2?"
   ]
  },
  {
   "cell_type": "markdown",
   "metadata": {
    "deletable": false,
    "nbgrader": {
     "cell_type": "markdown",
     "checksum": "129593d1536fbd8748fbff8d918adff2",
     "grade": true,
     "grade_id": "cell-6166bb35f1fafef9",
     "locked": false,
     "points": 2,
     "schema_version": 3,
     "solution": true
    }
   },
   "source": [
    "YOUR ANSWER HERE"
   ]
  },
  {
   "cell_type": "markdown",
   "metadata": {},
   "source": [
    "## Questão 5: Divergente\n",
    "\n",
    "Adapte o cálculo do gradiente para obter o divergente de uma função vetorial de $R^n$ em $R^n$:\n",
    "\n",
    "$$ \\text{div} F(x) = \\sum \\frac{\\partial F_i}{\\partial x_i}(x). $$"
   ]
  },
  {
   "cell_type": "code",
   "execution_count": null,
   "metadata": {
    "deletable": false,
    "nbgrader": {
     "cell_type": "code",
     "checksum": "9e1c6d2a033a535c868d012f67adf437",
     "grade": false,
     "grade_id": "cell-fe75e66e80f7ff82",
     "locked": false,
     "schema_version": 3,
     "solution": true
    }
   },
   "outputs": [],
   "source": [
    "def div(f,x,delta=1e-8):\n",
    "    # YOUR CODE HERE\n",
    "    raise NotImplementedError()"
   ]
  },
  {
   "cell_type": "code",
   "execution_count": null,
   "metadata": {
    "deletable": false,
    "editable": false,
    "nbgrader": {
     "cell_type": "code",
     "checksum": "bfe9a1d79cf6d9e066f41056ae346195",
     "grade": false,
     "grade_id": "cell-ce7d02e486736cfb",
     "locked": true,
     "schema_version": 3,
     "solution": false
    }
   },
   "outputs": [],
   "source": [
    "def polar(p):\n",
    "    rho,theta = p\n",
    "    return rho*np.array([np.cos(theta), np.sin(theta)])\n",
    "\n",
    "def gravity(p):\n",
    "    return -p/sum(p**2)"
   ]
  },
  {
   "cell_type": "code",
   "execution_count": null,
   "metadata": {
    "deletable": false,
    "editable": false,
    "nbgrader": {
     "cell_type": "code",
     "checksum": "bc682b8251ef00565420a8a1434e04d5",
     "grade": true,
     "grade_id": "cell-dffa4c34454ebdda",
     "locked": true,
     "points": 1,
     "schema_version": 3,
     "solution": false
    }
   },
   "outputs": [],
   "source": [
    "assert np.isclose(div(polar, np.array([1,0]), delta=1e-3), 2, rtol=1e-3)"
   ]
  },
  {
   "cell_type": "code",
   "execution_count": null,
   "metadata": {
    "deletable": false,
    "editable": false,
    "nbgrader": {
     "cell_type": "code",
     "checksum": "057994454df6ae89764b5dca4ee8396b",
     "grade": true,
     "grade_id": "cell-f9a201d81750a5f5",
     "locked": true,
     "points": 2,
     "schema_version": 3,
     "solution": false
    }
   },
   "outputs": [],
   "source": [
    "gpolar = grad(polar, np.array([1,0]), delta=1e-3)\n",
    "\n",
    "assert np.allclose(gpolar, np.eye(2), rtol=1e-3, atol=1e-3)\n",
    "assert np.sum(np.abs(gpolar - np.eye(2))) > 1e-4"
   ]
  },
  {
   "cell_type": "code",
   "execution_count": null,
   "metadata": {
    "deletable": false,
    "editable": false,
    "nbgrader": {
     "cell_type": "code",
     "checksum": "90aa52ab8ec357cd1a358189daffdab8",
     "grade": true,
     "grade_id": "cell-eed2eda75a0180c0",
     "locked": true,
     "points": 1,
     "schema_version": 3,
     "solution": false
    }
   },
   "outputs": [],
   "source": [
    "assert np.isclose(div(gravity, np.array([1,2,1]), delta=1e-6), -1/6, rtol=1e-6)"
   ]
  },
  {
   "cell_type": "code",
   "execution_count": null,
   "metadata": {
    "deletable": false,
    "editable": false,
    "nbgrader": {
     "cell_type": "code",
     "checksum": "3312d341b10e6b2c800698abc61e61df",
     "grade": true,
     "grade_id": "cell-230611dfef1de58c",
     "locked": true,
     "points": 1,
     "schema_version": 3,
     "solution": false
    }
   },
   "outputs": [],
   "source": [
    "assert np.isclose(div(gravity, np.array([1,1,1,1,1])), -0.6, rtol=1e-8)"
   ]
  },
  {
   "cell_type": "markdown",
   "metadata": {},
   "source": [
    "# Parte 2: Mais precisão\n",
    "\n",
    "Se, em vez de usarmos derivadas laterais, usarmos derivadas centrais,\n",
    "deveríamos obter mais precisão na resposta.\n",
    "\n",
    "## Questão 6: Derivadas centrais\n",
    "\n",
    "Modifique as funções `grad` e `div` para serem simétricas:"
   ]
  },
  {
   "cell_type": "code",
   "execution_count": null,
   "metadata": {
    "deletable": false,
    "nbgrader": {
     "cell_type": "code",
     "checksum": "3a23f0fc951274a042a7ab23429257b2",
     "grade": false,
     "grade_id": "cell-0bfc6d0b8fbfa039",
     "locked": false,
     "schema_version": 3,
     "solution": true,
     "task": false
    }
   },
   "outputs": [],
   "source": [
    "def df_sym(f,x,v,h):\n",
    "    # YOUR CODE HERE\n",
    "    raise NotImplementedError()\n",
    "\n",
    "def grad_sym(f,x,delta=1e-5):\n",
    "    # YOUR CODE HERE\n",
    "    raise NotImplementedError()\n",
    "\n",
    "def div_sym(f,x,delta=1e-5):\n",
    "    # YOUR CODE HERE\n",
    "    raise NotImplementedError()"
   ]
  },
  {
   "cell_type": "code",
   "execution_count": null,
   "metadata": {
    "deletable": false,
    "editable": false,
    "nbgrader": {
     "cell_type": "code",
     "checksum": "1d06f18b1df9bb377d9d1da6df525dd4",
     "grade": true,
     "grade_id": "cell-ba882b706df528b2",
     "locked": true,
     "points": 1,
     "schema_version": 3,
     "solution": false,
     "task": false
    }
   },
   "outputs": [],
   "source": [
    "gpolar = grad_sym(polar, np.array([1,0]), delta=1e-3)\n",
    "\n",
    "assert np.allclose(gpolar, np.eye(2), rtol=1e-6, atol=1e-6)\n",
    "assert np.sum(np.abs(gpolar - np.eye(2))) > 1e-8"
   ]
  },
  {
   "cell_type": "code",
   "execution_count": null,
   "metadata": {
    "deletable": false,
    "editable": false,
    "nbgrader": {
     "cell_type": "code",
     "checksum": "3c78dc60e2b7dcd6bde606c0416cd4cb",
     "grade": true,
     "grade_id": "cell-8d96aca4375ddfa1",
     "locked": true,
     "points": 1,
     "schema_version": 3,
     "solution": false,
     "task": false
    }
   },
   "outputs": [],
   "source": [
    "assert np.isclose(div_sym(gravity, np.array([1,2,1])), -1/6, atol=1e-10, rtol=1e-10)"
   ]
  },
  {
   "cell_type": "markdown",
   "metadata": {},
   "source": [
    "## Questão 7: A derivada é linear\n",
    "\n",
    "Sabemos que, se a função $F : R^n \\to R^m$ for derivável,\n",
    "então podemos calcular derivadas direcionais usando a matriz jacobiana $DF(x)$:\n",
    "$$\n",
    "  \\frac{\\partial F}{\\partial v}(x) = DF(x) \\cdot v.\n",
    "$$"
   ]
  },
  {
   "cell_type": "code",
   "execution_count": null,
   "metadata": {
    "deletable": false,
    "editable": false,
    "nbgrader": {
     "cell_type": "code",
     "checksum": "176858b51557a85b1bab3ee5bea5e541",
     "grade": false,
     "grade_id": "cell-c33a91e7e1a57955",
     "locked": true,
     "schema_version": 3,
     "solution": false,
     "task": false
    }
   },
   "outputs": [],
   "source": [
    "x = np.array([1,2])\n",
    "vs = [np.array([1,3]), np.array([3,1]), np.array([1,1]), np.array([1,-1])]\n",
    "\n",
    "for v in vs:\n",
    "    DF_norm2 = grad(norm2, x, delta=1e-3)\n",
    "    parcial  = df(norm2, x, v, h=1e-3)\n",
    "    print(DF_norm2 @ v - parcial)"
   ]
  },
  {
   "cell_type": "markdown",
   "metadata": {},
   "source": [
    "Porquê aparece este erro?"
   ]
  },
  {
   "cell_type": "markdown",
   "metadata": {
    "deletable": false,
    "nbgrader": {
     "cell_type": "markdown",
     "checksum": "805443dbf7df71e221f5b67290a7dcbd",
     "grade": true,
     "grade_id": "cell-3fefd1494a881def",
     "locked": false,
     "points": 2,
     "schema_version": 3,
     "solution": true,
     "task": false
    }
   },
   "source": [
    "YOUR ANSWER HERE"
   ]
  },
  {
   "cell_type": "markdown",
   "metadata": {},
   "source": [
    "Expanda em série de Taylor a fórmula da derivada lateral e a fórmula do \"gradiente lateral\",\n",
    "e encontre uma expressão para o erro entre\n",
    "1. a derivada lateral; e\n",
    "2. a matriz jacobiana vezes o vetor diretor."
   ]
  },
  {
   "cell_type": "markdown",
   "metadata": {
    "deletable": false,
    "nbgrader": {
     "cell_type": "markdown",
     "checksum": "a8beb5813d0e383105e11b5e239f8ff9",
     "grade": true,
     "grade_id": "cell-20a2721b6135ff86",
     "locked": false,
     "points": 2,
     "schema_version": 3,
     "solution": true,
     "task": false
    }
   },
   "source": [
    "YOUR ANSWER HERE"
   ]
  },
  {
   "cell_type": "markdown",
   "metadata": {},
   "source": [
    "## Questão 8: melhorando a linearidade?\n",
    "\n",
    "Agora, vejamos o que acontece com derivadas simétricas:"
   ]
  },
  {
   "cell_type": "code",
   "execution_count": null,
   "metadata": {
    "deletable": false,
    "editable": false,
    "nbgrader": {
     "cell_type": "code",
     "checksum": "f0450aec413c905c4457b371b20084d4",
     "grade": false,
     "grade_id": "cell-80ab3b6e60b2f549",
     "locked": true,
     "schema_version": 3,
     "solution": false,
     "task": false
    }
   },
   "outputs": [],
   "source": [
    "for v in vs:\n",
    "    DF_norm2 = grad_sym(norm2, x, delta=1e-3)\n",
    "    parcial  = df_sym(norm2, x, v, h=1e-3)\n",
    "    print(DF_norm2 @ v - parcial)\n",
    "\n",
    "print()\n",
    "for v in vs:\n",
    "    DF_norm2 = grad_sym(estranha, x, delta=1e-3)\n",
    "    parcial  = df_sym(estranha, x, v, h=1e-3)\n",
    "    print(DF_norm2 @ v - parcial)"
   ]
  },
  {
   "cell_type": "markdown",
   "metadata": {},
   "source": [
    "O erro é menor, mas não apenas.\n",
    "O que acontece de especial no caso da norma 2?\n",
    "\n",
    "Dica: expanda a série de Taylor para ver qual o erro da derivada central."
   ]
  },
  {
   "cell_type": "markdown",
   "metadata": {
    "deletable": false,
    "nbgrader": {
     "cell_type": "markdown",
     "checksum": "670da6ee955239b6185bd4271c2e3c10",
     "grade": true,
     "grade_id": "cell-3a505f0c8892c673",
     "locked": false,
     "points": 3,
     "schema_version": 3,
     "solution": true,
     "task": false
    }
   },
   "source": [
    "YOUR ANSWER HERE"
   ]
  }
 ],
 "metadata": {
  "kernelspec": {
   "display_name": "Python 3 (ipykernel)",
   "language": "python",
   "name": "python3"
  },
  "language_info": {
   "codemirror_mode": {
    "name": "ipython",
    "version": 3
   },
   "file_extension": ".py",
   "mimetype": "text/x-python",
   "name": "python",
   "nbconvert_exporter": "python",
   "pygments_lexer": "ipython3",
   "version": "3.9.5"
  }
 },
 "nbformat": 4,
 "nbformat_minor": 2
}
