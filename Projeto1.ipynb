{
 "cells": [
  {
   "cell_type": "markdown",
   "id": "83971576",
   "metadata": {},
   "source": [
    "![CC-BY-SA](https://mirrors.creativecommons.org/presskit/buttons/88x31/svg/by-sa.svg)\n",
    "\n",
    "\n",
    "This notebook was created by [Bernardo Freitas Paulo da Costa](http://www.im.ufrj.br/bernardofpc),\n",
    "and is licensed under Creative Commons BY-SA."
   ]
  },
  {
   "cell_type": "markdown",
   "id": "4c30d1c3",
   "metadata": {},
   "source": [
    "Antes de enviar este Teste, verifique que tudo está funcionando como esperado.\n",
    "Por exemplo, **rode o código inteiro, do zero**.\n",
    "Para isso, vá no menu, escolha _Kernel_, depois _Restart & Run All_.\n",
    "\n",
    "Verifique, também, que você respondeu todas as questões:\n",
    "* as questões de código têm `YOUR CODE HERE` (e você pode apagar o `raise NotImplemented` ao incluir sua resposta)\n",
    "* as questões discursivas têm \"YOUR ANSWER HERE\"."
   ]
  },
  {
   "cell_type": "markdown",
   "id": "2b256a34",
   "metadata": {},
   "source": [
    "---"
   ]
  },
  {
   "cell_type": "code",
   "execution_count": null,
   "id": "a0b461cb",
   "metadata": {},
   "outputs": [],
   "source": [
    "import numpy as np\n",
    "import matplotlib.pyplot as plt"
   ]
  },
  {
   "cell_type": "markdown",
   "id": "64a0cd49",
   "metadata": {},
   "source": [
    "# Questão 1: Bisseção ao infinito\n",
    "\n",
    "Uma outra forma de encontrar raizes de $x e^x = y$ consiste em fazer uma bisseção \"até o infinito\".\n",
    "Vejamos como isso se aplica no caso de $+\\infty$.\n",
    "\n",
    "Como há um número **finito** de números de ponto flutuante que seu computador conhece,\n",
    "podemos usar uma progressão geométrica para tentar chegar no infinito.\n",
    "\n",
    "Se no intervalo $[a, a\\cdot r]$ a função não trocar de sinal, podemos tentar o intervalo\n",
    "$[a\\cdot r, a\\cdot r^2]$, e depois o intervalo $[a\\cdot r^2, a\\cdot r^3]$ e assim sucessivamente.\n",
    "\n",
    "## Questão 1.1: PGs ao infinito\n",
    "\n",
    "Escreva uma função que calcula o comprimento da PG $a r^n$ até chegar no infinito."
   ]
  },
  {
   "cell_type": "code",
   "execution_count": null,
   "id": "b4ddb2a2",
   "metadata": {
    "deletable": false,
    "nbgrader": {
     "cell_type": "code",
     "checksum": "b811e687dc12fcf07aa8f81b502bcc0e",
     "grade": false,
     "grade_id": "cell-c4d8baa587bac6d4",
     "locked": false,
     "schema_version": 3,
     "solution": true,
     "task": false
    }
   },
   "outputs": [],
   "source": [
    "def comprimento_pg(a, r):\n",
    "    \"\"\"Comprimento da PG de razão  r  começando em  a,  até chegar no +infinito de ponto flutuante\"\"\"\n",
    "    assert a > 0 and r > 1\n",
    "    a, r = float(a), float(r)\n",
    "    # YOUR CODE HERE\n",
    "    raise NotImplementedError()"
   ]
  },
  {
   "cell_type": "code",
   "execution_count": null,
   "id": "0535b1c6",
   "metadata": {
    "deletable": false,
    "editable": false,
    "nbgrader": {
     "cell_type": "code",
     "checksum": "e3d30f439c5b7be87076146883dd96d6",
     "grade": true,
     "grade_id": "cell-d738818c07c00d8c",
     "locked": true,
     "points": 1,
     "schema_version": 3,
     "solution": false,
     "task": false
    }
   },
   "outputs": [],
   "source": [
    "assert 1000 < comprimento_pg(1, 2.) < 2000"
   ]
  },
  {
   "cell_type": "code",
   "execution_count": null,
   "id": "d87f15fe",
   "metadata": {
    "deletable": false,
    "editable": false,
    "nbgrader": {
     "cell_type": "code",
     "checksum": "f2ec21cc2787db5ee9eec41193ece9b2",
     "grade": true,
     "grade_id": "cell-177b86067a2baf3b",
     "locked": true,
     "points": 1,
     "schema_version": 3,
     "solution": false,
     "task": false
    }
   },
   "outputs": [],
   "source": [
    "assert 250 < comprimento_pg(1, 10.) < 350"
   ]
  },
  {
   "cell_type": "code",
   "execution_count": null,
   "id": "64c32b52",
   "metadata": {
    "deletable": false,
    "editable": false,
    "nbgrader": {
     "cell_type": "code",
     "checksum": "16bb2149a37ce71cdebe78895accf530",
     "grade": true,
     "grade_id": "cell-2b3807501148637a",
     "locked": true,
     "points": 1,
     "schema_version": 3,
     "solution": false,
     "task": false
    }
   },
   "outputs": [],
   "source": [
    "assert 250 < comprimento_pg(1e10, 10.) < 350"
   ]
  },
  {
   "cell_type": "markdown",
   "id": "14fa100a",
   "metadata": {},
   "source": [
    "## Questão 1.2: Máximo de bisseções\n",
    "\n",
    "Quantas bisseções é possível fazer em um intervalo $[a,b]$ até chegar no limite de precisão do computador?"
   ]
  },
  {
   "cell_type": "code",
   "execution_count": null,
   "id": "8b9615ed",
   "metadata": {
    "deletable": false,
    "nbgrader": {
     "cell_type": "code",
     "checksum": "4ea44bd8d016b3726cd3347c4d4c7448",
     "grade": false,
     "grade_id": "cell-d1cc08dbefd29ef2",
     "locked": false,
     "schema_version": 3,
     "solution": true,
     "task": false
    }
   },
   "outputs": [],
   "source": [
    "def bissect_max(a, b):\n",
    "    \"\"\"Conta o número de bisseções no intervalo  [a, b]  até chegar na precisão de representação.\"\"\"\n",
    "    nbiss = 0\n",
    "    # YOUR CODE HERE\n",
    "    raise NotImplementedError()"
   ]
  },
  {
   "cell_type": "code",
   "execution_count": null,
   "id": "43fc1983",
   "metadata": {
    "deletable": false,
    "editable": false,
    "nbgrader": {
     "cell_type": "code",
     "checksum": "9b502d02a498a3a9e91a63496d396391",
     "grade": true,
     "grade_id": "cell-f1d46061b1a36689",
     "locked": true,
     "points": 1,
     "schema_version": 3,
     "solution": false,
     "task": false
    }
   },
   "outputs": [],
   "source": [
    "assert 50 <= bissect_max(1, 2) <= 56\n",
    "assert 50 <= bissect_max(1, 4) <= 56"
   ]
  },
  {
   "cell_type": "code",
   "execution_count": null,
   "id": "fcbd42d9",
   "metadata": {
    "deletable": false,
    "editable": false,
    "nbgrader": {
     "cell_type": "code",
     "checksum": "91b424d61087828d8a9fc27c485d9ba6",
     "grade": true,
     "grade_id": "cell-f2a4944177470fbb",
     "locked": true,
     "points": 1,
     "schema_version": 3,
     "solution": false,
     "task": false
    }
   },
   "outputs": [],
   "source": [
    "assert bissect_max(1,8) >= bissect_max(1,4)\n",
    "assert bissect_max(1,8) >= bissect_max(2,8)"
   ]
  },
  {
   "cell_type": "code",
   "execution_count": null,
   "id": "8ab24a58",
   "metadata": {
    "deletable": false,
    "editable": false,
    "nbgrader": {
     "cell_type": "code",
     "checksum": "8a5116fd3d3ae2c19e4d07652617aaa8",
     "grade": true,
     "grade_id": "cell-ac8baba898217b6f",
     "locked": true,
     "points": 1,
     "schema_version": 3,
     "solution": false,
     "task": false
    }
   },
   "outputs": [],
   "source": [
    "assert bissect_max(1,8) >= bissect_max(3,8)"
   ]
  },
  {
   "cell_type": "markdown",
   "id": "13c4c6fa",
   "metadata": {},
   "source": [
    "Porque é sempre verdade que `bissect_max(a,b) >= bissect_max(c,d)` se $[c,d] \\subset [a,b]$?"
   ]
  },
  {
   "cell_type": "markdown",
   "id": "c4ab2a8b",
   "metadata": {
    "deletable": false,
    "nbgrader": {
     "cell_type": "markdown",
     "checksum": "01c2ea85d91571e8954360a862f60828",
     "grade": true,
     "grade_id": "cell-93416178f2ffc8aa",
     "locked": false,
     "points": 2,
     "schema_version": 3,
     "solution": true,
     "task": false
    }
   },
   "source": [
    "YOUR ANSWER HERE"
   ]
  },
  {
   "cell_type": "markdown",
   "id": "e6559602",
   "metadata": {},
   "source": [
    "## Questão 1.3: Calibrando duas bisseções\n",
    "\n",
    "Qual razão $r$ da PG você usaria para encontrar uma raiz positiva,\n",
    "levando em conta\n",
    "- o número de bisseções para encontrar o intervalo; e\n",
    "- o número de bisseções para encontrar a raiz dentro do intervalo?\n",
    "\n",
    "Explique sua ideia na caixa abaixo, e faça as contas necessárias na caixa seguinte."
   ]
  },
  {
   "cell_type": "markdown",
   "id": "29d27cad",
   "metadata": {
    "deletable": false,
    "nbgrader": {
     "cell_type": "markdown",
     "checksum": "03e8139390f20a09acde20971689aee2",
     "grade": true,
     "grade_id": "cell-cdc5d304cb874a8b",
     "locked": false,
     "points": 2,
     "schema_version": 3,
     "solution": true,
     "task": false
    }
   },
   "source": [
    "YOUR ANSWER HERE"
   ]
  },
  {
   "cell_type": "code",
   "execution_count": null,
   "id": "13dece3e",
   "metadata": {
    "deletable": false,
    "nbgrader": {
     "cell_type": "code",
     "checksum": "d143ee78114b1b3fede985632b26a402",
     "grade": true,
     "grade_id": "cell-7b2b2ed147be726b",
     "locked": false,
     "points": 2,
     "schema_version": 3,
     "solution": true,
     "task": false
    }
   },
   "outputs": [],
   "source": [
    "# YOUR CODE HERE\n",
    "raise NotImplementedError()"
   ]
  },
  {
   "cell_type": "markdown",
   "id": "611d6f85",
   "metadata": {},
   "source": [
    "## Questão 1.4: \"Fase 0\"\n",
    "\n",
    "Agora, implemente uma função que encontra um intervalo onde há uma raiz de $f(x) = y$,\n",
    "sabendo que há uma raiz no intervalo $[1, +\\infty)$."
   ]
  },
  {
   "cell_type": "code",
   "execution_count": null,
   "id": "08a18dbb",
   "metadata": {
    "deletable": false,
    "nbgrader": {
     "cell_type": "code",
     "checksum": "d772dced7dd99981afdb6922bbf9db98",
     "grade": false,
     "grade_id": "cell-041d37d1e07388cd",
     "locked": false,
     "schema_version": 3,
     "solution": true,
     "task": false
    }
   },
   "outputs": [],
   "source": [
    "def fase0(f, y):\n",
    "    \"\"\"Retorna um intervalo onde há uma raiz de  f(x) = y.\"\"\"\n",
    "    # YOUR CODE HERE\n",
    "    raise NotImplementedError()"
   ]
  },
  {
   "cell_type": "code",
   "execution_count": null,
   "id": "70ede40e",
   "metadata": {
    "deletable": false,
    "editable": false,
    "nbgrader": {
     "cell_type": "code",
     "checksum": "7892487dfc11b480e48663da6e96856b",
     "grade": true,
     "grade_id": "cell-e4cdf4206efc804f",
     "locked": true,
     "points": 1,
     "schema_version": 3,
     "solution": false,
     "task": false
    }
   },
   "outputs": [],
   "source": [
    "def sqr(x):\n",
    "    return x**2\n",
    "\n",
    "a, b = fase0(sqr, 10)\n",
    "assert sqr(a) <= 10 <= sqr(b) or sqr(b) <= 10 <= sqr(a)"
   ]
  },
  {
   "cell_type": "code",
   "execution_count": null,
   "id": "697dcb98",
   "metadata": {
    "deletable": false,
    "editable": false,
    "nbgrader": {
     "cell_type": "code",
     "checksum": "78f2f14e60f0c2f96368460cf644624e",
     "grade": true,
     "grade_id": "cell-5fde738ed830b7bf",
     "locked": true,
     "points": 1,
     "schema_version": 3,
     "solution": false,
     "task": false
    }
   },
   "outputs": [],
   "source": [
    "def slow_pot(x):\n",
    "    return x**0.1\n",
    "\n",
    "a, b = fase0(slow_pot, 10)\n",
    "assert slow_pot(a) <= 10 <= slow_pot(b) or slow_pot(b) <= 10 <= slow_pot(a)"
   ]
  },
  {
   "cell_type": "code",
   "execution_count": null,
   "id": "d6af1ba9",
   "metadata": {
    "deletable": false,
    "editable": false,
    "nbgrader": {
     "cell_type": "code",
     "checksum": "ae2b6953cb17dacbb30b7025c66c86f5",
     "grade": true,
     "grade_id": "cell-31d91f4937ad3e8a",
     "locked": true,
     "points": 1,
     "schema_version": 3,
     "solution": false,
     "task": false
    }
   },
   "outputs": [],
   "source": [
    "def cauchy(x):\n",
    "    return 1/(1 + x**2)\n",
    "\n",
    "a, b = fase0(cauchy, 1e-10)\n",
    "assert cauchy(a) <= 1e-10 <= cauchy(b) or cauchy(b) <= 1e-10 <= cauchy(a)"
   ]
  },
  {
   "cell_type": "markdown",
   "id": "2a63e8f3",
   "metadata": {},
   "source": [
    "Agora, modifique a `fase0` para receber valores de $a$ e $r$ quaisquer.\n",
    "Isso permitirá começar a busca tanto para valores positivos como negativos,\n",
    "e também \"no infinito\" ou \"perto de zero\"."
   ]
  },
  {
   "cell_type": "code",
   "execution_count": null,
   "id": "cddc17f5",
   "metadata": {
    "deletable": false,
    "nbgrader": {
     "cell_type": "code",
     "checksum": "4a745c21a73947c00274be627e96afbd",
     "grade": false,
     "grade_id": "cell-58025fe0b66b2396",
     "locked": false,
     "schema_version": 3,
     "solution": true,
     "task": false
    }
   },
   "outputs": [],
   "source": [
    "def fase0_geral(f, y, a, r):\n",
    "    \"\"\"Retorna um intervalo contendo uma raiz de  f(x) = y,  usando a PG de termo inicial  a  e razão  r.\"\"\"\n",
    "    assert a != 0\n",
    "    assert r > 0 and abs(r) != 1\n",
    "    # YOUR CODE HERE\n",
    "    raise NotImplementedError()"
   ]
  },
  {
   "cell_type": "markdown",
   "id": "1bc4e86d",
   "metadata": {},
   "source": [
    "Explique os `assert`s iniciais."
   ]
  },
  {
   "cell_type": "markdown",
   "id": "5bf2c801",
   "metadata": {
    "deletable": false,
    "nbgrader": {
     "cell_type": "markdown",
     "checksum": "7186dcdbc7d1ca1e826d92dbd576db7b",
     "grade": true,
     "grade_id": "cell-5b71264c4743cbf5",
     "locked": false,
     "points": 2,
     "schema_version": 3,
     "solution": true,
     "task": false
    }
   },
   "source": [
    "YOUR ANSWER HERE"
   ]
  },
  {
   "cell_type": "code",
   "execution_count": null,
   "id": "b21ce1cd",
   "metadata": {
    "deletable": false,
    "editable": false,
    "nbgrader": {
     "cell_type": "code",
     "checksum": "193e4b69c8a2c793dac71d03138201ae",
     "grade": true,
     "grade_id": "cell-945fc3bf2f130ff1",
     "locked": true,
     "points": 1,
     "schema_version": 3,
     "solution": false,
     "task": false
    }
   },
   "outputs": [],
   "source": [
    "a, b = fase0_geral(sqr, 10, -1, 2)\n",
    "assert sqr(a) <= 10 <= sqr(b) or sqr(b) <= 10 <= sqr(a)"
   ]
  },
  {
   "cell_type": "code",
   "execution_count": null,
   "id": "8f02af0e",
   "metadata": {
    "deletable": false,
    "editable": false,
    "nbgrader": {
     "cell_type": "code",
     "checksum": "025f211f32d02cc342ada5e6fabec61d",
     "grade": true,
     "grade_id": "cell-287e669d1e97c5a5",
     "locked": true,
     "points": 1,
     "schema_version": 3,
     "solution": false,
     "task": false
    }
   },
   "outputs": [],
   "source": [
    "def xlogx(x):\n",
    "    return x * np.log(x)\n",
    "\n",
    "a, b = fase0_geral(xlogx, -1e-20, 0.5, 0.1)\n",
    "assert xlogx(a) <= -1e-20 <= xlogx(b) or xlogx(b) <= -1e-20 <= xlogx(a)"
   ]
  },
  {
   "cell_type": "markdown",
   "id": "5773beda",
   "metadata": {},
   "source": [
    "## Questão 1.5: Bisseção final\n",
    "\n",
    "Modifique o código da Bisseção para encontrar a raiz de $f(x) = y$, até a precisão do computador,\n",
    "a partir dos termos de uma PG.\n",
    "\n",
    "Retorne, também, o número de pontos onde você terá avaliado $f$ - isso vai necessitar alterar a função de fase 0."
   ]
  },
  {
   "cell_type": "code",
   "execution_count": null,
   "id": "dd4248ee",
   "metadata": {
    "deletable": false,
    "nbgrader": {
     "cell_type": "code",
     "checksum": "450f91c6142fe10f15c0d2e549bdd3d5",
     "grade": false,
     "grade_id": "cell-a1349ad9bf427a3c",
     "locked": false,
     "schema_version": 3,
     "solution": true,
     "task": false
    }
   },
   "outputs": [],
   "source": [
    "def fase0_geral(f, y, a, r):\n",
    "    \"\"\"Retorna um intervalo contendo uma raiz de  f(x) = y,  usando a PG de termo inicial  a  e razão  r.\"\"\"\n",
    "    assert a != 0\n",
    "    assert r > 0 and abs(r) != 1\n",
    "    # YOUR CODE HERE\n",
    "    raise NotImplementedError()\n",
    "    \n",
    "def bisseção_PG(f, y, a, r):\n",
    "    \"\"\"Solução até a precisão da máquina para  f(x) = y.\"\"\"\n",
    "    # YOUR CODE HERE\n",
    "    raise NotImplementedError()"
   ]
  },
  {
   "cell_type": "code",
   "execution_count": null,
   "id": "4dffddf1",
   "metadata": {
    "deletable": false,
    "editable": false,
    "nbgrader": {
     "cell_type": "code",
     "checksum": "b49df4251555160d37f70c9689e4eac0",
     "grade": true,
     "grade_id": "cell-a47d44faa3f14dd6",
     "locked": true,
     "points": 2,
     "schema_version": 3,
     "solution": false,
     "task": false
    }
   },
   "outputs": [],
   "source": [
    "r, nevals = bisseção_PG(sqr, 1000, 1, 2)\n",
    "assert abs(sqr(r) - 1000) < 1e-13\n",
    "assert 50 <= nevals <= 100"
   ]
  },
  {
   "cell_type": "code",
   "execution_count": null,
   "id": "73d68946",
   "metadata": {
    "deletable": false,
    "editable": false,
    "nbgrader": {
     "cell_type": "code",
     "checksum": "4c3c25a59ca460c748fabca1db7fc5aa",
     "grade": true,
     "grade_id": "cell-c473465dda9ff5e7",
     "locked": true,
     "points": 1,
     "schema_version": 3,
     "solution": false,
     "task": false
    }
   },
   "outputs": [],
   "source": [
    "r, nevals = bisseção_PG(xlogx, 1000, 1, 3)\n",
    "assert abs(xlogx(r) - 1000) < 1e-3\n",
    "assert 50 <= nevals <= 100"
   ]
  },
  {
   "cell_type": "code",
   "execution_count": null,
   "id": "2e491da8",
   "metadata": {
    "deletable": false,
    "editable": false,
    "nbgrader": {
     "cell_type": "code",
     "checksum": "86ebceea9c789056ce2e570546957def",
     "grade": true,
     "grade_id": "cell-913e3c644f4f2ae3",
     "locked": true,
     "points": 1,
     "schema_version": 3,
     "solution": false,
     "task": false
    }
   },
   "outputs": [],
   "source": [
    "def xex(x):\n",
    "    return x * np.exp(x)\n",
    "\n",
    "r, nevals = bisseção_PG(xex, -1e-30, -1, 10)\n",
    "assert abs(xex(r) + 1e-30) < 1e-40\n",
    "assert 50 <= nevals <= 70"
   ]
  },
  {
   "cell_type": "code",
   "execution_count": null,
   "id": "0f97f47a",
   "metadata": {
    "deletable": false,
    "editable": false,
    "nbgrader": {
     "cell_type": "code",
     "checksum": "2f90208a0f40026b37a26438df743943",
     "grade": true,
     "grade_id": "cell-b1631c7326b9eb7a",
     "locked": true,
     "points": 1,
     "schema_version": 3,
     "solution": false,
     "task": false
    }
   },
   "outputs": [],
   "source": [
    "r, nevals = bisseção_PG(xlogx, -1e-20, 0.5, 0.1)\n",
    "assert abs(xlogx(r) + 1e-20) < 1e-30\n",
    "assert 50 <= nevals <= 100"
   ]
  },
  {
   "cell_type": "markdown",
   "id": "f2679164",
   "metadata": {},
   "source": [
    "Porque a tolerância dos últimos testes é tão pequena?"
   ]
  },
  {
   "cell_type": "markdown",
   "id": "0837f505",
   "metadata": {
    "deletable": false,
    "nbgrader": {
     "cell_type": "markdown",
     "checksum": "8ba806297f9c5eed9be2c37ab37b97c4",
     "grade": true,
     "grade_id": "cell-45e0e0366ba0a5de",
     "locked": false,
     "points": 1,
     "schema_version": 3,
     "solution": true,
     "task": false
    }
   },
   "source": [
    "YOUR ANSWER HERE"
   ]
  },
  {
   "cell_type": "markdown",
   "id": "40a5f67a",
   "metadata": {},
   "source": [
    "## Questão 1.6: Generalizando ainda mais\n",
    "\n",
    "Como você adaptaria a busca de um intervalo para encontrar uma raiz de $f(x) = y$ para funções que não são monótonas?\n",
    "\n",
    "Algumas ideias para pensar:\n",
    "\n",
    "- $x \\cos(x)$\n",
    "- $x + \\sin(x)$"
   ]
  },
  {
   "cell_type": "markdown",
   "id": "60923baa",
   "metadata": {
    "deletable": false,
    "nbgrader": {
     "cell_type": "markdown",
     "checksum": "50701947db0d7b1cb1c51c75a0690bd5",
     "grade": true,
     "grade_id": "cell-fdacb4aa36b4346c",
     "locked": false,
     "points": 2,
     "schema_version": 3,
     "solution": true,
     "task": false
    }
   },
   "source": [
    "YOUR ANSWER HERE"
   ]
  },
  {
   "cell_type": "markdown",
   "id": "e42fee2f",
   "metadata": {},
   "source": [
    "# Questão 2: O Método da Secante\n",
    "\n",
    "Uma variante do método de Newton, que dispensa o uso da derivada,\n",
    "é o método da secante.\n",
    "\n",
    "A ideia é simples: em vez de usar a tangente, dada pela derivada $f'(x)$,\n",
    "o método da secante usa 2 pontos consecutivos $x_0$ e $x_1$ para calcular uma **secante** ao gráfico de $f$,\n",
    "e com isto determinar uma interseção desta reta com o eixo dos $x$.\n",
    "Esta interseção é chamada de $x_2$, e o método prossegue construindo $x_3$ a partir de $x_1$ e $x_2$\n",
    "e assim por diante."
   ]
  },
  {
   "cell_type": "markdown",
   "id": "0bd926ca",
   "metadata": {},
   "source": [
    "## Questão 2.1: Equações\n",
    "\n",
    "Dê a equação da reta secante a $f$, passando pelos pontos $x_0$ e $x_1$."
   ]
  },
  {
   "cell_type": "markdown",
   "id": "6d8bb7e2",
   "metadata": {
    "deletable": false,
    "nbgrader": {
     "cell_type": "markdown",
     "checksum": "4d579764b004be4216e10efc133b13f2",
     "grade": true,
     "grade_id": "cell-1eedd3eb4d36b88f",
     "locked": false,
     "points": 2,
     "schema_version": 3,
     "solution": true,
     "task": false
    }
   },
   "source": [
    "YOUR ANSWER HERE"
   ]
  },
  {
   "cell_type": "markdown",
   "id": "8b4f4fea",
   "metadata": {},
   "source": [
    "Deduza a equação do \"passo da secante\", que a partir $x_0$ e $x_1$ calcula a raiz da secante ao gráfico de $f$."
   ]
  },
  {
   "cell_type": "markdown",
   "id": "ad0a38a4",
   "metadata": {
    "deletable": false,
    "nbgrader": {
     "cell_type": "markdown",
     "checksum": "17ce2d83adc3369aa6ca03570dd844c3",
     "grade": true,
     "grade_id": "cell-89fe6d21bb0d4154",
     "locked": false,
     "points": 1,
     "schema_version": 3,
     "solution": true,
     "task": false
    }
   },
   "source": [
    "YOUR ANSWER HERE"
   ]
  },
  {
   "cell_type": "markdown",
   "id": "fde98416",
   "metadata": {},
   "source": [
    "O método da secante é inspirado no método de Newton.\n",
    "Explique porque ele também pode entrar em _loop_ infinito."
   ]
  },
  {
   "cell_type": "markdown",
   "id": "718e61c1",
   "metadata": {
    "deletable": false,
    "nbgrader": {
     "cell_type": "markdown",
     "checksum": "a69c486567ff0ed4298e5e42e893b20e",
     "grade": true,
     "grade_id": "cell-8553d8123bdac585",
     "locked": false,
     "points": 2,
     "schema_version": 3,
     "solution": true,
     "task": false
    }
   },
   "source": [
    "YOUR ANSWER HERE"
   ]
  },
  {
   "cell_type": "markdown",
   "id": "11fbb687",
   "metadata": {},
   "source": [
    "## Questão 2.2: Implementação\n",
    "\n",
    "Escreva o método da secante para encontrar uma raiz de $f$.\n",
    "\n",
    "Retorne todos os pontos visitados pelo método."
   ]
  },
  {
   "cell_type": "code",
   "execution_count": null,
   "id": "b664f04d",
   "metadata": {
    "deletable": false,
    "nbgrader": {
     "cell_type": "code",
     "checksum": "be605f1aff4c09290a66fffec94dcaf9",
     "grade": false,
     "grade_id": "cell-c0fbfc192b4aedfb",
     "locked": false,
     "schema_version": 3,
     "solution": true,
     "task": false
    }
   },
   "outputs": [],
   "source": [
    "def secante(f, x0, x1, xtol=1e-8, ytol=1e-8, maxiter=100):\n",
    "    \"\"\"Encontra uma raiz de  f,  começando pelos pontos  x0 e x1,  pelo método da secante.\"\"\"\n",
    "    # YOUR CODE HERE\n",
    "    raise NotImplementedError()"
   ]
  },
  {
   "cell_type": "code",
   "execution_count": null,
   "id": "8ae0b405",
   "metadata": {
    "deletable": false,
    "editable": false,
    "nbgrader": {
     "cell_type": "code",
     "checksum": "b1d2e96ecf150b8b27df4afec816ab7e",
     "grade": true,
     "grade_id": "cell-b2d65d0ef437e218",
     "locked": true,
     "points": 2,
     "schema_version": 3,
     "solution": false,
     "task": false
    }
   },
   "outputs": [],
   "source": [
    "def f2(x):\n",
    "    return x**2 - 2\n",
    "\n",
    "pts = secante(f2, 0, 1)\n",
    "assert 5 <= len(pts) <= 10\n",
    "assert abs(f2(pts[-1])) <= 1e-5"
   ]
  },
  {
   "cell_type": "code",
   "execution_count": null,
   "id": "ea7f878d",
   "metadata": {
    "deletable": false,
    "editable": false,
    "nbgrader": {
     "cell_type": "code",
     "checksum": "f8f1a905a8d07acedd052986f4b5858f",
     "grade": true,
     "grade_id": "cell-10e8cfbc06341a84",
     "locked": true,
     "points": 2,
     "schema_version": 3,
     "solution": false,
     "task": false
    }
   },
   "outputs": [],
   "source": [
    "def f3(x):\n",
    "    return x**3 - 3\n",
    "\n",
    "pts = secante(f3, 0, 1)\n",
    "\n",
    "assert 8 <= len(pts) <= 12\n",
    "assert abs(f3(pts[-1])) <= 1e-5"
   ]
  },
  {
   "cell_type": "markdown",
   "id": "1dc3e616",
   "metadata": {},
   "source": [
    "## Questão 2.3: Gráficos\n",
    "\n",
    "Faça o gráfico da distância (em valor absoluto)\n",
    "entre os pontos produzidos pelo método da secante e a raiz verdadeira,\n",
    "para as funções $f2$ e $f3$ acima."
   ]
  },
  {
   "cell_type": "code",
   "execution_count": null,
   "id": "0f28feb7",
   "metadata": {
    "deletable": false,
    "nbgrader": {
     "cell_type": "code",
     "checksum": "368aefb75984d95aa191bbde70a3dbda",
     "grade": true,
     "grade_id": "cell-1a8126f735c32bfe",
     "locked": false,
     "points": 2,
     "schema_version": 3,
     "solution": true,
     "task": false
    }
   },
   "outputs": [],
   "source": [
    "# YOUR CODE HERE\n",
    "raise NotImplementedError()\n",
    "\n",
    "ax = plt.gca()\n",
    "plt.show()"
   ]
  },
  {
   "cell_type": "code",
   "execution_count": null,
   "id": "07500378",
   "metadata": {
    "deletable": false,
    "editable": false,
    "nbgrader": {
     "cell_type": "code",
     "checksum": "ec4c604f06e1cb761ad5f495df6ee58b",
     "grade": true,
     "grade_id": "cell-282f1138902672b7",
     "locked": true,
     "points": 2,
     "schema_version": 3,
     "solution": false,
     "task": false
    }
   },
   "outputs": [],
   "source": [
    "assert len(ax.lines) == 2\n",
    "assert len(ax.get_legend().texts) == 2"
   ]
  },
  {
   "cell_type": "markdown",
   "id": "b0711bad",
   "metadata": {},
   "source": [
    "De que forma(s) este gráfico parece com o equivalente para o Método de Newton?"
   ]
  },
  {
   "cell_type": "markdown",
   "id": "c61640e5",
   "metadata": {
    "deletable": false,
    "nbgrader": {
     "cell_type": "markdown",
     "checksum": "ffe721127faf25d32f300ee6b9fb271a",
     "grade": true,
     "grade_id": "cell-ee7f5cb912169859",
     "locked": false,
     "points": 2,
     "schema_version": 3,
     "solution": true,
     "task": false
    }
   },
   "source": [
    "YOUR ANSWER HERE"
   ]
  },
  {
   "cell_type": "markdown",
   "id": "303498e6",
   "metadata": {},
   "source": [
    "## Questão 2.4: Generalização\n",
    "\n",
    "Agora, transforme o seu código para encontrar uma raiz de $f(x) = y$."
   ]
  },
  {
   "cell_type": "code",
   "execution_count": null,
   "id": "b33c90ae",
   "metadata": {
    "deletable": false,
    "nbgrader": {
     "cell_type": "code",
     "checksum": "38f4b10e4422f38970931b9395bc86b9",
     "grade": false,
     "grade_id": "cell-37ecabe4fbd2ab4d",
     "locked": false,
     "schema_version": 3,
     "solution": true,
     "task": false
    }
   },
   "outputs": [],
   "source": [
    "def secante_inv(f, y, x0, x1, xtol=1e-8, ytol=1e-8, maxiter=100):\n",
    "    \"\"\"Encontra uma solução de  f(x) = y,  começando pelos pontos  x0 e x1,  pelo método da secante.\"\"\"\n",
    "    # YOUR CODE HERE\n",
    "    raise NotImplementedError()"
   ]
  },
  {
   "cell_type": "code",
   "execution_count": null,
   "id": "61c413fd",
   "metadata": {
    "deletable": false,
    "editable": false,
    "nbgrader": {
     "cell_type": "code",
     "checksum": "a3797d32e7c37dcd8f6755113f204a46",
     "grade": true,
     "grade_id": "cell-2a826bf7700bb0c1",
     "locked": true,
     "points": 2,
     "schema_version": 3,
     "solution": false,
     "task": false
    }
   },
   "outputs": [],
   "source": [
    "pts = secante_inv(sqr, 2, 0, 1)\n",
    "pts_more = secante_inv(sqr, 2, 0, 1, xtol=1e-15, ytol=1e-15)\n",
    "\n",
    "assert len(pts) < len(pts_more)\n",
    "assert abs(pts[-1]**2 - 2) > abs(pts_more[-1]**2 - 2)"
   ]
  },
  {
   "cell_type": "markdown",
   "id": "94d8a895",
   "metadata": {},
   "source": [
    "Explique porque estes dois testes fazem sentido."
   ]
  },
  {
   "cell_type": "markdown",
   "id": "f54e7928",
   "metadata": {
    "deletable": false,
    "nbgrader": {
     "cell_type": "markdown",
     "checksum": "e7a2214b88ea6f45f0e17bec2b3abed1",
     "grade": true,
     "grade_id": "cell-d68950348b9d12ac",
     "locked": false,
     "points": 2,
     "schema_version": 3,
     "solution": true,
     "task": false
    }
   },
   "source": [
    "YOUR ANSWER HERE"
   ]
  },
  {
   "cell_type": "code",
   "execution_count": null,
   "id": "4858a546",
   "metadata": {
    "deletable": false,
    "editable": false,
    "nbgrader": {
     "cell_type": "code",
     "checksum": "d0ffe03e3420e559d6ae80d07b652b9c",
     "grade": true,
     "grade_id": "cell-d46c38019a769e5c",
     "locked": true,
     "points": 1,
     "schema_version": 3,
     "solution": false,
     "task": false
    }
   },
   "outputs": [],
   "source": [
    "assert len(pts_more) == len(pts) + 1"
   ]
  },
  {
   "cell_type": "markdown",
   "id": "2baad518",
   "metadata": {},
   "source": [
    "Explique porque este teste mostra a velocidade do método da secante."
   ]
  },
  {
   "cell_type": "markdown",
   "id": "f11e204f",
   "metadata": {
    "deletable": false,
    "nbgrader": {
     "cell_type": "markdown",
     "checksum": "02463ec64d4184c21b4cc8b7bb8d92d9",
     "grade": true,
     "grade_id": "cell-d3d4b8bf63db3bdb",
     "locked": false,
     "points": 2,
     "schema_version": 3,
     "solution": true,
     "task": false
    }
   },
   "source": [
    "YOUR ANSWER HERE"
   ]
  },
  {
   "cell_type": "markdown",
   "id": "248389f5",
   "metadata": {},
   "source": [
    "## Questão 2.5: Mais gráficos!\n",
    "\n",
    "Para vários valores de $y$, faça em um mesmo eixo o gráfico da distância até a raiz\n",
    "para o método da secante resolver $x^2 = y$, começando de $(0, 1)$.\n",
    "\n",
    "Em particular, encontre valores de $y$ que façam que o método da secante demore (bem) mais do que para $y = 2$."
   ]
  },
  {
   "cell_type": "code",
   "execution_count": null,
   "id": "1dc9c744",
   "metadata": {
    "deletable": false,
    "nbgrader": {
     "cell_type": "code",
     "checksum": "94306e8436d2551db582a6e2cde572a1",
     "grade": true,
     "grade_id": "cell-a638b886004599a3",
     "locked": false,
     "points": 2,
     "schema_version": 3,
     "solution": true,
     "task": false
    }
   },
   "outputs": [],
   "source": [
    "# YOUR CODE HERE\n",
    "raise NotImplementedError()\n",
    "\n",
    "ax = plt.gca()"
   ]
  },
  {
   "cell_type": "code",
   "execution_count": null,
   "id": "1660ade2",
   "metadata": {
    "deletable": false,
    "editable": false,
    "nbgrader": {
     "cell_type": "code",
     "checksum": "fb38ce5382170ff93060c5d42a333bd3",
     "grade": true,
     "grade_id": "cell-a1a0f56083060410",
     "locked": true,
     "points": 1,
     "schema_version": 3,
     "solution": false,
     "task": false
    }
   },
   "outputs": [],
   "source": [
    "assert len(ax.lines) >= 5"
   ]
  },
  {
   "cell_type": "code",
   "execution_count": null,
   "id": "803229ec",
   "metadata": {
    "deletable": false,
    "editable": false,
    "nbgrader": {
     "cell_type": "code",
     "checksum": "cacb8d0c2e403891bb689749b06b7088",
     "grade": true,
     "grade_id": "cell-4eab8247581ab2cd",
     "locked": true,
     "points": 1,
     "schema_version": 3,
     "solution": false,
     "task": false
    }
   },
   "outputs": [],
   "source": [
    "assert len(ax.get_legend().texts) >= 5"
   ]
  },
  {
   "cell_type": "code",
   "execution_count": null,
   "id": "e56935f3",
   "metadata": {
    "deletable": false,
    "editable": false,
    "nbgrader": {
     "cell_type": "code",
     "checksum": "be0bd7c43554a921411a9e03513eab64",
     "grade": true,
     "grade_id": "cell-09546580c7794f3d",
     "locked": true,
     "points": 1,
     "schema_version": 3,
     "solution": false,
     "task": false
    }
   },
   "outputs": [],
   "source": [
    "xmax = max(max(l.get_xdata()) for l in ax.lines)\n",
    "assert xmax >= 18"
   ]
  },
  {
   "cell_type": "markdown",
   "id": "926122dd",
   "metadata": {},
   "source": [
    "Explique o comportamento que observado."
   ]
  },
  {
   "cell_type": "markdown",
   "id": "9b599cdd",
   "metadata": {
    "deletable": false,
    "nbgrader": {
     "cell_type": "markdown",
     "checksum": "1da52c2361f00426a3332a6d18e43bd6",
     "grade": true,
     "grade_id": "cell-07cedca930738508",
     "locked": false,
     "points": 2,
     "schema_version": 3,
     "solution": true,
     "task": false
    }
   },
   "source": [
    "YOUR ANSWER HERE"
   ]
  },
  {
   "cell_type": "markdown",
   "id": "86c80dd8",
   "metadata": {},
   "source": [
    "## Questão 2.6: Bugs finais\n",
    "\n",
    "Observe o código abaixo:"
   ]
  },
  {
   "cell_type": "code",
   "execution_count": null,
   "id": "280cd3de",
   "metadata": {
    "deletable": false,
    "editable": false,
    "nbgrader": {
     "cell_type": "code",
     "checksum": "8c272caa101fb97eb0819471ef97746e",
     "grade": false,
     "grade_id": "cell-38d2ebb71c52ccf3",
     "locked": true,
     "schema_version": 3,
     "solution": false,
     "task": false
    }
   },
   "outputs": [],
   "source": [
    "secante_inv(xex, 100, 0, 1)"
   ]
  },
  {
   "cell_type": "markdown",
   "id": "c18f74a0",
   "metadata": {},
   "source": [
    "Porquê o método da secante terminou longe demais de uma raiz?"
   ]
  },
  {
   "cell_type": "markdown",
   "id": "db399c18",
   "metadata": {
    "deletable": false,
    "nbgrader": {
     "cell_type": "markdown",
     "checksum": "3e0069179f465d15ade1df8a01d0d99a",
     "grade": true,
     "grade_id": "cell-220cfe43327adf0f",
     "locked": false,
     "points": 2,
     "schema_version": 3,
     "solution": true,
     "task": false
    }
   },
   "source": [
    "YOUR ANSWER HERE"
   ]
  },
  {
   "cell_type": "markdown",
   "id": "d3c69482",
   "metadata": {},
   "source": [
    "O que poderia ser feito para evitar este tipo de situação?"
   ]
  },
  {
   "cell_type": "markdown",
   "id": "dc3b35de",
   "metadata": {
    "deletable": false,
    "nbgrader": {
     "cell_type": "markdown",
     "checksum": "8e9314217b8bcf97e1af3d58d5e59f19",
     "grade": true,
     "grade_id": "cell-a487e6248cbf174e",
     "locked": false,
     "points": 2,
     "schema_version": 3,
     "solution": true,
     "task": false
    }
   },
   "source": [
    "YOUR ANSWER HERE"
   ]
  }
 ],
 "metadata": {
  "kernelspec": {
   "display_name": "Python 3 (ipykernel)",
   "language": "python",
   "name": "python3"
  },
  "language_info": {
   "codemirror_mode": {
    "name": "ipython",
    "version": 3
   },
   "file_extension": ".py",
   "mimetype": "text/x-python",
   "name": "python",
   "nbconvert_exporter": "python",
   "pygments_lexer": "ipython3",
   "version": "3.9.5"
  }
 },
 "nbformat": 4,
 "nbformat_minor": 5
}
