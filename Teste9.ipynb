{
 "cells": [
  {
   "cell_type": "markdown",
   "metadata": {},
   "source": [
    "![CC-BY-SA](https://mirrors.creativecommons.org/presskit/buttons/88x31/svg/by-sa.svg)\n",
    "\n",
    "\n",
    "This notebook was created by [Bernardo Freitas Paulo da Costa](http://www.im.ufrj.br/bernardofpc),\n",
    "and is licensed under Creative Commons BY-SA."
   ]
  },
  {
   "cell_type": "markdown",
   "metadata": {},
   "source": [
    "Antes de enviar este Teste, verifique que tudo está funcionando como esperado.\n",
    "Por exemplo, **rode o código inteiro, do zero**.\n",
    "Para isso, vá no menu, escolha _Kernel_, depois _Restart & Run All_.\n",
    "\n",
    "Verifique, também, que você respondeu todas as questões:\n",
    "* as questões de código têm `YOUR CODE HERE` (e você pode apagar o `raise NotImplemented` ao incluir sua resposta)\n",
    "* as questões discursivas têm \"YOUR ANSWER HERE\"."
   ]
  },
  {
   "cell_type": "markdown",
   "metadata": {},
   "source": [
    "---"
   ]
  },
  {
   "cell_type": "code",
   "execution_count": null,
   "metadata": {
    "deletable": false,
    "editable": false,
    "nbgrader": {
     "cell_type": "code",
     "checksum": "996644c3f8e59eb3b377477f093873ec",
     "grade": false,
     "grade_id": "cell-4b972418922ac8db",
     "locked": true,
     "schema_version": 3,
     "solution": false,
     "task": false
    }
   },
   "outputs": [],
   "source": [
    "import numpy as np\n",
    "import matplotlib.pyplot as plt\n",
    "\n",
    "from numpy.linalg import norm # Vamos usar muito !"
   ]
  },
  {
   "cell_type": "markdown",
   "metadata": {},
   "source": [
    "# Mínimos quadrados _vs_ Equações Normais\n",
    "\n",
    "Vimos duas formas de resolver um problema de regressão:\n",
    "- encontrando a solução de mínimos quadrados para $Xp = b$;\n",
    "- resolvendo as equações normais $X^\\top X p = X^\\top b$.\n",
    "\n",
    "Neste teste, veremos como isto pode gerar diferenças no cálculo de $p$."
   ]
  },
  {
   "cell_type": "markdown",
   "metadata": {},
   "source": [
    "# Questão 1: Comparando soluções\n",
    "\n",
    "Sejam dados uma matriz $A$, $m \\times n$, e um vetor $b$.\n",
    "\n",
    "Escreva uma função que retorna as duas soluções do problema de regressão,\n",
    "a primeira usando `np.linalg.solve` e a segunda, `np.linalg.lstsq`."
   ]
  },
  {
   "cell_type": "code",
   "execution_count": null,
   "metadata": {
    "deletable": false,
    "nbgrader": {
     "cell_type": "code",
     "checksum": "5ef88b5efc987ab7687996e5c4c9e4f3",
     "grade": false,
     "grade_id": "cell-619914fa122b3f3e",
     "locked": false,
     "schema_version": 3,
     "solution": true,
     "task": false
    }
   },
   "outputs": [],
   "source": [
    "def duas_sols(A,b):\n",
    "    # YOUR CODE HERE\n",
    "    raise NotImplementedError()"
   ]
  },
  {
   "cell_type": "code",
   "execution_count": null,
   "metadata": {
    "deletable": false,
    "editable": false,
    "nbgrader": {
     "cell_type": "code",
     "checksum": "40f99f3eebc1934d23bb6c91bc786396",
     "grade": true,
     "grade_id": "cell-dcfc9177dd3592ef",
     "locked": true,
     "points": 1,
     "schema_version": 3,
     "solution": false,
     "task": false
    }
   },
   "outputs": [],
   "source": [
    "A = np.array([[0,1],[1,1],[2,1],[2,2],[3,2],[4,4]])\n",
    "b = [1,2,3,4,5,6]\n",
    "\n",
    "x1, x2 = duas_sols(A,b)\n",
    "assert np.allclose(x1,x2)"
   ]
  },
  {
   "cell_type": "code",
   "execution_count": null,
   "metadata": {
    "deletable": false,
    "editable": false,
    "nbgrader": {
     "cell_type": "code",
     "checksum": "da2f9b11f9b0626522b716e4554ddd80",
     "grade": true,
     "grade_id": "cell-d5af1b60a0434c9a",
     "locked": true,
     "points": 1,
     "schema_version": 3,
     "solution": false,
     "task": false
    }
   },
   "outputs": [],
   "source": [
    "A = np.array([[0,1],[1,1],[2,1],[2,2],[3,2],[4,4]])\n",
    "b = [0,1,0,1,0,1]\n",
    "\n",
    "x1, x2 = duas_sols(A,b)\n",
    "assert np.allclose(x1,x2)"
   ]
  },
  {
   "cell_type": "code",
   "execution_count": null,
   "metadata": {
    "deletable": false,
    "editable": false,
    "nbgrader": {
     "cell_type": "code",
     "checksum": "ab5c63bed1454ab642cceec45f3d0e0f",
     "grade": true,
     "grade_id": "cell-3c4e79e30f91bbb5",
     "locked": true,
     "points": 1,
     "schema_version": 3,
     "solution": false,
     "task": false
    }
   },
   "outputs": [],
   "source": [
    "A = np.array([[0,1],[1,1],[2,1],[2,2],[3,2],[4,4]])\n",
    "b = [1,1,1,0,0,0]\n",
    "\n",
    "x1, x2 = duas_sols(A,b)\n",
    "\n",
    "assert norm(x1-x2) < 1e-14"
   ]
  },
  {
   "cell_type": "markdown",
   "metadata": {},
   "source": [
    "Ao resolver um problema de regressão, a medida \"oficial\" é o **erro de regressão**.\n",
    "Assim, poderia muito bem haver duas soluções $x_1$ e $x_2$, diferentes,\n",
    "mas tais que $\\|Ax_1 - b\\|$ e $\\|Ax_2 - b\\|$ fossem iguais.\n",
    "\n",
    "Complete a sua função para retornar, também, o erro da regressão, para cada uma das soluções.\n",
    "Retorne duas tuplas, uma com as 2 soluções, a segunda com os 2 erros."
   ]
  },
  {
   "cell_type": "code",
   "execution_count": null,
   "metadata": {
    "deletable": false,
    "nbgrader": {
     "cell_type": "code",
     "checksum": "762d5af230a9ea138712a325a2feab24",
     "grade": false,
     "grade_id": "cell-6e8af0f9e84cc6e1",
     "locked": false,
     "schema_version": 3,
     "solution": true,
     "task": false
    }
   },
   "outputs": [],
   "source": [
    "def duas_sols_erros(A,b):\n",
    "    # YOUR CODE HERE\n",
    "    raise NotImplementedError()"
   ]
  },
  {
   "cell_type": "code",
   "execution_count": null,
   "metadata": {
    "deletable": false,
    "editable": false,
    "nbgrader": {
     "cell_type": "code",
     "checksum": "b530d93c0cf6346444056939f1ef967a",
     "grade": true,
     "grade_id": "cell-9f4394264df2fed8",
     "locked": true,
     "points": 1,
     "schema_version": 3,
     "solution": false,
     "task": false
    }
   },
   "outputs": [],
   "source": [
    "A = np.array([[0,1],[1,1],[2,1],[2,2],[3,2],[4,4]])\n",
    "b = [6,5,4,3,2,1]\n",
    "\n",
    "(x1, x2), (e1, e2) = duas_sols_erros(A,b)\n",
    "assert np.allclose(x1,x2)\n",
    "assert 7 < e1 < 8\n",
    "assert 7 < e2 < 8"
   ]
  },
  {
   "cell_type": "markdown",
   "metadata": {},
   "source": [
    "Calcule os erros de regressão para cada um dos casos anteriores,\n",
    "e também a diferença entre eles."
   ]
  },
  {
   "cell_type": "code",
   "execution_count": null,
   "metadata": {
    "deletable": false,
    "nbgrader": {
     "cell_type": "code",
     "checksum": "83c4531537394d5081af28c1e5484156",
     "grade": true,
     "grade_id": "cell-3721ad42f1c32cef",
     "locked": false,
     "points": 2,
     "schema_version": 3,
     "solution": true,
     "task": false
    }
   },
   "outputs": [],
   "source": [
    "# YOUR CODE HERE\n",
    "raise NotImplementedError()"
   ]
  },
  {
   "cell_type": "markdown",
   "metadata": {},
   "source": [
    "O que você observa?"
   ]
  },
  {
   "cell_type": "markdown",
   "metadata": {
    "deletable": false,
    "nbgrader": {
     "cell_type": "markdown",
     "checksum": "6ebae613dff616263f131c5fd1953a75",
     "grade": true,
     "grade_id": "cell-2ab4ef9a311aee18",
     "locked": false,
     "points": 1,
     "schema_version": 3,
     "solution": true,
     "task": false
    }
   },
   "source": [
    "YOUR ANSWER HERE"
   ]
  },
  {
   "cell_type": "markdown",
   "metadata": {},
   "source": [
    "# Questão 2: Analisando muitos casos\n",
    "\n",
    "Para entender o comportamento médio, vamos gerar vetores $b$ aleatórios.\n",
    "\n",
    "Compare, com um histograma, os erros de regressão, para 1000 vetores $b$ aleatórios, e a matriz $A$ acima."
   ]
  },
  {
   "cell_type": "code",
   "execution_count": null,
   "metadata": {
    "deletable": false,
    "nbgrader": {
     "cell_type": "code",
     "checksum": "583df86bc3c4b24eac3d9bfcc1337cff",
     "grade": true,
     "grade_id": "cell-7e253d8da5dea1b8",
     "locked": false,
     "points": 1,
     "schema_version": 3,
     "solution": true,
     "task": false
    }
   },
   "outputs": [],
   "source": [
    "np.random.seed(1)\n",
    "# YOUR CODE HERE\n",
    "raise NotImplementedError()\n",
    "\n",
    "ax = plt.gca()"
   ]
  },
  {
   "cell_type": "code",
   "execution_count": null,
   "metadata": {
    "deletable": false,
    "editable": false,
    "nbgrader": {
     "cell_type": "code",
     "checksum": "b0d21da61ef6467ca170186566671fb7",
     "grade": true,
     "grade_id": "cell-309d06c8e8a6baa5",
     "locked": true,
     "points": 1,
     "schema_version": 3,
     "solution": false,
     "task": false
    }
   },
   "outputs": [],
   "source": [
    "minx, maxx = ax.get_xlim()\n",
    "\n",
    "assert -2e-15 < minx < maxx < 2e-15"
   ]
  },
  {
   "cell_type": "markdown",
   "metadata": {},
   "source": [
    "Algum dos métodos dá consistentemente o menor erro?"
   ]
  },
  {
   "cell_type": "markdown",
   "metadata": {
    "deletable": false,
    "nbgrader": {
     "cell_type": "markdown",
     "checksum": "bcdfd79003457195e8ee722b18a432ba",
     "grade": true,
     "grade_id": "cell-8b01627440859975",
     "locked": false,
     "points": 1,
     "schema_version": 3,
     "solution": true,
     "task": false
    }
   },
   "source": [
    "YOUR ANSWER HERE"
   ]
  },
  {
   "cell_type": "markdown",
   "metadata": {},
   "source": [
    "Agora, vamos usar matrizes (bem) maiores.\n",
    "\n",
    "Escolha uma matriz $A$, $30 \\times 4$ com entradas uniformemente escolhidas em $[0,1]$,\n",
    "e repita o que fizemos acima para 1000 valores aleatórios de $b$."
   ]
  },
  {
   "cell_type": "code",
   "execution_count": null,
   "metadata": {
    "deletable": false,
    "nbgrader": {
     "cell_type": "code",
     "checksum": "ea8d94ea73f813b0342197ac18a8635d",
     "grade": false,
     "grade_id": "cell-bf1739119a51ff50",
     "locked": false,
     "schema_version": 3,
     "solution": true,
     "task": false
    }
   },
   "outputs": [],
   "source": [
    "np.random.seed(2)\n",
    "A = np.random.rand(30,4)\n",
    "# YOUR CODE HERE\n",
    "raise NotImplementedError()\n",
    "\n",
    "ax = plt.gca()"
   ]
  },
  {
   "cell_type": "code",
   "execution_count": null,
   "metadata": {
    "deletable": false,
    "editable": false,
    "nbgrader": {
     "cell_type": "code",
     "checksum": "241608c97a018dd73d430734331e5945",
     "grade": true,
     "grade_id": "cell-c0756b2f00bb4a91",
     "locked": true,
     "points": 1,
     "schema_version": 3,
     "solution": false,
     "task": false
    }
   },
   "outputs": [],
   "source": [
    "minx, maxx = ax.get_xlim()\n",
    "\n",
    "assert -4e-15 < minx < maxx < 4e-15"
   ]
  },
  {
   "cell_type": "markdown",
   "metadata": {},
   "source": [
    "O comportamento dos erros mudou?"
   ]
  },
  {
   "cell_type": "markdown",
   "metadata": {
    "deletable": false,
    "nbgrader": {
     "cell_type": "markdown",
     "checksum": "742914cacdd94c946147eef4df66bd8b",
     "grade": true,
     "grade_id": "cell-d4eb04981d3a111f",
     "locked": false,
     "points": 1,
     "schema_version": 3,
     "solution": true,
     "task": false
    }
   },
   "source": [
    "YOUR ANSWER HERE"
   ]
  },
  {
   "cell_type": "markdown",
   "metadata": {},
   "source": [
    "E agora, faça para matrizes $300 \\times 10$."
   ]
  },
  {
   "cell_type": "code",
   "execution_count": null,
   "metadata": {
    "deletable": false,
    "nbgrader": {
     "cell_type": "code",
     "checksum": "d75bb4788eb1c1ea28a02d90df98e48e",
     "grade": false,
     "grade_id": "cell-7131caab2146c523",
     "locked": false,
     "schema_version": 3,
     "solution": true,
     "task": false
    }
   },
   "outputs": [],
   "source": [
    "np.random.seed(1)\n",
    "A = np.random.rand(300,10)\n",
    "# YOUR CODE HERE\n",
    "raise NotImplementedError()\n",
    "\n",
    "ax = plt.gca()"
   ]
  },
  {
   "cell_type": "code",
   "execution_count": null,
   "metadata": {
    "deletable": false,
    "editable": false,
    "nbgrader": {
     "cell_type": "code",
     "checksum": "d190eed17be8656581a27f944bcbff3f",
     "grade": true,
     "grade_id": "cell-5d63b29d89032a68",
     "locked": true,
     "points": 1,
     "schema_version": 3,
     "solution": false,
     "task": false
    }
   },
   "outputs": [],
   "source": [
    "minx, maxx = ax.get_xlim()\n",
    "\n",
    "assert -10e-15 < minx < maxx < 10e-15"
   ]
  },
  {
   "cell_type": "markdown",
   "metadata": {},
   "source": [
    "Esse gráfico confirma a tendência quando a matriz fica maior?"
   ]
  },
  {
   "cell_type": "markdown",
   "metadata": {
    "deletable": false,
    "nbgrader": {
     "cell_type": "markdown",
     "checksum": "f1f87a526d4a6977d2cc7da835f2718e",
     "grade": true,
     "grade_id": "cell-1749e4479ed402c4",
     "locked": false,
     "points": 2,
     "schema_version": 3,
     "solution": true,
     "task": false
    }
   },
   "source": [
    "YOUR ANSWER HERE"
   ]
  },
  {
   "cell_type": "markdown",
   "metadata": {},
   "source": [
    "# Questão 3: Matrizes de Hilbert\n",
    "\n",
    "A matriz de Hilbert é uma matriz famosa, cujas entradas $H_{i,j}$ são $\\frac{1}{i+j-1}$.\n",
    "\n",
    "Por exemplo, a matriz $3\\times 2$ é\n",
    "$$\\begin{bmatrix}\n",
    "  1 & 1/2 \\\\\n",
    "1/2 & 1/3 \\\\\n",
    "1/3 & 1/4\n",
    "\\end{bmatrix}$$\n",
    "\n",
    "Escreva a função `hilb(n,m)` que retorna a matriz de Hilbert $n \\times m$:"
   ]
  },
  {
   "cell_type": "code",
   "execution_count": null,
   "metadata": {
    "deletable": false,
    "nbgrader": {
     "cell_type": "code",
     "checksum": "e2e5293b68c53aff978502c5c656b61d",
     "grade": false,
     "grade_id": "cell-1beeec7ed1001295",
     "locked": false,
     "schema_version": 3,
     "solution": true,
     "task": false
    }
   },
   "outputs": [],
   "source": [
    "def hilb(n,m):\n",
    "    # YOUR CODE HERE\n",
    "    raise NotImplementedError()"
   ]
  },
  {
   "cell_type": "code",
   "execution_count": null,
   "metadata": {
    "deletable": false,
    "editable": false,
    "nbgrader": {
     "cell_type": "code",
     "checksum": "7a1c19617d24aca275c81c76d5406080",
     "grade": true,
     "grade_id": "cell-7b099dca3f2338bf",
     "locked": true,
     "points": 2,
     "schema_version": 3,
     "solution": false,
     "task": false
    }
   },
   "outputs": [],
   "source": [
    "assert np.all(hilb(3,2) == [[1, 1/2], [1/2, 1/3], [1/3, 1/4]])"
   ]
  },
  {
   "cell_type": "code",
   "execution_count": null,
   "metadata": {
    "deletable": false,
    "editable": false,
    "nbgrader": {
     "cell_type": "code",
     "checksum": "66dac445bc5aa8f795f2af10357f8b45",
     "grade": true,
     "grade_id": "cell-089b84839c179610",
     "locked": true,
     "points": 1,
     "schema_version": 3,
     "solution": false,
     "task": false
    }
   },
   "outputs": [],
   "source": [
    "H = hilb(40,20)\n",
    "assert H.shape == (40,20)"
   ]
  },
  {
   "cell_type": "code",
   "execution_count": null,
   "metadata": {
    "deletable": false,
    "editable": false,
    "nbgrader": {
     "cell_type": "code",
     "checksum": "b6a277544a4404356943b8c90bf6ea1b",
     "grade": true,
     "grade_id": "cell-2862c12ba8bfcd13",
     "locked": true,
     "points": 1,
     "schema_version": 3,
     "solution": false,
     "task": false
    }
   },
   "outputs": [],
   "source": [
    "H = hilb(30,4)\n",
    "assert H[10,3] == 1/(10+3+1)"
   ]
  },
  {
   "cell_type": "markdown",
   "metadata": {},
   "source": [
    "Explique porque o teste acima é feito com $\\frac{1}{10+3+1}$ em vez de $\\frac{1}{10+3-1}$."
   ]
  },
  {
   "cell_type": "markdown",
   "metadata": {
    "deletable": false,
    "nbgrader": {
     "cell_type": "markdown",
     "checksum": "77806d4164d6b8d887f4381febb9ce4b",
     "grade": true,
     "grade_id": "cell-a780aa0e9f2f4a3d",
     "locked": false,
     "points": 2,
     "schema_version": 3,
     "solution": true,
     "task": false
    }
   },
   "source": [
    "YOUR ANSWER HERE"
   ]
  },
  {
   "cell_type": "markdown",
   "metadata": {},
   "source": [
    "# Questão 4: Regressão com a matriz de Hilbert\n",
    "\n",
    "Considere a matriz de Hilbert $30 \\times 4$, e calcule a regressão para um vetor $b$ aleatório.\n",
    "Calcule\n",
    "- a diferença entre as soluções; e\n",
    "- a diferença entre os erros de regressão."
   ]
  },
  {
   "cell_type": "code",
   "execution_count": null,
   "metadata": {
    "deletable": false,
    "nbgrader": {
     "cell_type": "code",
     "checksum": "d03ebae4525b0cfc363ed58f5f6db6ee",
     "grade": true,
     "grade_id": "cell-8fda30c26c1bde7a",
     "locked": false,
     "points": 2,
     "schema_version": 3,
     "solution": true,
     "task": false
    }
   },
   "outputs": [],
   "source": [
    "# YOUR CODE HERE\n",
    "raise NotImplementedError()"
   ]
  },
  {
   "cell_type": "markdown",
   "metadata": {},
   "source": [
    "Calcule, também, o erro relativo entre as soluções, de duas formas:\n",
    "- coordenada a coordenada, $\\frac{|x1_i - x2_i|}{|x1_i| + |x2_i|}$,\n",
    "- global, $\\frac{||x1 - x2||}{||x1|| + ||x2||}$.\n",
    "\n",
    "(Obs: como não há um método que seja \"a priori\" mais exato do que o outro, normalizamos pela soma dos valores absolutos)"
   ]
  },
  {
   "cell_type": "code",
   "execution_count": null,
   "metadata": {
    "deletable": false,
    "nbgrader": {
     "cell_type": "code",
     "checksum": "279a63b24fd7f028342f12d5a32c82e5",
     "grade": true,
     "grade_id": "cell-d8afa9e0fa4a71e5",
     "locked": false,
     "points": 1,
     "schema_version": 3,
     "solution": true,
     "task": false
    }
   },
   "outputs": [],
   "source": [
    "# YOUR CODE HERE\n",
    "raise NotImplementedError()"
   ]
  },
  {
   "cell_type": "markdown",
   "metadata": {},
   "source": [
    "Agora, aumente para $300 \\times 10$, e calcule\n",
    "- a diferença entre as soluções,\n",
    "- os erros relativos entre as soluções,\n",
    "- a diferença entre os erros de regressão."
   ]
  },
  {
   "cell_type": "code",
   "execution_count": null,
   "metadata": {
    "deletable": false,
    "nbgrader": {
     "cell_type": "code",
     "checksum": "551e05f9bc05acee03fb246c34f4932c",
     "grade": true,
     "grade_id": "cell-1e96c71c6eb6a786",
     "locked": false,
     "points": 1,
     "schema_version": 3,
     "solution": true,
     "task": false
    }
   },
   "outputs": [],
   "source": [
    "# YOUR CODE HERE\n",
    "raise NotImplementedError()"
   ]
  },
  {
   "cell_type": "markdown",
   "metadata": {},
   "source": [
    "O que aconteceu?"
   ]
  },
  {
   "cell_type": "markdown",
   "metadata": {
    "deletable": false,
    "nbgrader": {
     "cell_type": "markdown",
     "checksum": "3e4249193b874e335f216c1fdd46e039",
     "grade": true,
     "grade_id": "cell-ed5e234080d495c8",
     "locked": false,
     "points": 2,
     "schema_version": 3,
     "solution": true,
     "task": false
    }
   },
   "source": [
    "YOUR ANSWER HERE"
   ]
  },
  {
   "cell_type": "markdown",
   "metadata": {},
   "source": [
    "# Questão 5: Outro sistema\n",
    "\n",
    "Agora, considere a matriz com entradas inteiras em sequência:\n",
    "$$ A = \\begin{bmatrix}\n",
    "1 & 2 & 3 \\\\\n",
    "4 & 5 & 6 \\\\\n",
    "7 & 8 & 9 \\\\\n",
    "10 & 11 & 12 \\\\\n",
    "13 & 14 & 15 \\\\\n",
    "16 & 17 & 18\n",
    "\\end{bmatrix} $$\n",
    "\n",
    "Resolva o problema de regressão para o vetor $b = (1,1,1,1,1,1)$, pelos dois métodos, e calcule os erros."
   ]
  },
  {
   "cell_type": "code",
   "execution_count": null,
   "metadata": {
    "deletable": false,
    "nbgrader": {
     "cell_type": "code",
     "checksum": "4eb49aa4bb34e0cf397253e651bfb426",
     "grade": true,
     "grade_id": "cell-92972912d0d251fd",
     "locked": false,
     "points": 1,
     "schema_version": 3,
     "solution": true,
     "task": false
    }
   },
   "outputs": [],
   "source": [
    "# YOUR CODE HERE\n",
    "raise NotImplementedError()"
   ]
  },
  {
   "cell_type": "markdown",
   "metadata": {},
   "source": [
    "O que aconteceu?"
   ]
  },
  {
   "cell_type": "markdown",
   "metadata": {
    "deletable": false,
    "nbgrader": {
     "cell_type": "markdown",
     "checksum": "94aa8c82fb8527816672fc37747e2649",
     "grade": true,
     "grade_id": "cell-a2f0eddf5eb48f1d",
     "locked": false,
     "points": 2,
     "schema_version": 3,
     "solution": true,
     "task": false
    }
   },
   "source": [
    "YOUR ANSWER HERE"
   ]
  }
 ],
 "metadata": {
  "kernelspec": {
   "display_name": "Python 3 (ipykernel)",
   "language": "python",
   "name": "python3"
  },
  "language_info": {
   "codemirror_mode": {
    "name": "ipython",
    "version": 3
   },
   "file_extension": ".py",
   "mimetype": "text/x-python",
   "name": "python",
   "nbconvert_exporter": "python",
   "pygments_lexer": "ipython3",
   "version": "3.9.5"
  }
 },
 "nbformat": 4,
 "nbformat_minor": 5
}
