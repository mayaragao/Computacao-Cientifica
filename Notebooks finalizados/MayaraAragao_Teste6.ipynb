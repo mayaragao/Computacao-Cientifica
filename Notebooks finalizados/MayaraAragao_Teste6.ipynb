{
  "cells": [
    {
      "cell_type": "markdown",
      "metadata": {
        "id": "hWnIgW71BKYs"
      },
      "source": [
        "![CC-BY-SA](https://mirrors.creativecommons.org/presskit/buttons/88x31/svg/by-sa.svg)\n",
        "\n",
        "\n",
        "This notebook was created by [Bernardo Freitas Paulo da Costa](http://www.im.ufrj.br/bernardofpc),\n",
        "and is licensed under Creative Commons BY-SA."
      ]
    },
    {
      "cell_type": "markdown",
      "metadata": {
        "id": "2bYEwyQyBKY1"
      },
      "source": [
        "Antes de enviar este Teste, verifique que tudo está funcionando como esperado.\n",
        "Por exemplo, **rode o código inteiro, do zero**.\n",
        "Para isso, vá no menu, escolha _Kernel_, depois _Restart & Run All_.\n",
        "\n",
        "Verifique, também, que você respondeu todas as questões:\n",
        "* as questões de código têm `YOUR CODE HERE` (e você pode apagar o `raise NotImplemented` ao incluir sua resposta)\n",
        "* as questões discursivas têm \"YOUR ANSWER HERE\"."
      ]
    },
    {
      "cell_type": "markdown",
      "metadata": {
        "id": "DbGzWkrzBKY2"
      },
      "source": [
        "---"
      ]
    },
    {
      "cell_type": "markdown",
      "metadata": {
        "id": "gOFkp2SaBKY3"
      },
      "source": [
        "# Integrando funções menos regulares"
      ]
    },
    {
      "cell_type": "code",
      "execution_count": 1,
      "metadata": {
        "deletable": false,
        "editable": false,
        "nbgrader": {
          "cell_type": "code",
          "checksum": "6deb08579ec373034e710565eec09399",
          "grade": false,
          "grade_id": "cell-0883be87dad8a37a",
          "locked": true,
          "schema_version": 3,
          "solution": false,
          "task": false
        },
        "id": "Blq0-PxpBKY4"
      },
      "outputs": [],
      "source": [
        "import numpy as np\n",
        "import matplotlib.pyplot as plt"
      ]
    },
    {
      "cell_type": "code",
      "execution_count": 2,
      "metadata": {
        "deletable": false,
        "nbgrader": {
          "cell_type": "code",
          "checksum": "c759f4542401856dcddf62c16972e0e6",
          "grade": false,
          "grade_id": "cell-25b2a1e4698b3883",
          "locked": false,
          "schema_version": 3,
          "solution": true,
          "task": false
        },
        "id": "gWdLCrelBKY6"
      },
      "outputs": [],
      "source": [
        "def midpoint(f, a, b, n=1000):\n",
        "  pts, h = np.linspace(a, b, num=n, endpoint=False, retstep=True)\n",
        "  m = pts + h/2\n",
        "  return (np.sum(f(m))* h)\n",
        "\n",
        "def simpson(f, a, b, n=1000):\n",
        "  pts, h = np.linspace(a, b, num=n, endpoint=False, retstep=True)\n",
        "  m = pts + h/2\n",
        "  return ( 4 * np.sum(f(m)) + 2 * np.sum(f(pts)) + (f(b) - f(a)) ) *h/6 "
      ]
    },
    {
      "cell_type": "code",
      "execution_count": 3,
      "metadata": {
        "deletable": false,
        "editable": false,
        "nbgrader": {
          "cell_type": "code",
          "checksum": "24234f8137bdd812696bf83eee436eee",
          "grade": false,
          "grade_id": "cell-b5dc08dde552e0a8",
          "locked": true,
          "schema_version": 3,
          "solution": false,
          "task": false
        },
        "id": "sB9DBOjhBKY7"
      },
      "outputs": [],
      "source": [
        "def f(x):\n",
        "    return np.abs(np.sin(x))"
      ]
    },
    {
      "cell_type": "markdown",
      "metadata": {
        "id": "4dVAE-z0BKY8"
      },
      "source": [
        "## Questão 1: Primitiva\n",
        "\n",
        "Dê uma primitiva analítica de $f$.\n",
        "\n",
        "Dica: use a função `np.divmod` (versão vetorizada da `divmod` do python)."
      ]
    },
    {
      "cell_type": "code",
      "execution_count": 4,
      "metadata": {
        "deletable": false,
        "nbgrader": {
          "cell_type": "code",
          "checksum": "ae7b6006f972ef47542de5dcebb6e661",
          "grade": false,
          "grade_id": "cell-ab540a7e7e80c2e9",
          "locked": false,
          "schema_version": 3,
          "solution": true,
          "task": false
        },
        "id": "8H6UxHX4BKY_"
      },
      "outputs": [],
      "source": [
        "def F(x):\n",
        "    \"\"\"Primitiva de |sin(x)|, exata até a precisão do computador.\"\"\"\n",
        "    q, r = np.divmod(x,np.pi)\n",
        "    return ((2 * q) - np.cos(r) + 1)"
      ]
    },
    {
      "cell_type": "code",
      "execution_count": 5,
      "metadata": {
        "deletable": false,
        "editable": false,
        "nbgrader": {
          "cell_type": "code",
          "checksum": "5dbd85a58776a3877ed95a6248517cf6",
          "grade": true,
          "grade_id": "cell-3a001c03b90f0783",
          "locked": true,
          "points": 1,
          "schema_version": 3,
          "solution": false,
          "task": false
        },
        "id": "lKhmA18DBKZC"
      },
      "outputs": [],
      "source": [
        "assert np.isclose(F(10+0.1), F(10) + 0.1 * f(10), atol=1e-2)"
      ]
    },
    {
      "cell_type": "code",
      "execution_count": 6,
      "metadata": {
        "deletable": false,
        "editable": false,
        "nbgrader": {
          "cell_type": "code",
          "checksum": "c72dcfa44d0e2765afbb5c8c1ab72bcc",
          "grade": true,
          "grade_id": "cell-324c73c9738ddcb5",
          "locked": true,
          "points": 1,
          "schema_version": 3,
          "solution": false,
          "task": false
        },
        "id": "kGQdRNn_BKZD"
      },
      "outputs": [],
      "source": [
        "assert np.isclose(F(2+0.01), F(2) + 0.01 * f(2), atol=1e-4)"
      ]
    },
    {
      "cell_type": "markdown",
      "metadata": {
        "id": "H6Y0tSHLBKZH"
      },
      "source": [
        "Explique as tolerâncias dos testes acima."
      ]
    },
    {
      "cell_type": "markdown",
      "metadata": {
        "deletable": false,
        "nbgrader": {
          "cell_type": "markdown",
          "checksum": "bbfd786c8540b162815ab0a41f010208",
          "grade": true,
          "grade_id": "cell-705f645cd463d9a7",
          "locked": false,
          "points": 2,
          "schema_version": 3,
          "solution": true,
          "task": false
        },
        "id": "vjwe1V2RBKZH"
      },
      "source": [
        "No primeiro teste, temos uma comparação com tolerância de $10^{-2}$ da integral exata no intervalo $[0,10.1]$ com a integral do intervalo $[0,10]$ somada com um retângulo de base $h=0.1$ e altura $f(10)$. Enquanto no segundo teste, temos uma comparação com tolerância de $10^{-4}$ da integral exata no intervalo $[0,2.01]$ com a integral do intervalo $[0,2]$ somada com um retângulo de base $h=0.01$ e altura $f(2)$.\n",
        "\n",
        "Essas tolerâncias são baseadas no quadrado da base $h$ do retângulo, ou seja, para um dado passo $h$, o erro no método do retângulo nesse intervalo está em uma tolerância na ordem de $h^2$. Sendo assim, as tolerâncias apresentadas nos testes acima, consideram o erro no método do retangulo da ordem de $h^2$ em cada retângulo aplicado no método."
      ]
    },
    {
      "cell_type": "code",
      "execution_count": 7,
      "metadata": {
        "deletable": false,
        "editable": false,
        "nbgrader": {
          "cell_type": "code",
          "checksum": "65479ce3ffadcf070f5c7e5edbb1d805",
          "grade": true,
          "grade_id": "cell-7e35b488ce517af7",
          "locked": true,
          "points": 1,
          "schema_version": 3,
          "solution": false,
          "task": false
        },
        "id": "TdeEwZyYBKZH"
      },
      "outputs": [],
      "source": [
        "ts = np.linspace(0,10, num=200)\n",
        "Fts = F(ts)\n",
        "assert np.all(Fts[1:] > Fts[:-1])"
      ]
    },
    {
      "cell_type": "markdown",
      "metadata": {
        "id": "OtfJrVPwBKZI"
      },
      "source": [
        "## Questão 2: Erros\n",
        "\n",
        "Faça um gráfico dos erros de integração de $f$\n",
        "pelos métodos do ponto médio e Simpson, no intervalo $[0,3]$"
      ]
    },
    {
      "cell_type": "code",
      "execution_count": 8,
      "metadata": {
        "deletable": false,
        "nbgrader": {
          "cell_type": "code",
          "checksum": "9a58afc3d75eb42f3eb546e111c1d5b6",
          "grade": true,
          "grade_id": "cell-f522838820185ccf",
          "locked": false,
          "points": 1,
          "schema_version": 3,
          "solution": true,
          "task": false
        },
        "colab": {
          "base_uri": "https://localhost:8080/",
          "height": 316
        },
        "id": "SOzUYQi9BKZJ",
        "outputId": "477eeb82-493b-4c7c-cca7-3375a85cc109"
      },
      "outputs": [
        {
          "output_type": "execute_result",
          "data": {
            "text/plain": [
              "<matplotlib.legend.Legend at 0x7f2146b5cd10>"
            ]
          },
          "metadata": {},
          "execution_count": 8
        },
        {
          "output_type": "display_data",
          "data": {
            "image/png": "[encoded data removed]",
            "text/plain": [
              "<Figure size 432x288 with 1 Axes>"
            ]
          },
          "metadata": {
            "needs_background": "light"
          }
        }
      ],
      "source": [
        "a, b = 0, 3\n",
        "exact = F(b) - F(a)\n",
        "ns = np.logspace(3,13, num=20, dtype=int, base=2)\n",
        "err_m = []\n",
        "err_s = []\n",
        "\n",
        "for n in ns:\n",
        "  err_m.append(abs(exact - midpoint(f, a, b, n) ))\n",
        "  err_s.append(abs(exact - simpson(f, a, b, n) ))\n",
        "\n",
        "ax = plt.gca()\n",
        "ax.set_title(\"Erros dos métodos de Simpson e do Ponto Médio\")\n",
        "ax.loglog( ns, err_m, label=\"ponto médio\")\n",
        "ax.loglog( ns, err_s, label=\"simpson\")\n",
        "plt.xlabel(\"n\")\n",
        "plt.ylabel(\"erro\")\n",
        "ax.set_xscale('log', basex=2)\n",
        "plt.legend()"
      ]
    },
    {
      "cell_type": "code",
      "execution_count": 9,
      "metadata": {
        "deletable": false,
        "editable": false,
        "nbgrader": {
          "cell_type": "code",
          "checksum": "f0a8add1dde34ebb462208af1494fd1a",
          "grade": true,
          "grade_id": "cell-9160718d1a3426a9",
          "locked": true,
          "points": 2,
          "schema_version": 3,
          "solution": false,
          "task": false
        },
        "id": "llG4v7pABKZK"
      },
      "outputs": [],
      "source": [
        "assert len(ax.lines) == 2\n",
        "assert len(ax.legend().texts) == 2"
      ]
    },
    {
      "cell_type": "code",
      "execution_count": 10,
      "metadata": {
        "deletable": false,
        "editable": false,
        "nbgrader": {
          "cell_type": "code",
          "checksum": "966cb027186e3bdf18f6a8f1e14b8f62",
          "grade": false,
          "grade_id": "cell-3b08bf15109bacd9",
          "locked": true,
          "schema_version": 3,
          "solution": false,
          "task": false
        },
        "id": "D-SqigLTBKZM"
      },
      "outputs": [],
      "source": [
        "ax = None"
      ]
    },
    {
      "cell_type": "markdown",
      "metadata": {
        "id": "HL-8YDaABKZO"
      },
      "source": [
        "O que você observa neste gráfico?"
      ]
    },
    {
      "cell_type": "markdown",
      "metadata": {
        "deletable": false,
        "nbgrader": {
          "cell_type": "markdown",
          "checksum": "a1fbc11edd2b5ebc0afbec9abc1ed5c4",
          "grade": true,
          "grade_id": "cell-e098c0e743ef6a81",
          "locked": false,
          "points": 2,
          "schema_version": 3,
          "solution": true,
          "task": false
        },
        "id": "qr_JduDRBKZQ"
      },
      "source": [
        "Para ambos os métodos, o comportamento é praticamente linear dentro de uma escala logaritmica de acordo com o crescimento de $n$. No entanto, o gráfico do ponto médio no geral contém um erro maior e a diminuição do erro mais lenta em comparação ao gráfico no método de simpson. "
      ]
    },
    {
      "cell_type": "markdown",
      "metadata": {
        "id": "kl7d1et6BKZR"
      },
      "source": [
        "Agora, repita o gráfico para o intervalo $[0,6]$:"
      ]
    },
    {
      "cell_type": "code",
      "execution_count": 11,
      "metadata": {
        "deletable": false,
        "nbgrader": {
          "cell_type": "code",
          "checksum": "9e13b51fa174a0571cd9d75b8834d022",
          "grade": false,
          "grade_id": "cell-e771e7f45189eb47",
          "locked": false,
          "schema_version": 3,
          "solution": true,
          "task": false
        },
        "colab": {
          "base_uri": "https://localhost:8080/",
          "height": 316
        },
        "id": "m1OIzFgYBKZR",
        "outputId": "d1fe783a-dff2-4c1e-b057-11bbb3be4b20"
      },
      "outputs": [
        {
          "output_type": "execute_result",
          "data": {
            "text/plain": [
              "<matplotlib.legend.Legend at 0x7f2143242890>"
            ]
          },
          "metadata": {},
          "execution_count": 11
        },
        {
          "output_type": "display_data",
          "data": {
            "image/png": "[encoded data removed]",
            "text/plain": [
              "<Figure size 432x288 with 1 Axes>"
            ]
          },
          "metadata": {
            "needs_background": "light"
          }
        }
      ],
      "source": [
        "a, b = 0, 6\n",
        "exact = F(b) - F(a)\n",
        "ns = np.logspace(3,13, num=20, dtype=int, base=2)\n",
        "err_m = []\n",
        "err_s = []\n",
        "\n",
        "for n in ns:\n",
        "  err_m.append(abs(exact - midpoint(f, a, b, n)))\n",
        "  err_s.append(abs(exact - simpson(f, a, b, n)))\n",
        "\n",
        "ax = plt.gca()\n",
        "ax.set_title(\"Erros dos métodos de Simpson e do Ponto Médio\")\n",
        "ax.loglog( ns, err_m, label=\"ponto médio\")\n",
        "ax.loglog( ns, err_s, label=\"simpson\")\n",
        "ax.set_xscale('log', basex=2)\n",
        "plt.xlabel(\"n\")\n",
        "plt.ylabel(\"erro\")\n",
        "plt.legend()"
      ]
    },
    {
      "cell_type": "code",
      "execution_count": 12,
      "metadata": {
        "deletable": false,
        "editable": false,
        "nbgrader": {
          "cell_type": "code",
          "checksum": "8572dacd499d53b4dcb701734e6c3889",
          "grade": true,
          "grade_id": "cell-ffe3f5d3cdbd5614",
          "locked": true,
          "points": 1,
          "schema_version": 3,
          "solution": false,
          "task": false
        },
        "id": "dEqUqOB3BKZS"
      },
      "outputs": [],
      "source": [
        "assert len(ax.lines) == 2\n",
        "assert len(ax.legend().texts) == 2"
      ]
    },
    {
      "cell_type": "code",
      "execution_count": 13,
      "metadata": {
        "deletable": false,
        "editable": false,
        "nbgrader": {
          "cell_type": "code",
          "checksum": "ee872aca1fdcc05322f5627567c84fab",
          "grade": true,
          "grade_id": "cell-bed176376358bb71",
          "locked": true,
          "points": 1,
          "schema_version": 3,
          "solution": false,
          "task": false
        },
        "id": "fnor7cZ6BKZS"
      },
      "outputs": [],
      "source": [
        "for l in ax.lines:\n",
        "    assert 1e-10 < min(l.get_ydata()) < 1e-7"
      ]
    },
    {
      "cell_type": "code",
      "execution_count": 14,
      "metadata": {
        "deletable": false,
        "editable": false,
        "nbgrader": {
          "cell_type": "code",
          "checksum": "e70e973ea801fa3c8c65bbeecd339e0f",
          "grade": false,
          "grade_id": "cell-9d64227752111c9b",
          "locked": true,
          "schema_version": 3,
          "solution": false,
          "task": false
        },
        "id": "hDUqkxDLBKZT"
      },
      "outputs": [],
      "source": [
        "ax = None"
      ]
    },
    {
      "cell_type": "markdown",
      "metadata": {
        "id": "IqApqvlhBKZU"
      },
      "source": [
        "Como esse gráfico é diferente do outro?"
      ]
    },
    {
      "cell_type": "markdown",
      "metadata": {
        "deletable": false,
        "nbgrader": {
          "cell_type": "markdown",
          "checksum": "4187cd94351499fdb7301b70be7eea97",
          "grade": true,
          "grade_id": "cell-d6d2104f2e3363f0",
          "locked": false,
          "points": 2,
          "schema_version": 3,
          "solution": true,
          "task": false
        },
        "id": "Un04KpzcBKZU"
      },
      "source": [
        "Enquanto no primeiro gráfico, com intervalo $[0,3]$,  o comportamento é pratimente linear dentro de uma escala logaritmica. No segundo gráfico, para o intervalo de $[0,6]$,  o comportamento é oscilante dentro da escala logaritmica de acordo com o crescimento de $n$, sendo que o erro diminui na mesma proporção em ambos os métodos. Além disso, é possível perceber que a ordem de grandeza do erro aumentou para o intervalo maior, o que pode ser causado tanto pelo aumento de $h$, já que mantemos o mesmo número de subintervalos $n$ em um intervalo maior, como pela inclusão de um ponto onde a derivada não existe $x=\\pi$."
      ]
    },
    {
      "cell_type": "markdown",
      "metadata": {
        "id": "mUMhSvGxBKZY"
      },
      "source": [
        "## Questão 3: Encontrando o intervalo contendo $\\pi$\n",
        "\n",
        "Como $|\\sin(x)|$ não é derivável em $\\pi$, vamos ver quanto erro tem no sub-intervalo que \"atravessa\" $\\pi$.\n",
        "\n",
        "Escreva a função `I_x(a, b, x, n)` que retorna o intervalo contendo $x$ ao dividir $[a,b]$ em $n$ partes.\n",
        "Você pode assumir que x nunca vai ser uma das extremidades $a_k$."
      ]
    },
    {
      "cell_type": "code",
      "execution_count": 15,
      "metadata": {
        "deletable": false,
        "nbgrader": {
          "cell_type": "code",
          "checksum": "0b0aefe50155bfbca0e5f06ce73b0cf2",
          "grade": false,
          "grade_id": "cell-ebebd4ecbff8d451",
          "locked": false,
          "schema_version": 3,
          "solution": true,
          "task": false
        },
        "id": "68CjzwSFBKZZ"
      },
      "outputs": [],
      "source": [
        "def I_x(a, b, x, n):\n",
        "    \"\"\"The interval  [xi, xi+h]  containing  x, when  [a,b]  is divided in  n  equal parts.\n",
        "    Returns  None  if  x  is outside  [a,b]\"\"\"\n",
        "    if (x-a)*(x-b) > 0:\n",
        "        return\n",
        "    pts = np.linspace(a,b, num = n+1 , endpoint=True)\n",
        "    for i in range(len(pts)-1):\n",
        "      if x < pts[i+1]:\n",
        "        return pts[i], pts[i+1]"
      ]
    },
    {
      "cell_type": "code",
      "execution_count": 16,
      "metadata": {
        "deletable": false,
        "editable": false,
        "nbgrader": {
          "cell_type": "code",
          "checksum": "890bf3f11b4d2e5863acefb5266926a9",
          "grade": true,
          "grade_id": "cell-6a808a637616f751",
          "locked": true,
          "points": 1,
          "schema_version": 3,
          "solution": false,
          "task": false
        },
        "id": "nVswtjPzBKZc"
      },
      "outputs": [],
      "source": [
        "l, r = I_x(0, 6, np.pi, 10)\n",
        "assert np.isclose(l, 3)\n",
        "assert np.isclose(r, 3.6)"
      ]
    },
    {
      "cell_type": "code",
      "execution_count": 17,
      "metadata": {
        "deletable": false,
        "editable": false,
        "nbgrader": {
          "cell_type": "code",
          "checksum": "30ba741487d0445f7ee0c9e75343af8d",
          "grade": true,
          "grade_id": "cell-046e03f8c340519a",
          "locked": true,
          "points": 1,
          "schema_version": 3,
          "solution": false,
          "task": false
        },
        "id": "JslT958FBKZc"
      },
      "outputs": [],
      "source": [
        "l, r = I_x(0, 60, np.pi, 10)\n",
        "assert l <= np.pi <= r"
      ]
    },
    {
      "cell_type": "code",
      "execution_count": 18,
      "metadata": {
        "deletable": false,
        "editable": false,
        "nbgrader": {
          "cell_type": "code",
          "checksum": "78461e9ebd8b95c0c5fef2c73f66f742",
          "grade": true,
          "grade_id": "cell-776e14883a36013b",
          "locked": true,
          "points": 1,
          "schema_version": 3,
          "solution": false,
          "task": false
        },
        "id": "jf7wMlDtBKZc"
      },
      "outputs": [],
      "source": [
        "l, r = I_x(0, 1, 0.4, 36)\n",
        "assert l < 0.4 < r"
      ]
    },
    {
      "cell_type": "markdown",
      "metadata": {
        "id": "5RclqxGHBKZd"
      },
      "source": [
        "Agora, faça o gráfico do erro que os métodos do ponto médio e de Simpson\n",
        "vão dar quando integrarem o intervalo contendo a \"descontinuidade\" $\\pi$,\n",
        "em função de $n$."
      ]
    },
    {
      "cell_type": "code",
      "execution_count": 19,
      "metadata": {
        "deletable": false,
        "nbgrader": {
          "cell_type": "code",
          "checksum": "15e815c96fc23124a5a97aee2bd9f008",
          "grade": false,
          "grade_id": "cell-a667781d9a71248b",
          "locked": false,
          "schema_version": 3,
          "solution": true,
          "task": false
        },
        "colab": {
          "base_uri": "https://localhost:8080/",
          "height": 316
        },
        "id": "2hhgkPQdBKZd",
        "outputId": "a74a4a4f-9fb8-4094-8b2f-835746ad4867"
      },
      "outputs": [
        {
          "output_type": "execute_result",
          "data": {
            "text/plain": [
              "<matplotlib.legend.Legend at 0x7f214322fcd0>"
            ]
          },
          "metadata": {},
          "execution_count": 19
        },
        {
          "output_type": "display_data",
          "data": {
            "image/png": "[encoded data removed]",
            "text/plain": [
              "<Figure size 432x288 with 1 Axes>"
            ]
          },
          "metadata": {
            "needs_background": "light"
          }
        }
      ],
      "source": [
        "a, b = 0, 6\n",
        "ns = np.logspace(3,13, num=20, dtype=int, base=2)\n",
        "err_m = []\n",
        "err_s = []\n",
        "for n in ns:\n",
        "  a_k, b_k = I_x(a,b, np.pi, n)\n",
        "  exact = F(b_k) - F(a_k)\n",
        "  err_m.append(abs(exact - midpoint(f, a_k, b_k, 1)))\n",
        "  err_s.append(abs(exact - simpson(f, a_k, b_k, 1)))\n",
        "\n",
        "ax = plt.gca()\n",
        "ax.set_title(\"Erros dos métodos de Simpson e do Ponto Médio\")\n",
        "ax.loglog( ns, err_m, label=\"ponto médio\")\n",
        "ax.loglog( ns, err_s, label=\"simpson\")\n",
        "ax.set_xscale('log', basex=2)\n",
        "plt.xlabel(\"n\")\n",
        "plt.ylabel(\"erro\")\n",
        "plt.legend()"
      ]
    },
    {
      "cell_type": "code",
      "execution_count": 20,
      "metadata": {
        "deletable": false,
        "editable": false,
        "nbgrader": {
          "cell_type": "code",
          "checksum": "2cf13e75d797ed187ea9bd405362b565",
          "grade": true,
          "grade_id": "cell-37ae30958f69fd59",
          "locked": true,
          "points": 1,
          "schema_version": 3,
          "solution": false,
          "task": false
        },
        "id": "Obp9z3RBBKZd"
      },
      "outputs": [],
      "source": [
        "assert len(ax.lines) == 2\n",
        "assert len(ax.legend().texts) == 2"
      ]
    },
    {
      "cell_type": "code",
      "execution_count": 21,
      "metadata": {
        "deletable": false,
        "editable": false,
        "nbgrader": {
          "cell_type": "code",
          "checksum": "9ad9040c7d2b5e92b45b7a8e90d85119",
          "grade": true,
          "grade_id": "cell-22932ced6fcb2767",
          "locked": true,
          "points": 2,
          "schema_version": 3,
          "solution": false,
          "task": false
        },
        "id": "H2eyVKXjBKZd"
      },
      "outputs": [],
      "source": [
        "for l in ax.lines:\n",
        "    assert 1e-10 < min(l.get_ydata()) < 1e-7"
      ]
    },
    {
      "cell_type": "code",
      "execution_count": 22,
      "metadata": {
        "deletable": false,
        "editable": false,
        "nbgrader": {
          "cell_type": "code",
          "checksum": "a1db704c3c66752cc4da61247dfe8ad3",
          "grade": false,
          "grade_id": "cell-ac8bf71562569203",
          "locked": true,
          "schema_version": 3,
          "solution": false,
          "task": false
        },
        "id": "td2qabJ6BKZg"
      },
      "outputs": [],
      "source": [
        "ax = None"
      ]
    },
    {
      "cell_type": "markdown",
      "metadata": {
        "id": "fr8-xSckBKZg"
      },
      "source": [
        "## Questão 4: Um intervalo contra todos\n",
        "\n",
        "Vamos ver quanto do erro de cada método é causado pelo erro em apenas um intervalo.\n",
        "\n",
        "Faça um gráfico para comparar esses erros:\n",
        "- à esquerda, os erros para o ponto médio\n",
        "- à direita, os erros para o método de Simpson"
      ]
    },
    {
      "cell_type": "code",
      "execution_count": 23,
      "metadata": {
        "deletable": false,
        "nbgrader": {
          "cell_type": "code",
          "checksum": "a217cdbc2e7d13c27d8249b0d101c7f0",
          "grade": true,
          "grade_id": "cell-64ea43a87311541c",
          "locked": false,
          "points": 1,
          "schema_version": 3,
          "solution": true,
          "task": false
        },
        "colab": {
          "base_uri": "https://localhost:8080/",
          "height": 316
        },
        "id": "NuwZLq49BKZh",
        "outputId": "0446319d-2014-4fd9-fe35-9c4e8b5c8841"
      },
      "outputs": [
        {
          "output_type": "execute_result",
          "data": {
            "text/plain": [
              "Text(0.5, 1.0, 'Erros no itervalo e subintervalo dos métodos de Simpson e do Ponto Médio')"
            ]
          },
          "metadata": {},
          "execution_count": 23
        },
        {
          "output_type": "display_data",
          "data": {
            "image/png": "[encoded data removed]",
            "text/plain": [
              "<Figure size 936x288 with 2 Axes>"
            ]
          },
          "metadata": {
            "needs_background": "light"
          }
        }
      ],
      "source": [
        "fig, (ax1, ax2) = plt.subplots(ncols=2, figsize=(13,4))\n",
        "\n",
        "a, b = 0, 6\n",
        "exact = F(b) - F(a)\n",
        "ns = np.logspace(3,13, num=20, dtype=int, base=2)\n",
        "err_m = []\n",
        "err_s = []\n",
        "err_sub_m = []\n",
        "err_sub_s = []\n",
        "\n",
        "for n in ns:\n",
        "  a_k, b_k = I_x(a,b, np.pi, n)\n",
        "  exact_sub = F(b_k) - F(a_k)\n",
        "  err_sub_m.append(abs(exact_sub - midpoint(f, a_k, b_k, 1)))\n",
        "  err_sub_s.append(abs(exact_sub - simpson(f, a_k, b_k, 1)))\n",
        "  err_m.append(abs(exact - midpoint(f, a, b, n)))\n",
        "  err_s.append(abs(exact - simpson(f, a, b, n)))\n",
        "\n",
        "ax1.loglog( ns, err_m, label=\"ponto médio\")\n",
        "ax1.loglog( ns, err_sub_m, label=\"ponto medio no subintervalo\")\n",
        "ax1.set_xscale('log', basex=2)\n",
        "ax1.set_xlabel(\"n\")\n",
        "ax1.set_ylabel(\"erro\")\n",
        "ax1.legend()\n",
        "\n",
        "ax2.loglog( ns, err_s, label=\"simpson\")\n",
        "ax2.loglog( ns, err_sub_s, label=\"simpson no subintervalo\")\n",
        "ax2.set_xscale('log', basex=2)\n",
        "ax2.set_xlabel(\"n\")\n",
        "ax2.set_ylabel(\"erro\")\n",
        "ax2.legend()\n",
        "\n",
        "ax = plt.gca()\n",
        "ax.set_title(\"Erros no itervalo e subintervalo dos métodos de Simpson e do Ponto Médio\")\n"
      ]
    },
    {
      "cell_type": "code",
      "execution_count": 24,
      "metadata": {
        "deletable": false,
        "editable": false,
        "nbgrader": {
          "cell_type": "code",
          "checksum": "129e6006b12f7689c841aedba7b6f3e9",
          "grade": true,
          "grade_id": "cell-a27d00cc15e2d685",
          "locked": true,
          "points": 1,
          "schema_version": 3,
          "solution": false,
          "task": false
        },
        "id": "uITi09JVBKZi"
      },
      "outputs": [],
      "source": [
        "assert len(ax1.lines) == 2\n",
        "assert len(ax1.legend().texts) == 2"
      ]
    },
    {
      "cell_type": "code",
      "execution_count": 25,
      "metadata": {
        "deletable": false,
        "editable": false,
        "nbgrader": {
          "cell_type": "code",
          "checksum": "b5e4b936b612b19f162b48825e3f39dc",
          "grade": true,
          "grade_id": "cell-b7a54c629922e2b1",
          "locked": true,
          "points": 1,
          "schema_version": 3,
          "solution": false,
          "task": false
        },
        "id": "xdZ3SYtMBKZj"
      },
      "outputs": [],
      "source": [
        "assert len(ax2.lines) == 2\n",
        "assert len(ax2.legend().texts) == 2"
      ]
    },
    {
      "cell_type": "code",
      "execution_count": 26,
      "metadata": {
        "nbgrader": {
          "grade": false,
          "grade_id": "cell-62fa73ed09c704a4",
          "locked": false,
          "schema_version": 3,
          "solution": false,
          "task": false
        },
        "id": "xo_EozQABKZj"
      },
      "outputs": [],
      "source": [
        "for l in ax1.lines:\n",
        "    assert 1e-10 < min(l.get_ydata()) < 1e-7\n",
        "for l in ax2.lines:\n",
        "    assert 1e-10 < min(l.get_ydata()) < 1e-7"
      ]
    },
    {
      "cell_type": "code",
      "execution_count": 27,
      "metadata": {
        "deletable": false,
        "editable": false,
        "nbgrader": {
          "cell_type": "code",
          "checksum": "99793da848598e87ac9950771910a0e6",
          "grade": false,
          "grade_id": "cell-86fd14c4645c9d67",
          "locked": true,
          "schema_version": 3,
          "solution": false,
          "task": false
        },
        "id": "wD6GTfsFBKZk"
      },
      "outputs": [],
      "source": [
        "ax = None"
      ]
    },
    {
      "cell_type": "markdown",
      "metadata": {
        "id": "OSkiAwYnBKZk"
      },
      "source": [
        "O que você observa quanto aos erros dos métodos?"
      ]
    },
    {
      "cell_type": "markdown",
      "metadata": {
        "deletable": false,
        "nbgrader": {
          "cell_type": "markdown",
          "checksum": "cd53c7731afe0e3fafdf0e6691ee2bae",
          "grade": true,
          "grade_id": "cell-4770cfe4a90e8a05",
          "locked": false,
          "points": 2,
          "schema_version": 3,
          "solution": true,
          "task": false
        },
        "id": "B6aGH3yrBKZk"
      },
      "source": [
        "É possivel observar que no método do ponto médio, o erro no subintervalo que contem $x= \\pi$ em alguns momentos é maior que o erro no intervalo total e em outros é menor. Para que o módulo do erro total seja menor que o módulo do erro de um intervalo menor contendo $\\pi$, pode ser que o erro nesse intervalo apresente um sinal oposto ao resto da integral, o que justifica que o erro no subintervalo seja maior em módulo que o erro total. \n",
        "\n",
        "Enquanto no método de simpson, o erro total é igual ao erro no subintervalo que contem $\\pi$ (temos um gráfico em cima do outro), o que significa que o erro total do método se concentra na aplicação do método nesse intervalo."
      ]
    },
    {
      "cell_type": "markdown",
      "metadata": {
        "id": "yBt052UWBKZl"
      },
      "source": [
        "## Questão 5: Integração com ajuda humana\n",
        "\n",
        "Mude a integral de $[0,6]$ por duas integrais, uma em $[0,\\pi]$ e outra em $[\\pi,6]$.\n",
        "Faça dois gráficos comparando os erros dos 4 métodos:\n",
        "- Um para o método do ponto médio, o outro para o método de Simpson\n",
        "- Em cada um, o erro cometido por uma única integral e o erro cometido pela integral feita em 2 partes\n",
        "\n",
        "Use o mesmo número $n$ **total** de sub-intervalos, para não \"roubar\" em favor do que quebra a integral em 2  :-)"
      ]
    },
    {
      "cell_type": "code",
      "execution_count": 28,
      "metadata": {
        "deletable": false,
        "nbgrader": {
          "cell_type": "code",
          "checksum": "0194645ea07115657b63a8938b932b0d",
          "grade": true,
          "grade_id": "cell-089770b7f62c0c00",
          "locked": false,
          "points": 1,
          "schema_version": 3,
          "solution": true,
          "task": false
        },
        "colab": {
          "base_uri": "https://localhost:8080/",
          "height": 316
        },
        "id": "_DM1U0JhBKZl",
        "outputId": "c3141eea-7878-4ed5-e3ae-3cd9a43a78ac"
      },
      "outputs": [
        {
          "output_type": "execute_result",
          "data": {
            "text/plain": [
              "Text(0.5, 1.0, 'Erros no itervalo e subintervalo dos métodos de Simpson e do Ponto Médio')"
            ]
          },
          "metadata": {},
          "execution_count": 28
        },
        {
          "output_type": "display_data",
          "data": {
            "image/png": "[encoded data removed]",
            "text/plain": [
              "<Figure size 936x288 with 2 Axes>"
            ]
          },
          "metadata": {
            "needs_background": "light"
          }
        }
      ],
      "source": [
        "a, c, b = 0, np.pi, 6\n",
        "exact = F(b) - F(a)\n",
        "\n",
        "fig, (ax1, ax2) = plt.subplots(ncols=2, figsize=(13,4))\n",
        "ns = np.logspace(3,13, num=20, dtype=int, base=2)\n",
        "err_m = []\n",
        "err_s = []\n",
        "err_sub_m = []\n",
        "err_sub_s = []\n",
        "\n",
        "for n in ns:\n",
        "  q, r = divmod(n, 2)\n",
        "  n_1, n_2 = q, q\n",
        "  if r != 0:\n",
        "    n_2 = q+1\n",
        "  err_m.append(abs(exact - midpoint(f, a, b, n)))\n",
        "  err_sub_m.append(abs(exact - (midpoint(f, a, c, n_1) + midpoint(f, c, b, n_2))))\n",
        "  \n",
        "  err_s.append(abs(exact - simpson(f, a, b, n)))\n",
        "  err_sub_s.append(abs(exact - (simpson(f, a, c, n_1) + simpson(f, c, b, n_2))))\n",
        "\n",
        "ax1.loglog( ns, err_m, label=\"ponto médio\")\n",
        "ax1.loglog( ns, err_sub_m, label=\"ponto medio em 2 partes\")\n",
        "ax1.set_xscale('log', basex=2)\n",
        "ax1.set_xlabel(\"n\")\n",
        "ax1.set_ylabel(\"erro\")\n",
        "ax1.legend()\n",
        "\n",
        "ax2.loglog( ns, err_s, label=\"simpson\")\n",
        "ax2.loglog( ns, err_sub_s, label=\"simpson em 2 partes\")\n",
        "ax2.set_xscale('log', basex=2)\n",
        "ax2.set_xlabel(\"n\")\n",
        "ax2.set_ylabel(\"erro\")\n",
        "ax2.legend()\n",
        "\n",
        "ax = plt.gca()\n",
        "ax.set_title(\"Erros no itervalo e subintervalo dos métodos de Simpson e do Ponto Médio\")\n"
      ]
    },
    {
      "cell_type": "code",
      "execution_count": 29,
      "metadata": {
        "deletable": false,
        "editable": false,
        "nbgrader": {
          "cell_type": "code",
          "checksum": "afc176ee74970f35829045ce39badec3",
          "grade": true,
          "grade_id": "cell-9a5b67b049806def",
          "locked": true,
          "points": 1,
          "schema_version": 3,
          "solution": false,
          "task": false
        },
        "id": "IkF-lpigBKZl"
      },
      "outputs": [],
      "source": [
        "assert len(ax1.lines) == 2\n",
        "assert len(ax1.legend().texts) == 2\n",
        "assert ax1.get_title != \"\""
      ]
    },
    {
      "cell_type": "code",
      "execution_count": 30,
      "metadata": {
        "deletable": false,
        "editable": false,
        "nbgrader": {
          "cell_type": "code",
          "checksum": "771255b4d190a23a252500edb5c252e4",
          "grade": true,
          "grade_id": "cell-94ec0f89ceb454d4",
          "locked": true,
          "points": 1,
          "schema_version": 3,
          "solution": false,
          "task": false
        },
        "id": "um5omXWsBKZl"
      },
      "outputs": [],
      "source": [
        "assert len(ax2.lines) == 2\n",
        "assert len(ax2.legend().texts) == 2\n",
        "assert ax2.get_title != \"\""
      ]
    },
    {
      "cell_type": "code",
      "execution_count": 31,
      "metadata": {
        "deletable": false,
        "editable": false,
        "nbgrader": {
          "cell_type": "code",
          "checksum": "ab0ebddbeb61c121e341befff9cbe10f",
          "grade": false,
          "grade_id": "cell-ff239b5d0ffe0d79",
          "locked": true,
          "schema_version": 3,
          "solution": false,
          "task": false
        },
        "id": "Ll6BhKg2BKZm"
      },
      "outputs": [],
      "source": [
        "ax = None"
      ]
    },
    {
      "cell_type": "markdown",
      "metadata": {
        "id": "Q0VotNsUBKZm"
      },
      "source": [
        "O que você observa?\n",
        "O que você conclui?"
      ]
    },
    {
      "cell_type": "markdown",
      "metadata": {
        "deletable": false,
        "nbgrader": {
          "cell_type": "markdown",
          "checksum": "91c2b15c724beda5963606c1ecef177f",
          "grade": true,
          "grade_id": "cell-9b400f10460b7b4b",
          "locked": false,
          "points": 2,
          "schema_version": 3,
          "solution": true,
          "task": false
        },
        "id": "KE4C6YrUBKZm"
      },
      "source": [
        "É possível observar pelo segundo gráfico que ao integrar em duas partes, o erro no método de simpson diminui, enquanto no método do ponto médio, a integração em duas partes faz com que o erro aumente. O gráfico da integração em duas partes voltou a decair linearmente dentro de uma escala logaritimica (sem oscilações) para ambos os métodos, o que fortalece a hipótese de que as oscilações se devem ao intervalo que contém $\\pi$, que sem uma aproximação por polinomios de Taylor válida (derivada nesse ponto não existe) gera uma inconsistência na variação do erro de acordo com $n$, pois o sinal do erro nesse intervalo pode ser oposto ao erro total. \n",
        "\n",
        "Por outro lado, o método do ponto médio utiliza apenas um único ponto enquanto o método de simpson considera mais de um ponto na interpolação de polinômios de Taylor em cada subintervalo. Com isso, os erros no método do ponto médio se apresentam maiores dependendo do ponto escolhido, já que como explicado acima, caso o intervalo contenha $\\pi$ o decaimento do erro se torna oscilatorio, mas caso não contenha, o erro é sempre maior. "
      ]
    }
  ],
  "metadata": {
    "kernelspec": {
      "display_name": "Python 3 (ipykernel)",
      "language": "python",
      "name": "python3"
    },
    "language_info": {
      "codemirror_mode": {
        "name": "ipython",
        "version": 3
      },
      "file_extension": ".py",
      "mimetype": "text/x-python",
      "name": "python",
      "nbconvert_exporter": "python",
      "pygments_lexer": "ipython3",
      "version": "3.9.5"
    },
    "toc": {
      "base_numbering": 1,
      "nav_menu": {},
      "number_sections": true,
      "sideBar": true,
      "skip_h1_title": false,
      "title_cell": "Table of Contents",
      "title_sidebar": "Contents",
      "toc_cell": true,
      "toc_position": {},
      "toc_section_display": true,
      "toc_window_display": true
    },
    "colab": {
      "name": "Teste6.ipynb",
      "provenance": []
    }
  },
  "nbformat": 4,
  "nbformat_minor": 0
}