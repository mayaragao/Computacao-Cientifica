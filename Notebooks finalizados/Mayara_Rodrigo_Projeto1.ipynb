{
  "cells": [
    {
      "cell_type": "markdown",
      "id": "83971576",
      "metadata": {
        "id": "83971576"
      },
      "source": [
        "![CC-BY-SA](https://mirrors.creativecommons.org/presskit/buttons/88x31/svg/by-sa.svg)\n",
        "\n",
        "\n",
        "This notebook was created by [Bernardo Freitas Paulo da Costa](http://www.im.ufrj.br/bernardofpc),\n",
        "and is licensed under Creative Commons BY-SA."
      ]
    },
    {
      "cell_type": "markdown",
      "id": "4c30d1c3",
      "metadata": {
        "id": "4c30d1c3"
      },
      "source": [
        "Antes de enviar este Teste, verifique que tudo está funcionando como esperado.\n",
        "Por exemplo, **rode o código inteiro, do zero**.\n",
        "Para isso, vá no menu, escolha _Kernel_, depois _Restart & Run All_.\n",
        "\n",
        "Verifique, também, que você respondeu todas as questões:\n",
        "* as questões de código têm `YOUR CODE HERE` (e você pode apagar o `raise NotImplemented` ao incluir sua resposta)\n",
        "* as questões discursivas têm \"YOUR ANSWER HERE\"."
      ]
    },
    {
      "cell_type": "markdown",
      "id": "2b256a34",
      "metadata": {
        "id": "2b256a34"
      },
      "source": [
        "---"
      ]
    },
    {
      "cell_type": "code",
      "execution_count": 1,
      "id": "a0b461cb",
      "metadata": {
        "id": "a0b461cb"
      },
      "outputs": [],
      "source": [
        "import numpy as np\n",
        "import matplotlib.pyplot as plt"
      ]
    },
    {
      "cell_type": "markdown",
      "id": "64a0cd49",
      "metadata": {
        "id": "64a0cd49"
      },
      "source": [
        "# Questão 1: Bisseção ao infinito\n",
        "\n",
        "Uma outra forma de encontrar raizes de $x e^x = y$ consiste em fazer uma bisseção \"até o infinito\".\n",
        "Vejamos como isso se aplica no caso de $+\\infty$.\n",
        "\n",
        "Como há um número **finito** de números de ponto flutuante que seu computador conhece,\n",
        "podemos usar uma progressão geométrica para tentar chegar no infinito.\n",
        "\n",
        "Se no intervalo $[a, a\\cdot r]$ a função não trocar de sinal, podemos tentar o intervalo\n",
        "$[a\\cdot r, a\\cdot r^2]$, e depois o intervalo $[a\\cdot r^2, a\\cdot r^3]$ e assim sucessivamente.\n",
        "\n",
        "## Questão 1.1: PGs ao infinito\n",
        "\n",
        "Escreva uma função que calcula o comprimento da PG $a r^n$ até chegar no infinito."
      ]
    },
    {
      "cell_type": "code",
      "execution_count": 2,
      "id": "b4ddb2a2",
      "metadata": {
        "deletable": false,
        "nbgrader": {
          "cell_type": "code",
          "checksum": "b811e687dc12fcf07aa8f81b502bcc0e",
          "grade": false,
          "grade_id": "cell-c4d8baa587bac6d4",
          "locked": false,
          "schema_version": 3,
          "solution": true,
          "task": false
        },
        "id": "b4ddb2a2"
      },
      "outputs": [],
      "source": [
        "def comprimento_pg(a, r):\n",
        "    \"\"\"Comprimento da PG de razão  r  começando em  a,  até chegar no +infinito de ponto flutuante\"\"\"\n",
        "    assert a > 0 and r > 1\n",
        "    a, r = float(a), float(r)\n",
        "    new_r = r\n",
        "    inf = float(\"inf\")\n",
        "    count =0\n",
        "    while a*new_r != inf:\n",
        "      new_r = new_r *r\n",
        "      count +=1\n",
        "    return count"
      ]
    },
    {
      "cell_type": "code",
      "execution_count": 3,
      "id": "0535b1c6",
      "metadata": {
        "deletable": false,
        "editable": false,
        "nbgrader": {
          "cell_type": "code",
          "checksum": "e3d30f439c5b7be87076146883dd96d6",
          "grade": true,
          "grade_id": "cell-d738818c07c00d8c",
          "locked": true,
          "points": 1,
          "schema_version": 3,
          "solution": false,
          "task": false
        },
        "id": "0535b1c6"
      },
      "outputs": [],
      "source": [
        "assert 1000 < comprimento_pg(1, 2.) < 2000"
      ]
    },
    {
      "cell_type": "code",
      "execution_count": 4,
      "id": "d87f15fe",
      "metadata": {
        "deletable": false,
        "editable": false,
        "nbgrader": {
          "cell_type": "code",
          "checksum": "f2ec21cc2787db5ee9eec41193ece9b2",
          "grade": true,
          "grade_id": "cell-177b86067a2baf3b",
          "locked": true,
          "points": 1,
          "schema_version": 3,
          "solution": false,
          "task": false
        },
        "id": "d87f15fe"
      },
      "outputs": [],
      "source": [
        "assert 250 < comprimento_pg(1, 10.) < 350"
      ]
    },
    {
      "cell_type": "code",
      "execution_count": 5,
      "id": "64c32b52",
      "metadata": {
        "deletable": false,
        "editable": false,
        "nbgrader": {
          "cell_type": "code",
          "checksum": "16bb2149a37ce71cdebe78895accf530",
          "grade": true,
          "grade_id": "cell-2b3807501148637a",
          "locked": true,
          "points": 1,
          "schema_version": 3,
          "solution": false,
          "task": false
        },
        "id": "64c32b52"
      },
      "outputs": [],
      "source": [
        "assert 250 < comprimento_pg(1e10, 10.) < 350"
      ]
    },
    {
      "cell_type": "markdown",
      "id": "14fa100a",
      "metadata": {
        "id": "14fa100a"
      },
      "source": [
        "## Questão 1.2: Máximo de bisseções\n",
        "\n",
        "Quantas bisseções é possível fazer em um intervalo $[a,b]$ até chegar no limite de precisão do computador?"
      ]
    },
    {
      "cell_type": "code",
      "execution_count": 6,
      "id": "8b9615ed",
      "metadata": {
        "deletable": false,
        "nbgrader": {
          "cell_type": "code",
          "checksum": "4ea44bd8d016b3726cd3347c4d4c7448",
          "grade": false,
          "grade_id": "cell-d1cc08dbefd29ef2",
          "locked": false,
          "schema_version": 3,
          "solution": true,
          "task": false
        },
        "id": "8b9615ed"
      },
      "outputs": [],
      "source": [
        "def bissect_max(a, b):\n",
        "    \"\"\"Conta o número de bisseções no intervalo  [a, b]  até chegar na precisão de representação.\"\"\"\n",
        "    nbiss = 0\n",
        "    distance = abs(a-b)\n",
        "    counter = 0\n",
        "    while counter<200:\n",
        "      counter += 1\n",
        "      distance/=2 \n",
        "      if a+distance ==a:\n",
        "        break\n",
        "    return counter"
      ]
    },
    {
      "cell_type": "code",
      "execution_count": 7,
      "id": "43fc1983",
      "metadata": {
        "deletable": false,
        "editable": false,
        "nbgrader": {
          "cell_type": "code",
          "checksum": "9b502d02a498a3a9e91a63496d396391",
          "grade": true,
          "grade_id": "cell-f1d46061b1a36689",
          "locked": true,
          "points": 1,
          "schema_version": 3,
          "solution": false,
          "task": false
        },
        "id": "43fc1983"
      },
      "outputs": [],
      "source": [
        "assert 50 <= bissect_max(1, 2) <= 56\n",
        "assert 50 <= bissect_max(1, 4) <= 56"
      ]
    },
    {
      "cell_type": "code",
      "execution_count": 8,
      "id": "fcbd42d9",
      "metadata": {
        "deletable": false,
        "editable": false,
        "nbgrader": {
          "cell_type": "code",
          "checksum": "91b424d61087828d8a9fc27c485d9ba6",
          "grade": true,
          "grade_id": "cell-f2a4944177470fbb",
          "locked": true,
          "points": 1,
          "schema_version": 3,
          "solution": false,
          "task": false
        },
        "id": "fcbd42d9"
      },
      "outputs": [],
      "source": [
        "assert bissect_max(1,8) >= bissect_max(1,4)\n",
        "assert bissect_max(1,8) >= bissect_max(2,8)"
      ]
    },
    {
      "cell_type": "code",
      "execution_count": 9,
      "id": "8ab24a58",
      "metadata": {
        "deletable": false,
        "editable": false,
        "nbgrader": {
          "cell_type": "code",
          "checksum": "8a5116fd3d3ae2c19e4d07652617aaa8",
          "grade": true,
          "grade_id": "cell-ac8baba898217b6f",
          "locked": true,
          "points": 1,
          "schema_version": 3,
          "solution": false,
          "task": false
        },
        "id": "8ab24a58"
      },
      "outputs": [],
      "source": [
        "assert bissect_max(1,8) >= bissect_max(3,8)"
      ]
    },
    {
      "cell_type": "markdown",
      "id": "13c4c6fa",
      "metadata": {
        "id": "13c4c6fa"
      },
      "source": [
        "Porque é sempre verdade que `bissect_max(a,b) >= bissect_max(c,d)` se $[c,d] \\subset [a,b]$?"
      ]
    },
    {
      "cell_type": "markdown",
      "id": "c4ab2a8b",
      "metadata": {
        "deletable": false,
        "nbgrader": {
          "cell_type": "markdown",
          "checksum": "01c2ea85d91571e8954360a862f60828",
          "grade": true,
          "grade_id": "cell-93416178f2ffc8aa",
          "locked": false,
          "points": 2,
          "schema_version": 3,
          "solution": true,
          "task": false
        },
        "id": "c4ab2a8b"
      },
      "source": [
        "Porque quanto menor for a distância em um intervalo $[a,b]$ dado de entrada para a função bissect_max($a$, $b$), menos iterações serão necessárias até que se chegue no limite de precisão do computador, ou seja, mesmo que o método da bisseção continue fazendo divisões por $2$, a raiz encontrada não sofrerá alteração de acordo com a precisão. \n",
        "\n",
        "\n",
        "Portanto, considerando o intervalo $[c,d] \\subset [a,b]$, temos como consequência que a distância no intervalo $[c,d]$, representada por $|d-c|$, deve ser menor ou igual a $|b-a|$. Desse modo, serão necessarias menos interações no resultado de bissect_max($c$, $d$), sendo o límite superior dado pelo número de iterações de bissect_max($a$, $b$)."
      ]
    },
    {
      "cell_type": "markdown",
      "id": "e6559602",
      "metadata": {
        "id": "e6559602"
      },
      "source": [
        "## Questão 1.3: Calibrando duas bisseções\n",
        "\n",
        "Qual razão $r$ da PG você usaria para encontrar uma raiz positiva,\n",
        "levando em conta\n",
        "- o número de bisseções para encontrar o intervalo; e\n",
        "- o número de bisseções para encontrar a raiz dentro do intervalo?\n",
        "\n",
        "Explique sua ideia na caixa abaixo, e faça as contas necessárias na caixa seguinte."
      ]
    },
    {
      "cell_type": "markdown",
      "id": "29d27cad",
      "metadata": {
        "deletable": false,
        "nbgrader": {
          "cell_type": "markdown",
          "checksum": "03e8139390f20a09acde20971689aee2",
          "grade": true,
          "grade_id": "cell-cdc5d304cb874a8b",
          "locked": false,
          "points": 2,
          "schema_version": 3,
          "solution": true,
          "task": false
        },
        "id": "29d27cad"
      },
      "source": [
        "O ideal entre as duas operações é encontrar uma razão $r$ que satisfaça ambas as funções sem que o número de iterações seja muito discrepante. \n",
        "Este é o ideal porque, quanto maior for o valor de $r$, menos bisseções serão necessárias para se encontrar o intervalo, enquanto, como vimos acima, quanto maior for o intervalo analisado na bisseção, mais iterações serão necessárias para se encontrar uma raiz dentro da precisão do computador.\n",
        "Assim, o ideal é achar um equilíbrio, de modo que a ordem de grandeza do número de iterações em ambas as funções seja parecido. \n",
        "\n",
        "Para encontrar um $r$ mais próximo do valor ideal, decidimos incrementar de $1$ em $1$. Assim, o menor $r$ encontrado, no exemplo que analisamos, levando em conta o trade-off entre o número de bisseções para encontrar o intervalo e o número de bisseções para encontrar a raiz dentro desse intervalo, foi $r=25331$."
      ]
    },
    {
      "cell_type": "code",
      "execution_count": 10,
      "id": "13dece3e",
      "metadata": {
        "deletable": false,
        "nbgrader": {
          "cell_type": "code",
          "checksum": "d143ee78114b1b3fede985632b26a402",
          "grade": true,
          "grade_id": "cell-7b2b2ed147be726b",
          "locked": false,
          "points": 2,
          "schema_version": 3,
          "solution": true,
          "task": false
        },
        "colab": {
          "base_uri": "https://localhost:8080/"
        },
        "id": "13dece3e",
        "outputId": "ce159b39-baa9-4ed4-91ff-9629f9e31e73"
      },
      "outputs": [
        {
          "output_type": "stream",
          "name": "stdout",
          "text": [
            "69 69 25331.0\n"
          ]
        }
      ],
      "source": [
        "def calibracao(a, r):\n",
        "  n = comprimento_pg(a,r)\n",
        "  while comprimento_pg(a, r) > bissect_max(a*r**(n-1), a*r**(n)):\n",
        "    r += 1\n",
        "    n = comprimento_pg(a,r)\n",
        "  return comprimento_pg(a, r), bissect_max(a*r**(n-1), a*r**(n)), r\n",
        "\n",
        "c_pg, c_bis, new_r = calibracao(1,2.)\n",
        "print(c_pg, c_bis, new_r)"
      ]
    },
    {
      "cell_type": "markdown",
      "id": "611d6f85",
      "metadata": {
        "id": "611d6f85"
      },
      "source": [
        "## Questão 1.4: \"Fase 0\"\n",
        "\n",
        "Agora, implemente uma função que encontra um intervalo onde há uma raiz de $f(x) = y$,\n",
        "sabendo que há uma raiz no intervalo $[1, +\\infty)$."
      ]
    },
    {
      "cell_type": "code",
      "execution_count": 11,
      "id": "08a18dbb",
      "metadata": {
        "deletable": false,
        "nbgrader": {
          "cell_type": "code",
          "checksum": "d772dced7dd99981afdb6922bbf9db98",
          "grade": false,
          "grade_id": "cell-041d37d1e07388cd",
          "locked": false,
          "schema_version": 3,
          "solution": true,
          "task": false
        },
        "id": "08a18dbb"
      },
      "outputs": [],
      "source": [
        "def fase0(f, y):\n",
        "    \"\"\"Retorna um intervalo onde há uma raiz de  f(x) = y.\"\"\"\n",
        "    a, r =1,2\n",
        "    while comprimento_pg(a, r) > bissect_max(a, a*r): \n",
        "      r+= 1\n",
        "    ar = a*r\n",
        "    while (f(a)-y) * (f(ar)-y) > 0:\n",
        "      a,ar = ar, ar*r \n",
        "    return (a,ar)"
      ]
    },
    {
      "cell_type": "code",
      "execution_count": 12,
      "id": "70ede40e",
      "metadata": {
        "deletable": false,
        "editable": false,
        "nbgrader": {
          "cell_type": "code",
          "checksum": "7892487dfc11b480e48663da6e96856b",
          "grade": true,
          "grade_id": "cell-e4cdf4206efc804f",
          "locked": true,
          "points": 1,
          "schema_version": 3,
          "solution": false,
          "task": false
        },
        "id": "70ede40e"
      },
      "outputs": [],
      "source": [
        "def sqr(x):\n",
        "    return x**2\n",
        "\n",
        "a, b = fase0(sqr, 10)\n",
        "assert sqr(a) <= 10 <= sqr(b) or sqr(b) <= 10 <= sqr(a)"
      ]
    },
    {
      "cell_type": "code",
      "execution_count": 13,
      "id": "697dcb98",
      "metadata": {
        "deletable": false,
        "editable": false,
        "nbgrader": {
          "cell_type": "code",
          "checksum": "78f2f14e60f0c2f96368460cf644624e",
          "grade": true,
          "grade_id": "cell-5fde738ed830b7bf",
          "locked": true,
          "points": 1,
          "schema_version": 3,
          "solution": false,
          "task": false
        },
        "id": "697dcb98"
      },
      "outputs": [],
      "source": [
        "def slow_pot(x):\n",
        "    return x**0.1\n",
        "\n",
        "a, b = fase0(slow_pot, 10)\n",
        "assert slow_pot(a) <= 10 <= slow_pot(b) or slow_pot(b) <= 10 <= slow_pot(a)"
      ]
    },
    {
      "cell_type": "code",
      "execution_count": 14,
      "id": "d6af1ba9",
      "metadata": {
        "deletable": false,
        "editable": false,
        "nbgrader": {
          "cell_type": "code",
          "checksum": "ae2b6953cb17dacbb30b7025c66c86f5",
          "grade": true,
          "grade_id": "cell-31d91f4937ad3e8a",
          "locked": true,
          "points": 1,
          "schema_version": 3,
          "solution": false,
          "task": false
        },
        "id": "d6af1ba9"
      },
      "outputs": [],
      "source": [
        "def cauchy(x):\n",
        "    return 1/(1 + x**2)\n",
        "\n",
        "a, b = fase0(cauchy, 1e-10)\n",
        "assert cauchy(a) <= 1e-10 <= cauchy(b) or cauchy(b) <= 1e-10 <= cauchy(a)"
      ]
    },
    {
      "cell_type": "markdown",
      "id": "2a63e8f3",
      "metadata": {
        "id": "2a63e8f3"
      },
      "source": [
        "Agora, modifique a `fase0` para receber valores de $a$ e $r$ quaisquer.\n",
        "Isso permitirá começar a busca tanto para valores positivos como negativos,\n",
        "e também \"no infinito\" ou \"perto de zero\"."
      ]
    },
    {
      "cell_type": "code",
      "execution_count": 15,
      "id": "cddc17f5",
      "metadata": {
        "deletable": false,
        "nbgrader": {
          "cell_type": "code",
          "checksum": "4a745c21a73947c00274be627e96afbd",
          "grade": false,
          "grade_id": "cell-58025fe0b66b2396",
          "locked": false,
          "schema_version": 3,
          "solution": true,
          "task": false
        },
        "id": "cddc17f5"
      },
      "outputs": [],
      "source": [
        "def fase0_geral(f, y, a, r):\n",
        "    \"\"\"Retorna um intervalo contendo uma raiz de  f(x) = y,  usando a PG de termo inicial  a  e razão  r.\"\"\"\n",
        "    assert a != 0\n",
        "    assert r > 0 and abs(r) != 1\n",
        "    ar = a*r\n",
        "    while (f(a)-y) * (f(ar)-y) > 0:\n",
        "      a,ar = ar, ar*r \n",
        "    return (a,ar)"
      ]
    },
    {
      "cell_type": "markdown",
      "id": "1bc4e86d",
      "metadata": {
        "id": "1bc4e86d"
      },
      "source": [
        "Explique os `assert`s iniciais."
      ]
    },
    {
      "cell_type": "markdown",
      "id": "5bf2c801",
      "metadata": {
        "deletable": false,
        "nbgrader": {
          "cell_type": "markdown",
          "checksum": "7186dcdbc7d1ca1e826d92dbd576db7b",
          "grade": true,
          "grade_id": "cell-5b71264c4743cbf5",
          "locked": false,
          "points": 2,
          "schema_version": 3,
          "solution": true,
          "task": false
        },
        "id": "5bf2c801"
      },
      "source": [
        "Os asserts que estão nas células após a definição da função $fase0$, estão garantindo que os valores $a$ e $b$ retornados, representam um intervalo $[a,b]$ que contém a raiz da função $f(x) = y$.\n",
        "\n",
        "Após a modificação da função fase0 para fase0_geral, são incluidos os asserts para $a \\neq 0$, pois, a função definida anteriormente para encontrar o intervalo, possui o intervalo dado por $[a*r^{n-1}, a*r^n]$, e caso $a=0$, teremos que o intervalo será sempre $[0,0]$, pois qualquer valor multiplicado por $a$ resultará em $0$. A mesma lógica se aplica ao caso em que $r=0$\n",
        "\n",
        "Além disso, também devemos garantir que a razão seja $r\\neq 1$, pois, para esse valor, o intervalo encontrado não sofreria alteração ao longo das iterações, pois qualquer valor multiplicado por $1$, é ele mesmo, e o intervalo resultante seria dado sempre por $[a,a]$.\n",
        "\n",
        "Também devemos garantir que a razão $r$ não tenha um valor negativo, já que isso modificaria radicalmente os intervalos a cada iteração, fazendo uma alternância entre valores positivos e negativos:$[a, -a|r|] \\rightarrow [-a|r|, ar^2]$. Desse modo, o intervalo muda de sentido a cada iteração, o que não é interessante no nosso caso, pois sabemos que a raiz deve estar no intervalo $[1,+ \\infty)$."
      ]
    },
    {
      "cell_type": "code",
      "execution_count": 16,
      "id": "b21ce1cd",
      "metadata": {
        "deletable": false,
        "editable": false,
        "nbgrader": {
          "cell_type": "code",
          "checksum": "193e4b69c8a2c793dac71d03138201ae",
          "grade": true,
          "grade_id": "cell-945fc3bf2f130ff1",
          "locked": true,
          "points": 1,
          "schema_version": 3,
          "solution": false,
          "task": false
        },
        "id": "b21ce1cd"
      },
      "outputs": [],
      "source": [
        "a, b = fase0_geral(sqr, 10, -1, 2)\n",
        "assert sqr(a) <= 10 <= sqr(b) or sqr(b) <= 10 <= sqr(a)"
      ]
    },
    {
      "cell_type": "code",
      "execution_count": 17,
      "id": "8f02af0e",
      "metadata": {
        "deletable": false,
        "editable": false,
        "nbgrader": {
          "cell_type": "code",
          "checksum": "025f211f32d02cc342ada5e6fabec61d",
          "grade": true,
          "grade_id": "cell-287e669d1e97c5a5",
          "locked": true,
          "points": 1,
          "schema_version": 3,
          "solution": false,
          "task": false
        },
        "id": "8f02af0e"
      },
      "outputs": [],
      "source": [
        "def xlogx(x):\n",
        "    return x * np.log(x)\n",
        "\n",
        "a, b = fase0_geral(xlogx, -1e-20, 0.5, 0.1)\n",
        "assert xlogx(a) <= -1e-20 <= xlogx(b) or xlogx(b) <= -1e-20 <= xlogx(a)"
      ]
    },
    {
      "cell_type": "markdown",
      "id": "5773beda",
      "metadata": {
        "id": "5773beda"
      },
      "source": [
        "## Questão 1.5: Bisseção final\n",
        "\n",
        "Modifique o código da Bisseção para encontrar a raiz de $f(x) = y$, até a precisão do computador,\n",
        "a partir dos termos de uma PG.\n",
        "\n",
        "Retorne, também, o número de pontos onde você terá avaliado $f$ - isso vai necessitar alterar a função de fase 0."
      ]
    },
    {
      "cell_type": "code",
      "execution_count": 18,
      "id": "dd4248ee",
      "metadata": {
        "deletable": false,
        "nbgrader": {
          "cell_type": "code",
          "checksum": "450f91c6142fe10f15c0d2e549bdd3d5",
          "grade": false,
          "grade_id": "cell-a1349ad9bf427a3c",
          "locked": false,
          "schema_version": 3,
          "solution": true,
          "task": false
        },
        "id": "dd4248ee"
      },
      "outputs": [],
      "source": [
        "def fase0_geral(f, y, a, r):\n",
        "    \"\"\"Retorna um intervalo contendo uma raiz de  f(x) = y,  usando a PG de termo inicial  a  e razão  r.\"\"\"\n",
        "    assert a != 0\n",
        "    assert r > 0 and abs(r) != 1\n",
        "    # YOUR CODE HERE\n",
        "    ar = a*r\n",
        "    temp_fa = f(a)-y\n",
        "    temp_far = (f(ar)-y)\n",
        "    while temp_fa * temp_far > 0:\n",
        "      a,ar = ar, ar*r \n",
        "      temp_fa = temp_far\n",
        "      temp_far = (f(ar)-y)\n",
        "    return (a,ar)\n",
        "    \n",
        "def bisseção_PG(f, y, a, r):\n",
        "    \"\"\"Solução até a precisão da máquina para  f(x) = y.\"\"\"\n",
        "    # YOUR CODE HERE\n",
        "    counter =0\n",
        "    def new_f(x):\n",
        "      nonlocal counter\n",
        "      counter+=1\n",
        "      return f(x)\n",
        "\n",
        "    (a,b) = fase0_geral(new_f,y,a,r)\n",
        "    x = (a+b)/2\n",
        "    temp_f_x = (new_f(x)-y)\n",
        "    temp_f_a = (new_f(a)-y)\n",
        "    temp = temp_f_x*temp_f_a\n",
        "    aux = a+b\n",
        "    while temp_f_x!= 0:\n",
        "        aux = x\n",
        "        temp_f_x = (new_f((a+b)/2)-y)\n",
        "        temp = temp_f_x*temp_f_a\n",
        "        \n",
        "        if temp < 0:\n",
        "            b = x\n",
        "        else:\n",
        "            if temp == 0:\n",
        "                break\n",
        "            a = x\n",
        "            temp_f_a = temp_f_x\n",
        "\n",
        "        x = (a+b)/2\n",
        "        #caso a raiz x nao sofra alteracao dentro da precisao do computador\n",
        "        if (aux == x):\n",
        "          return (x, counter)\n",
        "        \n",
        "    return (x, counter)"
      ]
    },
    {
      "cell_type": "code",
      "execution_count": 19,
      "id": "4dffddf1",
      "metadata": {
        "deletable": false,
        "editable": false,
        "nbgrader": {
          "cell_type": "code",
          "checksum": "b49df4251555160d37f70c9689e4eac0",
          "grade": true,
          "grade_id": "cell-a47d44faa3f14dd6",
          "locked": true,
          "points": 2,
          "schema_version": 3,
          "solution": false,
          "task": false
        },
        "id": "4dffddf1"
      },
      "outputs": [],
      "source": [
        "r, nevals = bisseção_PG(sqr, 1000, 1, 2)\n",
        "assert abs(sqr(r) - 1000) < 1e-13\n",
        "assert 50 <= nevals <= 100"
      ]
    },
    {
      "cell_type": "code",
      "execution_count": 20,
      "id": "73d68946",
      "metadata": {
        "deletable": false,
        "editable": false,
        "nbgrader": {
          "cell_type": "code",
          "checksum": "4c3c25a59ca460c748fabca1db7fc5aa",
          "grade": true,
          "grade_id": "cell-c473465dda9ff5e7",
          "locked": true,
          "points": 1,
          "schema_version": 3,
          "solution": false,
          "task": false
        },
        "id": "73d68946"
      },
      "outputs": [],
      "source": [
        "r, nevals = bisseção_PG(xlogx, 1000, 1, 3)\n",
        "assert abs(xlogx(r) - 1000) < 1e-3\n",
        "assert 50 <= nevals <= 100"
      ]
    },
    {
      "cell_type": "code",
      "execution_count": 21,
      "id": "2e491da8",
      "metadata": {
        "deletable": false,
        "editable": false,
        "nbgrader": {
          "cell_type": "code",
          "checksum": "86ebceea9c789056ce2e570546957def",
          "grade": true,
          "grade_id": "cell-913e3c644f4f2ae3",
          "locked": true,
          "points": 1,
          "schema_version": 3,
          "solution": false,
          "task": false
        },
        "id": "2e491da8"
      },
      "outputs": [],
      "source": [
        "def xex(x):\n",
        "    return x * np.exp(x)\n",
        "\n",
        "r, nevals = bisseção_PG(xex, -1e-30, -1, 10)\n",
        "assert abs(xex(r) + 1e-30) < 1e-40\n",
        "assert 50 <= nevals <= 70"
      ]
    },
    {
      "cell_type": "code",
      "execution_count": 22,
      "id": "0f97f47a",
      "metadata": {
        "deletable": false,
        "editable": false,
        "nbgrader": {
          "cell_type": "code",
          "checksum": "2f90208a0f40026b37a26438df743943",
          "grade": true,
          "grade_id": "cell-b1631c7326b9eb7a",
          "locked": true,
          "points": 1,
          "schema_version": 3,
          "solution": false,
          "task": false
        },
        "id": "0f97f47a"
      },
      "outputs": [],
      "source": [
        "r, nevals = bisseção_PG(xlogx, -1e-20, 0.5, 0.1)\n",
        "assert abs(xlogx(r) + 1e-20) < 1e-30\n",
        "assert 50 <= nevals <= 100"
      ]
    },
    {
      "cell_type": "markdown",
      "id": "f2679164",
      "metadata": {
        "id": "f2679164"
      },
      "source": [
        "Porque a tolerância dos últimos testes é tão pequena?"
      ]
    },
    {
      "cell_type": "markdown",
      "id": "0837f505",
      "metadata": {
        "deletable": false,
        "nbgrader": {
          "cell_type": "markdown",
          "checksum": "8ba806297f9c5eed9be2c37ab37b97c4",
          "grade": true,
          "grade_id": "cell-45e0e0366ba0a5de",
          "locked": false,
          "points": 1,
          "schema_version": 3,
          "solution": true,
          "task": false
        },
        "id": "0837f505"
      },
      "source": [
        "Como temos raizes muito pequenas nesses dois ultimos casos, a precisão relativa pode continuar a mesma e mesmo assim temos uma precisão absoluta muito maior, pois os números que estão sendo representados são muito pequenos. "
      ]
    },
    {
      "cell_type": "markdown",
      "id": "40a5f67a",
      "metadata": {
        "id": "40a5f67a"
      },
      "source": [
        "## Questão 1.6: Generalizando ainda mais\n",
        "\n",
        "Como você adaptaria a busca de um intervalo para encontrar uma raiz de $f(x) = y$ para funções que não são monótonas?\n",
        "\n",
        "Algumas ideias para pensar:\n",
        "\n",
        "- $x \\cos(x)$\n",
        "- $x + \\sin(x)$"
      ]
    },
    {
      "cell_type": "markdown",
      "id": "60923baa",
      "metadata": {
        "deletable": false,
        "nbgrader": {
          "cell_type": "markdown",
          "checksum": "50701947db0d7b1cb1c51c75a0690bd5",
          "grade": true,
          "grade_id": "cell-fdacb4aa36b4346c",
          "locked": false,
          "points": 2,
          "schema_version": 3,
          "solution": true,
          "task": false
        },
        "id": "60923baa"
      },
      "source": [
        "Incluindo uma análise na derivada da função dentro da  $fase0$  (definição do intervalo onde se encontra uma raiz da função  $f$ ), ou seja, devemos analisar a que passo teriamos os mínimos e os máximos, para dividir o intervalo total em intervalos onde a função é monótona. O cálculo desses mínimos e máximos é feito ao encontrar os pontos onde a derivada é igual a  $0$.\n",
        "\n",
        "Se a derivada da função é continua, entre os pontos mínimos e máximos, a função é monótona, então podemos buscar um intervalo para a bisseção que contenha uma raiz.\n",
        "\n",
        "Outra ideia, seria fazer um estudo analítico do que pode fazer a função trocar de sinal, então, por exemplo, na função  $xcos(x)$  sabemos que quem controla o sinal da função é o cosseno, então é fácil calcular os pontos onde a função muda de sinal, e a partir de então, aplicar uma bisseção entre esses intervalos que contenham uma troca de sinal."
      ]
    },
    {
      "cell_type": "markdown",
      "id": "e42fee2f",
      "metadata": {
        "id": "e42fee2f"
      },
      "source": [
        "# Questão 2: O Método da Secante\n",
        "\n",
        "Uma variante do método de Newton, que dispensa o uso da derivada,\n",
        "é o método da secante.\n",
        "\n",
        "A ideia é simples: em vez de usar a tangente, dada pela derivada $f'(x)$,\n",
        "o método da secante usa 2 pontos consecutivos $x_0$ e $x_1$ para calcular uma **secante** ao gráfico de $f$,\n",
        "e com isto determinar uma interseção desta reta com o eixo dos $x$.\n",
        "Esta interseção é chamada de $x_2$, e o método prossegue construindo $x_3$ a partir de $x_1$ e $x_2$\n",
        "e assim por diante."
      ]
    },
    {
      "cell_type": "markdown",
      "id": "0bd926ca",
      "metadata": {
        "id": "0bd926ca"
      },
      "source": [
        "## Questão 2.1: Equações\n",
        "\n",
        "Dê a equação da reta secante a $f$, passando pelos pontos $x_0$ e $x_1$."
      ]
    },
    {
      "cell_type": "markdown",
      "id": "6d8bb7e2",
      "metadata": {
        "deletable": false,
        "nbgrader": {
          "cell_type": "markdown",
          "checksum": "4d579764b004be4216e10efc133b13f2",
          "grade": true,
          "grade_id": "cell-1eedd3eb4d36b88f",
          "locked": false,
          "points": 2,
          "schema_version": 3,
          "solution": true,
          "task": false
        },
        "id": "6d8bb7e2"
      },
      "source": [
        "Sabemos que a reta secante será uma reta e, portanto, terá forma $y =ax +b$, como ela passa por $x_0$ e $x_1$, temos: $f(x_1) = a \\cdot x_1 + b$ e $f(x_0) = a \\cdot x_0 + b $. Dessa forma podemos fazer:\n",
        "\n",
        "$$ f(x_1) - f(x_0) = a \\cdot x_1 + b - a \\cdot x_0 -b $$\n",
        "\n",
        "$$ f(x_1) - f(x_0) = a \\cdot( x_1 - x_0) $$\n",
        "\n",
        "$$ a= \\frac{f(x_1) - f(x_0)}{x_1 - x_0} $$\n",
        "\n",
        "Para calcular $b$, podemos substituir em $f(x1)$ ou $f(x0)$. Fazendo com $f(x1)$:\n",
        "\n",
        "$$y = ax + b$$\n",
        "\n",
        "$$f(x_1) = \\frac{f(x_1) - f(x_0)}{x_1 - x_0} \\cdot x_1 + b$$\n",
        "\n",
        "$$b = f(x_1)- \\frac{f(x_1) - f(x_0)}{x_1 - x_0} \\cdot x_1 $$\n",
        "\n",
        "Logo temos que a reta é:\n",
        "$$y= \\frac{f(x_1) - f(x_0)}{x_1 - x_0} \\cdot x + f(x_1) -  \\frac{f(x_1) - f(x_0)}{x_1 - x_0} \\cdot x_1  $$\n"
      ]
    },
    {
      "cell_type": "markdown",
      "id": "8b4f4fea",
      "metadata": {
        "id": "8b4f4fea"
      },
      "source": [
        "Deduza a equação do \"passo da secante\", que a partir $x_0$ e $x_1$ calcula a raiz da secante ao gráfico de $f$."
      ]
    },
    {
      "cell_type": "markdown",
      "id": "ad0a38a4",
      "metadata": {
        "deletable": false,
        "nbgrader": {
          "cell_type": "markdown",
          "checksum": "17ce2d83adc3369aa6ca03570dd844c3",
          "grade": true,
          "grade_id": "cell-89fe6d21bb0d4154",
          "locked": false,
          "points": 1,
          "schema_version": 3,
          "solution": true,
          "task": false
        },
        "id": "ad0a38a4"
      },
      "source": [
        "Continuando da equação anterior com $y=0$:\n",
        "\n",
        "$$ \\frac{f(x_1) - f(x_0)}{x_1 - x_0} \\cdot x + f(x1) -  \\frac{f(x_1) - f(x_0)}{x_1 - x_0} \\cdot x_1  =0 $$\n",
        "\n",
        "$$ \\frac{f(x_1) - f(x_0)}{x_1 - x_0} \\cdot x = - f(x1) +  \\frac{f(x_1) - f(x_0)}{x_1 - x_0} \\cdot x_1 $$\n",
        "\n",
        "$$x = x_1 - f(x_1) \\cdot \\frac{x_1 - x_0}{f(x_1) - f(x_0)} $$"
      ]
    },
    {
      "cell_type": "markdown",
      "id": "fde98416",
      "metadata": {
        "id": "fde98416"
      },
      "source": [
        "O método da secante é inspirado no método de Newton.\n",
        "Explique porque ele também pode entrar em _loop_ infinito."
      ]
    },
    {
      "cell_type": "markdown",
      "id": "718e61c1",
      "metadata": {
        "deletable": false,
        "nbgrader": {
          "cell_type": "markdown",
          "checksum": "a69c486567ff0ed4298e5e42e893b20e",
          "grade": true,
          "grade_id": "cell-8553d8123bdac585",
          "locked": false,
          "points": 2,
          "schema_version": 3,
          "solution": true,
          "task": false
        },
        "id": "718e61c1"
      },
      "source": [
        "Podemos notar que se $f(x_1)- f(x_0)$ for igual a 0, o valor do \"passo\" será indefinido, logo não será possível encontrar uma raiz. É fácil perceber o motivo disso tendo em vista que se $f(x_1) - f(x_0)$ temos uma reta horizontal que não cruza o eixo $x$."
      ]
    },
    {
      "cell_type": "markdown",
      "id": "11fbb687",
      "metadata": {
        "id": "11fbb687"
      },
      "source": [
        "## Questão 2.2: Implementação\n",
        "\n",
        "Escreva o método da secante para encontrar uma raiz de $f$.\n",
        "\n",
        "Retorne todos os pontos visitados pelo método."
      ]
    },
    {
      "cell_type": "code",
      "execution_count": 23,
      "id": "b664f04d",
      "metadata": {
        "deletable": false,
        "nbgrader": {
          "cell_type": "code",
          "checksum": "be605f1aff4c09290a66fffec94dcaf9",
          "grade": false,
          "grade_id": "cell-c0fbfc192b4aedfb",
          "locked": false,
          "schema_version": 3,
          "solution": true,
          "task": false
        },
        "id": "b664f04d"
      },
      "outputs": [],
      "source": [
        "def secante(f, x0, x1, xtol=1e-8, ytol=1e-8, maxiter=100):\n",
        "    \"\"\"Encontra uma raiz de  f,  começando pelos pontos  x0 e x1,  pelo método da secante.\"\"\"\n",
        "    points = [x0,x1]\n",
        "    while abs(x0-x1) > xtol and abs(f(x1)) > ytol:\n",
        "      temp = x1\n",
        "      x1 = x1 - (f(x1)*(x1-x0))/(f(x1) - f(x0))\n",
        "      x0 = temp\n",
        "      points.append(x1)\n",
        "    return points"
      ]
    },
    {
      "cell_type": "code",
      "execution_count": 24,
      "id": "8ae0b405",
      "metadata": {
        "deletable": false,
        "editable": false,
        "nbgrader": {
          "cell_type": "code",
          "checksum": "b1d2e96ecf150b8b27df4afec816ab7e",
          "grade": true,
          "grade_id": "cell-b2d65d0ef437e218",
          "locked": true,
          "points": 2,
          "schema_version": 3,
          "solution": false,
          "task": false
        },
        "id": "8ae0b405"
      },
      "outputs": [],
      "source": [
        "def f2(x):\n",
        "    return x**2 - 2\n",
        "\n",
        "pts = secante(f2, 0, 1)\n",
        "assert 5 <= len(pts) <= 10\n",
        "assert abs(f2(pts[-1])) <= 1e-5"
      ]
    },
    {
      "cell_type": "code",
      "execution_count": 25,
      "id": "ea7f878d",
      "metadata": {
        "deletable": false,
        "editable": false,
        "nbgrader": {
          "cell_type": "code",
          "checksum": "f8f1a905a8d07acedd052986f4b5858f",
          "grade": true,
          "grade_id": "cell-10e8cfbc06341a84",
          "locked": true,
          "points": 2,
          "schema_version": 3,
          "solution": false,
          "task": false
        },
        "id": "ea7f878d"
      },
      "outputs": [],
      "source": [
        "def f3(x):\n",
        "    return x**3 - 3\n",
        "\n",
        "pts = secante(f3, 0, 1)\n",
        "\n",
        "assert 8 <= len(pts) <= 12\n",
        "assert abs(f3(pts[-1])) <= 1e-5"
      ]
    },
    {
      "cell_type": "markdown",
      "id": "1dc3e616",
      "metadata": {
        "id": "1dc3e616"
      },
      "source": [
        "## Questão 2.3: Gráficos\n",
        "\n",
        "Faça o gráfico da distância (em valor absoluto)\n",
        "entre os pontos produzidos pelo método da secante e a raiz verdadeira,\n",
        "para as funções $f2$ e $f3$ acima."
      ]
    },
    {
      "cell_type": "code",
      "execution_count": 26,
      "id": "0f28feb7",
      "metadata": {
        "deletable": false,
        "nbgrader": {
          "cell_type": "code",
          "checksum": "368aefb75984d95aa191bbde70a3dbda",
          "grade": true,
          "grade_id": "cell-1a8126f735c32bfe",
          "locked": false,
          "points": 2,
          "schema_version": 3,
          "solution": true,
          "task": false
        },
        "colab": {
          "base_uri": "https://localhost:8080/",
          "height": 279
        },
        "id": "0f28feb7",
        "outputId": "6a8b41f2-569d-4d84-9137-904f59c8b146"
      },
      "outputs": [
        {
          "output_type": "display_data",
          "data": {
            "image/png": "[encoded data removed]",
            "text/plain": [
              "<Figure size 432x288 with 1 Axes>"
            ]
          },
          "metadata": {
            "needs_background": "light"
          }
        }
      ],
      "source": [
        "results_f2 = secante(f2, 0, 1)\n",
        "xs_f2 = [i+1 for i in range(len(results_f2))]\n",
        "results_f3 = secante(f3, 0, 1)\n",
        "xs_f3 = [i+1 for i in range(len(results_f3))]\n",
        "error_f2 = [abs(np.sqrt(2) -x ) for x in results_f2]\n",
        "error_f3 = [abs(3**(1/3) -x ) for x in results_f3]\n",
        "plt.plot( xs_f2, error_f2,label='f2')\n",
        "plt.plot(xs_f3, error_f3, label='f3' )\n",
        "plt.yscale('log')\n",
        "plt.xlabel('iteracao')\n",
        "plt.ylabel('erro')\n",
        "plt.legend()\n",
        "ax = plt.gca()\n",
        "plt.show()"
      ]
    },
    {
      "cell_type": "code",
      "execution_count": 27,
      "id": "07500378",
      "metadata": {
        "deletable": false,
        "editable": false,
        "nbgrader": {
          "cell_type": "code",
          "checksum": "ec4c604f06e1cb761ad5f495df6ee58b",
          "grade": true,
          "grade_id": "cell-282f1138902672b7",
          "locked": true,
          "points": 2,
          "schema_version": 3,
          "solution": false,
          "task": false
        },
        "id": "07500378"
      },
      "outputs": [],
      "source": [
        "assert len(ax.lines) == 2\n",
        "assert len(ax.get_legend().texts) == 2"
      ]
    },
    {
      "cell_type": "markdown",
      "id": "b0711bad",
      "metadata": {
        "id": "b0711bad"
      },
      "source": [
        "De que forma(s) este gráfico parece com o equivalente para o Método de Newton?"
      ]
    },
    {
      "cell_type": "markdown",
      "id": "c61640e5",
      "metadata": {
        "deletable": false,
        "nbgrader": {
          "cell_type": "markdown",
          "checksum": "ffe721127faf25d32f300ee6b9fb271a",
          "grade": true,
          "grade_id": "cell-ee7f5cb912169859",
          "locked": false,
          "points": 2,
          "schema_version": 3,
          "solution": true,
          "task": false
        },
        "id": "c61640e5"
      },
      "source": [
        "Esse gráfico possui duas semelhanças importantes com um gráfico equivalente para o método de Newton. A primeira é que conforme o número de iterações aumenta, o erro diminui, ou seja, a função converge. A segunda é que, com um aumento linear no número de iterações, temos uma diminuição exponencial do erro."
      ]
    },
    {
      "cell_type": "markdown",
      "id": "303498e6",
      "metadata": {
        "id": "303498e6"
      },
      "source": [
        "## Questão 2.4: Generalização\n",
        "\n",
        "Agora, transforme o seu código para encontrar uma raiz de $f(x) = y$."
      ]
    },
    {
      "cell_type": "code",
      "execution_count": 28,
      "id": "b33c90ae",
      "metadata": {
        "deletable": false,
        "nbgrader": {
          "cell_type": "code",
          "checksum": "38f4b10e4422f38970931b9395bc86b9",
          "grade": false,
          "grade_id": "cell-37ecabe4fbd2ab4d",
          "locked": false,
          "schema_version": 3,
          "solution": true,
          "task": false
        },
        "id": "b33c90ae"
      },
      "outputs": [],
      "source": [
        "def secante_inv(f, y, x0, x1, xtol=1e-8, ytol=1e-8, maxiter=100):\n",
        "    \"\"\"Encontra uma solução de  f(x) = y,  começando pelos pontos  x0 e x1,  pelo método da secante.\"\"\"\n",
        "    points = [x0,x1]\n",
        "    iter =0\n",
        "    while abs(x0-x1) > xtol and abs(f(x1)) > ytol and iter < maxiter :\n",
        "      temp = x1\n",
        "      passo = ((f(x1)-y)*(x1-x0))/(f(x1) - f(x0))\n",
        "      x1 = x1 - passo\n",
        "      x0 = temp\n",
        "      points.append(x1)\n",
        "      iter+=1\n",
        "    return points\n",
        "def sqr(x):\n",
        "    return x**2"
      ]
    },
    {
      "cell_type": "code",
      "execution_count": 29,
      "id": "61c413fd",
      "metadata": {
        "deletable": false,
        "editable": false,
        "nbgrader": {
          "cell_type": "code",
          "checksum": "a3797d32e7c37dcd8f6755113f204a46",
          "grade": true,
          "grade_id": "cell-2a826bf7700bb0c1",
          "locked": true,
          "points": 2,
          "schema_version": 3,
          "solution": false,
          "task": false
        },
        "id": "61c413fd"
      },
      "outputs": [],
      "source": [
        "pts = secante_inv(sqr, 2, 0, 1)\n",
        "pts_more = secante_inv(sqr, 2, 0, 1, xtol=1e-15, ytol=1e-15)\n",
        "\n",
        "assert len(pts) < len(pts_more)\n",
        "assert abs(pts[-1]**2 - 2) > abs(pts_more[-1]**2 - 2)"
      ]
    },
    {
      "cell_type": "markdown",
      "id": "94d8a895",
      "metadata": {
        "id": "94d8a895"
      },
      "source": [
        "Explique porque estes dois testes fazem sentido."
      ]
    },
    {
      "cell_type": "markdown",
      "id": "f54e7928",
      "metadata": {
        "deletable": false,
        "nbgrader": {
          "cell_type": "markdown",
          "checksum": "e7a2214b88ea6f45f0e17bec2b3abed1",
          "grade": true,
          "grade_id": "cell-d68950348b9d12ac",
          "locked": false,
          "points": 2,
          "schema_version": 3,
          "solution": true,
          "task": false
        },
        "id": "f54e7928"
      },
      "source": [
        "O primeiro teste verifica se o número de iterações de pts_more foi maior, o que é de se esperar, pois é passada uma tolerância menor que a “default” e, assim, são necessárias mais iterações para função calcular uma solução boa o suficiente (ou seja, que faça o loop terminar quando ele verifica a tolerância). \n",
        "\n",
        "O segundo teste verifica se a solução encontrada pelo pts_more é mais próxima da real do que a encontrada pelo pts. Isso é de se esperar considerando que, como vimos antes, pts_more fez mais iterações para encontrar uma solução melhor (já que foi passado uma tolerância mínima menor na chamada de função), assim, como o método converge, é de se esperar que a solução encontrada seja mais próxima do ótimo."
      ]
    },
    {
      "cell_type": "code",
      "execution_count": 30,
      "id": "4858a546",
      "metadata": {
        "deletable": false,
        "editable": false,
        "nbgrader": {
          "cell_type": "code",
          "checksum": "d0ffe03e3420e559d6ae80d07b652b9c",
          "grade": true,
          "grade_id": "cell-d46c38019a769e5c",
          "locked": true,
          "points": 1,
          "schema_version": 3,
          "solution": false,
          "task": false
        },
        "id": "4858a546"
      },
      "outputs": [],
      "source": [
        "assert len(pts_more) == len(pts) + 1"
      ]
    },
    {
      "cell_type": "markdown",
      "id": "2baad518",
      "metadata": {
        "id": "2baad518"
      },
      "source": [
        "Explique porque este teste mostra a velocidade do método da secante."
      ]
    },
    {
      "cell_type": "markdown",
      "id": "f11e204f",
      "metadata": {
        "deletable": false,
        "nbgrader": {
          "cell_type": "markdown",
          "checksum": "02463ec64d4184c21b4cc8b7bb8d92d9",
          "grade": true,
          "grade_id": "cell-d3d4b8bf63db3bdb",
          "locked": false,
          "points": 2,
          "schema_version": 3,
          "solution": true,
          "task": false
        },
        "id": "f11e204f"
      },
      "source": [
        "Isso mostra a velocidade do método da secante, pois conseguimos um aumento exponencial da precisão(com a tolerância indo de $10^{-8}$ para a $10^{-15}$) com apenas uma iteração a mais, ou seja, uma mudança linear no numero de iteracoes gera um ganho exponencial na acurácia."
      ]
    },
    {
      "cell_type": "markdown",
      "id": "248389f5",
      "metadata": {
        "id": "248389f5"
      },
      "source": [
        "## Questão 2.5: Mais gráficos!\n",
        "\n",
        "Para vários valores de $y$, faça em um mesmo eixo o gráfico da distância até a raiz\n",
        "para o método da secante resolver $x^2 = y$, começando de $(0, 1)$.\n",
        "\n",
        "Em particular, encontre valores de $y$ que façam que o método da secante demore (bem) mais do que para $y = 2$."
      ]
    },
    {
      "cell_type": "code",
      "execution_count": 31,
      "id": "1dc9c744",
      "metadata": {
        "deletable": false,
        "nbgrader": {
          "cell_type": "code",
          "checksum": "94306e8436d2551db582a6e2cde572a1",
          "grade": true,
          "grade_id": "cell-a638b886004599a3",
          "locked": false,
          "points": 2,
          "schema_version": 3,
          "solution": true,
          "task": false
        },
        "colab": {
          "base_uri": "https://localhost:8080/",
          "height": 279
        },
        "id": "1dc9c744",
        "outputId": "d33faad0-24be-43e4-8264-85a349b23ebb"
      },
      "outputs": [
        {
          "output_type": "display_data",
          "data": {
            "image/png": "[encoded data removed]",
            "text/plain": [
              "<Figure size 432x288 with 1 Axes>"
            ]
          },
          "metadata": {
            "needs_background": "light"
          }
        }
      ],
      "source": [
        "def f(x):\n",
        "  return x**2\n",
        "\n",
        "ys = [0, 0.9 , 2.0, 10**4, 10**5, 10**6]\n",
        "for y in ys:\n",
        "  result = secante_inv(f, y, 0, 1)\n",
        "  xs = [i+1 for i in range(len(result))]\n",
        "  error = [abs(x**2-y) for x in result]\n",
        "  plt.plot( xs, error,label=f\"y={y}\")\n",
        "\n",
        "plt.yscale('log')\n",
        "plt.xlabel('iteracao')\n",
        "plt.ylabel('erro')\n",
        "plt.legend()\n",
        "ax = plt.gca()\n",
        "plt.show()"
      ]
    },
    {
      "cell_type": "code",
      "execution_count": 32,
      "id": "1660ade2",
      "metadata": {
        "deletable": false,
        "editable": false,
        "nbgrader": {
          "cell_type": "code",
          "checksum": "fb38ce5382170ff93060c5d42a333bd3",
          "grade": true,
          "grade_id": "cell-a1a0f56083060410",
          "locked": true,
          "points": 1,
          "schema_version": 3,
          "solution": false,
          "task": false
        },
        "id": "1660ade2"
      },
      "outputs": [],
      "source": [
        "assert len(ax.lines) >= 5"
      ]
    },
    {
      "cell_type": "code",
      "execution_count": 33,
      "id": "803229ec",
      "metadata": {
        "deletable": false,
        "editable": false,
        "nbgrader": {
          "cell_type": "code",
          "checksum": "cacb8d0c2e403891bb689749b06b7088",
          "grade": true,
          "grade_id": "cell-4eab8247581ab2cd",
          "locked": true,
          "points": 1,
          "schema_version": 3,
          "solution": false,
          "task": false
        },
        "id": "803229ec"
      },
      "outputs": [],
      "source": [
        "assert len(ax.get_legend().texts) >= 5"
      ]
    },
    {
      "cell_type": "code",
      "execution_count": 34,
      "id": "e56935f3",
      "metadata": {
        "deletable": false,
        "editable": false,
        "nbgrader": {
          "cell_type": "code",
          "checksum": "be0bd7c43554a921411a9e03513eab64",
          "grade": true,
          "grade_id": "cell-09546580c7794f3d",
          "locked": true,
          "points": 1,
          "schema_version": 3,
          "solution": false,
          "task": false
        },
        "id": "e56935f3"
      },
      "outputs": [],
      "source": [
        "xmax = max(max(l.get_xdata()) for l in ax.lines)\n",
        "assert xmax >= 18"
      ]
    },
    {
      "cell_type": "markdown",
      "id": "926122dd",
      "metadata": {
        "id": "926122dd"
      },
      "source": [
        "Explique o comportamento que observado."
      ]
    },
    {
      "cell_type": "markdown",
      "id": "9b599cdd",
      "metadata": {
        "deletable": false,
        "nbgrader": {
          "cell_type": "markdown",
          "checksum": "1da52c2361f00426a3332a6d18e43bd6",
          "grade": true,
          "grade_id": "cell-07cedca930738508",
          "locked": false,
          "points": 2,
          "schema_version": 3,
          "solution": true,
          "task": false
        },
        "id": "9b599cdd"
      },
      "source": [
        "Podemos ver que quanto maior o valor de $y$ dado, maior o número de iterações para a função convergir. Isso é esperado, pois no cálculo do passo temos $(f(x_1)-y) \\cdot \\frac{x_1 - x_0}{f(x_1) - f(x_0)}$, assim quanto maior o $y$ maior o valor do primeiro passado dado, dessa forma, como a raiz nao muda tanto, já que ela fica proporcional à raiz de $y$, temos que o $x_1$ a ser gerado será longe dela e, assim, fará com que a função demore mais para convergir.\n"
      ]
    },
    {
      "cell_type": "markdown",
      "id": "86c80dd8",
      "metadata": {
        "id": "86c80dd8"
      },
      "source": [
        "## Questão 2.6: Bugs finais\n",
        "\n",
        "Observe o código abaixo:"
      ]
    },
    {
      "cell_type": "code",
      "execution_count": 35,
      "id": "280cd3de",
      "metadata": {
        "deletable": false,
        "editable": false,
        "nbgrader": {
          "cell_type": "code",
          "checksum": "8c272caa101fb97eb0819471ef97746e",
          "grade": false,
          "grade_id": "cell-38d2ebb71c52ccf3",
          "locked": true,
          "schema_version": 3,
          "solution": false,
          "task": false
        },
        "colab": {
          "base_uri": "https://localhost:8080/"
        },
        "id": "280cd3de",
        "outputId": "475eca9f-98ae-4654-c426-8d74bc613bc6"
      },
      "outputs": [
        {
          "output_type": "execute_result",
          "data": {
            "text/plain": [
              "[0, 1, 36.787944117144235, 1.0000000000000142, 1.0000000000000242]"
            ]
          },
          "metadata": {},
          "execution_count": 35
        }
      ],
      "source": [
        "secante_inv(xex, 100, 0, 1)"
      ]
    },
    {
      "cell_type": "markdown",
      "id": "c18f74a0",
      "metadata": {
        "id": "c18f74a0"
      },
      "source": [
        "Porquê o método da secante terminou longe demais de uma raiz?"
      ]
    },
    {
      "cell_type": "markdown",
      "id": "db399c18",
      "metadata": {
        "deletable": false,
        "nbgrader": {
          "cell_type": "markdown",
          "checksum": "3e0069179f465d15ade1df8a01d0d99a",
          "grade": true,
          "grade_id": "cell-220cfe43327adf0f",
          "locked": false,
          "points": 2,
          "schema_version": 3,
          "solution": true,
          "task": false
        },
        "id": "db399c18"
      },
      "source": [
        "Isso aconteceu, pois a função cresce de forma distinta com $0 \\leq x \\leq 1$ e com $x>1$, já que no primeiro caso, como $x$ ainda é menor que $1$, a exponencial não tem um efeito tão pronunciado, porém, com $x$ maior que $1$, a exponencial passa a dominar e a função cresce de forma significativamente mais rápida. Assim, quando fazemos a secante começando com os pontos $0$ e $1$, pegamos um próximo ponto distante que faz a função explodir, e então, ao calcularmos o passo, onde temos uma divisão por $f(x_1) - f(x_0)$(que será um número muito grande), esse ficará muito pequeno e a função não vai convergir.  "
      ]
    },
    {
      "cell_type": "markdown",
      "id": "d3c69482",
      "metadata": {
        "id": "d3c69482"
      },
      "source": [
        "O que poderia ser feito para evitar este tipo de situação?"
      ]
    },
    {
      "cell_type": "markdown",
      "id": "dc3b35de",
      "metadata": {
        "deletable": false,
        "nbgrader": {
          "cell_type": "markdown",
          "checksum": "8e9314217b8bcf97e1af3d58d5e59f19",
          "grade": true,
          "grade_id": "cell-a487e6248cbf174e",
          "locked": false,
          "points": 2,
          "schema_version": 3,
          "solution": true,
          "task": false
        },
        "id": "dc3b35de"
      },
      "source": [
        "Poderíamos escolher um outro par de ponto inicial, onde o primeiro fosse pelo menos $1$(pelos motivos descritos acima), como $1$ e $2$. Fizemos esse exemplo abaixo e podemos ver que a função de fato converge."
      ]
    },
    {
      "cell_type": "code",
      "source": [
        "value = secante_inv(xex, 100, 1, 2)\n",
        "print(xex(value[-1])-100)"
      ],
      "metadata": {
        "colab": {
          "base_uri": "https://localhost:8080/"
        },
        "id": "Eu_8tjE6yO_S",
        "outputId": "b595e822-fc51-4b29-f6cc-d43fd04c60e1"
      },
      "id": "Eu_8tjE6yO_S",
      "execution_count": 36,
      "outputs": [
        {
          "output_type": "stream",
          "name": "stdout",
          "text": [
            "2.2737367544323206e-13\n"
          ]
        }
      ]
    }
  ],
  "metadata": {
    "kernelspec": {
      "display_name": "Python 3 (ipykernel)",
      "language": "python",
      "name": "python3"
    },
    "language_info": {
      "codemirror_mode": {
        "name": "ipython",
        "version": 3
      },
      "file_extension": ".py",
      "mimetype": "text/x-python",
      "name": "python",
      "nbconvert_exporter": "python",
      "pygments_lexer": "ipython3",
      "version": "3.9.5"
    },
    "colab": {
      "name": "Mayara_Rodrigo_Projeto1.ipynb",
      "provenance": []
    }
  },
  "nbformat": 4,
  "nbformat_minor": 5
}