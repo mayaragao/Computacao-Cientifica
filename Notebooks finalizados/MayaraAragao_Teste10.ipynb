{
  "cells": [
    {
      "cell_type": "markdown",
      "metadata": {
        "id": "Lr1TSdT32mD8"
      },
      "source": [
        "![CC-BY-SA](https://mirrors.creativecommons.org/presskit/buttons/88x31/svg/by-sa.svg)\n",
        "\n",
        "\n",
        "This notebook was created by [Bernardo Freitas Paulo da Costa](http://www.im.ufrj.br/bernardofpc),\n",
        "and is licensed under Creative Commons BY-SA."
      ]
    },
    {
      "cell_type": "markdown",
      "metadata": {
        "id": "9ZdpSbS82mEE"
      },
      "source": [
        "Antes de enviar este Teste, verifique que tudo está funcionando como esperado.\n",
        "Por exemplo, **rode o código inteiro, do zero**.\n",
        "Para isso, vá no menu, escolha _Kernel_, depois _Restart & Run All_.\n",
        "\n",
        "Verifique, também, que você respondeu todas as questões:\n",
        "* as questões de código têm `YOUR CODE HERE` (e você pode apagar o `raise NotImplemented` ao incluir sua resposta)\n",
        "* as questões discursivas têm \"YOUR ANSWER HERE\"."
      ]
    },
    {
      "cell_type": "markdown",
      "metadata": {
        "id": "0xZ2zZ3r2mEI"
      },
      "source": [
        "---"
      ]
    },
    {
      "cell_type": "code",
      "execution_count": 1,
      "metadata": {
        "deletable": false,
        "editable": false,
        "nbgrader": {
          "cell_type": "code",
          "checksum": "bf7c09313bea879e38dc879f2732c044",
          "grade": false,
          "grade_id": "cell-a6bbe291d9334a49",
          "locked": true,
          "schema_version": 3,
          "solution": false,
          "task": false
        },
        "id": "WzRxQpcO2mEI"
      },
      "outputs": [],
      "source": [
        "import numpy as np\n",
        "import matplotlib.pyplot as plt\n",
        "\n",
        "from numpy.linalg import norm"
      ]
    },
    {
      "cell_type": "markdown",
      "metadata": {
        "id": "Zm7dQlsg2mEK"
      },
      "source": [
        "# Parte 1: Iteração de Rayleigh\n",
        "\n",
        "Vimos que podemos iterar um vetor $v$ pela matriz $A$, obtendo a sequência de vetores $A^nv$, por multiplicações sucessivas, e que isso permite encontrar um autovetor."
      ]
    },
    {
      "cell_type": "markdown",
      "metadata": {
        "id": "fipKA9m_2mEL"
      },
      "source": [
        "## Questão 1\n",
        "\n",
        "Implemente uma função `itera(A,v,tol,maxiter)` que itera o vetor $v$, normalizando a cada iteração.\n",
        "\n",
        "O método para quando o relativo entre $Av_k$ e $\\lambda_k v_k$ for menor do que `tol`,\n",
        "ou após realizar `maxiter` iterações.\n",
        "\n",
        "A função retorna `(vs, ls)`, respectivamente:\n",
        "- as estimativas do autovetor (com norma 1);\n",
        "- as estimativas correspondentes para o autovalor."
      ]
    },
    {
      "cell_type": "code",
      "execution_count": 2,
      "metadata": {
        "deletable": false,
        "nbgrader": {
          "cell_type": "code",
          "checksum": "1435c4398daab302a2c0c4faefd57a7c",
          "grade": false,
          "grade_id": "cell-257384f421cba661",
          "locked": false,
          "schema_version": 3,
          "solution": true
        },
        "id": "LHANxn-P2mEL"
      },
      "outputs": [],
      "source": [
        "def itera(A,v, tol=1e-6, maxiter=1000):\n",
        "    v = np.asarray(v)\n",
        "    A = np.asarray(A)\n",
        "    n,m = np.shape(A)\n",
        "    assert n==m, 'A must be square'\n",
        "    v /= norm(v) #normalizando\n",
        "    vs = [] \n",
        "    ls = []\n",
        "\n",
        "    iter = 0\n",
        "    while( iter<=maxiter ):\n",
        "      v = A@v\n",
        "      v /= norm(v)\n",
        "      l = np.dot(v, A@v)\n",
        "      err = norm((A@v)/l - v) #erro relativo\n",
        "\n",
        "      ls.append(l)\n",
        "      vs.append(v)\n",
        "\n",
        "      iter+=1\n",
        "      if (err <= tol):\n",
        "        return (vs, ls)\n",
        "    return (vs, ls)"
      ]
    },
    {
      "cell_type": "code",
      "execution_count": 3,
      "metadata": {
        "deletable": false,
        "editable": false,
        "nbgrader": {
          "cell_type": "code",
          "checksum": "8b7df67a9e78f0a53d9441033a1e39cc",
          "grade": true,
          "grade_id": "cell-80f43e99a64ee409",
          "locked": true,
          "points": 1,
          "schema_version": 3,
          "solution": false
        },
        "id": "5o_FsJAX2mEN"
      },
      "outputs": [],
      "source": [
        "# Autovetores conhecidos\n",
        "A = [[1,2],[2,1]]\n",
        "alvo = np.array([1,1])/np.sqrt(2)\n",
        "\n",
        "vs, ls = itera(A,[1.,2])\n",
        "\n",
        "assert(abs(ls[-1] - 3) < 1e-6)\n",
        "assert(all(abs(vs[-1] - alvo) < 1e-6))\n",
        "assert(10 < len(ls) < 20)"
      ]
    },
    {
      "cell_type": "code",
      "execution_count": 4,
      "metadata": {
        "deletable": false,
        "editable": false,
        "nbgrader": {
          "cell_type": "code",
          "checksum": "e16a43cb529a8a14fa223f26bc7a92fc",
          "grade": true,
          "grade_id": "cell-abf4f0438eefa28a",
          "locked": true,
          "points": 1,
          "schema_version": 3,
          "solution": false
        },
        "id": "h7kbPsqh2mEg"
      },
      "outputs": [],
      "source": [
        "# Autovetores conhecidos\n",
        "A = [[1,2],[2,1]]\n",
        "alvo = np.array([1,1])/np.sqrt(2)\n",
        "\n",
        "vs, ls = itera(A,[1.,2], tol=1e-12)\n",
        "\n",
        "assert(abs(ls[-1] - 3) < 1e-12)\n",
        "assert(all(abs(vs[-1] - alvo) < 1e-12))\n",
        "assert(20 < len(ls) < 30)"
      ]
    },
    {
      "cell_type": "markdown",
      "metadata": {
        "id": "917DON6E2mEm"
      },
      "source": [
        "## Questão 2: Convergência\n",
        "\n",
        "Vejamos como o algoritmo \"converge\" para o autovetor.\n",
        "Use os vetores intermediários e faça um gráfico da evolução do erro entre os $v$'s produzidos e o autovetor $v_\\lambda$."
      ]
    },
    {
      "cell_type": "code",
      "execution_count": 5,
      "metadata": {
        "deletable": false,
        "nbgrader": {
          "cell_type": "code",
          "checksum": "edf8278367d9d90b9a9bbfc9cd498c25",
          "grade": false,
          "grade_id": "cell-5fbe094e6250b829",
          "locked": false,
          "schema_version": 3,
          "solution": true
        },
        "colab": {
          "base_uri": "https://localhost:8080/",
          "height": 295
        },
        "id": "GC3SXDwI2mEo",
        "outputId": "a5090082-f7d7-4502-b3f1-936dd40a4c15"
      },
      "outputs": [
        {
          "output_type": "display_data",
          "data": {
            "image/png": "[encoded data removed]",
            "text/plain": [
              "<Figure size 432x288 with 1 Axes>"
            ]
          },
          "metadata": {
            "needs_background": "light"
          }
        }
      ],
      "source": [
        "ax = None\n",
        "vs, ls = itera(A, np.random.rand(2), tol=1e-10)\n",
        "\n",
        "alvo = np.array([1,1])/np.sqrt(2)\n",
        "\n",
        "erros = [norm(v-alvo) for v in vs]\n",
        "\n",
        "plt.semilogy(erros)\n",
        "plt.xlabel(\"iter\")\n",
        "plt.ylabel(\"erro\")\n",
        "plt.title(\"Evolução do erro\")\n",
        "plt.grid()\n",
        "ax = plt.gca()\n",
        "plt.show()"
      ]
    },
    {
      "cell_type": "code",
      "execution_count": 6,
      "metadata": {
        "deletable": false,
        "editable": false,
        "nbgrader": {
          "cell_type": "code",
          "checksum": "0e96083c93c1576950233527aad2a7e7",
          "grade": true,
          "grade_id": "cell-64ee0faf69476729",
          "locked": true,
          "points": 2,
          "schema_version": 3,
          "solution": false
        },
        "id": "T7TLYdeS2mEo"
      },
      "outputs": [],
      "source": [
        "assert ax.title.get_text() != \"\"\n",
        "assert len(ax.lines) == 1\n",
        "\n",
        "ys = ax.lines[0].get_ydata()\n",
        "\n",
        "assert 1e-12 < min(ys) < 1e-10\n",
        "assert np.all(ys[:-1] > ys[1:])"
      ]
    },
    {
      "cell_type": "markdown",
      "metadata": {
        "id": "_jIxuQXr2mEp"
      },
      "source": [
        "O que o último assert quer dizer?"
      ]
    },
    {
      "cell_type": "markdown",
      "metadata": {
        "deletable": false,
        "nbgrader": {
          "cell_type": "markdown",
          "checksum": "2b7418c406ceb48b82b692953030a886",
          "grade": true,
          "grade_id": "cell-8432b1317c5a799a",
          "locked": false,
          "points": 1,
          "schema_version": 3,
          "solution": true
        },
        "id": "J9VZq1UO2mEq"
      },
      "source": [
        "O último assert verifica se a função é descrescente, no nosso problema esse comportamento representa que ao aumentar o número de iterações, o erro tende a diminuir. \n",
        "\n",
        "Desse modo, o assert verifica se um vetor $y_1$ composto por todos os elementos de um vetor $y$ com exceção do último, possui seus elementos correspondentes ao índice $i$ ($y_1[i]>y_2[i]$) maiores que um vetor $y_2$ composto por todos os valores do vetor $ys$ com excessão do primeiro.\n",
        "\n",
        "Logo, se temos um vetor\n",
        "$$ys = \\begin{bmatrix}\n",
        "a & b & c & d & e\\\\\n",
        "\\end{bmatrix}^T$$\n",
        "\n",
        "Podemos verificar se possui comportamento decrescente se garantimos que:\n",
        "\n",
        "$$\\begin{bmatrix}\n",
        "a & b & c & d\\\\\n",
        "\\end{bmatrix} ^T> \n",
        "\\begin{bmatrix}\n",
        " b & c & d & e\\\\\n",
        "\\end{bmatrix} ^T $$\n",
        "\n",
        "Pois para cada indice $i$, se garantimos que $ys[i]>ys[i+1]$, então o gráfico é decrescente."
      ]
    },
    {
      "cell_type": "markdown",
      "metadata": {
        "id": "OoHZByr12mEq"
      },
      "source": [
        "## Questão 3: Convergência comparada\n",
        "\n",
        "Para cada um dos vetores `d1` e `d2` abaixo, considere a matriz $A = \\operatorname{diag}(d_i)$ correspondente."
      ]
    },
    {
      "cell_type": "code",
      "execution_count": 7,
      "metadata": {
        "id": "sN6ye3yC2mEr"
      },
      "outputs": [],
      "source": [
        "d1 = [1,10,20,30,31,32]\n",
        "d2 = [1,10,20,29,30,32]"
      ]
    },
    {
      "cell_type": "markdown",
      "metadata": {
        "id": "o1DjrGPV2mEr"
      },
      "source": [
        "Qual é o autovetor com o maior autovalor para $A_1$ e $A_2$?"
      ]
    },
    {
      "cell_type": "markdown",
      "metadata": {
        "deletable": false,
        "nbgrader": {
          "cell_type": "markdown",
          "checksum": "5a683d9a38d3efafda5d47e87cfaa5e9",
          "grade": true,
          "grade_id": "cell-80ff3d3111fd3705",
          "locked": false,
          "points": 1,
          "schema_version": 3,
          "solution": true
        },
        "id": "GyMCwUQd2mEr"
      },
      "source": [
        "Uma matriz diagonal possui autovalores iguais aos elementos da diagonal. Sendo assim, O maior autovalor de $A_1$ corresponde ao maior valor do vetor $d_1$, bem como o maior autovalor de $A_2$ corresponde ao maior valor do vetor $d_2$.\n",
        "\n",
        "$$d_1 =\\begin{bmatrix}\n",
        "1&10&20&30&31&32\\\\\n",
        "\\end{bmatrix} ^T$$\n",
        "\n",
        "$$d_2 =\\begin{bmatrix}\n",
        "1&10&20&29&30&32\\\\\n",
        "\\end{bmatrix} ^T$$\n",
        "\n",
        "\n",
        "O maior valor observado em $d_1$ é $32$, e em $d_2$ também é $32$. Como esse elemento se encontra na ultima posição de ambos os vetores $d_1$ e $d_2$, esse elemento na matriz $A= diag(d_i)$ irá corresponder a ultima linha e ultima coluna da matriz diagonal $A$. Sendo assim, como o tamanho do vetor é $6$, a matriz $A_{6x6}$ terá um autovetor $v_i$ correspondente aos maiores autovalores igual a\n",
        "\n",
        "$$v_1 = v_2 =\\begin{bmatrix}\n",
        "0&0&0&0&0&1\\\\\n",
        "\\end{bmatrix} ^T$$\n"
      ]
    },
    {
      "cell_type": "markdown",
      "metadata": {
        "id": "UUp82TFD2mEs"
      },
      "source": [
        "Agora, compare a velocidade de convergência do autovetor usando `itera` para cada uma destas matrizes,\n",
        "fazendo o gráfico do erro entre os vetores gerados para $A_1$ e $A_2$ no mesmo eixo."
      ]
    },
    {
      "cell_type": "code",
      "execution_count": 8,
      "metadata": {
        "deletable": false,
        "nbgrader": {
          "cell_type": "code",
          "checksum": "3ca764e3da7ea8ea429af776a44a8564",
          "grade": false,
          "grade_id": "cell-0ca9beaae72f048a",
          "locked": false,
          "schema_version": 3,
          "solution": true
        },
        "colab": {
          "base_uri": "https://localhost:8080/",
          "height": 403
        },
        "id": "UUstu2Iv2mEs",
        "outputId": "c21ba8a0-7d83-431d-fc2a-fa7da60ef513"
      },
      "outputs": [
        {
          "output_type": "display_data",
          "data": {
            "image/png": "[encoded data removed]",
            "text/plain": [
              "<Figure size 504x432 with 1 Axes>"
            ]
          },
          "metadata": {
            "needs_background": "light"
          }
        }
      ],
      "source": [
        "ax = None\n",
        "\n",
        "vs_1, _ = itera(np.diag(d1), np.ones(6))\n",
        "vs_2, _ = itera(np.diag(d2), np.ones(6))\n",
        "\n",
        "\n",
        "alvo = np.array([0,0,0,0,0,1])\n",
        "erros1 = [norm(v-alvo) for v in vs_1]\n",
        "erros2 = [norm(v-alvo) for v in vs_2]\n",
        "\n",
        "plt.figure(figsize=(7,6))\n",
        "plt.semilogy(erros1, label=\"A1\")\n",
        "plt.semilogy(erros2,  label=\"A2\")\n",
        "plt.xlabel(\"iter\")\n",
        "plt.ylabel(\"erro\")\n",
        "plt.title(\"Evolução do erro\")\n",
        "plt.grid()\n",
        "ax = plt.gca()\n",
        "plt.legend()\n",
        "plt.show()"
      ]
    },
    {
      "cell_type": "code",
      "execution_count": 9,
      "metadata": {
        "deletable": false,
        "editable": false,
        "nbgrader": {
          "cell_type": "code",
          "checksum": "36a34c9984604b071062f50289573f94",
          "grade": true,
          "grade_id": "cell-b5b7998bcab31e94",
          "locked": true,
          "points": 2,
          "schema_version": 3,
          "solution": false
        },
        "id": "QZxlA4xZ2mEv"
      },
      "outputs": [],
      "source": [
        "assert ax.title.get_text() != \"\"\n",
        "assert len(ax.lines) == 2\n",
        "assert len(ax.legend().texts) == 2"
      ]
    },
    {
      "cell_type": "markdown",
      "metadata": {
        "id": "SmHp924j2mEw"
      },
      "source": [
        "Para qual matriz há convergência mais rápida?  Como você explicaria isso?"
      ]
    },
    {
      "cell_type": "markdown",
      "metadata": {
        "deletable": false,
        "nbgrader": {
          "cell_type": "markdown",
          "checksum": "dd2cc33a4dfede5f2ae8a3792c74cced",
          "grade": true,
          "grade_id": "cell-c2652af3d1fa97e1",
          "locked": false,
          "points": 2,
          "schema_version": 3,
          "solution": true
        },
        "id": "TP10ahEW2mEw"
      },
      "source": [
        "A matriz que converge mais rápido é a segunda matriz diagonal $A_2$:\n",
        "\n",
        "$$ A^n x = \\sum x_i v_i(\\lambda_i)^n$$\n",
        "\n",
        "Como podemos observar acima, conforme $n→∞$, a parcela do somatório que possui maior peso é aquela que possui o maior valor $\\lambda_i$, pois este valor está elevado a potência $n$.  \n",
        "Então o autovetor que o método converge, conforme $n→∞$ é justamente aquele que possui maior autovalor associado:\n",
        "\n",
        "$$\n",
        "\\frac{A^nx}{||A^nx||} →\\frac{v_1}{||v_1||}\n",
        "$$\n",
        "\n",
        "Sendo assim, o método converge mais rápido quando existe um autovalor muito maior que o restante dos autovalores. No nosso problema inicial, temos que os elementos de $d_2$ são mais distantes de $32$ em comparação com os elementos de $d_1$. Por esse motivo, o erro diminui com menos iterações para $A_2$, ou seja, o método precisa de menos iterações para convergir.  \n"
      ]
    },
    {
      "cell_type": "markdown",
      "metadata": {
        "id": "nGKxRxUh2mEx"
      },
      "source": [
        "## Questão 4: Convergência?\n",
        "\n",
        "Sejam $\\theta \\in [0,2\\pi]$ e $\\alpha \\in \\mathbb{R}$,\n",
        "e considere a matriz \n",
        "$$A(\\theta, \\alpha) = \\begin{bmatrix} \n",
        "\\cos(\\theta) & \\sin(\\theta) & 0\\\\\n",
        "-\\sin(\\theta) &\\cos(\\theta) &  0\\\\\n",
        "0 & 0 & \\alpha\\\\\n",
        "\\end{bmatrix}.$$\n",
        "\n",
        "Qual a interpretação geométrica dessa matriz?"
      ]
    },
    {
      "cell_type": "markdown",
      "metadata": {
        "deletable": false,
        "nbgrader": {
          "cell_type": "markdown",
          "checksum": "f3e315d21d30817427f1c97a5fa47dfe",
          "grade": true,
          "grade_id": "cell-549ef2ace83f1d22",
          "locked": false,
          "points": 1,
          "schema_version": 3,
          "solution": true
        },
        "id": "nfO78Gk92mE5"
      },
      "source": [
        "Essa matriz caracteriza-se por fazer uma transformação linear de rotação. Espeficicamente no nosso caso:\n",
        "\n",
        "$$Ax = \\begin{bmatrix} \n",
        "\\cos(\\theta) & \\sin(\\theta) & 0\\\\\n",
        "-\\sin(\\theta) &\\cos(\\theta) &  0\\\\\n",
        "0 & 0 & \\alpha\\\\\n",
        "\\end{bmatrix}.  \\begin{bmatrix} x_1 \\\\ x_2 \\\\ x_3 \\end{bmatrix}$$\n",
        "\n",
        "A matriz $A$ aplica uma transformação linear de rotação (em relação a um ângulo $\\theta$) entre $x_1$ e $x_2$, ou seja, rotaciona o vetor $x$ por um ângulo $\\theta$ no plano formado pelos eixos $x$ e $y$(nas componentes $x_1$ e $x_2$ de $x$).\n",
        "\n",
        "Enquanto para $x_3$, ou então o eixo $z$, a Matriz $A$ ao multiplicar $x$, multiplica por $\\alpha$ a coordenada em $z$ do vetor $x$ ($x_3$).\n"
      ]
    },
    {
      "cell_type": "markdown",
      "metadata": {
        "id": "ajD_ofYV2mE5"
      },
      "source": [
        "Quais são os autovetores de $A$ (em função de $\\theta$ e $\\alpha$)?"
      ]
    },
    {
      "cell_type": "markdown",
      "metadata": {
        "deletable": false,
        "nbgrader": {
          "cell_type": "markdown",
          "checksum": "744ca49d1747aacd228bcc3dccdcc78f",
          "grade": true,
          "grade_id": "cell-c71fb25daa36f1e4",
          "locked": false,
          "points": 2,
          "schema_version": 3,
          "solution": true
        },
        "id": "tFAda3SG2mE6"
      },
      "source": [
        "Temos que $$Av = \\lambda v$$\n",
        "\n",
        "$$Av - \\lambda v = 0$$\n",
        "\n",
        "$$v(A - \\lambda) = 0$$\n",
        "\n",
        "$$v(A - \\lambda I) = 0$$\n",
        "\n",
        "Contudo, o autovetor, nao pode ser $0$, logo, temos que  $det(A - \\lambda I)=0$\n",
        "\n",
        "$$ \\begin{bmatrix}\n",
        "cos(\\theta) - \\lambda & sin(\\theta) & 0\\\\\n",
        "-sin(\\theta) & cos(\\theta) - \\lambda & 0\\\\\n",
        "0 & 0 & \\alpha - \\lambda \n",
        "\\end{bmatrix}\n",
        "$$\n",
        "\n",
        "O determinante dessa matriz se dá por\n",
        "\n",
        "$$det(A - \\lambda I)=  (cos(\\theta) - \\lambda)^2 (\\alpha - \\lambda) +(\\alpha-\\lambda)sen^2(\\theta) = 0$$\n",
        "\n",
        "$$ det(A - \\lambda I)= (\\alpha - \\lambda) \\cdot (cos^2(\\theta) + sen^2(\\theta) - 2\\lambda cos(\\theta) + \\lambda^2) = 0$$\n",
        "\n",
        "\n",
        "$$ det(A - \\lambda I)= (\\alpha - \\lambda) \\cdot (1 - 2\\lambda cos(\\theta) + \\lambda^2) = 0$$\n",
        "\n",
        "Logo, temos que\n",
        "\n",
        "$$\\begin{equation}\n",
        "    \\begin{cases}\n",
        "     \\alpha - \\lambda = 0\\\\\n",
        "     \\text{ou}\\\\\n",
        "     1 - 2\\lambda cos(\\theta) + \\lambda^2 = 0 \\\\\n",
        "    \\end{cases}       \n",
        "\\end{equation}\n",
        "$$\n",
        "\n",
        "Ou seja, nosso primeiro autovalor da matriz $A$ pode ser facilmente extraido:\n",
        "$$\\lambda_1 = \\alpha $$\n",
        "\n",
        "Os próximos autovalores são encontrados ao resolver a equação de segundo grau a seguir:\n",
        "\n",
        "$$1 - 2\\lambda cos(\\theta) + \\lambda^2 = 0 $$\n",
        "\n",
        "Contudo, ao aplicar Bháskara, encontramos $$\\Delta = cos^2(\\theta)-1 = -sen^2(\\theta) $$\n",
        "\n",
        "O que evidencia que os autovalores de $\\lambda_2$ e $\\lambda_3$ são números complexos:\n",
        "\n",
        "$$\\begin{equation}\n",
        "    \\begin{cases}\n",
        "     \\lambda_1 = \\alpha\\\\\n",
        "     \\lambda_2 = cos(\\theta) - i \\cdot sin(\\theta)\\\\\n",
        "     \\lambda_3 = cos(\\theta) + i \\cdot sin(\\theta) \\\\\n",
        "    \\end{cases}       \n",
        "\\end{equation}\n",
        "$$\n",
        "\n",
        "Logo, com os autovalores resolvidos, os autovetores podem ser calculados ao resolver o sistema linear $(A-\\lambda I)v_i = 0$ para encontrar as coordenadas $i$ dos autovetores. \n",
        "\n",
        "Para p nosso primeiro autovalor $\\lambda_1$, temos que $v_1 =\\begin{bmatrix}\n",
        "0&0&1\\\\\n",
        "\\end{bmatrix} ^T$, o que intuitivamente já poderia ser previsto, pois qualquer vetor no eixo $z$ não é rotacionado, embora a amplitude seja influenciada por $\\alpha$.\n",
        "\n",
        "Para nosso segundo autovalor $\\lambda_2$, temos que $v_2 =\\begin{bmatrix}\n",
        "ix&x&0\\\\\n",
        "\\end{bmatrix} ^T$, onde $x$ pode assumir qualquer valor real, logo $v_2 =\\begin{bmatrix}\n",
        "i&1&0\\\\\n",
        "\\end{bmatrix}^T$ é o autovetor encontrado a partir de $\\lambda_2$.\n",
        "\n",
        "\n",
        "Para nosso terceiro autovalor $\\lambda_3$, temos que $v_3 =\\begin{bmatrix}\n",
        "-ix&x&0\\\\\n",
        "\\end{bmatrix} ^T$, onde $x$ pode assumir qualquer valor real, logo $v_3 =\\begin{bmatrix}\n",
        "-i&1&0\\\\\n",
        "\\end{bmatrix}^T$ é o autovetor encontrado a partir de $\\lambda_3$."
      ]
    },
    {
      "cell_type": "markdown",
      "metadata": {
        "id": "uPTrc9Su2mE6"
      },
      "source": [
        "Implemente a função abaixo que gera a matriz $A$:"
      ]
    },
    {
      "cell_type": "code",
      "execution_count": 10,
      "metadata": {
        "deletable": false,
        "nbgrader": {
          "cell_type": "code",
          "checksum": "f9379dfd544d6f06e823079051714d2c",
          "grade": false,
          "grade_id": "cell-782a31adaac5452f",
          "locked": false,
          "schema_version": 3,
          "solution": true
        },
        "id": "FQMawafZ2mE6"
      },
      "outputs": [],
      "source": [
        "def make_matrix(t, a):\n",
        "  A = np.array([[np.cos(t), np.sin(t), 0], [-np.sin(t), np.cos(t), 0], [0,0, a]])\n",
        "  return A"
      ]
    },
    {
      "cell_type": "code",
      "execution_count": 11,
      "metadata": {
        "deletable": false,
        "editable": false,
        "nbgrader": {
          "cell_type": "code",
          "checksum": "81c5c6ee789679ce1eaa1cd9326f3232",
          "grade": true,
          "grade_id": "cell-ec8cf18f333dc2d1",
          "locked": true,
          "points": 1,
          "schema_version": 3,
          "solution": false
        },
        "id": "S6r1uSb42mE7"
      },
      "outputs": [],
      "source": [
        "assert np.allclose(make_matrix(0,1),np.eye(3))\n",
        "assert np.allclose(make_matrix(np.pi,0.5),[[-1,0,0],[0,-1,0],[0,0,0.5]])"
      ]
    },
    {
      "cell_type": "markdown",
      "metadata": {
        "id": "GeLepnZK2mE8"
      },
      "source": [
        "Fixando $\\theta = \\dfrac{\\pi}{4}$,\n",
        "faça um gráfico do número de iterações necessários para calcular o maior autovetor,\n",
        "em função de $\\alpha \\in [0.5,1.5]$, com precisão `1e-12`."
      ]
    },
    {
      "cell_type": "code",
      "execution_count": 12,
      "metadata": {
        "deletable": false,
        "nbgrader": {
          "cell_type": "code",
          "checksum": "13badfe80d0975193e3b0cffb5ec609d",
          "grade": false,
          "grade_id": "cell-b784f741aca3e042",
          "locked": false,
          "schema_version": 3,
          "solution": true
        },
        "colab": {
          "base_uri": "https://localhost:8080/",
          "height": 295
        },
        "id": "7M_gLUY72mE9",
        "outputId": "b234bdc7-d6e1-4fa3-d9ab-9d5065feafc3"
      },
      "outputs": [
        {
          "output_type": "display_data",
          "data": {
            "image/png": "[encoded data removed]",
            "text/plain": [
              "<Figure size 432x288 with 1 Axes>"
            ]
          },
          "metadata": {
            "needs_background": "light"
          }
        }
      ],
      "source": [
        "from numpy.core.function_base import linspace\n",
        "alphas = np.linspace(0.5,1.5,100)\n",
        "ax = None\n",
        "\n",
        "iter = []\n",
        "for a in alphas:\n",
        "  A = make_matrix(np.pi/4, a)\n",
        "  vs, ls = itera(A, np.random.rand(3), tol=1e-12)\n",
        "  iter.append(len(vs))\n",
        "\n",
        "plt.plot(alphas, iter)\n",
        "plt.title(\"Iterações por alpha\")\n",
        "plt.xlabel(\"alpha\")\n",
        "plt.ylabel(\"nº iterações\")\n",
        "ax = plt.gca()\n",
        "plt.show()"
      ]
    },
    {
      "cell_type": "code",
      "execution_count": 13,
      "metadata": {
        "deletable": false,
        "editable": false,
        "nbgrader": {
          "cell_type": "code",
          "checksum": "e607360e6bae8d898127b9cd2ccbf7ec",
          "grade": true,
          "grade_id": "cell-e13220288c2e5c20",
          "locked": true,
          "points": 2,
          "schema_version": 3,
          "solution": false
        },
        "id": "P1RO1Bwn2mE9"
      },
      "outputs": [],
      "source": [
        "assert ax.title.get_text() != \"\"\n",
        "assert len(ax.lines) == 1\n",
        "assert ax.get_xlabel() != \"\"\n",
        "\n",
        "ys = ax.lines[0].get_ydata()\n",
        "\n",
        "assert 100 > ys.min() > 60\n",
        "assert ys[55] < 600\n",
        "assert ys[50] > 900"
      ]
    },
    {
      "cell_type": "markdown",
      "metadata": {
        "id": "hM7Yfd1X2mE-"
      },
      "source": [
        "Agora, faça o gráfico com a estimativa do autovalor, novamente em função de $\\alpha$."
      ]
    },
    {
      "cell_type": "code",
      "execution_count": 14,
      "metadata": {
        "deletable": false,
        "nbgrader": {
          "cell_type": "code",
          "checksum": "b0eb57c92d6b9a9f64ec5b499c17f61f",
          "grade": false,
          "grade_id": "cell-496cb16ecaa50929",
          "locked": false,
          "schema_version": 3,
          "solution": true
        },
        "colab": {
          "base_uri": "https://localhost:8080/",
          "height": 295
        },
        "id": "THFn4Jql2mE-",
        "outputId": "2b4be7b7-a6a4-4ff3-dd0e-d265c847584c"
      },
      "outputs": [
        {
          "output_type": "display_data",
          "data": {
            "image/png": "[encoded data removed]",
            "text/plain": [
              "<Figure size 432x288 with 1 Axes>"
            ]
          },
          "metadata": {
            "needs_background": "light"
          }
        }
      ],
      "source": [
        "ax = None\n",
        "\n",
        "autovalor= []\n",
        "for a in alphas:\n",
        "  A = make_matrix(np.pi/4, a)\n",
        "  vs, ls = itera(A, np.random.rand(3), tol=1e-12)\n",
        "  autovalor.append(ls[-1])\n",
        "\n",
        "plt.plot(alphas, autovalor)\n",
        "plt.title(\"Autovalores por alpha\")\n",
        "plt.xlabel(\"alpha\")\n",
        "plt.ylabel(\"autovalor\")\n",
        "ax = plt.gca()\n",
        "plt.show()\n"
      ]
    },
    {
      "cell_type": "code",
      "execution_count": 15,
      "metadata": {
        "deletable": false,
        "editable": false,
        "nbgrader": {
          "cell_type": "code",
          "checksum": "96f85ebabc2e6cc13aeb4dd6b41642b6",
          "grade": true,
          "grade_id": "cell-6bc7eba37b6f9533",
          "locked": true,
          "points": 2,
          "schema_version": 3,
          "solution": false
        },
        "id": "IzFzjKgi2mE_"
      },
      "outputs": [],
      "source": [
        "assert ax.title.get_text() != \"\"\n",
        "assert len(ax.lines) == 1\n",
        "assert ax.get_xlabel() != \"\"\n",
        "\n",
        "ys = ax.lines[0].get_ydata()\n",
        "\n",
        "assert np.all(0.7 <= ys) and np.all(ys <= 1.5)"
      ]
    },
    {
      "cell_type": "markdown",
      "metadata": {
        "id": "R3VTx09-2mFA"
      },
      "source": [
        "Como explicar a variação no número de iterações? O que isso tem a ver com o autovalor retornado?"
      ]
    },
    {
      "cell_type": "markdown",
      "metadata": {
        "deletable": false,
        "nbgrader": {
          "cell_type": "markdown",
          "checksum": "c65c06a6c6b5aefd1222f7d57ed3c506",
          "grade": true,
          "grade_id": "cell-d2c0a1630ea2b95b",
          "locked": false,
          "points": 2,
          "schema_version": 3,
          "solution": true
        },
        "id": "4vpCHjCt2mFC"
      },
      "source": [
        "Considerando nosso $\\theta = \\frac{\\pi}{4}$, nossos autovalores buscados pelo método aplicado são:\n",
        "\n",
        "$$\\begin{equation}\n",
        "    \\begin{cases}\n",
        "     \\lambda_1 = \\alpha\\\\\n",
        "     \\lambda_2 = \\frac{\\sqrt{2}}{2}- i \\frac{\\sqrt{2}}{2}\\\\\n",
        "     \\lambda_3 = \\frac{\\sqrt{2}}{2} + i \\frac{\\sqrt{2}}{2} \\\\\n",
        "    \\end{cases}       \n",
        "\\end{equation}\n",
        "$$\n",
        "\n",
        "\n",
        "Quando nosso $\\alpha > 1$, temos que nosso método vai convergir para $\\lambda_1 = \\alpha$ e nosso autovetor $v_1$ associado, pois este é o maior autovalor de $A$. Quanto maior for o $\\alpha$, mais distante o autovetor e autovalor calculado no método estará do $\\lambda_2$ e $\\lambda_3$, e então mas rápida é a convergencia.\n",
        "\n",
        "Esse comportamento pode ser verificado tanto no primeiro gráfico, onde o número de iterações cai exponencialmente conforme $\\alpha$ aumenta assume valores ainda maiores que $1$. Além disso, no gráfico onde verificamos os autovalores encontrados, também podemos confirmar a tendência do método em que o autovalor calculado tende a $\\alpha$ pelo comportamento linear identificado a partir de $\\alpha>1$.\n"
      ]
    },
    {
      "cell_type": "markdown",
      "metadata": {
        "id": "cTUMGfzw2mFE"
      },
      "source": [
        "# Questão 5: Autovalores negativos\n",
        "\n",
        "Em princípio, tudo deveria funcionar de forma muito similar para autovalores **negativos**.\n",
        "\n",
        "Estude o caso $\\alpha \\in [-1.5, -0.5]$, fazendo os dois gráficos lado a lado."
      ]
    },
    {
      "cell_type": "code",
      "execution_count": 16,
      "metadata": {
        "deletable": false,
        "nbgrader": {
          "cell_type": "code",
          "checksum": "9fa426aaaac704edb354db762cf3f10d",
          "grade": false,
          "grade_id": "cell-57f58a930c6eee87",
          "locked": false,
          "schema_version": 3,
          "solution": true,
          "task": false
        },
        "colab": {
          "base_uri": "https://localhost:8080/",
          "height": 295
        },
        "id": "y5v7Zaw22mFG",
        "outputId": "8f13ba3a-3477-4227-f90a-ddc375b48103"
      },
      "outputs": [
        {
          "output_type": "display_data",
          "data": {
            "image/png": "[encoded data removed]",
            "text/plain": [
              "<Figure size 936x288 with 2 Axes>"
            ]
          },
          "metadata": {
            "needs_background": "light"
          }
        }
      ],
      "source": [
        "fig, (ax1, ax2) = plt.subplots(ncols=2, figsize=(13,4))\n",
        "negalphas = np.linspace(-1.5, -0.5, 100)\n",
        "\n",
        "\n",
        "iter = []\n",
        "autovalor= []\n",
        "for a in negalphas:\n",
        "  A = make_matrix(np.pi/4, a)\n",
        "  vs, ls = itera(A, np.random.rand(3), tol=1e-12)\n",
        "  iter.append(len(vs))\n",
        "  autovalor.append(ls[-1])\n",
        "\n",
        "\n",
        "ax1.plot(negalphas, iter)\n",
        "ax1.set_title(\"Iterações por alphas negativos\")\n",
        "ax1.set_xlabel(\"alpha\")\n",
        "ax1.set_ylabel(\"nº iterações\")\n",
        "\n",
        "\n",
        "ax2.plot(negalphas, autovalor)\n",
        "ax2.set_title(\"Autovalores por alpha negativos\")\n",
        "ax2.set_xlabel(\"alpha\")\n",
        "ax2.set_ylabel(\"autovalor\")\n",
        "\n",
        "plt.show()\n"
      ]
    },
    {
      "cell_type": "code",
      "execution_count": 17,
      "metadata": {
        "deletable": false,
        "editable": false,
        "nbgrader": {
          "cell_type": "code",
          "checksum": "ff5d11660e6f44529946fa3b2527d28f",
          "grade": true,
          "grade_id": "cell-59a7cae1d7d54ba6",
          "locked": true,
          "points": 2,
          "schema_version": 3,
          "solution": false,
          "task": false
        },
        "id": "v-uPI4jo2mFH"
      },
      "outputs": [],
      "source": [
        "assert ax1.title.get_text() != \"\"\n",
        "assert len(ax1.lines) == 1\n",
        "assert ax1.get_xlabel() != \"\"\n",
        "\n",
        "ys1 = ax1.lines[0].get_ydata()\n",
        "\n",
        "assert 100 > ys1.min() > 60\n",
        "assert ys1[44] < 600\n",
        "assert ys1[49] > 900\n",
        "\n",
        "\n",
        "assert ax2.title.get_text() != \"\"\n",
        "assert len(ax2.lines) == 1\n",
        "assert ax2.get_xlabel() != \"\"\n",
        "\n",
        "ys2 = ax2.lines[0].get_ydata()\n",
        "\n",
        "assert np.all(0.71 >= ys2)\n",
        "assert np.all(ys2 >= -1.5)"
      ]
    },
    {
      "cell_type": "markdown",
      "metadata": {
        "id": "8jCYiUI02mFH"
      },
      "source": [
        "Para funcionar, o teste `ys1[i] < 600` teve seu índice foi trocado de `55` para `44`.\n",
        "Explique esta mudança, tanto do ponto de vista matemático,\n",
        "quanto da linguagem Python. "
      ]
    },
    {
      "cell_type": "markdown",
      "metadata": {
        "deletable": false,
        "nbgrader": {
          "cell_type": "markdown",
          "checksum": "9a3ccae261204c58122af5c1582f69f3",
          "grade": true,
          "grade_id": "cell-de42c88dea47bd4a",
          "locked": false,
          "points": 2,
          "schema_version": 3,
          "solution": true,
          "task": false
        },
        "id": "Ddp-9-a12mFI"
      },
      "source": [
        "Nos primeiro gráficos plotados, os valores a direita do valor de $\\alpha=1$ convergiam em menos iterações e o autovalor convergia para $\\alpha$. Já nos gráficos onde $\\alpha$ pertence a um intervalo de números negativos, ou seja,  $\\alpha \\in [-1.5, -0.5]$, temos que  os valores a esquerda de $\\alpha = -1$ possuem essas propriedades.\n",
        "\n",
        "Sendo assim, para valores onde $\\alpha<-1$, nosso método tende a encontrar o autovalor $\\lambda_1 = \\alpha$, e quanto menor o $\\alpha$, as iterações decaem exponencialmente, como pode ser observado pelo gráfico. Além disso, se olhassemos um intervalo um pouco maior, que englobasse ambos os gráficos, poderia ser percebido que conforme $\\alpha$ é percorrido, em algum momento os gráficos parecem se espelhar, em especial o do numero de iterações.\n",
        "\n",
        "De um ponto de vísta matemático, é como se uma coordenada $k=55$ dentre os $100$ diferentes valores de $\\alpha$ dados em cada intervalo corresponder ao ponto onde $k=44$ com o intervalo invertido, como exemplificado abaixo:\n",
        "\n",
        "Tendo um vetor $u_1$ inicial,\n",
        "$$ u_1 = \\begin{bmatrix}\n",
        "a&b&c&d&e&f&g&h&i&j\\\\\n",
        "\\end{bmatrix}^T\n",
        "$$\n",
        "\n",
        "Ao inverte-lo, obtemos $u_2$:\n",
        "$$u_2 =  \\begin{bmatrix}\n",
        "j&i&h&g&f&e&d&c&b&a\\\\\n",
        "\\end{bmatrix}^T\n",
        "$$\n",
        "\n",
        "O elemento $g$, no vetor original $u_1$ possui índice $i=6$, enquanto no vetor invertido possui índice $i=3$, o que não é simétrico em relação ao número total de coordenadas do vetor $u_1$, que possui $10$ elementos, por conta da implementação de listas em python, que começa a partir do índice $0$ e do nosso vetor possuir uma quantidade par de elementos, como exemplificado acima."
      ]
    },
    {
      "cell_type": "markdown",
      "metadata": {
        "id": "nHPzyU_u2mFI"
      },
      "source": [
        "Explique, também, porque $0.71$ deve ser suficiente como cota superior. (Aqui, é \"só\" matemática, mas a matemática pode ser um pouco mais complexa)"
      ]
    },
    {
      "cell_type": "markdown",
      "metadata": {
        "deletable": false,
        "nbgrader": {
          "cell_type": "markdown",
          "checksum": "b7aab5599d6189084874fbd14c542f55",
          "grade": true,
          "grade_id": "cell-cf2020151488e34a",
          "locked": false,
          "points": 2,
          "schema_version": 3,
          "solution": true,
          "task": false
        },
        "id": "5CM-VqM92mFI"
      },
      "source": [
        "Isso acontece devido aos autovalores e autovetores  $\\lambda_2 = \\frac{\\sqrt{2}}{2}- i \\frac{\\sqrt{2}}{2}$,  $\\lambda_3 = \\frac{\\sqrt{2}}{2} + i \\frac{\\sqrt{2}}{2}$ possuirem uma componente imaginária.\n",
        "\n",
        "Sendo assim, como nosso método só considera valores reais, temos que os autovetores aproximados pelo método vão tender para $\\lambda_2$ e $\\lambda_3$, e como possuem a parcela do $sin(θ)$ no domínio dos complexos, essa parte será ignorada pelo método, então os autovalores calculados serão aproximados pela parcela $cos(\\frac{\\pi}{4}) = \\frac{\\sqrt{2}}{2} \\approx 0.707$.\n",
        "\n",
        "Como os autovalores aproximados não encontrarão autovetores possíveis onde garanta que $Av=\\lambda v$ a uma certa tolerância dada, então o método nunca vai convergir e vai atingir o número de iterações limite dado como `maxiter` para os valores a direita de $\\alpha>-1$."
      ]
    },
    {
      "cell_type": "markdown",
      "metadata": {
        "id": "BXonYkAZ2mFI"
      },
      "source": [
        "# Questão 6: Mudando $\\theta$\n",
        "\n",
        "A velocidade de convergência muda ao trocar $\\theta$?\n",
        "Teste outros valores, e refaça os gráficos, agora com várias curvas em cada eixo,\n",
        "uma para cada um dos valores de $\\theta$ que você estudou."
      ]
    },
    {
      "cell_type": "code",
      "execution_count": 18,
      "metadata": {
        "deletable": false,
        "nbgrader": {
          "cell_type": "code",
          "checksum": "b777e47e422ea6f37fbe6f2cffee6cab",
          "grade": true,
          "grade_id": "cell-9b0c0c87e0cb96a7",
          "locked": false,
          "points": 3,
          "schema_version": 3,
          "solution": true,
          "task": false
        },
        "colab": {
          "base_uri": "https://localhost:8080/",
          "height": 312
        },
        "id": "PepZWRoI2mFJ",
        "outputId": "8bcce6c1-78ab-4f94-c01d-6ff8cb47da2c"
      },
      "outputs": [
        {
          "output_type": "execute_result",
          "data": {
            "text/plain": [
              "<matplotlib.legend.Legend at 0x7f6ef2690650>"
            ]
          },
          "metadata": {},
          "execution_count": 18
        },
        {
          "output_type": "display_data",
          "data": {
            "image/png": "[encoded data removed]",
            "text/plain": [
              "<Figure size 936x288 with 2 Axes>"
            ]
          },
          "metadata": {
            "needs_background": "light"
          }
        }
      ],
      "source": [
        "fig, (ax1, ax2) = plt.subplots(ncols=2, figsize=(13,4))\n",
        "\n",
        "tetas = [-np.pi, -np.pi/6,0, np.pi/3, np.pi/5]\n",
        "legenda = [\"-π\", \"-π/6\",\"0\",\"π/3\", \"π/5\"]\n",
        "alphas = np.linspace(0.5,1.5,100)\n",
        "\n",
        "for (t, l)in zip(tetas, legenda):\n",
        "  iter = []\n",
        "  autovalor = []\n",
        "  for a in alphas:\n",
        "    A = make_matrix(t, a)\n",
        "    vs, ls = itera(A, np.random.rand(3), tol=1e-12)\n",
        "    iter.append(len(vs))\n",
        "    autovalor.append(ls[-1])\n",
        "\n",
        "\n",
        "  ax1.plot(alphas, iter, label=f\"Θ={l}\")\n",
        "  ax2.plot(alphas, autovalor, label=f\"Θ={l}\")\n",
        "\n",
        "ax1.set_title(\"Iterações por diferentes thetas\")\n",
        "ax1.set_xlabel(\"alpha\")\n",
        "ax1.set_ylabel(\"nº iterações\")\n",
        "ax1.legend()\n",
        "\n",
        "ax2.set_title(\"Autovalores por theta\")\n",
        "ax2.set_xlabel(\"alpha\")\n",
        "ax2.set_ylabel(\"autovalor\")\n",
        "ax2.legend()"
      ]
    },
    {
      "cell_type": "markdown",
      "metadata": {
        "id": "V8q6k4iX2mFJ"
      },
      "source": [
        "O que você observa?  Isso faz sentido?"
      ]
    },
    {
      "cell_type": "markdown",
      "metadata": {
        "deletable": false,
        "nbgrader": {
          "cell_type": "markdown",
          "checksum": "e416a7981eb6f87d2b0d9968f1ce7d5c",
          "grade": true,
          "grade_id": "cell-f882f904ce506664",
          "locked": false,
          "points": 2,
          "schema_version": 3,
          "solution": true,
          "task": false
        },
        "id": "7oOnSOm82mFJ"
      },
      "source": [
        "Nessa questão foram testados para os valores de $\\theta \\in \\{-\\pi,-\\frac{\\pi}{6}, 0, \\frac{\\pi}{3}, \\frac{\\pi}{5} \\}$. \n",
        "Como observado na questão anterior, temos que o número de iterações mantém o mesmo padrão para todos os valores de $\\theta$ com exceção de $\\theta=0$ e $\\theta=-\\pi$. \n",
        "\n",
        "Pelo mesmo raciocínio elaborado anteriormente, o que acontece com o método, é que para valores de $\\alpha$ no intervalo de $(-1, 1)$ o método converge para os autovalores com componentes $sin(\\theta)$ complexas, que ao ignorar tais partes (não trata números complexos) converge para um autovalor $\\lambda_k=cos(\\theta)$. \n",
        "\n",
        "Quando $\\theta=0=k\\pi$ onde $k$  pode assumir valores inteiros quaisquer, temos que $sin(\\theta)=0$. Então a parte imaginária pode, de fato, ser descartada e o método converge. Portanto, para esses valores especifícos do ângulo $\\theta$, o comportamento é convergir em menos iterações conforme $\\alpha →0$. \n",
        "\n",
        "Enquanto para o restante dos valores em que $\\theta$ pode assumir, o método não converge dentro da tolerância dada, tendo em vista que atinge o número máximo de iterações `maxiter`. O método apenas converge quando $\\alpha <<-1$ ou quando $\\alpha>>1$, pois nesse valores, nosso algoritmo tende a convergir para o autovalor $\\lambda_1=\\alpha$. \n",
        "\n",
        "Esse comportamento pode ser observado no segundo gráfico, onde converge para diferentes autovalores $\\lambda_i$ dependendo do valor de $\\alpha$. Dentro do intervalo $(-1,1)$ tende ao $cos(\\theta)$ e fora desse intervalo tende para $\\alpha$. \n",
        "\n",
        "No gráfico a seguir, são mostrados os comportamentos específicos mencionados acima, nos quais $\\theta= k\\pi$, para $k \\in \\mathbb{Z}$:"
      ]
    },
    {
      "cell_type": "code",
      "source": [
        "fig, (ax1, ax2) = plt.subplots(ncols=2, figsize=(13,4))\n",
        "\n",
        "tetas = [-np.pi,0, np.pi, 3*np.pi,  ]\n",
        "legenda = [\"-π\",\"0\",\"3π\"]\n",
        "alphas = np.linspace(-1.5,1.5,100)\n",
        "\n",
        "for (t, l)in zip(tetas, legenda):\n",
        "  iter = []\n",
        "  autovalor = []\n",
        "  for a in alphas:\n",
        "    A = make_matrix(t, a)\n",
        "    vs, ls = itera(A, np.random.rand(3), tol=1e-12)\n",
        "    iter.append(len(vs))\n",
        "    autovalor.append(ls[-1])\n",
        "\n",
        "\n",
        "  ax1.plot(alphas, iter, label=f\"Θ={l}\")\n",
        "  ax2.plot(alphas, autovalor, label=f\"Θ={l}\")\n",
        "\n",
        "ax1.set_title(\"Iterações por diferentes thetas\")\n",
        "ax1.set_xlabel(\"alpha\")\n",
        "ax1.set_ylabel(\"nº iterações\")\n",
        "ax1.legend()\n",
        "\n",
        "ax2.set_title(\"Autovalores por theta\")\n",
        "ax2.set_xlabel(\"alpha\")\n",
        "ax2.set_ylabel(\"autovalor\")\n",
        "ax2.legend()"
      ],
      "metadata": {
        "colab": {
          "base_uri": "https://localhost:8080/",
          "height": 312
        },
        "id": "a7Ohy9rqW_oP",
        "outputId": "19b4d3bf-41c7-4349-85b7-9eb02c65895c"
      },
      "execution_count": 19,
      "outputs": [
        {
          "output_type": "execute_result",
          "data": {
            "text/plain": [
              "<matplotlib.legend.Legend at 0x7f6ef26bf5d0>"
            ]
          },
          "metadata": {},
          "execution_count": 19
        },
        {
          "output_type": "display_data",
          "data": {
            "image/png": "[encoded data removed]",
            "text/plain": [
              "<Figure size 936x288 with 2 Axes>"
            ]
          },
          "metadata": {
            "needs_background": "light"
          }
        }
      ]
    }
  ],
  "metadata": {
    "kernelspec": {
      "display_name": "Python 3 (ipykernel)",
      "language": "python",
      "name": "python3"
    },
    "language_info": {
      "codemirror_mode": {
        "name": "ipython",
        "version": 3
      },
      "file_extension": ".py",
      "mimetype": "text/x-python",
      "name": "python",
      "nbconvert_exporter": "python",
      "pygments_lexer": "ipython3",
      "version": "3.9.5"
    },
    "colab": {
      "name": "MayaraAragao_Teste10.ipynb",
      "provenance": [],
      "collapsed_sections": []
    }
  },
  "nbformat": 4,
  "nbformat_minor": 0
}