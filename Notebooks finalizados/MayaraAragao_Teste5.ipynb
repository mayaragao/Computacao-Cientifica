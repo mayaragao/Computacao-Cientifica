{
  "cells": [
    {
      "cell_type": "markdown",
      "id": "81e1bd5b",
      "metadata": {
        "id": "81e1bd5b"
      },
      "source": [
        "![CC-BY-SA](https://mirrors.creativecommons.org/presskit/buttons/88x31/svg/by-sa.svg)\n",
        "\n",
        "\n",
        "This notebook was created by [Bernardo Freitas Paulo da Costa](http://www.im.ufrj.br/bernardofpc),\n",
        "and is licensed under Creative Commons BY-SA."
      ]
    },
    {
      "cell_type": "markdown",
      "id": "673260ba",
      "metadata": {
        "id": "673260ba"
      },
      "source": [
        "Antes de enviar este Teste, verifique que tudo está funcionando como esperado.\n",
        "Por exemplo, **rode o código inteiro, do zero**.\n",
        "Para isso, vá no menu, escolha _Kernel_, depois _Restart & Run All_.\n",
        "\n",
        "Verifique, também, que você respondeu todas as questões:\n",
        "* as questões de código têm `YOUR CODE HERE` (e você pode apagar o `raise NotImplemented` ao incluir sua resposta)\n",
        "* as questões discursivas têm \"YOUR ANSWER HERE\"."
      ]
    },
    {
      "cell_type": "markdown",
      "id": "1faaee8b",
      "metadata": {
        "id": "1faaee8b"
      },
      "source": [
        "---"
      ]
    },
    {
      "cell_type": "markdown",
      "id": "c000e51f",
      "metadata": {
        "id": "c000e51f"
      },
      "source": [
        "# Integrais e Primitivas\n",
        "\n",
        "Neste teste, vamos usar os métodos de integração para calcular primitivas de funções.\n",
        "\n",
        "De forma análoga ao caso de EDOs, vamos retornar dois `np.array`s:\n",
        "- um com os pontos onde a primitiva foi calculada; e\n",
        "- outro com o valor da aproximação numérica da primitiva."
      ]
    },
    {
      "cell_type": "code",
      "execution_count": 236,
      "id": "77e5e549",
      "metadata": {
        "deletable": false,
        "editable": false,
        "nbgrader": {
          "cell_type": "code",
          "checksum": "0563e5a5f6a1c9f7f9694f144cf7e864",
          "grade": false,
          "grade_id": "cell-6f4c7a19fbdf1a6d",
          "locked": true,
          "schema_version": 3,
          "solution": false,
          "task": false
        },
        "id": "77e5e549"
      },
      "outputs": [],
      "source": [
        "import numpy as np\n",
        "import matplotlib.pyplot as plt"
      ]
    },
    {
      "cell_type": "markdown",
      "id": "1ad9a21d",
      "metadata": {
        "id": "1ad9a21d"
      },
      "source": [
        "# Questão 0: o método do retângulo\n",
        "\n",
        "Para evitar efeitos de bordo e arredondamento, vamos usar o método do retângulo criando pontos com `np.linspace`:"
      ]
    },
    {
      "cell_type": "code",
      "execution_count": 237,
      "id": "7fa62161",
      "metadata": {
        "deletable": false,
        "nbgrader": {
          "cell_type": "code",
          "checksum": "2543319c8f8af56935cea2d06a531c6f",
          "grade": false,
          "grade_id": "cell-e58721f1515c51de",
          "locked": false,
          "schema_version": 3,
          "solution": true,
          "task": false
        },
        "id": "7fa62161"
      },
      "outputs": [],
      "source": [
        "def retangulo(f, a, b, n=1000):\n",
        "    if a == b:\n",
        "        return 0\n",
        "    pts, h = np.linspace(a, b, num=n, endpoint=False, retstep=True)\n",
        "    soma = 0\n",
        "    for p in pts: \n",
        "      soma += f(p) * h\n",
        "    return soma"
      ]
    },
    {
      "cell_type": "markdown",
      "id": "30a49c0d",
      "metadata": {
        "id": "30a49c0d"
      },
      "source": [
        "Explique porque os pontos criados têm `endpoint=False`"
      ]
    },
    {
      "cell_type": "markdown",
      "id": "f620a462",
      "metadata": {
        "deletable": false,
        "nbgrader": {
          "cell_type": "markdown",
          "checksum": "f660e1a944326cce55bea2d13ed2d1ad",
          "grade": true,
          "grade_id": "cell-1549d22006ecb487",
          "locked": false,
          "points": 2,
          "schema_version": 3,
          "solution": true,
          "task": false
        },
        "id": "f620a462"
      },
      "source": [
        "Porque para cada intervalo, será calculada uma area de um retângulo em função do 'step'  $h$ (passo - espaçamento entre os pontos de cada subintervalo) e do $f(x)$, ou seja, o valor da função aplicada ao primeiro ponto do subintervalo. Esses retângulos serão somados, e a sua àrea deve corresponder a uma aproximação da integral da função $f(x)$ no intervalo $[a,b]$ definido. \n",
        "\n",
        "No caso do ultimo ponto do intervalo, caso fosse incluido no somatório, estariamos calculando um retângulo após o intervalo definido, pois cada retângulo considera o ponto inicial até o esse ponto $+ h$ do subintervalo, ou seja, se fizessemos a inclusão desse ultimo retângulo, estariamos incluindo ao somatório o intervalo $[b, b+h]$. Como o ultimo ponto já é o final do intervalo, estaria errado considera-lo e esse subintervalo está fora do intervalo dado $[a,b]$. Logo, é necessário especificar que os pontos criados não incluem o ultimo valor, ou seja, `endpoint=False`."
      ]
    },
    {
      "cell_type": "code",
      "execution_count": 238,
      "id": "2b48b21a",
      "metadata": {
        "deletable": false,
        "editable": false,
        "nbgrader": {
          "cell_type": "code",
          "checksum": "6188a407759ec412cfefc188c5597575",
          "grade": true,
          "grade_id": "cell-a91970e14a540c4c",
          "locked": true,
          "points": 1,
          "schema_version": 3,
          "solution": false,
          "task": false
        },
        "id": "2b48b21a"
      },
      "outputs": [],
      "source": [
        "ans = (np.cos(0) - np.cos(1))\n",
        "assert abs(retangulo(np.sin, 0, 1) - ans) < 1e-3"
      ]
    },
    {
      "cell_type": "code",
      "execution_count": 239,
      "id": "f088e57e",
      "metadata": {
        "deletable": false,
        "editable": false,
        "nbgrader": {
          "cell_type": "code",
          "checksum": "8b5a78d4934199461458d877bccfe059",
          "grade": true,
          "grade_id": "cell-4096352942140c09",
          "locked": true,
          "points": 1,
          "schema_version": 3,
          "solution": false,
          "task": false
        },
        "id": "f088e57e"
      },
      "outputs": [],
      "source": [
        "ans = (np.cos(0) - np.cos(1))\n",
        "assert abs(retangulo(np.sin, 0, 1) - ans) > 1e-4"
      ]
    },
    {
      "cell_type": "code",
      "execution_count": 240,
      "id": "fce4b5c6",
      "metadata": {
        "deletable": false,
        "editable": false,
        "nbgrader": {
          "cell_type": "code",
          "checksum": "899858c7dd1f01c837d8cf4965d42c69",
          "grade": true,
          "grade_id": "cell-a76174554c52c73d",
          "locked": true,
          "points": 1,
          "schema_version": 3,
          "solution": false,
          "task": false
        },
        "id": "fce4b5c6"
      },
      "outputs": [],
      "source": [
        "ans = (np.cos(0) - np.cos(2))\n",
        "assert 1e-5 < abs(retangulo(np.sin, 0, 2, n=10**4) - ans) < 1e-4"
      ]
    },
    {
      "cell_type": "markdown",
      "id": "6183780c",
      "metadata": {
        "id": "6183780c"
      },
      "source": [
        "# Questão 1: O jeito fácil\n",
        "\n",
        "Escreva uma função `primitiva_retangulo`,\n",
        "que calcula a integral de $a$ até cada um dos pontos escolhidos,\n",
        "**incluindo** $a$,\n",
        "chamando o método do retângulo para cada um deles."
      ]
    },
    {
      "cell_type": "code",
      "execution_count": 241,
      "id": "0d262dbf",
      "metadata": {
        "deletable": false,
        "nbgrader": {
          "cell_type": "code",
          "checksum": "362cfe3959dfe952d3e852eb162ec45a",
          "grade": false,
          "grade_id": "cell-ca2f7a5c2102974b",
          "locked": false,
          "schema_version": 3,
          "solution": true,
          "task": false
        },
        "id": "0d262dbf"
      },
      "outputs": [],
      "source": [
        "def primitiva_retangulo(f, a, b, h=0.01):\n",
        "    \"\"\"Primitiva da função  f, usando um passo de tamanho  h  no intervalo  [a,b].\"\"\"\n",
        "    pts = np.arange(a, b, h)\n",
        "    Fs = np.array([ retangulo(f, a, p, i) for (i, p) in enumerate(pts) ])\n",
        "    return pts, Fs"
      ]
    },
    {
      "cell_type": "code",
      "execution_count": 242,
      "id": "385c0456",
      "metadata": {
        "deletable": false,
        "editable": false,
        "nbgrader": {
          "cell_type": "code",
          "checksum": "08241b7f66fad685ee09ab465847e71c",
          "grade": true,
          "grade_id": "cell-f782ccb631628bac",
          "locked": true,
          "points": 1,
          "schema_version": 3,
          "solution": false,
          "task": false
        },
        "id": "385c0456"
      },
      "outputs": [],
      "source": [
        "pts, Fs = primitiva_retangulo(np.sin, 0, 1)\n",
        "assert len(Fs) == len(pts)"
      ]
    },
    {
      "cell_type": "code",
      "execution_count": 243,
      "id": "1d9d8af8",
      "metadata": {
        "deletable": false,
        "editable": false,
        "nbgrader": {
          "cell_type": "code",
          "checksum": "876eaaebe3d1dc8a63bcca167df43aca",
          "grade": true,
          "grade_id": "cell-610d0a8c1b3b1ee5",
          "locked": true,
          "points": 1,
          "schema_version": 3,
          "solution": false,
          "task": false
        },
        "id": "1d9d8af8"
      },
      "outputs": [],
      "source": [
        "assert np.allclose(Fs, 1- np.cos(pts), atol=1e-2)"
      ]
    },
    {
      "cell_type": "code",
      "execution_count": 244,
      "id": "ee61ebd3",
      "metadata": {
        "deletable": false,
        "editable": false,
        "nbgrader": {
          "cell_type": "code",
          "checksum": "a258533db17d66128ed4570e3751d176",
          "grade": true,
          "grade_id": "cell-f08c296c1f556aa0",
          "locked": true,
          "points": 1,
          "schema_version": 3,
          "solution": false,
          "task": false
        },
        "id": "ee61ebd3"
      },
      "outputs": [],
      "source": [
        "assert not np.allclose(Fs, 1 - np.cos(pts), atol=1e-3)"
      ]
    },
    {
      "cell_type": "markdown",
      "id": "c1fd2a60",
      "metadata": {
        "id": "c1fd2a60"
      },
      "source": [
        "## Questão 2: Gráficos\n",
        "\n",
        "Faça os gráficos dos erros de cálculo das primitivas, no intervalo $[0, 1.5]$, das seguintes funções:\n",
        "- Seno\n",
        "- Exponencial\n",
        "- Cosseno\n",
        "\n",
        "para quatro valores de passo: `1e-2`, `5e-3`, `2e-3` e `1e-3`.\n",
        "\n",
        "Use 3 eixos, um para cada função, e 4 curvas em cada eixo."
      ]
    },
    {
      "cell_type": "code",
      "execution_count": 245,
      "id": "01ec1a6f",
      "metadata": {
        "deletable": false,
        "nbgrader": {
          "cell_type": "code",
          "checksum": "526da40dcd2ccbd88f859fa5bb56b20d",
          "grade": true,
          "grade_id": "cell-893a01adad1a224e",
          "locked": false,
          "points": 1,
          "schema_version": 3,
          "solution": true,
          "task": false
        },
        "colab": {
          "base_uri": "https://localhost:8080/",
          "height": 313
        },
        "id": "01ec1a6f",
        "outputId": "c1ef7fc5-56a6-4887-c656-fcd91665580a"
      },
      "outputs": [
        {
          "output_type": "execute_result",
          "data": {
            "text/plain": [
              "Text(0.5, 1.0, 'Erro função cosseno')"
            ]
          },
          "metadata": {},
          "execution_count": 245
        },
        {
          "output_type": "display_data",
          "data": {
            "image/png": "[encoded data removed]",
            "text/plain": [
              "<Figure size 1296x288 with 3 Axes>"
            ]
          },
          "metadata": {
            "needs_background": "light"
          }
        }
      ],
      "source": [
        "fig, axs = plt.subplots(ncols=3, figsize=(18,4))\n",
        "hs = [1e-2, 5e-3, 2e-3, 1e-3]\n",
        "a = 0\n",
        "b = 1.5\n",
        "\n",
        "e_sen = ['sen']\n",
        "e_cos = ['cos']\n",
        "e_exp = ['exp']\n",
        "\n",
        "for h in hs:\n",
        "  pts, Fs = primitiva_retangulo(np.sin, a, b, h)\n",
        "  i = [(1 - np.cos(p)) for p in pts] #valor real\n",
        "  e = abs(i -Fs) # valor real - valor calculado pelo metodo do retangulo\n",
        "  axs[0].plot(pts, e, label=f\"{h}\" )\n",
        "  axs[0].set_xlabel(\"x\")\n",
        "  axs[0].set_ylabel(\"erro\")\n",
        "\n",
        "  e_sen.append(e[-1]) #inclusão de ultimo valor de erro no vetor e_sen para exibir depois\n",
        "\n",
        "axs[0].legend()\n",
        "axs[0].set_title('Erro função seno')\n",
        "\n",
        "for h in hs:\n",
        "  pts, Fs = primitiva_retangulo(np.exp, a, b, h)\n",
        "  i = [(np.exp(p)- 1) for p in pts] \n",
        "  e = abs(i -Fs) \n",
        "  axs[1].plot(pts, e, label='h='+ f\"{h}\" )\n",
        "  axs[1].set_xlabel(\"x\")\n",
        "  axs[1].set_ylabel(\"erro\")\n",
        "  \n",
        "  e_exp.append(e[-1])\n",
        "\n",
        "axs[1].legend()\n",
        "axs[1].set_title('Erro função exponencial')\n",
        "\n",
        "for h in hs:\n",
        "  pts, Fs = primitiva_retangulo(np.cos, a, b, h)\n",
        "  i = [(np.sin(p)) for p in pts] \n",
        "  e = abs(i -Fs) \n",
        "  axs[2].plot(pts, e, label='h='+ f\"{h}\" )\n",
        "  axs[2].set_xlabel(\"x\")\n",
        "  axs[2].set_ylabel(\"erro\")\n",
        "  e_cos.append(e[-1])\n",
        "axs[2].legend()\n",
        "axs[2].set_title('Erro função cosseno')\n"
      ]
    },
    {
      "cell_type": "code",
      "execution_count": 246,
      "id": "c3790d3b",
      "metadata": {
        "deletable": false,
        "editable": false,
        "nbgrader": {
          "cell_type": "code",
          "checksum": "5d9458c230ead2b8ae2d59b15fde319e",
          "grade": true,
          "grade_id": "cell-63283f9cb6e27e97",
          "locked": true,
          "points": 2,
          "schema_version": 3,
          "solution": false,
          "task": false
        },
        "id": "c3790d3b"
      },
      "outputs": [],
      "source": [
        "for ax in axs:\n",
        "    assert len(ax.lines) == 4\n",
        "    assert len(ax.get_legend().texts) == 4\n",
        "    assert len(ax.get_title()) > 0"
      ]
    },
    {
      "cell_type": "code",
      "execution_count": 247,
      "id": "466b309b",
      "metadata": {
        "deletable": false,
        "editable": false,
        "nbgrader": {
          "cell_type": "code",
          "checksum": "800b3a08ab956d239d24c1740fc7cac9",
          "grade": true,
          "grade_id": "cell-b8348c3801bc1956",
          "locked": true,
          "points": 1,
          "schema_version": 3,
          "solution": false,
          "task": false
        },
        "id": "466b309b"
      },
      "outputs": [],
      "source": [
        "for ax in axs:\n",
        "    for l in ax.lines:\n",
        "        assert max(np.abs(l.get_ydata())) < 2e-2"
      ]
    },
    {
      "cell_type": "markdown",
      "id": "c03f5322",
      "metadata": {
        "id": "c03f5322"
      },
      "source": [
        "Qual o erro, na extremidade final do intervalo, para cada um dos métodos e valores de $h$?\n",
        "\n",
        "Imprima uma tabela, com 3 colunas e 4 linhas (fora as \"de título\"), usando `print` formatado."
      ]
    },
    {
      "cell_type": "code",
      "execution_count": 248,
      "id": "126f7731",
      "metadata": {
        "deletable": false,
        "nbgrader": {
          "cell_type": "code",
          "checksum": "93fd9df76175459ea884196ff17c7c2d",
          "grade": true,
          "grade_id": "cell-85eff91dd1f86421",
          "locked": false,
          "points": 2,
          "schema_version": 3,
          "solution": true,
          "task": false
        },
        "colab": {
          "base_uri": "https://localhost:8080/"
        },
        "id": "126f7731",
        "outputId": "c01acc1c-6b65-48ff-9bcb-d1591f82dcfb"
      },
      "outputs": [
        {
          "output_type": "stream",
          "name": "stdout",
          "text": [
            "h        sen                       exp                       cos                      \n",
            "0.01     0.004991349535912737      0.01715683518009614       0.0045881515959481645     \n",
            "0.005    0.002494747659798846      0.008641134433969633      0.0023086132183823826     \n",
            "0.002    0.0009976606066429694     0.003471577071461507      0.0009269355006368274     \n",
            "0.001    0.0004987892307801722     0.0017383150432168648     0.00046404955079271115    \n"
          ]
        }
      ],
      "source": [
        "print (\"{:<8} {:<25} {:<25} {:<25}\".format('h',  e_sen[0],  e_exp[0],  e_cos[0]))\n",
        "\n",
        "for i in np.arange(0,4):\n",
        "  h, h_sen, h_exp, h_cos = hs[i], e_sen[i+1], e_exp[i+1], e_cos[i+1]\n",
        "  print (\"{:<8} {:<25} {:<25} {:<25} \".format(h, h_sen, h_exp, h_cos))"
      ]
    },
    {
      "cell_type": "markdown",
      "id": "80f13330",
      "metadata": {
        "id": "80f13330"
      },
      "source": [
        "Como os erros se comportam ao diminuir o passo?  Isso é esperado?"
      ]
    },
    {
      "cell_type": "markdown",
      "id": "223c55f5",
      "metadata": {
        "deletable": false,
        "nbgrader": {
          "cell_type": "markdown",
          "checksum": "c6ce1eaa270db67ddc553aaba54dd84a",
          "grade": true,
          "grade_id": "cell-2de92a806cae4abd",
          "locked": false,
          "points": 2,
          "schema_version": 3,
          "solution": true,
          "task": false
        },
        "id": "223c55f5"
      },
      "source": [
        "Conforme o passo $h$ é diminuido, os erros tendem a diminuir, em todas as funções, já que por definição o método do retangulo ao utilizar o somatório de retângulos para aproximação de uma integral, conforme o passo $h$ diminui, aumentamos o número de retângulos mais 'finos' no intervalo(considerando fixo), fazendo com que o valor calculado no somatório seja mais parecido com a integral da função naquele intervalo. Considerando o mesmo raciocionio de uma integral, onde fazemos a soma de pequenos retângulos de base $\\Delta x = h$ tendendo a zero e altura $f(x_{i})$, onde somatório dos produtos $f(x_{i}) \\cdot \\Delta x$ é a área deste retângulo, desse modo, conforme menor for o passo, o valor calculado pelo metodo do retângulo se aproxima da definição de uma integral, onde o passo tende a $0$."
      ]
    },
    {
      "cell_type": "markdown",
      "id": "7e980c70",
      "metadata": {
        "id": "7e980c70"
      },
      "source": [
        "Como os erros se comportam ao longo do eixo dos $x$, ou seja, ao calcular primitivas \"cada vez mais longe\"?  Como você explica este fenômeno?"
      ]
    },
    {
      "cell_type": "markdown",
      "id": "afce6a5e",
      "metadata": {
        "deletable": false,
        "nbgrader": {
          "cell_type": "markdown",
          "checksum": "75a2406633ac810f73b6c640d29477d7",
          "grade": true,
          "grade_id": "cell-b016645ddc678451",
          "locked": false,
          "points": 2,
          "schema_version": 3,
          "solution": true,
          "task": false
        },
        "id": "afce6a5e"
      },
      "source": [
        "Conforme aumenta o intervalo de integração, o erro tende a aumentar. Isso acontece, já que para um passo fixo $h$, quanto maior o intervalo, maior o será o número de retângulos utilizados no cálculo da aproximação da integral da função nesse intervalo.\n",
        "\n",
        "Como cada retângulo associado a um subintervalo do intervalo possui um erro característico, que envolve a diferença entre o valor real da integral e o valor da área do retângulo do subintervalo, o erro final será a soma de todos os erros presentes em cada subintervalo, ou seja, para cada retângulo.\n",
        "\n",
        "Desse modo, conforme aumentamos o intervalo aplicado ao método do retângulo, considerando um mesmo $h$, consequentemente aumentamos o número de retângulos, e assim, também, o valor do erro.  "
      ]
    },
    {
      "cell_type": "markdown",
      "id": "e1d98488",
      "metadata": {
        "id": "e1d98488"
      },
      "source": [
        "Como os erros se comportam para as diferentes funções?  Você esperava isso?"
      ]
    },
    {
      "cell_type": "markdown",
      "id": "3d4797a1",
      "metadata": {
        "deletable": false,
        "nbgrader": {
          "cell_type": "markdown",
          "checksum": "d81ce075eeae53d7e24bffd542d18b11",
          "grade": true,
          "grade_id": "cell-0842df6fbab5c7a4",
          "locked": false,
          "points": 2,
          "schema_version": 3,
          "solution": true,
          "task": false
        },
        "id": "3d4797a1"
      },
      "source": [
        "É perceptivel que o erro da função exponencial é maior que os erros apresentados nas funções de seno e cosseno, o que já poderia ser previsto, tendo em conta que o erro depende tanto do tamanho do passo $h$, como também da derivada da função (taxa de crescimento), o que pode ser verificado por uma expansão de taylor. Isso acontece porque esse método assume que a área do retângulo equivale a área real do intervalo, mas para isso seria necessário que o valor da função $f(x)$ no início e no final daquele subintervalo fosse o mesmo.\n",
        "\n",
        "Assim, quanto maior for a variação da função naquele intervalo, maior deve ser o erro também. Isso acontece na função exponencial em contraposto às funções trigonométricas, já que a derivada da função exponencial é também é uma função exponencial e a cada subintervalo vai possuir uma maior variação conforme cresce o intervalo no eixo $x$, enquanto as derivadas das funções de seno e cosseno são funções trigonométricas, e vão apresentar uma variação de $0$ e $1$ em módulo. "
      ]
    },
    {
      "cell_type": "markdown",
      "id": "2fb644da",
      "metadata": {
        "id": "2fb644da"
      },
      "source": [
        "## Questão 3: O jeito mais rápido\n",
        "\n",
        "Na questão anterior, ao calcular a primitiva de $[a, a+2h]$, era necessário calcular $f(a)$ e $f(a+h)$.\n",
        "Ora, $f(a)$ já tinha sido calculada para a primitiva em $[a, a+h]$ (era o único termo!),\n",
        "então podemos evitar estas contas repetidas.\n",
        "\n",
        "Vamos fazer uma nova primitiva, `primitiva_rapida`, que calcula apenas uma vez `f(pts)`,\n",
        "e calcula as somas parciais usando [`np.cumsum`](https://numpy.org/doc/stable/reference/generated/numpy.cumsum.html)."
      ]
    },
    {
      "cell_type": "markdown",
      "id": "ca89c3d5",
      "metadata": {
        "id": "ca89c3d5"
      },
      "source": [
        "Explique porque é ruim (neste caso!) que `np.cumsum` **não** retorne a soma vazia."
      ]
    },
    {
      "cell_type": "code",
      "execution_count": 249,
      "id": "8da3a15f",
      "metadata": {
        "deletable": false,
        "editable": false,
        "nbgrader": {
          "cell_type": "code",
          "checksum": "930df8bda033bbd16173cdc5bc716ff5",
          "grade": false,
          "grade_id": "cell-6753e81af4219770",
          "locked": true,
          "schema_version": 3,
          "solution": false,
          "task": false
        },
        "colab": {
          "base_uri": "https://localhost:8080/"
        },
        "id": "8da3a15f",
        "outputId": "d6af84d3-e1b5-41cf-e483-9ba61d087e6b"
      },
      "outputs": [
        {
          "output_type": "execute_result",
          "data": {
            "text/plain": [
              "array([1, 3])"
            ]
          },
          "metadata": {},
          "execution_count": 249
        }
      ],
      "source": [
        "np.cumsum([1, 2])"
      ]
    },
    {
      "cell_type": "markdown",
      "id": "69e045e0",
      "metadata": {
        "deletable": false,
        "nbgrader": {
          "cell_type": "markdown",
          "checksum": "28bb8fb8a4c71caac89bdf82d578d34c",
          "grade": true,
          "grade_id": "cell-c5a49030557d7f4c",
          "locked": false,
          "points": 1,
          "schema_version": 3,
          "solution": true,
          "task": false
        },
        "id": "69e045e0"
      },
      "source": [
        "Porque para calcular as primitivas, pela definição, é retornada a área equivalente ao método do retângulo para cada subintervalo de $a$ até $a+n \\cdot h$, considerando todos os $n$ pontos dentro do intervalo $[a,b]$ espaçados pelo passo $h$. Sabendo que esses valores de área são cumulativos, é interessante a utilização do método `np,cumsum`. \n",
        "\n",
        "Contudo, como no cálculo da primitiva devemos começar pelo intervalo $[a,a]$, seria ideal que o primeiro valor fosse a soma vazia, então ao utilizar o `np.cumsum`, não será retornado o primeiro valor da primitiva, ou seja, a integral de $a$ ate $a$ que tem o passo $h=0$, e área igual a $0$. Assim esse valor deve ser incluido logo após as somas cumulativas com o `np.hstack`."
      ]
    },
    {
      "cell_type": "markdown",
      "id": "ce7b1397",
      "metadata": {
        "id": "ce7b1397"
      },
      "source": [
        "Para incluir a soma vazia (que vale zero!), use `np.hstack`."
      ]
    },
    {
      "cell_type": "code",
      "execution_count": 250,
      "id": "54825a79",
      "metadata": {
        "colab": {
          "base_uri": "https://localhost:8080/"
        },
        "id": "54825a79",
        "outputId": "1bd83d5f-d838-4184-bff2-03d5a65e4730"
      },
      "outputs": [
        {
          "output_type": "execute_result",
          "data": {
            "text/plain": [
              "array([0, 1, 3])"
            ]
          },
          "metadata": {},
          "execution_count": 250
        }
      ],
      "source": [
        "np.hstack([[0], [1, 3]])"
      ]
    },
    {
      "cell_type": "code",
      "execution_count": 251,
      "id": "c74b49d5",
      "metadata": {
        "deletable": false,
        "nbgrader": {
          "cell_type": "code",
          "checksum": "64f0ee8b5f8bcb2dd4fa98036ff4557f",
          "grade": false,
          "grade_id": "cell-66631c20ed24bf35",
          "locked": false,
          "schema_version": 3,
          "solution": true,
          "task": false
        },
        "id": "c74b49d5"
      },
      "outputs": [],
      "source": [
        "def primitiva_rapida(f, a, b, h=0.01):\n",
        "    \"\"\"Primitiva da função  f, usando um passo de tamanho  h  no intervalo  [a,b].\"\"\"\n",
        "    pts = np.arange(a, b, h)\n",
        "    ret = []\n",
        "    for i in range(len(pts)-1):\n",
        "      ret.append(retangulo(f, pts[i], pts[i+1], n=1))\n",
        "    return (pts, np.hstack([[0], np.cumsum(ret)]))\n"
      ]
    },
    {
      "cell_type": "code",
      "execution_count": 252,
      "id": "85359ab3",
      "metadata": {
        "deletable": false,
        "editable": false,
        "nbgrader": {
          "cell_type": "code",
          "checksum": "01c82b6b18840bafcffae8e286d8611d",
          "grade": true,
          "grade_id": "cell-50f5e7584dce3ef8",
          "locked": true,
          "points": 1,
          "schema_version": 3,
          "solution": false,
          "task": false
        },
        "id": "85359ab3"
      },
      "outputs": [],
      "source": [
        "pts, Fs = primitiva_rapida(np.sin, 0, 1)\n",
        "assert len(pts) == len(Fs)"
      ]
    },
    {
      "cell_type": "code",
      "execution_count": 253,
      "id": "916b04c3",
      "metadata": {
        "deletable": false,
        "editable": false,
        "nbgrader": {
          "cell_type": "code",
          "checksum": "5b9630f57e60e23aeb89b0af27475083",
          "grade": true,
          "grade_id": "cell-3df3bdeb658b648d",
          "locked": true,
          "points": 1,
          "schema_version": 3,
          "solution": false,
          "task": false
        },
        "id": "916b04c3"
      },
      "outputs": [],
      "source": [
        "assert np.allclose(Fs, 1 - np.cos(pts), atol=1e-2)"
      ]
    },
    {
      "cell_type": "code",
      "execution_count": 254,
      "id": "f8b9be89",
      "metadata": {
        "deletable": false,
        "editable": false,
        "nbgrader": {
          "cell_type": "code",
          "checksum": "021112ccf30fa755f4528737dcd1950d",
          "grade": true,
          "grade_id": "cell-4d749fbf56409d26",
          "locked": true,
          "points": 1,
          "schema_version": 3,
          "solution": false,
          "task": false
        },
        "id": "f8b9be89"
      },
      "outputs": [],
      "source": [
        "assert not np.allclose(Fs, 1 - np.cos(pts), atol=1e-3)"
      ]
    },
    {
      "cell_type": "markdown",
      "id": "3792438e",
      "metadata": {
        "id": "3792438e"
      },
      "source": [
        "Ambas as funções devem ser (a menos de erro de truncamento / arredondamento) iguais:"
      ]
    },
    {
      "cell_type": "code",
      "execution_count": 255,
      "id": "bafdc859",
      "metadata": {
        "deletable": false,
        "editable": false,
        "nbgrader": {
          "cell_type": "code",
          "checksum": "5739a5cbd441a04a760f2ca0443decd9",
          "grade": true,
          "grade_id": "cell-8e62b317e12f9bd6",
          "locked": true,
          "points": 2,
          "schema_version": 3,
          "solution": false,
          "task": false
        },
        "id": "bafdc859"
      },
      "outputs": [],
      "source": [
        "_, Fs_original = primitiva_retangulo(np.sin, 0, 1)\n",
        "assert np.allclose(Fs, Fs_original, atol=1e-15, rtol=1e-15)"
      ]
    },
    {
      "cell_type": "markdown",
      "id": "7021f683",
      "metadata": {
        "id": "7021f683"
      },
      "source": [
        "## Questão 4: E terá valido a pena?\n",
        "\n",
        "Observe as duas caixas abaixo"
      ]
    },
    {
      "cell_type": "code",
      "execution_count": 205,
      "id": "65d5d7bb",
      "metadata": {
        "deletable": false,
        "editable": false,
        "nbgrader": {
          "cell_type": "code",
          "checksum": "9971b352deee3d9ece4fa40da669fca1",
          "grade": false,
          "grade_id": "cell-105e2d428bae5984",
          "locked": true,
          "schema_version": 3,
          "solution": false,
          "task": false
        },
        "colab": {
          "base_uri": "https://localhost:8080/"
        },
        "id": "65d5d7bb",
        "outputId": "b1f4c826-fc2c-47e1-bd63-568c975f4815"
      },
      "outputs": [
        {
          "output_type": "stream",
          "name": "stdout",
          "text": [
            "CPU times: user 1min 21s, sys: 222 ms, total: 1min 21s\n",
            "Wall time: 1min 21s\n",
            "CPU times: user 878 ms, sys: 9.25 ms, total: 887 ms\n",
            "Wall time: 872 ms\n"
          ]
        }
      ],
      "source": [
        "%time primitiva_retangulo(np.sin, 0, 1, h=1e-4)\n",
        "%time primitiva_retangulo(np.sin, 0, 1, h=1e-3)\n",
        "None"
      ]
    },
    {
      "cell_type": "code",
      "execution_count": 189,
      "id": "2d883010",
      "metadata": {
        "deletable": false,
        "editable": false,
        "nbgrader": {
          "cell_type": "code",
          "checksum": "b904f651e0e6e04dfb340a7e4bfd2ab4",
          "grade": false,
          "grade_id": "cell-ee7ec148626d9633",
          "locked": true,
          "schema_version": 3,
          "solution": false,
          "task": false
        },
        "colab": {
          "base_uri": "https://localhost:8080/"
        },
        "id": "2d883010",
        "outputId": "e897e6af-1998-4d09-e2ea-851e7486fc7e"
      },
      "outputs": [
        {
          "output_type": "stream",
          "name": "stdout",
          "text": [
            "CPU times: user 328 ms, sys: 944 µs, total: 329 ms\n",
            "Wall time: 333 ms\n",
            "CPU times: user 33.6 ms, sys: 0 ns, total: 33.6 ms\n",
            "Wall time: 33.4 ms\n"
          ]
        }
      ],
      "source": [
        "%time primitiva_rapida(np.sin, 0, 1, h=1e-4)\n",
        "%time primitiva_rapida(np.sin, 0, 1, h=1e-3)\n",
        "None"
      ]
    },
    {
      "cell_type": "markdown",
      "id": "d312430c",
      "metadata": {
        "id": "d312430c"
      },
      "source": [
        "Quão mais rápido é o método usando `np.cumsum`?"
      ]
    },
    {
      "cell_type": "markdown",
      "id": "97642259",
      "metadata": {
        "deletable": false,
        "nbgrader": {
          "cell_type": "markdown",
          "checksum": "76bd6f5186c55fbb6a6a4c6c4c2d11f1",
          "grade": true,
          "grade_id": "cell-ffce7e6028d2340e",
          "locked": false,
          "points": 2,
          "schema_version": 3,
          "solution": true,
          "task": false
        },
        "id": "97642259"
      },
      "source": [
        "Muito mais rápido. Considerando o mesmo passo para diferentes funções, a primitiva rápida é extremamene mais eficiente. Para o passo $h=10^{-3}$, temos que a primitiva original demora cerca de $872ms$  enquanto a primitiva rápida demora $33.4ms$ . Assim a primitiva rápida é aproximadamente $26$ vezes mais rápida nesse passo:\n",
        "\n",
        "$$ \\frac{872 ms}{33.4 ms} \\approx 26 $$\n",
        "\n",
        "Enquanto para o passo $h=10^{-4}$:\n",
        " \n",
        "$$ \\frac{81000 ms}{333 ms} \\approx 243 $$\n",
        " \n",
        "Ela é aproximadamente $243$ vezes mais rápida em comparação a original. \n",
        "\n",
        "Isso acontece, já que a primitiva original, faz repetidas vezes o cálculo de um mesmo retângulo. Isso é aprimorado na primitiva rápida, que ao utilizar o `np.cumsum` na sua lógica, garante que os retângulos serão calculados e somados apenas uma vez no cálculo da integral."
      ]
    },
    {
      "cell_type": "markdown",
      "id": "1da45532",
      "metadata": {
        "id": "1da45532"
      },
      "source": [
        "Agora, observe com mais detalhe:"
      ]
    },
    {
      "cell_type": "code",
      "execution_count": 187,
      "id": "0cf3def9",
      "metadata": {
        "colab": {
          "base_uri": "https://localhost:8080/"
        },
        "id": "0cf3def9",
        "outputId": "e082e07a-0128-418d-e4d5-dda6f9f4fba7"
      },
      "outputs": [
        {
          "output_type": "stream",
          "name": "stdout",
          "text": [
            "1 loop, best of 5: 1min 20s per loop\n",
            "1 loop, best of 5: 855 ms per loop\n"
          ]
        }
      ],
      "source": [
        "%timeit primitiva_retangulo(np.sin, 0, 1, h=1e-4)\n",
        "%timeit primitiva_retangulo(np.sin, 0, 1, h=1e-3)\n",
        "None"
      ]
    },
    {
      "cell_type": "code",
      "execution_count": 188,
      "id": "67d695ca",
      "metadata": {
        "colab": {
          "base_uri": "https://localhost:8080/"
        },
        "id": "67d695ca",
        "outputId": "b32d7e98-c1af-48e4-ba70-fa693cd1488e"
      },
      "outputs": [
        {
          "output_type": "stream",
          "name": "stdout",
          "text": [
            "1 loop, best of 5: 313 ms per loop\n",
            "10 loops, best of 5: 31 ms per loop\n"
          ]
        }
      ],
      "source": [
        "%timeit primitiva_rapida(np.sin, 0, 1, h=1e-4)\n",
        "%timeit primitiva_rapida(np.sin, 0, 1, h=1e-3)\n",
        "None"
      ]
    },
    {
      "cell_type": "markdown",
      "id": "707582c4",
      "metadata": {
        "id": "707582c4"
      },
      "source": [
        "Quantas vezes mais lento é o método \"simples\" com passo 10 vezes menor?\n",
        "\n",
        "E quantas vezes mais lento é o método `np.cumsum` com passo 10 vezes menor?\n",
        "\n",
        "Isso ajuda a explicar as diferenças acima?"
      ]
    },
    {
      "cell_type": "markdown",
      "id": "f63ed332",
      "metadata": {
        "deletable": false,
        "nbgrader": {
          "cell_type": "markdown",
          "checksum": "5e7b9b096a5088daa2f629c7df7b7296",
          "grade": true,
          "grade_id": "cell-af8d633f85cf0dbe",
          "locked": false,
          "points": 2,
          "schema_version": 3,
          "solution": true,
          "task": false
        },
        "id": "f63ed332"
      },
      "source": [
        "O método simples, para um passo $10$ vezes menor, é aproximadamente $93$ vezes mais lento. Isso acontece, já que na sua lógica, é calculado o método do retângulo para o ponto inicial $(a = 0)$ até cada ponto do intervalo, com o espaçamento de $h$. Contudo, ao fazer método do retângulo para $[a, a+n\\cdot h ]$, envolve fazer a soma de $n$ retângulos, enquanto para no intervalo $[a, a+(n-1)\\cdot h ]$ já terão sido feitos os cálculos de todos $(n-1)$ retângulos, restando apenas somar este valor ao intervalo $[a+(n-1) \\cdot h, a+n\\cdot h ]$.\n",
        "\n",
        "Sendo assim, ao dividir o passo por $10$, aumentamos o número de retângulos em $10$ vezes. Ao fazer isso, serão recontabilizados muitos mais retângulos no caso da primitiva original, já que é feita uma soma cumulativa da área de todos os retângulos anteriores a cada subintervalo do intervalo original. \n",
        "\n",
        "Enquanto isso, na primitiva rápida, cada retângulo de base $h$ que representa um subintervalo é calculado apenas uma vez, sendo somados utilizando uma soma cumulativa com `np.cumsum`, da forma mais eficiente descrita acima. Desse modo, ao dividir o passo por $10$ e aumentarmos o número de quadrados em $10$ vezes, equivalentemente, sifinifica que também aumentamos em $10$ o tempo de execução. Isso acontece, porque serão feitos $10$ vezes mais loops de cálculo, mas a cada iteração, será feito o cálculo de apenas um retângulo, e o resultado da primitiva será a soma dos retângulos anteriores, que já foram anteriormente cálculados. "
      ]
    },
    {
      "cell_type": "code",
      "source": [
        "print(80000/855, 313/31)"
      ],
      "metadata": {
        "colab": {
          "base_uri": "https://localhost:8080/"
        },
        "id": "IMs8RRg_Xcbn",
        "outputId": "457c59fb-eb49-45bc-aa1f-80ad4ce3ae96"
      },
      "id": "IMs8RRg_Xcbn",
      "execution_count": 196,
      "outputs": [
        {
          "output_type": "stream",
          "name": "stdout",
          "text": [
            "93.5672514619883 10.096774193548388\n"
          ]
        }
      ]
    }
  ],
  "metadata": {
    "kernelspec": {
      "display_name": "Python 3 (ipykernel)",
      "language": "python",
      "name": "python3"
    },
    "language_info": {
      "codemirror_mode": {
        "name": "ipython",
        "version": 3
      },
      "file_extension": ".py",
      "mimetype": "text/x-python",
      "name": "python",
      "nbconvert_exporter": "python",
      "pygments_lexer": "ipython3",
      "version": "3.9.5"
    },
    "colab": {
      "name": "MayaraAragao_Teste5.ipynb",
      "provenance": [],
      "collapsed_sections": []
    }
  },
  "nbformat": 4,
  "nbformat_minor": 5
}