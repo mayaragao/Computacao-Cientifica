{
  "cells": [
    {
      "cell_type": "markdown",
      "metadata": {
        "id": "fca63f65"
      },
      "source": [
        "![CC-BY-SA](https://mirrors.creativecommons.org/presskit/buttons/88x31/svg/by-sa.svg)\n",
        "\n",
        "\n",
        "This notebook was created by [Bernardo Freitas Paulo da Costa](http://www.im.ufrj.br/bernardofpc),\n",
        "and is licensed under Creative Commons BY-SA."
      ]
    },
    {
      "cell_type": "markdown",
      "metadata": {
        "id": "cbf0642b"
      },
      "source": [
        "Antes de enviar este Teste, verifique que tudo está funcionando como esperado.\n",
        "Por exemplo, **rode o código inteiro, do zero**.\n",
        "Para isso, vá no menu, escolha _Kernel_, depois _Restart & Run All_.\n",
        "\n",
        "Verifique, também, que você respondeu todas as questões:\n",
        "* as questões de código têm `YOUR CODE HERE` (e você pode apagar o `raise NotImplemented` ao incluir sua resposta)\n",
        "* as questões discursivas têm \"YOUR ANSWER HERE\"."
      ]
    },
    {
      "cell_type": "markdown",
      "metadata": {
        "id": "40998cb2"
      },
      "source": [
        "---"
      ]
    },
    {
      "cell_type": "markdown",
      "metadata": {
        "id": "InAAzUlzfJRn"
      },
      "source": [
        "# Teste 2: funções inversas\n",
        "\n",
        "Neste teste, iremos analisar a função $f(x) = x e^x$, para construir a função inversa $g(y) = x$."
      ]
    },
    {
      "cell_type": "code",
      "execution_count": 1,
      "metadata": {
        "deletable": false,
        "editable": false,
        "nbgrader": {
          "cell_type": "code",
          "checksum": "73de49f21337a82a1c6ae1d3fcf0fd10",
          "grade": false,
          "grade_id": "cell-f892a1b6b8618c5a",
          "locked": true,
          "schema_version": 3,
          "solution": false,
          "task": false
        },
        "id": "rYDP3K0PfJRo"
      },
      "outputs": [],
      "source": [
        "import numpy as np\n",
        "import matplotlib.pyplot as plt"
      ]
    },
    {
      "cell_type": "markdown",
      "metadata": {
        "id": "dJX31I9_fJRq"
      },
      "source": [
        "# Questão 1: Análise da função\n",
        "\n",
        "## 1.1 Gráfico\n",
        "\n",
        "Em geral, uma boa forma de analisar uma função é fazendo o gráfico dela.\n",
        "\n",
        "Faça um gráfico de $f$ no intervalo $[-4,1]$. Também indique:\n",
        "- um título; e\n",
        "- dê nome aos eixos."
      ]
    },
    {
      "cell_type": "code",
      "execution_count": 2,
      "metadata": {
        "deletable": false,
        "nbgrader": {
          "cell_type": "code",
          "checksum": "87254f623e1913c82edef77d8286127f",
          "grade": false,
          "grade_id": "cell-b62ae0d9904027d1",
          "locked": false,
          "schema_version": 3,
          "solution": true,
          "task": false
        },
        "colab": {
          "base_uri": "https://localhost:8080/",
          "height": 294
        },
        "id": "698Hm0AmfJRs",
        "outputId": "5057f0f3-6710-4515-f2f8-d4a52c18ec27"
      },
      "outputs": [
        {
          "output_type": "display_data",
          "data": {
            "image/png": "[encoded data removed]",
            "text/plain": [
              "<Figure size 432x288 with 1 Axes>"
            ]
          },
          "metadata": {
            "needs_background": "light"
          }
        }
      ],
      "source": [
        "def f(x): \n",
        "  return x* np.exp(x)\n",
        "\n",
        "X = np.linspace(-4, 1, 500)\n",
        "F = np.vectorize(f)\n",
        "ax = plt.gca()\n",
        "ax.set_xlabel(\"x\")\n",
        "ax.set_ylabel(\"f(x)\")\n",
        "plt.title(\"Gráfico da função\")\n",
        "plt.rcParams['figure.figsize'] = (16,4)\n",
        "ax.plot(X, F(X), 'g-')\n",
        "ax.grid()\n",
        "plt.show()\n"
      ]
    },
    {
      "cell_type": "code",
      "execution_count": 3,
      "metadata": {
        "deletable": false,
        "editable": false,
        "nbgrader": {
          "cell_type": "code",
          "checksum": "3f0a8121e81accf2342420cb68bf607e",
          "grade": true,
          "grade_id": "cell-55a02f4e466c71f9",
          "locked": true,
          "points": 1,
          "schema_version": 3,
          "solution": false,
          "task": false
        },
        "id": "g-Pwb1OTfJRt"
      },
      "outputs": [],
      "source": [
        "assert len(ax.lines) == 1\n",
        "assert ax.title.get_text() != \"\"\n",
        "assert ax.get_xlabel() != \"\"\n",
        "assert ax.get_ylabel() != \"\""
      ]
    },
    {
      "cell_type": "code",
      "execution_count": 4,
      "metadata": {
        "deletable": false,
        "editable": false,
        "nbgrader": {
          "cell_type": "code",
          "checksum": "a54967b19d4f6d4b0d9f4b0badde3aa6",
          "grade": true,
          "grade_id": "cell-5698f335a74400b0",
          "locked": true,
          "points": 1,
          "schema_version": 3,
          "solution": false,
          "task": false
        },
        "id": "bXC83m2efJRv"
      },
      "outputs": [],
      "source": [
        "valores = ax.lines[0].get_ydata()\n",
        "a, b = min(valores), max(valores)\n",
        "assert np.isclose(a, -0.36787944117144, atol=1e-4)\n",
        "assert np.isclose(b, 2.718281828459045, atol=1e-4)"
      ]
    },
    {
      "cell_type": "code",
      "execution_count": 5,
      "metadata": {
        "deletable": false,
        "editable": false,
        "nbgrader": {
          "cell_type": "code",
          "checksum": "09fd02acab044cf07600ad3f94fb3364",
          "grade": false,
          "grade_id": "cell-dda92a036aeac2eb",
          "locked": true,
          "schema_version": 3,
          "solution": false,
          "task": false
        },
        "id": "Ar6uTuELfJRw"
      },
      "outputs": [],
      "source": [
        "ax = None"
      ]
    },
    {
      "cell_type": "markdown",
      "metadata": {
        "id": "94NadVkXfJRx"
      },
      "source": [
        "## 1.2: Mínimos e Máximos\n",
        "\n",
        "Se uma função troca a direção de crescimento, isso muda a análise das raízes.\n",
        "Portanto, é importante saber onde estão os máximos e mínimos locais de $f$."
      ]
    },
    {
      "cell_type": "markdown",
      "metadata": {
        "id": "tu-OPc4CfJRx"
      },
      "source": [
        "Calcule (analiticamente) a derivada de $f$, e indique o(s) ponto(s) em que ela se anula.\n",
        "\n",
        "São pontos de máximo ou de mínimo?"
      ]
    },
    {
      "cell_type": "markdown",
      "metadata": {
        "deletable": false,
        "nbgrader": {
          "cell_type": "markdown",
          "checksum": "7e3e8d3e8067a518e92008e4817894cc",
          "grade": true,
          "grade_id": "cell-afcca791543112ae",
          "locked": false,
          "points": 2,
          "schema_version": 3,
          "solution": true,
          "task": false
        },
        "id": "4WfJ5L4gfJRy"
      },
      "source": [
        "A derivada de $f$ segue a regra do produto para derivação e é igual a: $ f'(x) = e^x (x+1)$.\n",
        "\n",
        "Para o cálculo dos valores máximos ou mínimos, deve-se igualar a derivada a $0$,\n",
        "logo $  e^x (x+1) = 0 $. Então, o ponto em que a derivada se anula é, $(x+1) = 0$ ou $x=-1$. "
      ]
    },
    {
      "cell_type": "markdown",
      "metadata": {
        "id": "l-MsWqwbfJRy"
      },
      "source": [
        "Agora, faça uma figura com dois gráficos:\n",
        "- No primeiro, o gráfico da derivada de $f$ no mesmo intervalo $[-4, 1]$;\n",
        "- Ao lado, um \"zoom\" em uma região que você considere importante."
      ]
    },
    {
      "cell_type": "code",
      "execution_count": 6,
      "metadata": {
        "deletable": false,
        "nbgrader": {
          "cell_type": "code",
          "checksum": "92e71a245f6ba6ac1e1c6df575a61b7d",
          "grade": true,
          "grade_id": "cell-cdaee38e6b4914a3",
          "locked": false,
          "points": 2,
          "schema_version": 3,
          "solution": true,
          "task": false
        },
        "colab": {
          "base_uri": "https://localhost:8080/",
          "height": 404
        },
        "id": "njBzQHMGfJRz",
        "outputId": "9184842e-7c62-4697-bcef-7256d96abac8"
      },
      "outputs": [
        {
          "output_type": "display_data",
          "data": {
            "image/png": "[encoded data removed]",
            "text/plain": [
              "<Figure size 1728x432 with 2 Axes>"
            ]
          },
          "metadata": {
            "needs_background": "light"
          }
        }
      ],
      "source": [
        "def der(x):\n",
        "  return np.exp(x) * (x+1)\n",
        "\n",
        "DER = np.vectorize(der)\n",
        "fig, [ax1, ax2] = plt.subplots(ncols=2, figsize=(24,6))\n",
        "\n",
        "ax1.set_xlabel(\"x\")\n",
        "ax1.set_ylabel(\"f' (x)\")\n",
        "ax1.set_title(\"Gráfico da função f derivada\")\n",
        "ax1.plot(X, DER(X), 'g-')\n",
        "ax1.grid()\n",
        "\n",
        "def g(x):\n",
        "  return 0\n",
        "\n",
        "G = np.vectorize(g)\n",
        "Y = np.linspace(-1.2, -0.8, 500)\n",
        "\n",
        "ax2.set_xlabel(\"x\")\n",
        "ax2.set_ylabel(\"f' (x)\")\n",
        "ax2.set_title(\"Zoom do Gráfico da função f derivada\")\n",
        "ax2.plot(Y, der(Y), 'b-')\n",
        "ax2.plot(Y, G(Y), 'r-')\n",
        "ax2.scatter(-1, 0, color=\"red\")\n",
        "ax2.grid()\n",
        "\n",
        "plt.show()\n",
        "\n",
        "#Onde temos a derivada=0, é o ponto de minimo ou maximo! "
      ]
    },
    {
      "cell_type": "markdown",
      "metadata": {
        "id": "-uGQQ3YvfJRz"
      },
      "source": [
        "Como estes gráficos ajudam a confirmar os mínimos e máximos que você calculou?"
      ]
    },
    {
      "cell_type": "markdown",
      "metadata": {
        "deletable": false,
        "nbgrader": {
          "cell_type": "markdown",
          "checksum": "b3cd784e6f641d7e4583d269628e64d4",
          "grade": true,
          "grade_id": "cell-2ff292ac34b1722f",
          "locked": false,
          "points": 2,
          "schema_version": 3,
          "solution": true,
          "task": false
        },
        "id": "JPZhyPkVfJR2"
      },
      "source": [
        "Esses gráficos podem auxiliar na confirmação de maximos e minimos, porque no primeiro gráfico da função $f$, é possível observar que a função possui uma curvatura e que o valor mínimo de $f(x)$ está visualmente igual ao valor calculado analiticamente.\n",
        "Ao plotar o gráfico da derivada, é possivel identificar com maior clareza onde está localizado o minimo da função, já que onde a derivada possuir valor igual a $0$, é o ponto desejado. Nesse caso, é possível  fazer uma interesecção com uma reta $y=0$, que ajuda a identificar que realmente o ponto minimo está no valor de $x=-1$."
      ]
    },
    {
      "cell_type": "markdown",
      "metadata": {
        "id": "8KhD0TnofJR4"
      },
      "source": [
        "## 1.3: Número de raízes\n",
        "\n",
        "Usando a informação da derivada da função, seus maximo(s) e minimo(s), responda: \n",
        "\n",
        "Quantas raizes a equação $f(x) = y$ tem para cada valor de $y$?"
      ]
    },
    {
      "cell_type": "markdown",
      "metadata": {
        "deletable": false,
        "nbgrader": {
          "cell_type": "markdown",
          "checksum": "d6189a63d8e27d60d02d8283ae8d4e2c",
          "grade": true,
          "grade_id": "cell-5dde5d2327304877",
          "locked": false,
          "points": 2,
          "schema_version": 3,
          "solution": true,
          "task": false
        },
        "id": "naw2h8SufJR4"
      },
      "source": [
        "Possui apenas uma raiz para cada valor de $y$ dentro do intervalo onde  $y= (0,\\infty )$  e possui duas raizes dentro do intervalo de $y= (-\\infty , 0]$"
      ]
    },
    {
      "cell_type": "markdown",
      "metadata": {
        "id": "WjFW4a4BfJR4"
      },
      "source": [
        "# Questão 2: Construindo a função inversa"
      ]
    },
    {
      "cell_type": "markdown",
      "metadata": {
        "id": "r1P22xYUfJR5"
      },
      "source": [
        "A maior dificuldade de usar a bisseção para construir a função inversa é que precisamos de um intervalo onde a raiz estará.\n",
        "\n",
        "## 2.1: Gráficos para limitar a bisseção\n",
        "\n",
        "Faça um gráfico das funções $x e^x$ e $e^x$ e veja que,\n",
        "para $y$ suficientemente grande,\n",
        "a raiz estará sempre abaixo de $\\log y$.\n",
        "Isso permite achar um limite superior para um intervalo de bisseção.\n",
        "\n",
        "Escolha um intervalo razoável para o gráfico, que ajude a observar quão \"grande\" $y$ deve ser."
      ]
    },
    {
      "cell_type": "code",
      "execution_count": 7,
      "metadata": {
        "deletable": false,
        "nbgrader": {
          "cell_type": "code",
          "checksum": "baad991f3fc242ba5ba13fd8eaa18daa",
          "grade": true,
          "grade_id": "cell-f37ddc6a9a659c5e",
          "locked": false,
          "points": 2,
          "schema_version": 3,
          "solution": true,
          "task": false
        },
        "colab": {
          "base_uri": "https://localhost:8080/",
          "height": 294
        },
        "id": "FeKXvBYDfJR5",
        "outputId": "e8c327c2-01a6-4e6a-81e7-7479dd09a857"
      },
      "outputs": [
        {
          "output_type": "display_data",
          "data": {
            "image/png": "[encoded data removed]",
            "text/plain": [
              "<Figure size 1152x288 with 1 Axes>"
            ]
          },
          "metadata": {
            "needs_background": "light"
          }
        }
      ],
      "source": [
        "y = np.e\n",
        "\n",
        "Z = np.linspace(-3, np.log(y) , 500)\n",
        "ax = plt.gca()\n",
        "ax.set_xlabel(\"x\")\n",
        "ax.set_ylabel(\"y\")\n",
        "\n",
        "plt.title(\"Gráficos para x-> inf\")\n",
        "plt.rcParams['figure.figsize'] = (16,4)\n",
        "ax.plot(Z, F(Z)-y , color = 'purple',  label='x.e^x')\n",
        "ax.plot(Z, np.exp(Z) -y,  color = 'green',marker=\".\",  label='e^x')\n",
        "ax.grid()\n",
        "plt.legend()\n",
        "plt.show()\n",
        "\n"
      ]
    },
    {
      "cell_type": "code",
      "execution_count": 8,
      "metadata": {
        "deletable": false,
        "editable": false,
        "nbgrader": {
          "cell_type": "code",
          "checksum": "e1e52e841198123b0a7e783d9aff9f98",
          "grade": true,
          "grade_id": "cell-90cdc1d79362f65d",
          "locked": true,
          "points": 1,
          "schema_version": 3,
          "solution": false,
          "task": false
        },
        "id": "IrzlIPchfJR6"
      },
      "outputs": [],
      "source": [
        "assert len(ax.lines) == 2\n",
        "assert len(ax.legend().texts) == 2\n",
        "assert ax.title.get_text() != \"\""
      ]
    },
    {
      "cell_type": "markdown",
      "metadata": {
        "id": "zENUX7tOfJR6"
      },
      "source": [
        "Agora, falta estudar o que acontece quando $x \\to -\\infty$.\n",
        "\n",
        "Faça o gráfico de $f$ e o de $1/x$ para $x \\in [-4, -1]$."
      ]
    },
    {
      "cell_type": "code",
      "execution_count": 9,
      "metadata": {
        "deletable": false,
        "nbgrader": {
          "cell_type": "code",
          "checksum": "a8f0f3fd4d3fbd14a425af6960ff5727",
          "grade": true,
          "grade_id": "cell-0d3b0647ca62048e",
          "locked": false,
          "points": 1,
          "schema_version": 3,
          "solution": true,
          "task": false
        },
        "colab": {
          "base_uri": "https://localhost:8080/",
          "height": 297
        },
        "id": "EVyvdIN3fJR6",
        "outputId": "2d0a9c7d-4ef5-42b3-fbde-974dfcbc54ae"
      },
      "outputs": [
        {
          "output_type": "display_data",
          "data": {
            "image/png": "[encoded data removed]",
            "text/plain": [
              "<Figure size 1152x288 with 1 Axes>"
            ]
          },
          "metadata": {
            "needs_background": "light"
          }
        }
      ],
      "source": [
        "def f1(x): \n",
        "  return 1/x\n",
        "\n",
        "def aux(x):\n",
        "  return -0.3\n",
        "\n",
        "X = np.linspace(-4, -1, 500)\n",
        "F1 = np.vectorize(f1)\n",
        "AUX = np.vectorize(aux)\n",
        "\n",
        "ax = plt.gca()\n",
        "ax.set_xlabel(\"x\")\n",
        "ax.set_ylabel(\"y\")\n",
        "\n",
        "plt.title(\"Gráficos para x-> -inf\", {'fontsize': 14})\n",
        "plt.rcParams['figure.figsize'] = (16,4)\n",
        "ax.plot(X, F(X), color = 'purple',  label='x.e^x')\n",
        "ax.plot(X, F1(X),  color = 'green',marker=\".\",  label='1/x')\n",
        "ax.plot(X, AUX(X),  color = 'red', label='y=-0.2')\n",
        "ax.grid()\n",
        "plt.legend()\n",
        "plt.show()\n"
      ]
    },
    {
      "cell_type": "markdown",
      "metadata": {
        "id": "lbFPE0mSfJR7"
      },
      "source": [
        "Explique porque (usando o gráfico e outras contas, se você julgar necessário),\n",
        "quando $f(x) = y$ tem uma raiz \"muito negativa\",\n",
        "esta raiz é menor (em valor absoluto) do que a raiz de $1/x = y$."
      ]
    },
    {
      "cell_type": "markdown",
      "metadata": {
        "deletable": false,
        "nbgrader": {
          "cell_type": "markdown",
          "checksum": "8b28ec6d4a6deac1e5f2eda36a16c613",
          "grade": true,
          "grade_id": "cell-29ae2d774355df0e",
          "locked": false,
          "points": 2,
          "schema_version": 3,
          "solution": true,
          "task": false
        },
        "id": "-OWly7pSfJR7"
      },
      "source": [
        "Podemos observar utilizando o gráfico acima que para as raizes onde f(x)=y, temos que y possui um valor maior para todo o intervalo analisado quando comparado a funcao 1/x. Por este motivo, para um mesmo valor de y, teremos que a raiz na funcao f(x) em valor absoluto sera muito menor em comparacao a da funcao 1/x.\n",
        "\n",
        " Para ilustrar o desenvolvimento acima, coloquei uma reta y= -0.3, para ilustrar onde as raizes de ambas funções são encontradas. Podemos perceber que para qualquer outro valor de y, o ponto de intersecçao de f(x) encontra-se à direita do ponto de intersecção com a funcao 1/x. Isso significa, que a raiz de esta ultima funcao, é sempre menor do que para a funcao inicial f(x). Como estamos analizando o espaco onde $x \\to -\\infty$, temos que o valor absoluto das raizes, terá sempre 1/x=y muito maior que o valor de f(x)=y"
      ]
    },
    {
      "cell_type": "markdown",
      "metadata": {
        "id": "LvSeQhZ9fJR7"
      },
      "source": [
        "## 2.2: A função inversa propriamente dita\n",
        "\n",
        "Agora, programe a função inversa de $f$ (chamada $g$),\n",
        "que retorne **todas** as soluções de $f(x) = y$ em uma lista.\n",
        "\n",
        "Se não houver raízes, retorne a lista vazia."
      ]
    },
    {
      "cell_type": "code",
      "execution_count": 10,
      "metadata": {
        "deletable": false,
        "nbgrader": {
          "cell_type": "code",
          "checksum": "0bcd1407d93f35562a811a8011057491",
          "grade": false,
          "grade_id": "cell-a187ca48ed58242e",
          "locked": false,
          "schema_version": 3,
          "solution": true,
          "task": false
        },
        "id": "2EEn4tsjfJR7"
      },
      "outputs": [],
      "source": [
        "\n",
        "def bissecao(f, a, b, xtol=1e-8, ytol=1e-10):\n",
        "    a,b = sorted( [a,b] )\n",
        "    \n",
        "    err = abs(b-a)\n",
        "    aux = a\n",
        "    it = 0\n",
        "    ncalls = 0 \n",
        "    yerr = 0\n",
        "    maxiter = 100\n",
        "\n",
        "    while err >= xtol or yerr <= ytol:\n",
        "        if (it > maxiter):\n",
        "          return x\n",
        "\n",
        "        x = (a+b)/2.0\n",
        "        \n",
        "        if f(x)*f(a) < 0:\n",
        "            b = x\n",
        "        else:\n",
        "            ncalls +=2\n",
        "            if f(x)*f(a) == 0:\n",
        "                return x\n",
        "            a = x\n",
        "\n",
        "        yerr = abs(f(x))\n",
        "        err = abs(x-aux)\n",
        "        aux = x\n",
        "        it += 1\n",
        "\n",
        "    return x\n"
      ]
    },
    {
      "cell_type": "code",
      "execution_count": 11,
      "metadata": {
        "deletable": false,
        "nbgrader": {
          "cell_type": "code",
          "checksum": "ff9a5d21b420776145b66333e352887e",
          "grade": false,
          "grade_id": "cell-377500a0b349571b",
          "locked": false,
          "schema_version": 3,
          "solution": true,
          "task": false
        },
        "id": "M77ZHpE4fJR8"
      },
      "outputs": [],
      "source": [
        "def g(y, xtol=1e-8, ytol=1e-8):\n",
        "  \n",
        "  f = lambda x: x * np.e**x - y\n",
        "\n",
        "  raizes = []\n",
        "  \n",
        "  if( y >= 0 ):\n",
        "    #Uma raiz positiva\n",
        "\n",
        "    if (y >= np.e):\n",
        "      r = bissecao( f, 0, np.log(y), xtol, ytol)\n",
        "      raizes.append(r)  \n",
        "    else:\n",
        "      r = bissecao( f, 0, np.e, xtol, ytol)\n",
        "      raizes.append(r)     \n",
        "  elif (y < 0 and y > -1/np.e) :\n",
        "      # Para a raiz mais negativa\n",
        "      r = bissecao(f, 1/y, -1, xtol, ytol)\n",
        "      raizes.append(r)\n",
        "      # Para a raiz mais próxima de zero\n",
        "      r = bissecao(f,-1, 0, xtol, ytol)\n",
        "      raizes.append(r)\n",
        "  elif y == -1/np.e:\n",
        "        raizes.append(-1)\n",
        "\n",
        "  return raizes"
      ]
    },
    {
      "cell_type": "code",
      "execution_count": 12,
      "metadata": {
        "deletable": false,
        "editable": false,
        "nbgrader": {
          "cell_type": "code",
          "checksum": "0824c7c0a39e8fa22bf419bd11445d3b",
          "grade": true,
          "grade_id": "cell-1469ba8d74314f46",
          "locked": true,
          "points": 1,
          "schema_version": 3,
          "solution": false,
          "task": false
        },
        "id": "kLfDvotofJR8"
      },
      "outputs": [],
      "source": [
        "r1 = g(1)[0]\n",
        "assert np.isclose(r1, 0.5671432904097838)\n",
        "assert np.isclose(f(r1), 1)"
      ]
    },
    {
      "cell_type": "code",
      "execution_count": 13,
      "metadata": {
        "deletable": false,
        "editable": false,
        "nbgrader": {
          "cell_type": "code",
          "checksum": "dd966c166eb16454a7e98edc9b1037b7",
          "grade": true,
          "grade_id": "cell-5cd8e074b90655de",
          "locked": true,
          "points": 1,
          "schema_version": 3,
          "solution": false,
          "task": false
        },
        "id": "j6PyGZeVfJR8"
      },
      "outputs": [],
      "source": [
        "assert g(-1) == []"
      ]
    },
    {
      "cell_type": "code",
      "execution_count": 14,
      "metadata": {
        "deletable": false,
        "editable": false,
        "nbgrader": {
          "cell_type": "code",
          "checksum": "1036ff9f308bd4b93490db1b3b6bed2c",
          "grade": true,
          "grade_id": "cell-d061712c94645455",
          "locked": true,
          "points": 1,
          "schema_version": 3,
          "solution": false,
          "task": false
        },
        "id": "5i3dGsdsfJR8"
      },
      "outputs": [],
      "source": [
        "r1, r2 = g(-0.1)\n",
        "assert np.isclose(f(r1), -0.1)\n",
        "assert np.isclose(f(r2), -0.1)\n",
        "assert abs(r1 - r2) > 1"
      ]
    },
    {
      "cell_type": "code",
      "execution_count": 15,
      "metadata": {
        "deletable": false,
        "editable": false,
        "nbgrader": {
          "cell_type": "code",
          "checksum": "f83b75875eb2af776c1290da3fca0d1b",
          "grade": true,
          "grade_id": "cell-b9e913444d2545ae",
          "locked": true,
          "points": 1,
          "schema_version": 3,
          "solution": false,
          "task": false
        },
        "id": "Q0L3NrH1fJR8"
      },
      "outputs": [],
      "source": [
        "r1 = g(200)[0]\n",
        "assert np.isclose(f(r1), 200)"
      ]
    },
    {
      "cell_type": "markdown",
      "metadata": {
        "id": "_2KvQvk7fJR9"
      },
      "source": [
        "# Questão 3:  Mudança de Variaveis\n",
        "\n",
        "Vamos modificar um pouco nossa equação $x e^x = y$.\n",
        "\n",
        "Para cada um dos casos, ache as raízes a partir de uma mudança de variáveis para transformar a equação em algo da forma\n",
        "\n",
        "$$ u e^u = t. $$\n",
        "**Escreva sempre qual foi a mudança de variaveis feita**, relacionando $t$ com $y$ e $u$ com $x$.\n",
        "\n",
        "Dica: Ache uma mudança de variáveis \"na mão\" para as funções,\n",
        "utilize o código da questão anterior para descobrir as raízes \"transformadas\" $u$,\n",
        "e depois volte para as variáveis $x$"
      ]
    },
    {
      "cell_type": "markdown",
      "metadata": {
        "id": "mGGnVRUHfJR9"
      },
      "source": [
        "## 3.1: Expoentes diferentes\n",
        "\n",
        "Resolva $x e^{2x} = 7$"
      ]
    },
    {
      "cell_type": "markdown",
      "metadata": {
        "deletable": false,
        "nbgrader": {
          "cell_type": "markdown",
          "checksum": "de8a85aeb59f2ee029f40196c93bd6e7",
          "grade": true,
          "grade_id": "cell-367099a2b6b5b7cf",
          "locked": false,
          "points": 1,
          "schema_version": 3,
          "solution": true,
          "task": false
        },
        "id": "CT9y_8HYfJR9"
      },
      "source": [
        "Para mudança de variável, substituirei os seguintes valores: \n",
        "\n",
        "$ u = 2x $\n",
        "\n",
        "Logo, $x = \\frac{u}{2}$\n",
        "\n",
        "$x e^{2x} =\\frac{u}{2} e^u = 7$ \n",
        "\n",
        "Por fim, temos que:  $u e^u = 2 \\cdot 7 = 14 $ \n",
        "\n",
        "$t =14$"
      ]
    },
    {
      "cell_type": "code",
      "execution_count": 16,
      "metadata": {
        "deletable": false,
        "nbgrader": {
          "cell_type": "code",
          "checksum": "acd393e4b54647c0ee201e3aaf61cf19",
          "grade": false,
          "grade_id": "cell-760f980e26af582f",
          "locked": false,
          "schema_version": 3,
          "solution": true,
          "task": false
        },
        "id": "V4BNds6kfJR9"
      },
      "outputs": [],
      "source": [
        "u = g(14)[0]\n",
        "x = u/2"
      ]
    },
    {
      "cell_type": "code",
      "execution_count": 17,
      "metadata": {
        "deletable": false,
        "editable": false,
        "nbgrader": {
          "cell_type": "code",
          "checksum": "593a75ca3cbce4272999de27b213c271",
          "grade": true,
          "grade_id": "cell-6e5e9b4461a76dfa",
          "locked": true,
          "points": 1,
          "schema_version": 3,
          "solution": false,
          "task": false
        },
        "id": "lMsIlh7ZfJR9"
      },
      "outputs": [],
      "source": [
        "assert np.isclose(x * np.exp(2*x), 7)"
      ]
    },
    {
      "cell_type": "markdown",
      "metadata": {
        "id": "P6vubITEfJR-"
      },
      "source": [
        "## 3.2: Parte linear diferente"
      ]
    },
    {
      "cell_type": "markdown",
      "metadata": {
        "id": "9tfklLvAfJR-"
      },
      "source": [
        "Encontre as duas raízes de $(x  + 1) e^{x} = -\\frac{1}{10}$."
      ]
    },
    {
      "cell_type": "markdown",
      "metadata": {
        "deletable": false,
        "nbgrader": {
          "cell_type": "markdown",
          "checksum": "d0469610b924f5e3f189bdb67aa19e5a",
          "grade": true,
          "grade_id": "cell-098e3c114fe9714e",
          "locked": false,
          "points": 1,
          "schema_version": 3,
          "solution": true,
          "task": false
        },
        "id": "OuZLXLkZfJR-"
      },
      "source": [
        "Substituindo os seguintes valores para mudança de variável:\n",
        "\n",
        "$u = x + 1$\n",
        "\n",
        "\n",
        "$u e^{u - 1} = \\frac{-1}{10}$\n",
        "\n",
        "$u \\frac{e^{u}}{e} = \\frac{-1}{10}$\n",
        "\n",
        "Passando $e$ para  o outro lado:\n",
        "\n",
        "$u e^u = \\frac{-e}{10}$\n",
        "\n",
        "Logo, temos que $t = \\frac{-e}{10}$"
      ]
    },
    {
      "cell_type": "code",
      "execution_count": 18,
      "metadata": {
        "deletable": false,
        "nbgrader": {
          "cell_type": "code",
          "checksum": "65e49dc3375c9e2514fc3cf7b890e655",
          "grade": false,
          "grade_id": "cell-4ec726bcfe9735e6",
          "locked": false,
          "schema_version": 3,
          "solution": true,
          "task": false
        },
        "id": "C_VNn3_KfJR-"
      },
      "outputs": [],
      "source": [
        "u = g(-np.e/10)\n",
        "x1 = u[0] - 1\n",
        "x2 = u[1] - 1"
      ]
    },
    {
      "cell_type": "code",
      "execution_count": 19,
      "metadata": {
        "deletable": false,
        "editable": false,
        "nbgrader": {
          "cell_type": "code",
          "checksum": "be043b1690666fb4e174be3bafabd354",
          "grade": true,
          "grade_id": "cell-674ff2854bdc9a07",
          "locked": true,
          "points": 1,
          "schema_version": 3,
          "solution": false,
          "task": false
        },
        "id": "FFijkzHEfJR_"
      },
      "outputs": [],
      "source": [
        "assert np.isclose((x1+1)*np.exp(x1), -0.1)\n",
        "assert np.isclose((x2+1)*np.exp(x2), -0.1)\n",
        "assert abs(x1 - x2) > 1"
      ]
    },
    {
      "cell_type": "markdown",
      "metadata": {
        "id": "w_6sjHSGfJR_"
      },
      "source": [
        "## 3.3: Mudança genérica de variáveis\n",
        "\n",
        "Para resolver a equação\n",
        "\n",
        "$$(x + a)e^{bx} = c, \\quad \\text{com $b \\neq 0$},$$\n",
        "\n",
        "podemos fazer uma mudança de variáveis (em função de $a$ e $b$)\n",
        "para transformar em uma equação $u e^u = t$.\n",
        "\n",
        "Explique qual é a mudança a ser feita."
      ]
    },
    {
      "cell_type": "markdown",
      "metadata": {
        "deletable": false,
        "nbgrader": {
          "cell_type": "markdown",
          "checksum": "94cc25498018f1b40e045d98a29c99d4",
          "grade": true,
          "grade_id": "cell-1e305d2548600ae0",
          "locked": false,
          "points": 1,
          "schema_version": 3,
          "solution": true,
          "task": false
        },
        "id": "rrdwpMsQfJR_"
      },
      "source": [
        "Para esta equação, os valores substituidos são:\n",
        "\n",
        "$u = b (x + a)$\n",
        "\n",
        "Logo, $\\frac{u}{b} =(x + a)$ ou $u = bx + ba \\rightarrow bx= u-ba $ \n",
        "\n",
        "Substituindo esses valores encontrados, temos\n",
        "$\\frac{u}{b} e^{u - ba} = c$\n",
        "\n",
        "$\\frac{u \\cdot e^u }{b \\cdot e^{ba}}  = c$\n",
        "\n",
        "$u e^u = bce^{ba}$\n",
        "\n",
        "$t = bce^{ba}$"
      ]
    },
    {
      "cell_type": "markdown",
      "metadata": {
        "id": "If98UUgtfJR_"
      },
      "source": [
        "Agora, faça um programa que recebe os parâmetros $a$, $b$ e $c$\n",
        "e retorna uma lista com as soluções.\n",
        "\n",
        "Dica: use uma _list comprehension_  para fazer a transformação inversa."
      ]
    },
    {
      "cell_type": "code",
      "execution_count": 20,
      "metadata": {
        "deletable": false,
        "nbgrader": {
          "cell_type": "code",
          "checksum": "808a299cc3cf3ee5932e74d35138dacb",
          "grade": false,
          "grade_id": "cell-8e6df9766734c337",
          "locked": false,
          "schema_version": 3,
          "solution": true,
          "task": false
        },
        "id": "eTWKpjKGfJR_"
      },
      "outputs": [],
      "source": [
        "def solução_geral(a,b,c):\n",
        "    \"\"\"Soluções da equação (x+a)e^{bx} = c\"\"\"\n",
        "    assert b != 0\n",
        "    s = g( b*c* (np.e**(b*a)) )\n",
        "    return [ (x/b) - a for x in s]"
      ]
    },
    {
      "cell_type": "markdown",
      "metadata": {
        "id": "WRORmA_4fJSA"
      },
      "source": [
        "Testes"
      ]
    },
    {
      "cell_type": "code",
      "execution_count": 21,
      "metadata": {
        "id": "Ij8zsL81fJSA"
      },
      "outputs": [],
      "source": [
        "def geral(x, a, b):\n",
        "    return (x+a)*np.exp(b*x)"
      ]
    },
    {
      "cell_type": "code",
      "execution_count": 22,
      "metadata": {
        "deletable": false,
        "editable": false,
        "nbgrader": {
          "cell_type": "code",
          "checksum": "247de6e6cb19ab1e71566071d539245f",
          "grade": true,
          "grade_id": "cell-f63aaea2b1d1d4ed",
          "locked": true,
          "points": 1,
          "schema_version": 3,
          "solution": false,
          "task": false
        },
        "id": "0JC7izOJfJSA"
      },
      "outputs": [],
      "source": [
        "r1 = solução_geral(0, 1, 2)[0]\n",
        "assert np.isclose(geral(r1, 0, 1), 2)"
      ]
    },
    {
      "cell_type": "code",
      "execution_count": 23,
      "metadata": {
        "deletable": false,
        "editable": false,
        "nbgrader": {
          "cell_type": "code",
          "checksum": "62a4f676956a8d402c0e17bfb795b9a4",
          "grade": true,
          "grade_id": "cell-54a5b058ab3b235c",
          "locked": true,
          "points": 1,
          "schema_version": 3,
          "solution": false,
          "task": false
        },
        "id": "-BFvFbiTfJSA"
      },
      "outputs": [],
      "source": [
        "r1 = solução_geral(3, 2, 2)[0]\n",
        "assert np.isclose(geral(r1, 3, 2), 2)"
      ]
    },
    {
      "cell_type": "code",
      "execution_count": 24,
      "metadata": {
        "deletable": false,
        "editable": false,
        "nbgrader": {
          "cell_type": "code",
          "checksum": "9517f12d518eef27f1ac256cb88f6085",
          "grade": true,
          "grade_id": "cell-e3f86c2c394c66e2",
          "locked": true,
          "points": 1,
          "schema_version": 3,
          "solution": false,
          "task": false
        },
        "id": "0FrtKrodfJSA"
      },
      "outputs": [],
      "source": [
        "r1 = solução_geral(-1, -1, -1)[0]\n",
        "assert np.isclose(r1, 0)"
      ]
    },
    {
      "cell_type": "code",
      "execution_count": 25,
      "metadata": {
        "deletable": false,
        "editable": false,
        "nbgrader": {
          "cell_type": "code",
          "checksum": "3170d3e7508e35c9801036b128dea04c",
          "grade": true,
          "grade_id": "cell-755d90353c7c3dbd",
          "locked": true,
          "points": 2,
          "schema_version": 3,
          "solution": false,
          "task": false
        },
        "id": "4T1cCijtfJSB"
      },
      "outputs": [],
      "source": [
        "r1, r2 = solução_geral(-4, -1, 0.005)\n",
        "assert np.isclose(geral(r1, -4, -1), 0.005)\n",
        "assert np.isclose(geral(r2, -4, -1), 0.005)\n",
        "assert np.abs(r1 - r2) > 1"
      ]
    },
    {
      "cell_type": "markdown",
      "metadata": {
        "id": "e2aM5V_ffJSB"
      },
      "source": [
        "# Questão 4: Uma outra função... (Bônus)"
      ]
    },
    {
      "cell_type": "markdown",
      "metadata": {
        "id": "1ag7MiHLfJSB"
      },
      "source": [
        "Vamos aplicar o mesmo raciocínio das questões anteriores para uma função um pouco diferente. \n",
        "\n",
        "Faça o gráfico da função $h(x) = x - \\log(x)$."
      ]
    },
    {
      "cell_type": "code",
      "execution_count": 26,
      "metadata": {
        "deletable": false,
        "nbgrader": {
          "cell_type": "code",
          "checksum": "6041a4afac3a968758394c8d18fc9371",
          "grade": true,
          "grade_id": "cell-40ba82c82590b4cc",
          "locked": false,
          "points": 0,
          "schema_version": 3,
          "solution": true,
          "task": false
        },
        "colab": {
          "base_uri": "https://localhost:8080/",
          "height": 329
        },
        "id": "WIbAOrwofJSB",
        "outputId": "fe14a343-d79c-4010-b928-a127a3861c9c"
      },
      "outputs": [
        {
          "output_type": "stream",
          "name": "stderr",
          "text": [
            "/usr/local/lib/python3.7/dist-packages/ipykernel_launcher.py:8: RuntimeWarning: invalid value encountered in log\n",
            "  \n"
          ]
        },
        {
          "output_type": "display_data",
          "data": {
            "image/png": "[encoded data removed]",
            "text/plain": [
              "<Figure size 1152x288 with 1 Axes>"
            ]
          },
          "metadata": {
            "needs_background": "light"
          }
        }
      ],
      "source": [
        "\n",
        "X = np.linspace(-1, 5, 1000)\n",
        "ax = plt.gca()\n",
        "ax.set_xlabel(\"x\")\n",
        "ax.set_ylabel(\"f(x)\")\n",
        "plt.title(\"Gráfico da função\")\n",
        "plt.rcParams['figure.figsize'] = (12,4)\n",
        "ax.plot(X,  X - np.log(X), color='purple')\n",
        "ax.grid()\n",
        "plt.show()\n"
      ]
    },
    {
      "cell_type": "markdown",
      "metadata": {
        "id": "hNYRboaAfJSB"
      },
      "source": [
        "Ao variar o y, o que acontecerá com o número de raízes?\n",
        "Essa função pode ter mais de 2 raizes?"
      ]
    },
    {
      "cell_type": "markdown",
      "metadata": {
        "deletable": false,
        "nbgrader": {
          "cell_type": "markdown",
          "checksum": "a155ceddeb39edf0306d9660383c7139",
          "grade": true,
          "grade_id": "cell-8ae773659416e3c0",
          "locked": false,
          "points": 0,
          "schema_version": 3,
          "solution": true,
          "task": false
        },
        "id": "qCzOG9H0fJSC"
      },
      "source": [
        "Pode ser observado pelo gráfico que o mínimo da função está em x=1. Desse modo, para valores de  $y$ inferiores a $1$, a função não tem raiz.  Isso também é percetivel pelo fato de que a função está acima do eixo $x$, então a função so passa a ter mais que duas raízes, após o seu ponto mínimo ser transladado até o eixo das abcissas. \n",
        "\n",
        "Logo, essa função não pode ter mais de $2$ raizes, porque ela so apresenta um ponto de mínimo e somente nesse valor ela troca seu sentido (crescimento ou decrescimento).\n",
        "\n"
      ]
    }
  ],
  "metadata": {
    "kernelspec": {
      "display_name": "Python 3",
      "language": "python",
      "name": "python3"
    },
    "language_info": {
      "codemirror_mode": {
        "name": "ipython",
        "version": 3
      },
      "file_extension": ".py",
      "mimetype": "text/x-python",
      "name": "python",
      "nbconvert_exporter": "python",
      "pygments_lexer": "ipython3",
      "version": "3.8.8"
    },
    "colab": {
      "name": "Teste2.ipynb",
      "provenance": [],
      "collapsed_sections": [
        "e2aM5V_ffJSB"
      ]
    }
  },
  "nbformat": 4,
  "nbformat_minor": 0
}