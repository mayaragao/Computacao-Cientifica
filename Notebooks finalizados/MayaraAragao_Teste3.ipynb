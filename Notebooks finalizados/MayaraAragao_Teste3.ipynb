{
  "cells": [
    {
      "cell_type": "markdown",
      "id": "aa6b5211",
      "metadata": {
        "id": "aa6b5211"
      },
      "source": [
        "![CC-BY-SA](https://mirrors.creativecommons.org/presskit/buttons/88x31/svg/by-sa.svg)\n",
        "\n",
        "\n",
        "This notebook was created by [Bernardo Freitas Paulo da Costa](http://www.im.ufrj.br/bernardofpc),\n",
        "and is licensed under Creative Commons BY-SA."
      ]
    },
    {
      "cell_type": "markdown",
      "id": "671bf013",
      "metadata": {
        "id": "671bf013"
      },
      "source": [
        "Antes de enviar este Teste, verifique que tudo está funcionando como esperado.\n",
        "Por exemplo, **rode o código inteiro, do zero**.\n",
        "Para isso, vá no menu, escolha _Kernel_, depois _Restart & Run All_.\n",
        "\n",
        "Verifique, também, que você respondeu todas as questões:\n",
        "* as questões de código têm `YOUR CODE HERE` (e você pode apagar o `raise NotImplemented` ao incluir sua resposta)\n",
        "* as questões discursivas têm \"YOUR ANSWER HERE\"."
      ]
    },
    {
      "cell_type": "markdown",
      "id": "098914bf",
      "metadata": {
        "id": "098914bf"
      },
      "source": [
        "---"
      ]
    },
    {
      "cell_type": "code",
      "execution_count": 1,
      "id": "28f1c287",
      "metadata": {
        "deletable": false,
        "editable": false,
        "nbgrader": {
          "cell_type": "code",
          "checksum": "43e4846e2aa0e32065046028c7023af7",
          "grade": false,
          "grade_id": "cell-df7c2a01b629bc28",
          "locked": true,
          "schema_version": 3,
          "solution": false,
          "task": false
        },
        "id": "28f1c287"
      },
      "outputs": [],
      "source": [
        "import numpy as np\n",
        "import matplotlib.pyplot as plt"
      ]
    },
    {
      "cell_type": "markdown",
      "id": "80fdb009",
      "metadata": {
        "id": "80fdb009"
      },
      "source": [
        "# Teste 3: Método de Newton\n",
        "\n",
        "Vamos continuar o problema de calcular a função inversa de $f(x) = x e^x$."
      ]
    },
    {
      "cell_type": "markdown",
      "id": "b11e4bfb",
      "metadata": {
        "id": "b11e4bfb"
      },
      "source": [
        "# Questão 1: Newton para inversão\n",
        "\n",
        "Vamos generalizar o método de Newton para encontrar raizes de $f(x) = y$.\n",
        "\n",
        "Inclua abaixo tanto o método de Newton, retornando **todos** os pontos percorridos até encontrar a raiz."
      ]
    },
    {
      "cell_type": "code",
      "execution_count": 2,
      "id": "c950eb24",
      "metadata": {
        "deletable": false,
        "nbgrader": {
          "cell_type": "code",
          "checksum": "6446b79f96313d12e528a71d9fbb0316",
          "grade": false,
          "grade_id": "cell-01488b62ae1c6a0c",
          "locked": false,
          "schema_version": 3,
          "solution": true,
          "task": false
        },
        "id": "c950eb24"
      },
      "outputs": [],
      "source": [
        "def newton_y(f, df, y, x0, xtol=1e-12, maxiter=50):\n",
        "    it = 0\n",
        "    err = 10\n",
        "    raizes = []\n",
        "\n",
        "    while (err >= xtol) and (it < maxiter):\n",
        "        passo = (f(x0) - y) / df(x0)\n",
        "        x = x0 - passo\n",
        "        err = abs(passo)\n",
        "        raizes.append(x)\n",
        "        x0 = x\n",
        "        it += 1\n",
        "\n",
        "    return raizes"
      ]
    },
    {
      "cell_type": "code",
      "execution_count": 3,
      "id": "189feab5",
      "metadata": {
        "deletable": false,
        "editable": false,
        "nbgrader": {
          "cell_type": "code",
          "checksum": "66cbe2029f2f201e105cecad09d33638",
          "grade": true,
          "grade_id": "cell-e0ebc41b3dd240e9",
          "locked": true,
          "points": 1,
          "schema_version": 3,
          "solution": false,
          "task": false
        },
        "id": "189feab5"
      },
      "outputs": [],
      "source": [
        "def f1(x):\n",
        "    return x * np.log(x)\n",
        "\n",
        "def df1(x):\n",
        "    return np.log(x) + 1\n",
        "\n",
        "pts_newton = newton_y(f1, df1, 1.1, 1)\n",
        "assert abs(f1(pts_newton[-1]) - 1.1) < 1e-10"
      ]
    },
    {
      "cell_type": "code",
      "execution_count": 4,
      "id": "d23dee05",
      "metadata": {
        "deletable": false,
        "editable": false,
        "nbgrader": {
          "cell_type": "code",
          "checksum": "3d537a880aa15cd769db04d98c558f23",
          "grade": true,
          "grade_id": "cell-a3f1b983ac6e7995",
          "locked": true,
          "points": 1,
          "schema_version": 3,
          "solution": false,
          "task": false
        },
        "id": "d23dee05"
      },
      "outputs": [],
      "source": [
        "pts_newton = newton_y(f1, df1, 1.1, 1)\n",
        "\n",
        "assert abs(f1(pts_newton[1]) - 1.1) > 1e-3\n",
        "assert 3 < len(pts_newton) < 10"
      ]
    },
    {
      "cell_type": "code",
      "execution_count": 5,
      "id": "8b5d147e",
      "metadata": {
        "deletable": false,
        "editable": false,
        "nbgrader": {
          "cell_type": "code",
          "checksum": "f194c614e6983f8054ee44f204602373",
          "grade": true,
          "grade_id": "cell-d0aeb5d95ed08e07",
          "locked": true,
          "points": 1,
          "schema_version": 3,
          "solution": false,
          "task": false
        },
        "id": "8b5d147e"
      },
      "outputs": [],
      "source": [
        "def f2(x):\n",
        "    return x * np.sin(x)\n",
        "\n",
        "def df2(x):\n",
        "    return np.sin(x) + x * np.cos(x)\n",
        "\n",
        "pts_newton = newton_y(f2, df2, 1.1, 1)\n",
        "assert abs(f2(pts_newton[-1]) - 1.1) < 1e-10"
      ]
    },
    {
      "cell_type": "markdown",
      "id": "fb3f9d44",
      "metadata": {
        "id": "fb3f9d44"
      },
      "source": [
        "# Questão 2: Gráficos\n",
        "\n",
        "O método de Newton funciona bem quando a primeira derivada está suficientemente longe de zero.\n",
        "\n",
        "## Questão 2.1: Derivada\n",
        "Faça um gráfico da derivada $f'(x)$, e deduza as regiões onde o método de Newton provavelmente funciona bem,\n",
        "e onde ele funciona mal."
      ]
    },
    {
      "cell_type": "code",
      "execution_count": 6,
      "id": "f70452d5",
      "metadata": {
        "deletable": false,
        "editable": false,
        "nbgrader": {
          "cell_type": "code",
          "checksum": "bc324602f237db470f69d42b1ea56124",
          "grade": false,
          "grade_id": "cell-800b8a25db17cd5b",
          "locked": true,
          "schema_version": 3,
          "solution": false,
          "task": false
        },
        "id": "f70452d5"
      },
      "outputs": [],
      "source": [
        "def f(x):\n",
        "    return x * np.exp(x)\n",
        "\n",
        "def df(x):\n",
        "    return (x+1) * np.exp(x)"
      ]
    },
    {
      "cell_type": "code",
      "execution_count": 7,
      "id": "fea14d77",
      "metadata": {
        "deletable": false,
        "nbgrader": {
          "cell_type": "code",
          "checksum": "c011a85a28031622aeca4cdb14b57042",
          "grade": true,
          "grade_id": "cell-591a25b1a2d849ac",
          "locked": false,
          "points": 1,
          "schema_version": 3,
          "solution": true,
          "task": false
        },
        "colab": {
          "base_uri": "https://localhost:8080/",
          "height": 403
        },
        "id": "fea14d77",
        "outputId": "14509336-8fa3-4f76-ce2f-b00a3a5bf2dd"
      },
      "outputs": [
        {
          "output_type": "display_data",
          "data": {
            "image/png": "[encoded data removed]",
            "text/plain": [
              "<Figure size 1152x432 with 1 Axes>"
            ]
          },
          "metadata": {
            "needs_background": "light"
          }
        }
      ],
      "source": [
        "DER = np.vectorize(df)\n",
        "X = np.linspace(-4, 1, 500)\n",
        "plt.rcParams['figure.figsize'] = (16,6)\n",
        "ax = plt.gca()\n",
        "ax.set_xlabel(\"x\")\n",
        "ax.set_ylabel(\"f' (x)\")\n",
        "ax.set_title(\"Gráfico da função f derivada\")\n",
        "ax.plot(X, DER(X), 'r-')\n",
        "ax.grid()\n",
        "plt.show()"
      ]
    },
    {
      "cell_type": "code",
      "execution_count": 8,
      "id": "0ba4fb63",
      "metadata": {
        "deletable": false,
        "editable": false,
        "nbgrader": {
          "cell_type": "code",
          "checksum": "7f8be762c541018c76c7e0ae845547d6",
          "grade": true,
          "grade_id": "cell-03b0cbc40cda2de8",
          "locked": true,
          "points": 1,
          "schema_version": 3,
          "solution": false,
          "task": false
        },
        "id": "0ba4fb63"
      },
      "outputs": [],
      "source": [
        "assert len(ax.lines) >= 1\n",
        "assert len(ax.title.get_text()) > 0"
      ]
    },
    {
      "cell_type": "code",
      "execution_count": 9,
      "id": "7db75574",
      "metadata": {
        "deletable": false,
        "editable": false,
        "nbgrader": {
          "cell_type": "code",
          "checksum": "27499cae29f4ba7d448924fb6272ff97",
          "grade": false,
          "grade_id": "cell-0ed285f439808291",
          "locked": true,
          "schema_version": 3,
          "solution": false,
          "task": false
        },
        "id": "7db75574"
      },
      "outputs": [],
      "source": [
        "ax = None"
      ]
    },
    {
      "cell_type": "markdown",
      "id": "b92469d3",
      "metadata": {
        "id": "b92469d3"
      },
      "source": [
        "Em quais regiões o gráfico sugere que será difícil calcular uma raiz de $f(x) = y$?"
      ]
    },
    {
      "cell_type": "markdown",
      "id": "72d7f821",
      "metadata": {
        "deletable": false,
        "nbgrader": {
          "cell_type": "markdown",
          "checksum": "7e4adb3797fcf38bd54bdf2b3cae2a9f",
          "grade": true,
          "grade_id": "cell-3d08a4024fc168c6",
          "locked": false,
          "points": 1,
          "schema_version": 3,
          "solution": true,
          "task": false
        },
        "id": "72d7f821"
      },
      "source": [
        "É provavel que quando $x \\rightarrow -\\infty $ a derivada de $f(x) \\rightarrow 0$. Logo, nesses casos, pode ser que o método de Newton não seja tão eficiente, já que o cálculo do passo dentro do método de Newton faz uma divisão pela derivada, e caso esse valor seja proximo de $0$, o passo será desproporcional(muito grande), e pode bagunçar o método. Além disso, para o ponto exato do mínimo da função, o passo vai resultar em uma divisão por $0$, logo uma indetermição. Portanto para esses valores, é díficil calcular a raiz utilizando o método de Newton"
      ]
    },
    {
      "cell_type": "markdown",
      "id": "410d7786",
      "metadata": {
        "id": "410d7786"
      },
      "source": [
        "## Questão 2.2: Número de iterações para Newton\n",
        "\n",
        "Faça o gráfico do número de iterações necessárias para o método de Newton encontrar uma raiz de $f(x) = y$\n",
        "para $y$ no intervalo $[1,100]$, e partindo de $x_0 = 1$."
      ]
    },
    {
      "cell_type": "code",
      "execution_count": 10,
      "id": "f47e59ae",
      "metadata": {
        "deletable": false,
        "nbgrader": {
          "cell_type": "code",
          "checksum": "838378f30eb3250f8d93f72986c9ff93",
          "grade": false,
          "grade_id": "cell-aabddeab26b8e124",
          "locked": false,
          "schema_version": 3,
          "solution": true,
          "task": false
        },
        "colab": {
          "base_uri": "https://localhost:8080/",
          "height": 403
        },
        "id": "f47e59ae",
        "outputId": "66a22564-3c4b-45bc-c0b1-35b0e78eac08"
      },
      "outputs": [
        {
          "output_type": "display_data",
          "data": {
            "image/png": "[encoded data removed]",
            "text/plain": [
              "<Figure size 1152x432 with 1 Axes>"
            ]
          },
          "metadata": {
            "needs_background": "light"
          }
        }
      ],
      "source": [
        "lista = np.linspace(1,100, 100)\n",
        "y = [ len(newton_y(f, df, y, 1)) for y in lista] \n",
        "\n",
        "ax = plt.gca()\n",
        "ax.set_xlabel(\"y\")\n",
        "ax.set_ylabel(\"iterações\")\n",
        "plt.title(\"Iterações necessárias para encontrar a raiz\")\n",
        "plt.rcParams['figure.figsize'] = (16,6)\n",
        "ax.plot(lista, y, 'g-')\n",
        "ax.grid()\n",
        "plt.show()\n"
      ]
    },
    {
      "cell_type": "code",
      "execution_count": 11,
      "id": "0b1e65f0",
      "metadata": {
        "deletable": false,
        "editable": false,
        "nbgrader": {
          "cell_type": "code",
          "checksum": "bf9b60008356069dfd881e0d4353d9d9",
          "grade": true,
          "grade_id": "cell-0e4640465a4c1e5a",
          "locked": true,
          "points": 1,
          "schema_version": 3,
          "solution": false,
          "task": false
        },
        "id": "0b1e65f0"
      },
      "outputs": [],
      "source": [
        "assert len(ax.lines) == 1\n",
        "assert len(ax.title.get_text()) > 0"
      ]
    },
    {
      "cell_type": "code",
      "execution_count": 12,
      "id": "02f34239",
      "metadata": {
        "deletable": false,
        "editable": false,
        "nbgrader": {
          "cell_type": "code",
          "checksum": "36d0773b78d0f9e2f03afe41bc6d448c",
          "grade": true,
          "grade_id": "cell-8ee2f33778a564c2",
          "locked": true,
          "points": 1,
          "schema_version": 3,
          "solution": false,
          "task": false
        },
        "id": "02f34239"
      },
      "outputs": [],
      "source": [
        "assert len(ax.get_xlabel()) > 0\n",
        "assert len(ax.get_ylabel()) > 0"
      ]
    },
    {
      "cell_type": "code",
      "execution_count": 13,
      "id": "674e1a93",
      "metadata": {
        "deletable": false,
        "editable": false,
        "nbgrader": {
          "cell_type": "code",
          "checksum": "ec6c1fa8cea9c08d329382d5117d53d8",
          "grade": true,
          "grade_id": "cell-62d3bf6b9b9f6da9",
          "locked": true,
          "points": 1,
          "schema_version": 3,
          "solution": false,
          "task": false
        },
        "id": "674e1a93"
      },
      "outputs": [],
      "source": [
        "ydata = ax.lines[0].get_ydata()\n",
        "assert 5 <= min(ydata) <= 7\n",
        "assert 22 <= max(ydata) <= 30"
      ]
    },
    {
      "cell_type": "code",
      "execution_count": 14,
      "id": "fea4e56b",
      "metadata": {
        "deletable": false,
        "editable": false,
        "nbgrader": {
          "cell_type": "code",
          "checksum": "f9ae3887f8ac7b4a8cee91cae88d6fc8",
          "grade": false,
          "grade_id": "cell-37616d58b31acd62",
          "locked": true,
          "schema_version": 3,
          "solution": false,
          "task": false
        },
        "id": "fea4e56b"
      },
      "outputs": [],
      "source": [
        "ax = None"
      ]
    },
    {
      "cell_type": "markdown",
      "id": "46d3825a",
      "metadata": {
        "id": "46d3825a"
      },
      "source": [
        "Agora, para cada $y$ (no mesmo intervalo), faça o gráfico\n",
        "- da raiz encontrada; e\n",
        "- do maior ponto testado pelo método de Newton,\n",
        "\n",
        "no mesmo eixo."
      ]
    },
    {
      "cell_type": "code",
      "execution_count": 15,
      "id": "c220769c",
      "metadata": {
        "deletable": false,
        "nbgrader": {
          "cell_type": "code",
          "checksum": "c6d42971e6048d2f218fdf5148e96ccf",
          "grade": false,
          "grade_id": "cell-06174d781ae4f044",
          "locked": false,
          "schema_version": 3,
          "solution": true,
          "task": false
        },
        "colab": {
          "base_uri": "https://localhost:8080/",
          "height": 403
        },
        "id": "c220769c",
        "outputId": "6b61b22b-6e47-49d5-fb1c-2f72dd60ba60"
      },
      "outputs": [
        {
          "output_type": "display_data",
          "data": {
            "image/png": "[encoded data removed]",
            "text/plain": [
              "<Figure size 1152x432 with 1 Axes>"
            ]
          },
          "metadata": {
            "needs_background": "light"
          }
        }
      ],
      "source": [
        "lista = np.linspace(1,100, 100)\n",
        "raiz = [ newton_y(f, df, y, 1)[-1] for y in lista] \n",
        "ponto_max = [ max(newton_y(f, df, y, 1)) for y in lista] \n",
        "\n",
        "ax = plt.gca()\n",
        "ax.set_xlabel(\"y\")\n",
        "ax.set_ylabel(\"\")\n",
        "plt.title(\"Raiz VS Ponto máximo\")\n",
        "plt.rcParams['figure.figsize'] = (16,6)\n",
        "ax.plot(lista, raiz, 'y-', label = \"Raiz\")\n",
        "ax.plot(lista, ponto_max, 'r-', label = \"Ponto Máximo\")\n",
        "ax.grid()\n",
        "plt.legend()\n",
        "plt.show()\n"
      ]
    },
    {
      "cell_type": "code",
      "execution_count": 16,
      "id": "5d5546ee",
      "metadata": {
        "deletable": false,
        "editable": false,
        "nbgrader": {
          "cell_type": "code",
          "checksum": "569826cb5779e60b4555a4e4402c9bbe",
          "grade": true,
          "grade_id": "cell-712cf22d5d02c889",
          "locked": true,
          "points": 1,
          "schema_version": 3,
          "solution": false,
          "task": false
        },
        "id": "5d5546ee"
      },
      "outputs": [],
      "source": [
        "assert len(ax.lines) == 2\n",
        "assert len(ax.get_legend().texts) == 2\n",
        "assert len(ax.title.get_text()) > 0"
      ]
    },
    {
      "cell_type": "code",
      "execution_count": 17,
      "id": "664b9f92",
      "metadata": {
        "deletable": false,
        "editable": false,
        "nbgrader": {
          "cell_type": "code",
          "checksum": "255d23568c485093e0d21f2d191ea8e5",
          "grade": false,
          "grade_id": "cell-1080d08d6723645b",
          "locked": true,
          "schema_version": 3,
          "solution": false,
          "task": false
        },
        "id": "664b9f92"
      },
      "outputs": [],
      "source": [
        "ax = None"
      ]
    },
    {
      "cell_type": "markdown",
      "id": "82abf080",
      "metadata": {
        "id": "82abf080"
      },
      "source": [
        "Como este gráfico ajuda a explicar o anterior?"
      ]
    },
    {
      "cell_type": "markdown",
      "id": "6e4d94a1",
      "metadata": {
        "deletable": false,
        "nbgrader": {
          "cell_type": "markdown",
          "checksum": "273075e09bea9abf4e234893f0f5e814",
          "grade": true,
          "grade_id": "cell-96e21b6497f70130",
          "locked": false,
          "points": 2,
          "schema_version": 3,
          "solution": true,
          "task": false
        },
        "id": "6e4d94a1"
      },
      "source": [
        "O número de iterações necessárias para encontrar a raiz dentro da tolerancia desejada utilizando o método de Newton, pelo gráfico, parece subir em escada, mas se mantém estável em partes, mesmo com a mudança do valor de y, dando uma aprencia de escada no gráfico. No gráfico que compara o ponto máximo com a raiz encontrada, podemos perceber que a raiz cresce de maneira logarítimica, enquanto o ponto máximo cresce de maneira linear. "
      ]
    },
    {
      "cell_type": "markdown",
      "id": "32f31696",
      "metadata": {
        "id": "32f31696"
      },
      "source": [
        "## Questão 2.3: Outro ponto inicial\n",
        "\n",
        "Agora, considere que o ponto inicial para encontrar uma raiz de $x e^x = y$ é $\\log y$.\n",
        "Quantas iterações são necessárias?"
      ]
    },
    {
      "cell_type": "code",
      "execution_count": 18,
      "id": "0088d685",
      "metadata": {
        "deletable": false,
        "nbgrader": {
          "cell_type": "code",
          "checksum": "8ae5414806e563c343659e577628d6a6",
          "grade": false,
          "grade_id": "cell-06b2958864fdff69",
          "locked": false,
          "schema_version": 3,
          "solution": true,
          "task": false
        },
        "colab": {
          "base_uri": "https://localhost:8080/",
          "height": 403
        },
        "id": "0088d685",
        "outputId": "fea0ce77-be71-4e71-d3a7-8c24f1920ec0"
      },
      "outputs": [
        {
          "output_type": "display_data",
          "data": {
            "image/png": "[encoded data removed]",
            "text/plain": [
              "<Figure size 1152x432 with 1 Axes>"
            ]
          },
          "metadata": {
            "needs_background": "light"
          }
        }
      ],
      "source": [
        "lista = np.linspace(1,100, 100)\n",
        "y = [ len(newton_y(f, df, y, np.log(y))) for y in lista] \n",
        "\n",
        "ax = plt.gca()\n",
        "ax.set_xlabel(\"y\")\n",
        "ax.set_ylabel(\"iterações\")\n",
        "plt.title(\"Iterações necessárias para encontrar a raiz partindo de log(y)\")\n",
        "plt.rcParams['figure.figsize'] = (16,6)\n",
        "ax.plot(lista, y, 'g-')\n",
        "ax.grid()\n",
        "plt.show()"
      ]
    },
    {
      "cell_type": "code",
      "execution_count": 19,
      "id": "503bd7f6",
      "metadata": {
        "deletable": false,
        "editable": false,
        "nbgrader": {
          "cell_type": "code",
          "checksum": "878da73c15180fe0c2b0a613fa539271",
          "grade": true,
          "grade_id": "cell-77910f3b72a808c6",
          "locked": true,
          "points": 1,
          "schema_version": 3,
          "solution": false,
          "task": false
        },
        "id": "503bd7f6"
      },
      "outputs": [],
      "source": [
        "assert len(ax.lines) == 1\n",
        "assert len(ax.title.get_text()) > 0"
      ]
    },
    {
      "cell_type": "code",
      "execution_count": 20,
      "id": "60aba383",
      "metadata": {
        "deletable": false,
        "editable": false,
        "nbgrader": {
          "cell_type": "code",
          "checksum": "f0e0b6f2a5e832665fb76b39d89019e4",
          "grade": false,
          "grade_id": "cell-79af039f4bcdc177",
          "locked": true,
          "schema_version": 3,
          "solution": false,
          "task": false
        },
        "id": "60aba383"
      },
      "outputs": [],
      "source": [
        "ax = None"
      ]
    },
    {
      "cell_type": "markdown",
      "id": "15974ccd",
      "metadata": {
        "id": "15974ccd"
      },
      "source": [
        "O que aconteceu?"
      ]
    },
    {
      "cell_type": "markdown",
      "id": "f00a9a71",
      "metadata": {
        "deletable": false,
        "nbgrader": {
          "cell_type": "markdown",
          "checksum": "df368a995d08a9beb4d6db61940b8950",
          "grade": true,
          "grade_id": "cell-47fc3651761a578b",
          "locked": false,
          "points": 1,
          "schema_version": 3,
          "solution": true,
          "task": false
        },
        "id": "f00a9a71"
      },
      "source": [
        "Quando o ponto inicial cresce de maneira logaritimica, o número de iterações é menor. Isso acontece devido ao fato de que o ponto inicial não se distancia tanto da raiz em comparação ao exemplo anterior, já que agora, o ponto inicial varia de acordo com $log (y)$."
      ]
    },
    {
      "cell_type": "markdown",
      "id": "d7b4b255",
      "metadata": {
        "id": "d7b4b255"
      },
      "source": [
        "Refaça os gráficos do maior ponto e da raiz."
      ]
    },
    {
      "cell_type": "code",
      "execution_count": 21,
      "id": "161a9164",
      "metadata": {
        "deletable": false,
        "nbgrader": {
          "cell_type": "code",
          "checksum": "0a588663c1b1cec8fd72737e24bd609b",
          "grade": false,
          "grade_id": "cell-aa72ed3f225df84c",
          "locked": false,
          "schema_version": 3,
          "solution": true,
          "task": false
        },
        "colab": {
          "base_uri": "https://localhost:8080/",
          "height": 403
        },
        "id": "161a9164",
        "outputId": "e007ff19-9731-4f39-aa91-aa26ee32403f"
      },
      "outputs": [
        {
          "output_type": "display_data",
          "data": {
            "image/png": "[encoded data removed]",
            "text/plain": [
              "<Figure size 1152x432 with 1 Axes>"
            ]
          },
          "metadata": {
            "needs_background": "light"
          }
        }
      ],
      "source": [
        "lista = np.linspace(1,100, 100)\n",
        "raiz = [ newton_y(f, df, y, np.log(y))[-1] for y in lista] \n",
        "ponto_max = [ max(newton_y(f, df, y, np.log(y))) for y in lista] \n",
        "\n",
        "ax = plt.gca()\n",
        "ax.set_xlabel(\"y\")\n",
        "ax.set_ylabel(\"\")\n",
        "plt.title(\"Raiz VS Ponto Máximo partindo de log(y)\")\n",
        "plt.rcParams['figure.figsize'] = (16,6)\n",
        "ax.plot(lista, raiz, 'y-', label = \"raiz encontrada\")\n",
        "ax.plot(lista, ponto_max, 'b-', label = \"ponto máximo\")\n",
        "ax.grid()\n",
        "plt.legend()\n",
        "plt.show()\n"
      ]
    },
    {
      "cell_type": "markdown",
      "id": "41bc3534",
      "metadata": {
        "id": "41bc3534"
      },
      "source": [
        "Como este gráfico ajuda a explicar os anteriores?"
      ]
    },
    {
      "cell_type": "markdown",
      "id": "29ecf125",
      "metadata": {
        "deletable": false,
        "nbgrader": {
          "cell_type": "markdown",
          "checksum": "05012d4f7322a26bc300de874686261d",
          "grade": true,
          "grade_id": "cell-5ee02b5d89dd29fa",
          "locked": false,
          "points": 3,
          "schema_version": 3,
          "solution": true,
          "task": false
        },
        "id": "29ecf125"
      },
      "source": [
        "Nesse último gráfico, o valor do ponto inicial $x_0$ dado cresce de maneira logarítimica, assim como a raiz, pois é dado como $log(y)$. Assim, para os valores encontrados de $y$, não haverá uma distancia tão grande para a raiz encontrada.\n",
        "\n",
        "Como nos primeiros gráficos, o ponto inicial $x_0$ é sempre fixo, esse valor fica mais distante da raiz, conforme o valor de $y$ muda, pois até pelo gráfico, é possivel observar que enquanto um cresce linearmente (ponto máximo encontrado) a raiz continua variando logaritimicamente.\n",
        "\n",
        "Desse modo, quando o ponto inicial para o método de Newton também cresce de maneira logaritimica (ultimos exemplos), o número de iterações é bastante menor e os pontos maximos e o de raiz crescem de maneira muito semelhante. Isso porque, nesses ultimos exemplos, o ponto inicial não se distancia tanto da raiz, mas também cresce de maneira logarítma."
      ]
    },
    {
      "cell_type": "markdown",
      "id": "4f40a4ed",
      "metadata": {
        "id": "4f40a4ed"
      },
      "source": [
        "# Questão 3: Regiões difíceis\n",
        "\n",
        "Vamos agora observar quão difícil é calcular uma raiz de $x e^x = y$ para pontos onde a derivada é praticamente nula."
      ]
    },
    {
      "cell_type": "markdown",
      "id": "00bbff46",
      "metadata": {
        "id": "00bbff46"
      },
      "source": [
        "## Questão 3.1: Ponto de mínimo\n",
        "\n",
        "Faça um gráfico do número de iterações do método de Newton para calcular a raiz de $x e^x = y$ para $y$ no intervalo $[-1/e, 0]$, começando a partir de $x = 0$."
      ]
    },
    {
      "cell_type": "code",
      "execution_count": 22,
      "id": "019be217",
      "metadata": {
        "deletable": false,
        "nbgrader": {
          "cell_type": "code",
          "checksum": "34886c7cb730bd509d67ecc1f9b0169a",
          "grade": false,
          "grade_id": "cell-bb6e6b4570d28887",
          "locked": false,
          "schema_version": 3,
          "solution": true,
          "task": false
        },
        "colab": {
          "base_uri": "https://localhost:8080/",
          "height": 403
        },
        "id": "019be217",
        "outputId": "4e9a4c5d-44c2-41e6-f92a-56dfc8d7190d"
      },
      "outputs": [
        {
          "output_type": "display_data",
          "data": {
            "image/png": "[encoded data removed]",
            "text/plain": [
              "<Figure size 1152x432 with 1 Axes>"
            ]
          },
          "metadata": {
            "needs_background": "light"
          }
        }
      ],
      "source": [
        "lista = np.linspace(-1/np.e,0, 100)\n",
        "y = [ len(newton_y(f, df, y, 0)) for y in lista] \n",
        "\n",
        "ax = plt.gca()\n",
        "ax.set_xlabel(\"y\")\n",
        "ax.set_ylabel(\"iterações\")\n",
        "plt.title(\"Iterações necessárias para encontrar a raiz\")\n",
        "plt.rcParams['figure.figsize'] = (16,6)\n",
        "ax.plot(lista, y, 'g-')\n",
        "ax.grid()\n",
        "plt.show()"
      ]
    },
    {
      "cell_type": "code",
      "execution_count": 23,
      "id": "7530fc60",
      "metadata": {
        "deletable": false,
        "editable": false,
        "nbgrader": {
          "cell_type": "code",
          "checksum": "614be8af1578b8889431bfc687792371",
          "grade": true,
          "grade_id": "cell-ff67a4e8c14669e4",
          "locked": true,
          "points": 1,
          "schema_version": 3,
          "solution": false,
          "task": false
        },
        "id": "7530fc60"
      },
      "outputs": [],
      "source": [
        "assert len(ax.lines) == 1\n",
        "assert len(ax.title.get_text()) > 0"
      ]
    },
    {
      "cell_type": "code",
      "execution_count": 24,
      "id": "238d07d7",
      "metadata": {
        "deletable": false,
        "editable": false,
        "nbgrader": {
          "cell_type": "code",
          "checksum": "04b3499708b17b35bc097e9eaad6cafd",
          "grade": true,
          "grade_id": "cell-8d455fd0f45ea965",
          "locked": true,
          "points": 1,
          "schema_version": 3,
          "solution": false,
          "task": false
        },
        "id": "238d07d7"
      },
      "outputs": [],
      "source": [
        "vs = ax.lines[0].get_ydata()\n",
        "assert max(vs) > 20\n",
        "assert min(vs) < 5"
      ]
    },
    {
      "cell_type": "code",
      "execution_count": 25,
      "id": "25fc57f9",
      "metadata": {
        "deletable": false,
        "editable": false,
        "nbgrader": {
          "cell_type": "code",
          "checksum": "01be8f01ca3a6030ca57d292fb7bc90c",
          "grade": false,
          "grade_id": "cell-0c78472652f7b223",
          "locked": true,
          "schema_version": 3,
          "solution": false,
          "task": false
        },
        "id": "25fc57f9"
      },
      "outputs": [],
      "source": [
        "ax = None"
      ]
    },
    {
      "cell_type": "markdown",
      "id": "905d718f",
      "metadata": {
        "id": "905d718f"
      },
      "source": [
        "O que você observa no gráfico?"
      ]
    },
    {
      "cell_type": "markdown",
      "id": "d7a5dcb4",
      "metadata": {
        "deletable": false,
        "nbgrader": {
          "cell_type": "markdown",
          "checksum": "bdaf0ab096eeb113f3d37fe3dff8ca15",
          "grade": true,
          "grade_id": "cell-0dfc13abccdfb67b",
          "locked": false,
          "points": 2,
          "schema_version": 3,
          "solution": true,
          "task": false
        },
        "id": "d7a5dcb4"
      },
      "source": [
        "Observo que conforme o valor de $y$ assume valores mais próximos de $0$, o número de iterações diminui, enquanto para valores proximos de $\\frac{-1}{e}$, o número de iterações é bem alto. Desse modo, conforme $y \\rightarrow 0$, percebe-se uma queda brusca no número de iterações."
      ]
    },
    {
      "cell_type": "markdown",
      "id": "0dfb9217",
      "metadata": {
        "id": "0dfb9217"
      },
      "source": [
        "Agora, dê um zoom na parte que dá mais iterações.\n",
        "\n",
        "Dica: o estilo `\".:\"` para a linha pode ajudar a visualizar o que está acontecendo."
      ]
    },
    {
      "cell_type": "code",
      "execution_count": 26,
      "id": "318bd59b",
      "metadata": {
        "deletable": false,
        "nbgrader": {
          "cell_type": "code",
          "checksum": "5b5b9be2e9714e780c7388b743a0cf3b",
          "grade": true,
          "grade_id": "cell-d0e3e8cf1aaf3f6a",
          "locked": false,
          "points": 1,
          "schema_version": 3,
          "solution": true,
          "task": false
        },
        "colab": {
          "base_uri": "https://localhost:8080/",
          "height": 403
        },
        "id": "318bd59b",
        "outputId": "74bb0e51-daf2-4277-aae1-66d0ba4937b3"
      },
      "outputs": [
        {
          "output_type": "display_data",
          "data": {
            "image/png": "[encoded data removed]",
            "text/plain": [
              "<Figure size 1152x432 with 1 Axes>"
            ]
          },
          "metadata": {
            "needs_background": "light"
          }
        }
      ],
      "source": [
        "lista = np.linspace(-1/np.e,-0.3678, 100)\n",
        "y = [ len(newton_y(f, df, y, 0)) for y in lista] \n",
        "\n",
        "ax = plt.gca()\n",
        "ax.set_xlabel(\"y\")\n",
        "ax.set_ylabel(\"iterações\")\n",
        "plt.title(\"Zoom das Iterações necessárias para encontrar a raiz\")\n",
        "plt.rcParams['figure.figsize'] = (16,6)\n",
        "ax.plot(lista, y, 'g.:')\n",
        "ax.grid()\n",
        "plt.show()"
      ]
    },
    {
      "cell_type": "code",
      "execution_count": 27,
      "id": "be333190",
      "metadata": {
        "deletable": false,
        "editable": false,
        "nbgrader": {
          "cell_type": "code",
          "checksum": "8b3c3263f97d9aea763acd32a7d446c4",
          "grade": true,
          "grade_id": "cell-076cdce5a3e2ac7a",
          "locked": true,
          "points": 2,
          "schema_version": 3,
          "solution": false,
          "task": false
        },
        "id": "be333190"
      },
      "outputs": [],
      "source": [
        "vs = ax.lines[0].get_ydata()\n",
        "assert max(vs) > 20\n",
        "assert 10 < min(vs) < 15"
      ]
    },
    {
      "cell_type": "code",
      "execution_count": 28,
      "id": "fb52f964",
      "metadata": {
        "deletable": false,
        "editable": false,
        "nbgrader": {
          "cell_type": "code",
          "checksum": "00866c8d5c21b65ac6b60ab906c676f3",
          "grade": false,
          "grade_id": "cell-3b4188f1833cbf37",
          "locked": true,
          "schema_version": 3,
          "solution": false,
          "task": false
        },
        "id": "fb52f964"
      },
      "outputs": [],
      "source": [
        "ax = None"
      ]
    },
    {
      "cell_type": "markdown",
      "id": "74d43b48",
      "metadata": {
        "id": "74d43b48"
      },
      "source": [
        "## Questão 3.2: Erros\n",
        "\n",
        "Agora, vamos construir $y = z e^z$ para $z$ entre 0 e -1.\n",
        "Assim, já saberemos qual a raiz de $x e^x = y$.\n",
        "\n",
        "Com isto, faça o gráfico do **erro absoluto** entre a raiz encontrada pelo método de Newton - começando de 0, como na questão anterior - e o valor real."
      ]
    },
    {
      "cell_type": "code",
      "execution_count": 29,
      "id": "a003a1f3",
      "metadata": {
        "deletable": false,
        "nbgrader": {
          "cell_type": "code",
          "checksum": "9d93196a2bc9209e827bd61b15d90311",
          "grade": true,
          "grade_id": "cell-0050c46eea198121",
          "locked": false,
          "points": 2,
          "schema_version": 3,
          "solution": true,
          "task": false
        },
        "colab": {
          "base_uri": "https://localhost:8080/",
          "height": 403
        },
        "id": "a003a1f3",
        "outputId": "5d6b3d76-91a5-4506-9260-18a6fed5ecf3"
      },
      "outputs": [
        {
          "output_type": "display_data",
          "data": {
            "image/png": "[encoded data removed]",
            "text/plain": [
              "<Figure size 1152x432 with 1 Axes>"
            ]
          },
          "metadata": {
            "needs_background": "light"
          }
        }
      ],
      "source": [
        "x = np.linspace(-1,0, 200)\n",
        "y = f(x)\n",
        "raiz = [newton_y(f, df, i, 0)[-1] for i in y] \n",
        "\n",
        "ax = plt.gca()\n",
        "ax.set_xlabel(\"z\")\n",
        "ax.set_ylabel(\"erro absoluto\")\n",
        "plt.title(\"Gráfico do erro absoluto\")\n",
        "plt.rcParams['figure.figsize'] = (16,6)\n",
        "ax.plot(x, abs(raiz-x) )\n",
        "ax.grid()\n",
        "plt.show()"
      ]
    },
    {
      "cell_type": "markdown",
      "id": "ca2dd401",
      "metadata": {
        "id": "ca2dd401"
      },
      "source": [
        "## Questão 3.3: Um outro ponto de vista\n",
        "\n",
        "Vamos fazer um zoom na parte que dá maior erro.\n",
        "\n",
        "Para poder observar bem o que acontece, vamos olhar para $z = -1 + w$, e fazer o gráfico do erro em função de $w$.\n",
        "\n",
        "Dica: para escolher a melhor escala para os eixos, teste as diferentes combinações!"
      ]
    },
    {
      "cell_type": "code",
      "execution_count": 30,
      "id": "6cf7c32c",
      "metadata": {
        "deletable": false,
        "nbgrader": {
          "cell_type": "code",
          "checksum": "8a1089335d6b0b79a0cdbecdd79433df",
          "grade": true,
          "grade_id": "cell-8d08e83c18253fbc",
          "locked": false,
          "points": 2,
          "schema_version": 3,
          "solution": true,
          "task": false
        },
        "colab": {
          "base_uri": "https://localhost:8080/",
          "height": 407
        },
        "id": "6cf7c32c",
        "outputId": "22318c71-976b-46b6-96ff-8e81d3530756"
      },
      "outputs": [
        {
          "output_type": "display_data",
          "data": {
            "image/png": "[encoded data removed]",
            "text/plain": [
              "<Figure size 1152x432 with 1 Axes>"
            ]
          },
          "metadata": {
            "needs_background": "light"
          }
        }
      ],
      "source": [
        "ws = np.logspace(-53,0, num=200, base=2)\n",
        "zs = -1 + ws\n",
        "y= f(zs)\n",
        "raiz = [newton_y(f, df, i, 0)[-1] for i in y] \n",
        "\n",
        "plt.rcParams['figure.figsize'] = (16,6)\n",
        "ax = plt.gca()\n",
        "ax.plot(ws, abs(raiz - zs) , 'b+')\n",
        "ax.set_xlabel(\"w\")\n",
        "ax.set_ylabel(\"erro absoluto\")\n",
        "ax.set_xscale('log', basex=2)\n",
        "ax.set_yscale('log')\n",
        "plt.title(\"Gráfico do erro absoluto em função de ws\")\n",
        "ax.grid()\n",
        "plt.show()\n"
      ]
    },
    {
      "cell_type": "markdown",
      "id": "3227c878",
      "metadata": {
        "id": "3227c878"
      },
      "source": [
        "O que você observa?"
      ]
    },
    {
      "cell_type": "markdown",
      "id": "fce95765",
      "metadata": {
        "deletable": false,
        "nbgrader": {
          "cell_type": "markdown",
          "checksum": "9dda214de1e8462c0cbfedd3033ec525",
          "grade": true,
          "grade_id": "cell-3b26dd31709ef8ce",
          "locked": false,
          "points": 2,
          "schema_version": 3,
          "solution": true,
          "task": false
        },
        "id": "fce95765"
      },
      "source": [
        "--- \n",
        "É possivel observar que conforme o valor de $zs$ assume valores próximos a $-1$, o erro tende a crescer muito, praticamente na vertical, enquanto para valores de $zs$ proximos a $0$, o erro é praticamente insignificante. Já analizando em uma escala logaritima de base $2$ para o eixo das abscissas (que representa o $w$), percebe-se que esse erro decresce de maneira mais suave, já agora a base é logaritimica. Dessa maneira, é perceptível que o erro cresce exponencialmente, como já analisado nos gráficos anteriores, mas agora de maneira mais evidente por conta da troca de variaveis e da escala logarítimica.\n",
        "\n",
        "Portanto, para os valores onde $ws \\rightarrow 0$, temos que $zs \\rightarrow -1$, que são os pontos em que o erro cresce muito para o método de newton (próximo a raiz). Enquanto conforme $ws \\rightarrow 1$, ou seja, $2^0 $, o erro tende a diminuir, pois agora $zs \\rightarrow 0$.\n",
        "\n",
        "\n",
        "Dessa maneira, os gráficos se complementam, em escalas diferentes.\n",
        "\n",
        "\n",
        "\n"
      ]
    }
  ],
  "metadata": {
    "kernelspec": {
      "display_name": "Python 3 (ipykernel)",
      "language": "python",
      "name": "python3"
    },
    "language_info": {
      "codemirror_mode": {
        "name": "ipython",
        "version": 3
      },
      "file_extension": ".py",
      "mimetype": "text/x-python",
      "name": "python",
      "nbconvert_exporter": "python",
      "pygments_lexer": "ipython3",
      "version": "3.9.5"
    },
    "colab": {
      "name": "MayaraAragao_Teste3.ipynb",
      "provenance": []
    }
  },
  "nbformat": 4,
  "nbformat_minor": 5
}