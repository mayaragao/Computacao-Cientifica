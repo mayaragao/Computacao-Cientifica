{
  "cells": [
    {
      "cell_type": "markdown",
      "metadata": {
        "id": "VJ-pOgOMdwSr"
      },
      "source": [
        "![CC-BY-SA](https://mirrors.creativecommons.org/presskit/buttons/88x31/svg/by-sa.svg)\n",
        "\n",
        "\n",
        "This notebook was created by [Bernardo Freitas Paulo da Costa](http://www.im.ufrj.br/bernardofpc),\n",
        "and is licensed under Creative Commons BY-SA."
      ],
      "id": "VJ-pOgOMdwSr"
    },
    {
      "cell_type": "markdown",
      "metadata": {
        "id": "zWmzpAvpdwSx"
      },
      "source": [
        "Antes de enviar este Teste, verifique que tudo está funcionando como esperado.\n",
        "Por exemplo, **rode o código inteiro, do zero**.\n",
        "Para isso, vá no menu, escolha _Kernel_, depois _Restart & Run All_.\n",
        "\n",
        "Verifique, também, que você respondeu todas as questões:\n",
        "* as questões de código têm `YOUR CODE HERE` (e você pode apagar o `raise NotImplemented` ao incluir sua resposta)\n",
        "* as questões discursivas têm \"YOUR ANSWER HERE\"."
      ],
      "id": "zWmzpAvpdwSx"
    },
    {
      "cell_type": "markdown",
      "metadata": {
        "id": "pqT2Z3VZdwSz"
      },
      "source": [
        "---"
      ],
      "id": "pqT2Z3VZdwSz"
    },
    {
      "cell_type": "code",
      "execution_count": 1,
      "metadata": {
        "deletable": false,
        "editable": false,
        "nbgrader": {
          "cell_type": "code",
          "checksum": "996644c3f8e59eb3b377477f093873ec",
          "grade": false,
          "grade_id": "cell-4b972418922ac8db",
          "locked": true,
          "schema_version": 3,
          "solution": false,
          "task": false
        },
        "id": "8hCw68vsdwS0"
      },
      "outputs": [],
      "source": [
        "import numpy as np\n",
        "import matplotlib.pyplot as plt\n",
        "\n",
        "from numpy.linalg import norm # Vamos usar muito !"
      ],
      "id": "8hCw68vsdwS0"
    },
    {
      "cell_type": "markdown",
      "metadata": {
        "id": "1XO3uj8VdwS2"
      },
      "source": [
        "# Mínimos quadrados _vs_ Equações Normais\n",
        "\n",
        "Vimos duas formas de resolver um problema de regressão:\n",
        "- encontrando a solução de mínimos quadrados para $Xp = b$;\n",
        "- resolvendo as equações normais $X^\\top X p = X^\\top b$.\n",
        "\n",
        "Neste teste, veremos como isto pode gerar diferenças no cálculo de $p$."
      ],
      "id": "1XO3uj8VdwS2"
    },
    {
      "cell_type": "markdown",
      "metadata": {
        "id": "zlBIZM5xdwS2"
      },
      "source": [
        "# Questão 1: Comparando soluções\n",
        "\n",
        "Sejam dados uma matriz $A$, $m \\times n$, e um vetor $b$.\n",
        "\n",
        "Escreva uma função que retorna as duas soluções do problema de regressão,\n",
        "a primeira usando `np.linalg.solve` e a segunda, `np.linalg.lstsq`."
      ],
      "id": "zlBIZM5xdwS2"
    },
    {
      "cell_type": "code",
      "execution_count": 2,
      "metadata": {
        "deletable": false,
        "nbgrader": {
          "cell_type": "code",
          "checksum": "5ef88b5efc987ab7687996e5c4c9e4f3",
          "grade": false,
          "grade_id": "cell-619914fa122b3f3e",
          "locked": false,
          "schema_version": 3,
          "solution": true,
          "task": false
        },
        "id": "cwjx_7VkdwS3"
      },
      "outputs": [],
      "source": [
        "def duas_sols(A,b):\n",
        " \n",
        "  x1 = np.linalg.solve(A.T@A, A.T@b)\n",
        "  x2, *_ = np.linalg.lstsq(A, b, rcond=None)\n",
        "\n",
        "  return (x1, x2)"
      ],
      "id": "cwjx_7VkdwS3"
    },
    {
      "cell_type": "code",
      "execution_count": 3,
      "metadata": {
        "deletable": false,
        "editable": false,
        "nbgrader": {
          "cell_type": "code",
          "checksum": "40f99f3eebc1934d23bb6c91bc786396",
          "grade": true,
          "grade_id": "cell-dcfc9177dd3592ef",
          "locked": true,
          "points": 1,
          "schema_version": 3,
          "solution": false,
          "task": false
        },
        "id": "CwRnrB_bdwS4"
      },
      "outputs": [],
      "source": [
        "A = np.array([[0,1],[1,1],[2,1],[2,2],[3,2],[4,4]])\n",
        "b = [1,2,3,4,5,6]\n",
        "\n",
        "x1, x2 = duas_sols(A,b)\n",
        "assert np.allclose(x1,x2)"
      ],
      "id": "CwRnrB_bdwS4"
    },
    {
      "cell_type": "code",
      "execution_count": 4,
      "metadata": {
        "deletable": false,
        "editable": false,
        "nbgrader": {
          "cell_type": "code",
          "checksum": "da2f9b11f9b0626522b716e4554ddd80",
          "grade": true,
          "grade_id": "cell-d5af1b60a0434c9a",
          "locked": true,
          "points": 1,
          "schema_version": 3,
          "solution": false,
          "task": false
        },
        "id": "OLpb_TlGdwS5"
      },
      "outputs": [],
      "source": [
        "A = np.array([[0,1],[1,1],[2,1],[2,2],[3,2],[4,4]])\n",
        "b = [0,1,0,1,0,1]\n",
        "\n",
        "x1, x2 = duas_sols(A,b)\n",
        "assert np.allclose(x1,x2)"
      ],
      "id": "OLpb_TlGdwS5"
    },
    {
      "cell_type": "code",
      "execution_count": 5,
      "metadata": {
        "deletable": false,
        "editable": false,
        "nbgrader": {
          "cell_type": "code",
          "checksum": "ab5c63bed1454ab642cceec45f3d0e0f",
          "grade": true,
          "grade_id": "cell-3c4e79e30f91bbb5",
          "locked": true,
          "points": 1,
          "schema_version": 3,
          "solution": false,
          "task": false
        },
        "id": "RlvpX2j5dwS6"
      },
      "outputs": [],
      "source": [
        "A = np.array([[0,1],[1,1],[2,1],[2,2],[3,2],[4,4]])\n",
        "b = [1,1,1,0,0,0]\n",
        "\n",
        "x1, x2 = duas_sols(A,b)\n",
        "\n",
        "assert norm(x1-x2) < 1e-14"
      ],
      "id": "RlvpX2j5dwS6"
    },
    {
      "cell_type": "markdown",
      "metadata": {
        "id": "FtzaFQgrdwS7"
      },
      "source": [
        "Ao resolver um problema de regressão, a medida \"oficial\" é o **erro de regressão**.\n",
        "Assim, poderia muito bem haver duas soluções $x_1$ e $x_2$, diferentes,\n",
        "mas tais que $\\|Ax_1 - b\\|$ e $\\|Ax_2 - b\\|$ fossem iguais.\n",
        "\n",
        "Complete a sua função para retornar, também, o erro da regressão, para cada uma das soluções.\n",
        "Retorne duas tuplas, uma com as 2 soluções, a segunda com os 2 erros."
      ],
      "id": "FtzaFQgrdwS7"
    },
    {
      "cell_type": "code",
      "execution_count": 6,
      "metadata": {
        "deletable": false,
        "nbgrader": {
          "cell_type": "code",
          "checksum": "762d5af230a9ea138712a325a2feab24",
          "grade": false,
          "grade_id": "cell-6e8af0f9e84cc6e1",
          "locked": false,
          "schema_version": 3,
          "solution": true,
          "task": false
        },
        "id": "Z6u1xXICdwS7"
      },
      "outputs": [],
      "source": [
        "def duas_sols_erros(A,b):\n",
        "  x1, x2 = duas_sols(A,b)\n",
        "  err1, err2 = norm(A@x1-b), norm(A@x2-b)\n",
        "  return (x1,x2), (err1,err2)"
      ],
      "id": "Z6u1xXICdwS7"
    },
    {
      "cell_type": "code",
      "execution_count": 7,
      "metadata": {
        "deletable": false,
        "editable": false,
        "nbgrader": {
          "cell_type": "code",
          "checksum": "b530d93c0cf6346444056939f1ef967a",
          "grade": true,
          "grade_id": "cell-9f4394264df2fed8",
          "locked": true,
          "points": 1,
          "schema_version": 3,
          "solution": false,
          "task": false
        },
        "id": "ZtBn4aB-dwS8"
      },
      "outputs": [],
      "source": [
        "A = np.array([[0,1],[1,1],[2,1],[2,2],[3,2],[4,4]])\n",
        "b = [6,5,4,3,2,1]\n",
        "\n",
        "(x1, x2), (e1, e2) = duas_sols_erros(A,b)\n",
        "assert np.allclose(x1,x2)\n",
        "assert 7 < e1 < 8\n",
        "assert 7 < e2 < 8"
      ],
      "id": "ZtBn4aB-dwS8"
    },
    {
      "cell_type": "markdown",
      "metadata": {
        "id": "vT5ZFIIodwS8"
      },
      "source": [
        "Calcule os erros de regressão para cada um dos casos anteriores,\n",
        "e também a diferença entre eles."
      ],
      "id": "vT5ZFIIodwS8"
    },
    {
      "cell_type": "code",
      "execution_count": 8,
      "metadata": {
        "deletable": false,
        "nbgrader": {
          "cell_type": "code",
          "checksum": "83c4531537394d5081af28c1e5484156",
          "grade": true,
          "grade_id": "cell-3721ad42f1c32cef",
          "locked": false,
          "points": 2,
          "schema_version": 3,
          "solution": true,
          "task": false
        },
        "colab": {
          "base_uri": "https://localhost:8080/"
        },
        "id": "UK1wYdA9dwS9",
        "outputId": "e877991b-7c6f-4213-8727-6c6736af892d"
      },
      "outputs": [
        {
          "output_type": "stream",
          "name": "stdout",
          "text": [
            "caso              erro 1                 erro 2            diferença erro                      diferença soluções \n",
            " 0     1.22739297150240611600   1.22739297150240611600   0.00000000000000000000  [-0.00000000000000244249   0.00000000000000305311] \n",
            " 1     1.04446593573418700096   1.04446593573418700096   0.00000000000000000000  [0.00000000000000094369   -0.00000000000000116573] \n",
            " 2     1.62768260092397909489   1.62768260092397887284   0.00000000000000022204  [-0.00000000000000058287   0.00000000000000066613] \n",
            " 3     7.63110517774235841415   7.63110517774235841415   0.00000000000000000000  [-0.00000000000000199840   0.00000000000000199840] \n"
          ]
        }
      ],
      "source": [
        "A = np.array([[0,1],[1,1],[2,1],[2,2],[3,2],[4,4]])\n",
        "B =[[1,2,3,4,5,6],[0,1,0,1,0,1],[1,1,1,0,0,0],[6,5,4,3,2,1]]\n",
        "\n",
        "print('{:^4}{:>20}   {:>20}      {:>20}{:>40} '.format('caso', 'erro 1', 'erro 2', 'diferença erro', 'diferença soluções'))\n",
        "for  i, b  in enumerate(B): \n",
        "  (x1, x2), (e1, e2) = duas_sols_erros(A,b)\n",
        "  diff_sol = x1-x2\n",
        "  print('{:^4}   {:>2,.20f}   {:>2,.20f}   {:>2,.20f}  [{:>2,.20f}   {:>2,.20f}] '.format(i, e1, e2, e1-e2, diff_sol[0], diff_sol[1]))\n",
        "\n"
      ],
      "id": "UK1wYdA9dwS9"
    },
    {
      "cell_type": "markdown",
      "metadata": {
        "id": "69AAfezZdwS9"
      },
      "source": [
        "O que você observa?"
      ],
      "id": "69AAfezZdwS9"
    },
    {
      "cell_type": "markdown",
      "metadata": {
        "deletable": false,
        "nbgrader": {
          "cell_type": "markdown",
          "checksum": "6ebae613dff616263f131c5fd1953a75",
          "grade": true,
          "grade_id": "cell-2ab4ef9a311aee18",
          "locked": false,
          "points": 1,
          "schema_version": 3,
          "solution": true,
          "task": false
        },
        "id": "qwZSGOecdwS9"
      },
      "source": [
        "O único caso em que os erros apareceram diferentes de $0$, apresentou um valor próximo a $0$. De todo modo, é possivel perceber que as soluções $x_1$ e $x_2$ não precisam ser exatamente iguais para que a diferença entre os erros seja $0$, como pode ser observado acima, pois o erro de regressão é $\\|Ax_1 - b\\|$ e $\\|Ax_2 - b\\|$."
      ],
      "id": "qwZSGOecdwS9"
    },
    {
      "cell_type": "markdown",
      "metadata": {
        "id": "4_9ToIlBdwS-"
      },
      "source": [
        "# Questão 2: Analisando muitos casos\n",
        "\n",
        "Para entender o comportamento médio, vamos gerar vetores $b$ aleatórios.\n",
        "\n",
        "Compare, com um histograma, os erros de regressão, para 1000 vetores $b$ aleatórios, e a matriz $A$ acima."
      ],
      "id": "4_9ToIlBdwS-"
    },
    {
      "cell_type": "code",
      "execution_count": 9,
      "metadata": {
        "deletable": false,
        "nbgrader": {
          "cell_type": "code",
          "checksum": "583df86bc3c4b24eac3d9bfcc1337cff",
          "grade": true,
          "grade_id": "cell-7e253d8da5dea1b8",
          "locked": false,
          "points": 1,
          "schema_version": 3,
          "solution": true,
          "task": false
        },
        "colab": {
          "base_uri": "https://localhost:8080/",
          "height": 293
        },
        "id": "1VtOvX4tdwS-",
        "outputId": "e166eaa2-82f1-447c-f648-5816a47335dc"
      },
      "outputs": [
        {
          "output_type": "display_data",
          "data": {
            "image/png": "[encoded data removed]",
            "text/plain": [
              "<Figure size 432x288 with 1 Axes>"
            ]
          },
          "metadata": {
            "needs_background": "light"
          }
        }
      ],
      "source": [
        "np.random.seed(1)\n",
        "A = np.array([[0,1],[1,1],[2,1],[2,2],[3,2],[4,4]])\n",
        "err = []\n",
        "for i in range(0,1000):\n",
        "  (x1, x2), (e1, e2) = duas_sols_erros(A,np.random.rand(6))\n",
        "  err.append(e1-e2)\n",
        "  \n",
        "plt.hist(err, bins=21)\n",
        "plt.title('Histograma com erros de regressão')\n",
        "ax = plt.gca()"
      ],
      "id": "1VtOvX4tdwS-"
    },
    {
      "cell_type": "code",
      "execution_count": 10,
      "metadata": {
        "deletable": false,
        "editable": false,
        "nbgrader": {
          "cell_type": "code",
          "checksum": "b0d21da61ef6467ca170186566671fb7",
          "grade": true,
          "grade_id": "cell-309d06c8e8a6baa5",
          "locked": true,
          "points": 1,
          "schema_version": 3,
          "solution": false,
          "task": false
        },
        "id": "zT9THLiIdwS-"
      },
      "outputs": [],
      "source": [
        "minx, maxx = ax.get_xlim()\n",
        "\n",
        "assert -2e-15 < minx < maxx < 2e-15"
      ],
      "id": "zT9THLiIdwS-"
    },
    {
      "cell_type": "markdown",
      "metadata": {
        "id": "_VSYWXFAdwS_"
      },
      "source": [
        "Algum dos métodos dá consistentemente o menor erro?"
      ],
      "id": "_VSYWXFAdwS_"
    },
    {
      "cell_type": "markdown",
      "metadata": {
        "deletable": false,
        "nbgrader": {
          "cell_type": "markdown",
          "checksum": "bcdfd79003457195e8ee722b18a432ba",
          "grade": true,
          "grade_id": "cell-8b01627440859975",
          "locked": false,
          "points": 1,
          "schema_version": 3,
          "solution": true,
          "task": false
        },
        "id": "Fk6q6UPpdwS_"
      },
      "source": [
        "Não. Os erros estão concentrados em $0$, o que significa que o erro de regressão em ambos os métodos foram iguais na maioria dos casos.\n",
        "\n",
        "\n",
        " Caso tivessemos tido uma concentração dos casos em valores negativos, significaria que o primeiro método `np.linalg.solve` teria valores de erro de regressão menores, e caso contrário, o método `np.linalg.lstsq`. Contudo, isso não ocorre, pois o histograma está quase simétrico, e apenas em poucos casos a mais apresenta uma diferença de erro negativo. \n",
        "\n"
      ],
      "id": "Fk6q6UPpdwS_"
    },
    {
      "cell_type": "markdown",
      "metadata": {
        "id": "l-4sBnc7dwTA"
      },
      "source": [
        "Agora, vamos usar matrizes (bem) maiores.\n",
        "\n",
        "Escolha uma matriz $A$, $30 \\times 4$ com entradas uniformemente escolhidas em $[0,1]$,\n",
        "e repita o que fizemos acima para 1000 valores aleatórios de $b$."
      ],
      "id": "l-4sBnc7dwTA"
    },
    {
      "cell_type": "code",
      "execution_count": 11,
      "metadata": {
        "deletable": false,
        "nbgrader": {
          "cell_type": "code",
          "checksum": "ea8d94ea73f813b0342197ac18a8635d",
          "grade": false,
          "grade_id": "cell-bf1739119a51ff50",
          "locked": false,
          "schema_version": 3,
          "solution": true,
          "task": false
        },
        "colab": {
          "base_uri": "https://localhost:8080/",
          "height": 293
        },
        "id": "xKCNE8eDdwTB",
        "outputId": "11f00947-3178-4d3b-8aef-e7c22fed3add"
      },
      "outputs": [
        {
          "output_type": "display_data",
          "data": {
            "image/png": "[encoded data removed]",
            "text/plain": [
              "<Figure size 432x288 with 1 Axes>"
            ]
          },
          "metadata": {
            "needs_background": "light"
          }
        }
      ],
      "source": [
        "np.random.seed(2)\n",
        "A = np.random.rand(30,4)\n",
        "\n",
        "err = []\n",
        "for i in range(0,1000):\n",
        "  (x1, x2), (e1, e2) = duas_sols_erros(A,np.random.rand(30))\n",
        "  err.append(e1-e2)\n",
        "  \n",
        "plt.hist(err, bins=21)\n",
        "plt.title('Histograma com erros de regressão')\n",
        "\n",
        "ax = plt.gca()"
      ],
      "id": "xKCNE8eDdwTB"
    },
    {
      "cell_type": "code",
      "execution_count": 12,
      "metadata": {
        "deletable": false,
        "editable": false,
        "nbgrader": {
          "cell_type": "code",
          "checksum": "241608c97a018dd73d430734331e5945",
          "grade": true,
          "grade_id": "cell-c0756b2f00bb4a91",
          "locked": true,
          "points": 1,
          "schema_version": 3,
          "solution": false,
          "task": false
        },
        "id": "9rEHtCsFdwTC"
      },
      "outputs": [],
      "source": [
        "minx, maxx = ax.get_xlim()\n",
        "\n",
        "assert -4e-15 < minx < maxx < 4e-15"
      ],
      "id": "9rEHtCsFdwTC"
    },
    {
      "cell_type": "markdown",
      "metadata": {
        "id": "VbXDbzYSdwTC"
      },
      "source": [
        "O comportamento dos erros mudou?"
      ],
      "id": "VbXDbzYSdwTC"
    },
    {
      "cell_type": "markdown",
      "metadata": {
        "deletable": false,
        "nbgrader": {
          "cell_type": "markdown",
          "checksum": "742914cacdd94c946147eef4df66bd8b",
          "grade": true,
          "grade_id": "cell-d4eb04981d3a111f",
          "locked": false,
          "points": 1,
          "schema_version": 3,
          "solution": true,
          "task": false
        },
        "id": "M7riyzcBdwTC"
      },
      "source": [
        "Um pouco. O que aconteceu ao aumentarmos as dimensões da matriz, é que a diferença dos valores assumidos de erros de regressão entre os métodos aumentaram em alguns casos. \n",
        "\n",
        "Utilizando uma matriz menor, menos de $100$ casos apresentavam diferença entre os erros de regressão com módulo $ |2\\cdot 10^{-16}| $. Com uma matriz maior, mais casos estão concentrados nessa faixa, por volta de $200$ para diferenças negativas e um pouco mais que $200$ para diferenças positivas. Contudo, agora a diferença entre os erros também podem assumir em alguns (poucos) casos valores de erro de regressao com módulo  $ |4\\cdot 10^{-16}| $ ou até mesmo  $ |6\\cdot 10^{-16}| $.\n",
        "\n",
        "De todo modo, os erros de regressão estão iguais em ambos os métodos na maioria dos casos, por mais que a quantidade de casos iguais a $0$ no histograma tenha diminuido e algumas diferenças maiores aparecido. No geral, o comportamento continua simétrico, embora o segundo método tenha apresentado um erro menor em poucos casos a mais. "
      ],
      "id": "M7riyzcBdwTC"
    },
    {
      "cell_type": "markdown",
      "metadata": {
        "id": "E1XCSD_JdwTC"
      },
      "source": [
        "E agora, faça para matrizes $300 \\times 10$."
      ],
      "id": "E1XCSD_JdwTC"
    },
    {
      "cell_type": "code",
      "execution_count": 13,
      "metadata": {
        "deletable": false,
        "nbgrader": {
          "cell_type": "code",
          "checksum": "d75bb4788eb1c1ea28a02d90df98e48e",
          "grade": false,
          "grade_id": "cell-7131caab2146c523",
          "locked": false,
          "schema_version": 3,
          "solution": true,
          "task": false
        },
        "colab": {
          "base_uri": "https://localhost:8080/",
          "height": 293
        },
        "id": "QThNGDYvdwTD",
        "outputId": "56472bba-b1d2-4f35-8234-259c248bd575"
      },
      "outputs": [
        {
          "output_type": "display_data",
          "data": {
            "image/png": "[encoded data removed]",
            "text/plain": [
              "<Figure size 432x288 with 1 Axes>"
            ]
          },
          "metadata": {
            "needs_background": "light"
          }
        }
      ],
      "source": [
        "np.random.seed(1)\n",
        "A = np.random.rand(300,10)\n",
        "\n",
        "err = []\n",
        "for i in range(0,1000):\n",
        "  (x1, x2), (e1, e2) = duas_sols_erros(A,np.random.rand(300))\n",
        "  err.append(e1-e2)\n",
        "\n",
        "plt.hist(err, bins=21)\n",
        "plt.title('Histograma com erros de regressão')\n",
        "\n",
        "ax = plt.gca()"
      ],
      "id": "QThNGDYvdwTD"
    },
    {
      "cell_type": "code",
      "execution_count": 14,
      "metadata": {
        "deletable": false,
        "editable": false,
        "nbgrader": {
          "cell_type": "code",
          "checksum": "d190eed17be8656581a27f944bcbff3f",
          "grade": true,
          "grade_id": "cell-5d63b29d89032a68",
          "locked": true,
          "points": 1,
          "schema_version": 3,
          "solution": false,
          "task": false
        },
        "id": "G0ZtsYffdwTD"
      },
      "outputs": [],
      "source": [
        "minx, maxx = ax.get_xlim()\n",
        "\n",
        "assert -10e-15 < minx < maxx < 10e-15"
      ],
      "id": "G0ZtsYffdwTD"
    },
    {
      "cell_type": "markdown",
      "metadata": {
        "id": "f5DNduY0dwTD"
      },
      "source": [
        "Esse gráfico confirma a tendência quando a matriz fica maior?"
      ],
      "id": "f5DNduY0dwTD"
    },
    {
      "cell_type": "markdown",
      "metadata": {
        "deletable": false,
        "nbgrader": {
          "cell_type": "markdown",
          "checksum": "f1f87a526d4a6977d2cc7da835f2718e",
          "grade": true,
          "grade_id": "cell-1749e4479ed402c4",
          "locked": false,
          "points": 2,
          "schema_version": 3,
          "solution": true,
          "task": false
        },
        "id": "lKi7CgHldwTD"
      },
      "source": [
        "Sim, embora as soluções dos diferentes métodos apresentem uma diferença entre os erros de regressão igual a $0$ na maioria dos casos, a tendência é que alguns casos apresentem uma diferença de erro de regressão ainda maior com o aumento da matriz, podendo atigir diferenças entre os erros maiores em módulo que $ |1.5\\cdot 10^{-15}| $.\n",
        "\n",
        "O comportamento continua simétrico, o que indica que nenhum método apresentou valores de erro de regreção siginificativamente menores que outro no geral. "
      ],
      "id": "lKi7CgHldwTD"
    },
    {
      "cell_type": "markdown",
      "metadata": {
        "id": "8cF2RJcudwTE"
      },
      "source": [
        "# Questão 3: Matrizes de Hilbert\n",
        "\n",
        "A matriz de Hilbert é uma matriz famosa, cujas entradas $H_{i,j}$ são $\\frac{1}{i+j-1}$.\n",
        "\n",
        "Por exemplo, a matriz $3\\times 2$ é\n",
        "$$\\begin{bmatrix}\n",
        "  1 & 1/2 \\\\\n",
        "1/2 & 1/3 \\\\\n",
        "1/3 & 1/4\n",
        "\\end{bmatrix}$$\n",
        "\n",
        "Escreva a função `hilb(n,m)` que retorna a matriz de Hilbert $n \\times m$:"
      ],
      "id": "8cF2RJcudwTE"
    },
    {
      "cell_type": "code",
      "execution_count": 15,
      "metadata": {
        "deletable": false,
        "nbgrader": {
          "cell_type": "code",
          "checksum": "e2e5293b68c53aff978502c5c656b61d",
          "grade": false,
          "grade_id": "cell-1beeec7ed1001295",
          "locked": false,
          "schema_version": 3,
          "solution": true,
          "task": false
        },
        "id": "tZkRtjI3dwTE"
      },
      "outputs": [],
      "source": [
        "def hilb(n,m):\n",
        "  A= []\n",
        "  for i in range(1,n+1):\n",
        "    v=[]\n",
        "    for j in range(1, m+1):\n",
        "      v.append(1/(i+j-1))\n",
        "    A.append(v)\n",
        "  return np.array(A)"
      ],
      "id": "tZkRtjI3dwTE"
    },
    {
      "cell_type": "code",
      "execution_count": 16,
      "metadata": {
        "deletable": false,
        "editable": false,
        "nbgrader": {
          "cell_type": "code",
          "checksum": "7a1c19617d24aca275c81c76d5406080",
          "grade": true,
          "grade_id": "cell-7b099dca3f2338bf",
          "locked": true,
          "points": 2,
          "schema_version": 3,
          "solution": false,
          "task": false
        },
        "id": "lvzQvDBndwTE"
      },
      "outputs": [],
      "source": [
        "assert np.all(hilb(3,2) == [[1, 1/2], [1/2, 1/3], [1/3, 1/4]])"
      ],
      "id": "lvzQvDBndwTE"
    },
    {
      "cell_type": "code",
      "execution_count": 17,
      "metadata": {
        "deletable": false,
        "editable": false,
        "nbgrader": {
          "cell_type": "code",
          "checksum": "66dac445bc5aa8f795f2af10357f8b45",
          "grade": true,
          "grade_id": "cell-089b84839c179610",
          "locked": true,
          "points": 1,
          "schema_version": 3,
          "solution": false,
          "task": false
        },
        "id": "AriuFdiYdwTE"
      },
      "outputs": [],
      "source": [
        "H = hilb(40,20)\n",
        "assert H.shape == (40,20)"
      ],
      "id": "AriuFdiYdwTE"
    },
    {
      "cell_type": "code",
      "execution_count": 18,
      "metadata": {
        "deletable": false,
        "editable": false,
        "nbgrader": {
          "cell_type": "code",
          "checksum": "b6a277544a4404356943b8c90bf6ea1b",
          "grade": true,
          "grade_id": "cell-2862c12ba8bfcd13",
          "locked": true,
          "points": 1,
          "schema_version": 3,
          "solution": false,
          "task": false
        },
        "id": "ydAsGxGadwTF"
      },
      "outputs": [],
      "source": [
        "H = hilb(30,4)\n",
        "assert H[10,3] == 1/(10+3+1)"
      ],
      "id": "ydAsGxGadwTF"
    },
    {
      "cell_type": "markdown",
      "metadata": {
        "id": "4REjyQImdwTF"
      },
      "source": [
        "Explique porque o teste acima é feito com $\\frac{1}{10+3+1}$ em vez de $\\frac{1}{10+3-1}$."
      ],
      "id": "4REjyQImdwTF"
    },
    {
      "cell_type": "markdown",
      "metadata": {
        "deletable": false,
        "nbgrader": {
          "cell_type": "markdown",
          "checksum": "77806d4164d6b8d887f4381febb9ce4b",
          "grade": true,
          "grade_id": "cell-a780aa0e9f2f4a3d",
          "locked": false,
          "points": 2,
          "schema_version": 3,
          "solution": true,
          "task": false
        },
        "id": "hD6CFfZzdwTF"
      },
      "source": [
        "Porque no desenvolvimento da matriz de Hilbert, as entradas assumem valores de acordo com a sua posição e começamos a contagem dos indices para linhas e colunas a partir de $1$ no cálculo do valor que a entrada $H_{i,j}$ deve assumir. Esse valor corresponde a $\\frac{1}{i+j-1}$. Contudo ao acessar matrizes e vetores devemos considerar que o primeiro elemento tem indice $0$. Ou seja, ao acessar a entrada $H[10,3]$, de acordo com o desenvolvimento criado, estaremos acessando o valor de $\\frac{1}{(10+1) +(3 +1)-1} = \\frac{1}{11+4-1} =  \\frac{1}{10 +3 +1} $.\n",
        "\n",
        "Portando, o calculo é feito dessa maneira, para deslocar os indices em $1$ posição, já que com indices comecando em $0$, esse cálculo daria uma indeterminação, pois possui divisão por $0$. Enquanto isso, a construção da matriz de Hilbert partindo de entradas $H_{i,j}$ e indices $i, j \\geq 0$ devem atender aos valores de $\\frac{1}{i+j+1}$."
      ],
      "id": "hD6CFfZzdwTF"
    },
    {
      "cell_type": "markdown",
      "metadata": {
        "id": "-04giM78dwTF"
      },
      "source": [
        "# Questão 4: Regressão com a matriz de Hilbert\n",
        "\n",
        "Considere a matriz de Hilbert $30 \\times 4$, e calcule a regressão para um vetor $b$ aleatório.\n",
        "Calcule\n",
        "- a diferença entre as soluções; e\n",
        "- a diferença entre os erros de regressão."
      ],
      "id": "-04giM78dwTF"
    },
    {
      "cell_type": "code",
      "execution_count": 19,
      "metadata": {
        "deletable": false,
        "nbgrader": {
          "cell_type": "code",
          "checksum": "d03ebae4525b0cfc363ed58f5f6db6ee",
          "grade": true,
          "grade_id": "cell-8fda30c26c1bde7a",
          "locked": false,
          "points": 2,
          "schema_version": 3,
          "solution": true,
          "task": false
        },
        "colab": {
          "base_uri": "https://localhost:8080/"
        },
        "id": "WcnUp9IEdwTF",
        "outputId": "474d5851-66ee-4c0d-bf55-b484f15e8ff8"
      },
      "outputs": [
        {
          "output_type": "stream",
          "name": "stdout",
          "text": [
            "\n",
            " Diferença soluções:\n",
            " [-4.13999146e-09  3.60041099e-08 -7.30622105e-08  4.19204298e-08]\n",
            "\n",
            " Diferença erros de regressão:\n",
            " -3.552713678800501e-15\n"
          ]
        }
      ],
      "source": [
        "np.random.seed(1)\n",
        "H = hilb(30,4)\n",
        "(x1, x2), (e1, e2) = duas_sols_erros(H,np.random.rand(30))\n",
        "\n",
        "dx = (x2-x1)\n",
        "de = (e1-e2)\n",
        "\n",
        "print('\\n Diferença soluções:\\n', dx)\n",
        "print('\\n Diferença erros de regressão:\\n', de)\n"
      ],
      "id": "WcnUp9IEdwTF"
    },
    {
      "cell_type": "markdown",
      "metadata": {
        "id": "vXRiotg9dwTG"
      },
      "source": [
        "Calcule, também, o erro relativo entre as soluções, de duas formas:\n",
        "- coordenada a coordenada, $\\frac{|x1_i - x2_i|}{|x1_i| + |x2_i|}$,\n",
        "- global, $\\frac{||x1 - x2||}{||x1|| + ||x2||}$.\n",
        "\n",
        "(Obs: como não há um método que seja \"a priori\" mais exato do que o outro, normalizamos pela soma dos valores absolutos)"
      ],
      "id": "vXRiotg9dwTG"
    },
    {
      "cell_type": "code",
      "execution_count": 20,
      "metadata": {
        "deletable": false,
        "nbgrader": {
          "cell_type": "code",
          "checksum": "279a63b24fd7f028342f12d5a32c82e5",
          "grade": true,
          "grade_id": "cell-d8afa9e0fa4a71e5",
          "locked": false,
          "points": 1,
          "schema_version": 3,
          "solution": true,
          "task": false
        },
        "id": "ipGPVpy6dwTG",
        "colab": {
          "base_uri": "https://localhost:8080/"
        },
        "outputId": "fba4fb32-3d34-43be-d6d3-9f7fbb894a55"
      },
      "outputs": [
        {
          "output_type": "stream",
          "name": "stdout",
          "text": [
            "\n",
            " Erro relativo entre as soluções coordenada a coordenada:\n",
            " [4.074817806471006e-11, 3.640636485696154e-11, 3.363047564429874e-11, 3.1554959888932234e-11]\n",
            "\n",
            " Erro relativo entre as soluções global:\n",
            " 3.354447851272506e-11\n"
          ]
        }
      ],
      "source": [
        "#Erro relativo coordenada a coordenada\n",
        "\n",
        "err_coord = [(abs(x1i - x2i)/(abs(x1i) + abs(x2i))) for (x1i,x2i) in zip(x1,x2)]\n",
        "err_glob = (norm(x1 - x2)/(norm(x1) + norm(x2)))\n",
        "\n",
        "print('\\n Erro relativo entre as soluções coordenada a coordenada:\\n', err_coord)\n",
        "print('\\n Erro relativo entre as soluções global:\\n', err_glob)"
      ],
      "id": "ipGPVpy6dwTG"
    },
    {
      "cell_type": "markdown",
      "metadata": {
        "id": "OL_jiKTDdwTG"
      },
      "source": [
        "Agora, aumente para $300 \\times 10$, e calcule\n",
        "- a diferença entre as soluções,\n",
        "- os erros relativos entre as soluções,\n",
        "- a diferença entre os erros de regressão."
      ],
      "id": "OL_jiKTDdwTG"
    },
    {
      "cell_type": "code",
      "execution_count": 21,
      "metadata": {
        "deletable": false,
        "nbgrader": {
          "cell_type": "code",
          "checksum": "551e05f9bc05acee03fb246c34f4932c",
          "grade": true,
          "grade_id": "cell-1e96c71c6eb6a786",
          "locked": false,
          "points": 1,
          "schema_version": 3,
          "solution": true,
          "task": false
        },
        "id": "XGz0t74RdwTG",
        "colab": {
          "base_uri": "https://localhost:8080/"
        },
        "outputId": "6ef23aa0-da6b-4ad1-b2c8-1f3f84624b8f"
      },
      "outputs": [
        {
          "output_type": "stream",
          "name": "stdout",
          "text": [
            "\n",
            " Diferença soluções:\n",
            " [ 2.12270175e+05 -9.99345434e+06  1.23842187e+08 -6.81866098e+08\n",
            "  2.01163979e+09 -3.43074297e+09  3.42693418e+09 -1.91052203e+09\n",
            "  5.07273481e+08 -3.67770286e+07]\n",
            "\n",
            " Erro relativo entre as soluções coordenada a coordenada:\n",
            " [1.0, 1.0, 1.0, 1.0, 1.0, 1.0, 0.9442343126360888, 0.48891962252276305, 0.23714203143325427, 0.07758068289887565]\n",
            "\n",
            " Erro relativo entre as soluções global:\n",
            " 0.765925859147997\n",
            "\n",
            " Diferença erros de regressao:\n",
            " 7.875755493316929\n"
          ]
        }
      ],
      "source": [
        "np.random.seed(1)\n",
        "H = hilb(300,10)\n",
        "(x1, x2), (e1, e2) = duas_sols_erros(H,np.random.rand(300))\n",
        "\n",
        "dx = (x1-x2)\n",
        "de = (e1-e2)\n",
        "err_coord = [(abs(x1i - x2i)/(abs(x1i) + abs(x2i))) for (x1i,x2i) in zip(x1,x2)]\n",
        "err_glob = (norm(x1 - x2)/(norm(x1) + norm(x2)))\n",
        "\n",
        "print('\\n Diferença soluções:\\n', dx)\n",
        "print('\\n Erro relativo entre as soluções coordenada a coordenada:\\n', err_coord)\n",
        "print('\\n Erro relativo entre as soluções global:\\n', err_glob)\n",
        "print('\\n Diferença erros de regressao:\\n', de)"
      ],
      "id": "XGz0t74RdwTG"
    },
    {
      "cell_type": "markdown",
      "metadata": {
        "id": "6Ww7DYYrdwTG"
      },
      "source": [
        "O que aconteceu?"
      ],
      "id": "6Ww7DYYrdwTG"
    },
    {
      "cell_type": "markdown",
      "metadata": {
        "deletable": false,
        "nbgrader": {
          "cell_type": "markdown",
          "checksum": "3e4249193b874e335f216c1fdd46e039",
          "grade": true,
          "grade_id": "cell-ed5e234080d495c8",
          "locked": false,
          "points": 2,
          "schema_version": 3,
          "solution": true,
          "task": false
        },
        "id": "9lIL6znQdwTG"
      },
      "source": [
        "Ao utilizar uma matriz de Hilbert maior em um segundo momento, é possivel notar uma diferença significativa entre as soluções dos dois métodos utilizados. Considerando o cálculo para matriz $H_{300,10}$, temos que o número de coeficientes para ajuste também aumentou(coordenadas das soluções), com isso, as primeiras coordenadas apresentaram uma difereça com ordem maior entre as soluções ao comparar com a diferença entre as soluções na matriz $H_{30,4}$ . \n",
        "\n",
        "Além disso, um erro relativo entre as soluções coordenada a coordenada igual a $1$, representa um erro muito grande, pois o erro relativo é a razão entre o erro absoluto entre as soluções e a soma dos valores absolutos das soluções. Como no resultado o erro relativo é igual ou próximo a $1$ em algumas coordenadas, isso repressenta que esses erros estão na ordem da soma das soluções. Porém, o que seria desejavel é que o erro relativo coordenada a coordenada apresente um valor baixo, indicando que as soluções de ambos os métodos são parecidas, contudo isso não ocorre nesse caso. Podemos observar também que o erro relativo global é alto, mesmo que não seja igual a $1$. \n",
        "\n",
        "Em relação aos erros de regressão, é possivel observar que tem um aumento significativo na diferença entre os métodos quando comparamos a matriz $H_{300,10}$ com $H_{30,4}$. Além disso, em ambos os casos, a diferença entre os erros de regressão apresentaram valores posivitos, o que representa que o método `np.linalg.solve` apresentou erro maior que o método `np.linalg.lstsq`, além de soluções com erros de regressão muito distintos para os métodos.  \n",
        "\n",
        "Abaixo, são feitos os cálculos de erros e diferenças de soluções para a matriz $H_{300,4}$.  Ao aumentar somente o número de linhas e manter o número de colunas em $4$, os resultados foram bem melhores em comparação a utilização dos métodos com $10$ colunas, apresentando erros relativos muito inferiores, e portanto, soluções mais parecidas entre os métodos. \n",
        "\n",
        "É possivel perceber, portanto, que aumentar o número de colunas para matriz de Hilbert trouxe resultados muito piores, tendo em vista que o número de coordenadas solução (coeficientes calculados pelos métodos) aumenta e resulta em soluções com diferenças muito grandes ao comparar os métodos `np.linalg.solve` com `np.linalg.lstsq`."
      ],
      "id": "9lIL6znQdwTG"
    },
    {
      "cell_type": "code",
      "source": [
        "np.random.seed(1)\n",
        "H = hilb(300,4)\n",
        "(x1, x2), (e1, e2) = duas_sols_erros(H,np.random.rand(300))\n",
        "\n",
        "dx = (x1-x2)\n",
        "de = (e1-e2)\n",
        "err_coord = [(abs(x1i - x2i)/(abs(x1i) + abs(x2i))) for (x1i,x2i) in zip(x1,x2)]\n",
        "err_glob = (norm(x1 - x2)/(norm(x1) + norm(x2)))\n",
        "\n",
        "print('\\n Diferença soluções:\\n', dx)\n",
        "print('\\n Erro relativo entre as soluções coordenada a coordenada:\\n', err_coord)\n",
        "print('\\n Erro relativo entre as soluções global:\\n', err_glob)\n",
        "print('\\n Diferença erros de regressao:\\n', de)\n"
      ],
      "metadata": {
        "colab": {
          "base_uri": "https://localhost:8080/"
        },
        "id": "cmEW7aOlit2h",
        "outputId": "d447a1ae-30f9-47e8-95d8-5542fdf33047"
      },
      "id": "cmEW7aOlit2h",
      "execution_count": 22,
      "outputs": [
        {
          "output_type": "stream",
          "name": "stdout",
          "text": [
            "\n",
            " Diferença soluções:\n",
            " [-3.67133737e-08  3.08810058e-07 -6.10047664e-07  3.42215117e-07]\n",
            "\n",
            " Erro relativo entre as soluções coordenada a coordenada:\n",
            " [1.3222680343509172e-10, 1.1737900961442015e-10, 1.0779548675547919e-10, 1.007320059579301e-10]\n",
            "\n",
            " Erro relativo entre as soluções global:\n",
            " 1.0764757925875527e-10\n",
            "\n",
            " Diferença erros de regressao:\n",
            " 0.0\n"
          ]
        }
      ]
    },
    {
      "cell_type": "markdown",
      "metadata": {
        "id": "A46G_KgzdwTH"
      },
      "source": [
        "# Questão 5: Outro sistema\n",
        "\n",
        "Agora, considere a matriz com entradas inteiras em sequência:\n",
        "$$ A = \\begin{bmatrix}\n",
        "1 & 2 & 3 \\\\\n",
        "4 & 5 & 6 \\\\\n",
        "7 & 8 & 9 \\\\\n",
        "10 & 11 & 12 \\\\\n",
        "13 & 14 & 15 \\\\\n",
        "16 & 17 & 18\n",
        "\\end{bmatrix} $$\n",
        "\n",
        "Resolva o problema de regressão para o vetor $b = (1,1,1,1,1,1)$, pelos dois métodos, e calcule os erros."
      ],
      "id": "A46G_KgzdwTH"
    },
    {
      "cell_type": "code",
      "execution_count": 23,
      "metadata": {
        "deletable": false,
        "nbgrader": {
          "cell_type": "code",
          "checksum": "4eb49aa4bb34e0cf397253e651bfb426",
          "grade": true,
          "grade_id": "cell-92972912d0d251fd",
          "locked": false,
          "points": 1,
          "schema_version": 3,
          "solution": true,
          "task": false
        },
        "id": "7F42MplZdwTH",
        "colab": {
          "base_uri": "https://localhost:8080/",
          "height": 381
        },
        "outputId": "74ccfa44-4dd3-45b1-8ce0-b2e9fb3035ff"
      },
      "outputs": [
        {
          "output_type": "error",
          "ename": "LinAlgError",
          "evalue": "ignored",
          "traceback": [
            "\u001b[0;31m---------------------------------------------------------------------------\u001b[0m",
            "\u001b[0;31mLinAlgError\u001b[0m                               Traceback (most recent call last)",
            "\u001b[0;32m<ipython-input-23-3f4412979e3c>\u001b[0m in \u001b[0;36m<module>\u001b[0;34m()\u001b[0m\n\u001b[1;32m      5\u001b[0m \u001b[0;34m\u001b[0m\u001b[0m\n\u001b[1;32m      6\u001b[0m \u001b[0;34m\u001b[0m\u001b[0m\n\u001b[0;32m----> 7\u001b[0;31m \u001b[0;34m(\u001b[0m\u001b[0mx1\u001b[0m\u001b[0;34m,\u001b[0m \u001b[0mx2\u001b[0m\u001b[0;34m)\u001b[0m\u001b[0;34m,\u001b[0m \u001b[0;34m(\u001b[0m\u001b[0me1\u001b[0m\u001b[0;34m,\u001b[0m \u001b[0me2\u001b[0m\u001b[0;34m)\u001b[0m \u001b[0;34m=\u001b[0m \u001b[0mduas_sols_erros\u001b[0m\u001b[0;34m(\u001b[0m\u001b[0mA\u001b[0m\u001b[0;34m,\u001b[0m\u001b[0mnp\u001b[0m\u001b[0;34m.\u001b[0m\u001b[0mrandom\u001b[0m\u001b[0;34m.\u001b[0m\u001b[0mrand\u001b[0m\u001b[0;34m(\u001b[0m\u001b[0;36m6\u001b[0m\u001b[0;34m)\u001b[0m\u001b[0;34m)\u001b[0m\u001b[0;34m\u001b[0m\u001b[0;34m\u001b[0m\u001b[0m\n\u001b[0m",
            "\u001b[0;32m<ipython-input-6-a8e13ce868db>\u001b[0m in \u001b[0;36mduas_sols_erros\u001b[0;34m(A, b)\u001b[0m\n\u001b[1;32m      1\u001b[0m \u001b[0;32mdef\u001b[0m \u001b[0mduas_sols_erros\u001b[0m\u001b[0;34m(\u001b[0m\u001b[0mA\u001b[0m\u001b[0;34m,\u001b[0m\u001b[0mb\u001b[0m\u001b[0;34m)\u001b[0m\u001b[0;34m:\u001b[0m\u001b[0;34m\u001b[0m\u001b[0;34m\u001b[0m\u001b[0m\n\u001b[0;32m----> 2\u001b[0;31m   \u001b[0mx1\u001b[0m\u001b[0;34m,\u001b[0m \u001b[0mx2\u001b[0m \u001b[0;34m=\u001b[0m \u001b[0mduas_sols\u001b[0m\u001b[0;34m(\u001b[0m\u001b[0mA\u001b[0m\u001b[0;34m,\u001b[0m\u001b[0mb\u001b[0m\u001b[0;34m)\u001b[0m\u001b[0;34m\u001b[0m\u001b[0;34m\u001b[0m\u001b[0m\n\u001b[0m\u001b[1;32m      3\u001b[0m   \u001b[0merr1\u001b[0m\u001b[0;34m,\u001b[0m \u001b[0merr2\u001b[0m \u001b[0;34m=\u001b[0m \u001b[0mnorm\u001b[0m\u001b[0;34m(\u001b[0m\u001b[0mA\u001b[0m\u001b[0;34m@\u001b[0m\u001b[0mx1\u001b[0m\u001b[0;34m-\u001b[0m\u001b[0mb\u001b[0m\u001b[0;34m)\u001b[0m\u001b[0;34m,\u001b[0m \u001b[0mnorm\u001b[0m\u001b[0;34m(\u001b[0m\u001b[0mA\u001b[0m\u001b[0;34m@\u001b[0m\u001b[0mx2\u001b[0m\u001b[0;34m-\u001b[0m\u001b[0mb\u001b[0m\u001b[0;34m)\u001b[0m\u001b[0;34m\u001b[0m\u001b[0;34m\u001b[0m\u001b[0m\n\u001b[1;32m      4\u001b[0m   \u001b[0;32mreturn\u001b[0m \u001b[0;34m(\u001b[0m\u001b[0mx1\u001b[0m\u001b[0;34m,\u001b[0m\u001b[0mx2\u001b[0m\u001b[0;34m)\u001b[0m\u001b[0;34m,\u001b[0m \u001b[0;34m(\u001b[0m\u001b[0merr1\u001b[0m\u001b[0;34m,\u001b[0m\u001b[0merr2\u001b[0m\u001b[0;34m)\u001b[0m\u001b[0;34m\u001b[0m\u001b[0;34m\u001b[0m\u001b[0m\n",
            "\u001b[0;32m<ipython-input-2-762a3fc31fc5>\u001b[0m in \u001b[0;36mduas_sols\u001b[0;34m(A, b)\u001b[0m\n\u001b[1;32m      1\u001b[0m \u001b[0;32mdef\u001b[0m \u001b[0mduas_sols\u001b[0m\u001b[0;34m(\u001b[0m\u001b[0mA\u001b[0m\u001b[0;34m,\u001b[0m\u001b[0mb\u001b[0m\u001b[0;34m)\u001b[0m\u001b[0;34m:\u001b[0m\u001b[0;34m\u001b[0m\u001b[0;34m\u001b[0m\u001b[0m\n\u001b[1;32m      2\u001b[0m \u001b[0;34m\u001b[0m\u001b[0m\n\u001b[0;32m----> 3\u001b[0;31m   \u001b[0mx1\u001b[0m \u001b[0;34m=\u001b[0m \u001b[0mnp\u001b[0m\u001b[0;34m.\u001b[0m\u001b[0mlinalg\u001b[0m\u001b[0;34m.\u001b[0m\u001b[0msolve\u001b[0m\u001b[0;34m(\u001b[0m\u001b[0mA\u001b[0m\u001b[0;34m.\u001b[0m\u001b[0mT\u001b[0m\u001b[0;34m@\u001b[0m\u001b[0mA\u001b[0m\u001b[0;34m,\u001b[0m \u001b[0mA\u001b[0m\u001b[0;34m.\u001b[0m\u001b[0mT\u001b[0m\u001b[0;34m@\u001b[0m\u001b[0mb\u001b[0m\u001b[0;34m)\u001b[0m\u001b[0;34m\u001b[0m\u001b[0;34m\u001b[0m\u001b[0m\n\u001b[0m\u001b[1;32m      4\u001b[0m   \u001b[0mx2\u001b[0m\u001b[0;34m,\u001b[0m \u001b[0;34m*\u001b[0m\u001b[0m_\u001b[0m \u001b[0;34m=\u001b[0m \u001b[0mnp\u001b[0m\u001b[0;34m.\u001b[0m\u001b[0mlinalg\u001b[0m\u001b[0;34m.\u001b[0m\u001b[0mlstsq\u001b[0m\u001b[0;34m(\u001b[0m\u001b[0mA\u001b[0m\u001b[0;34m,\u001b[0m \u001b[0mb\u001b[0m\u001b[0;34m,\u001b[0m \u001b[0mrcond\u001b[0m\u001b[0;34m=\u001b[0m\u001b[0;32mNone\u001b[0m\u001b[0;34m)\u001b[0m\u001b[0;34m\u001b[0m\u001b[0;34m\u001b[0m\u001b[0m\n\u001b[1;32m      5\u001b[0m \u001b[0;34m\u001b[0m\u001b[0m\n",
            "\u001b[0;32m<__array_function__ internals>\u001b[0m in \u001b[0;36msolve\u001b[0;34m(*args, **kwargs)\u001b[0m\n",
            "\u001b[0;32m/usr/local/lib/python3.7/dist-packages/numpy/linalg/linalg.py\u001b[0m in \u001b[0;36msolve\u001b[0;34m(a, b)\u001b[0m\n\u001b[1;32m    391\u001b[0m     \u001b[0msignature\u001b[0m \u001b[0;34m=\u001b[0m \u001b[0;34m'DD->D'\u001b[0m \u001b[0;32mif\u001b[0m \u001b[0misComplexType\u001b[0m\u001b[0;34m(\u001b[0m\u001b[0mt\u001b[0m\u001b[0;34m)\u001b[0m \u001b[0;32melse\u001b[0m \u001b[0;34m'dd->d'\u001b[0m\u001b[0;34m\u001b[0m\u001b[0;34m\u001b[0m\u001b[0m\n\u001b[1;32m    392\u001b[0m     \u001b[0mextobj\u001b[0m \u001b[0;34m=\u001b[0m \u001b[0mget_linalg_error_extobj\u001b[0m\u001b[0;34m(\u001b[0m\u001b[0m_raise_linalgerror_singular\u001b[0m\u001b[0;34m)\u001b[0m\u001b[0;34m\u001b[0m\u001b[0;34m\u001b[0m\u001b[0m\n\u001b[0;32m--> 393\u001b[0;31m     \u001b[0mr\u001b[0m \u001b[0;34m=\u001b[0m \u001b[0mgufunc\u001b[0m\u001b[0;34m(\u001b[0m\u001b[0ma\u001b[0m\u001b[0;34m,\u001b[0m \u001b[0mb\u001b[0m\u001b[0;34m,\u001b[0m \u001b[0msignature\u001b[0m\u001b[0;34m=\u001b[0m\u001b[0msignature\u001b[0m\u001b[0;34m,\u001b[0m \u001b[0mextobj\u001b[0m\u001b[0;34m=\u001b[0m\u001b[0mextobj\u001b[0m\u001b[0;34m)\u001b[0m\u001b[0;34m\u001b[0m\u001b[0;34m\u001b[0m\u001b[0m\n\u001b[0m\u001b[1;32m    394\u001b[0m \u001b[0;34m\u001b[0m\u001b[0m\n\u001b[1;32m    395\u001b[0m     \u001b[0;32mreturn\u001b[0m \u001b[0mwrap\u001b[0m\u001b[0;34m(\u001b[0m\u001b[0mr\u001b[0m\u001b[0;34m.\u001b[0m\u001b[0mastype\u001b[0m\u001b[0;34m(\u001b[0m\u001b[0mresult_t\u001b[0m\u001b[0;34m,\u001b[0m \u001b[0mcopy\u001b[0m\u001b[0;34m=\u001b[0m\u001b[0;32mFalse\u001b[0m\u001b[0;34m)\u001b[0m\u001b[0;34m)\u001b[0m\u001b[0;34m\u001b[0m\u001b[0;34m\u001b[0m\u001b[0m\n",
            "\u001b[0;32m/usr/local/lib/python3.7/dist-packages/numpy/linalg/linalg.py\u001b[0m in \u001b[0;36m_raise_linalgerror_singular\u001b[0;34m(err, flag)\u001b[0m\n\u001b[1;32m     86\u001b[0m \u001b[0;34m\u001b[0m\u001b[0m\n\u001b[1;32m     87\u001b[0m \u001b[0;32mdef\u001b[0m \u001b[0m_raise_linalgerror_singular\u001b[0m\u001b[0;34m(\u001b[0m\u001b[0merr\u001b[0m\u001b[0;34m,\u001b[0m \u001b[0mflag\u001b[0m\u001b[0;34m)\u001b[0m\u001b[0;34m:\u001b[0m\u001b[0;34m\u001b[0m\u001b[0;34m\u001b[0m\u001b[0m\n\u001b[0;32m---> 88\u001b[0;31m     \u001b[0;32mraise\u001b[0m \u001b[0mLinAlgError\u001b[0m\u001b[0;34m(\u001b[0m\u001b[0;34m\"Singular matrix\"\u001b[0m\u001b[0;34m)\u001b[0m\u001b[0;34m\u001b[0m\u001b[0;34m\u001b[0m\u001b[0m\n\u001b[0m\u001b[1;32m     89\u001b[0m \u001b[0;34m\u001b[0m\u001b[0m\n\u001b[1;32m     90\u001b[0m \u001b[0;32mdef\u001b[0m \u001b[0m_raise_linalgerror_nonposdef\u001b[0m\u001b[0;34m(\u001b[0m\u001b[0merr\u001b[0m\u001b[0;34m,\u001b[0m \u001b[0mflag\u001b[0m\u001b[0;34m)\u001b[0m\u001b[0;34m:\u001b[0m\u001b[0;34m\u001b[0m\u001b[0;34m\u001b[0m\u001b[0m\n",
            "\u001b[0;31mLinAlgError\u001b[0m: Singular matrix"
          ]
        }
      ],
      "source": [
        "# VAI DAR ERRO POIS MATRIZ A^T.A SINGULAR!\n",
        "\n",
        "A = np.arange(1,19).reshape((6, 3))\n",
        "b = np.ones(6)\n",
        "\n",
        "\n",
        "(x1, x2), (e1, e2) = duas_sols_erros(A,np.random.rand(6))"
      ],
      "id": "7F42MplZdwTH"
    },
    {
      "cell_type": "markdown",
      "metadata": {
        "id": "gt2Ptcr9dwTH"
      },
      "source": [
        "O que aconteceu?"
      ],
      "id": "gt2Ptcr9dwTH"
    },
    {
      "cell_type": "markdown",
      "metadata": {
        "deletable": false,
        "nbgrader": {
          "cell_type": "markdown",
          "checksum": "94aa8c82fb8527816672fc37747e2649",
          "grade": true,
          "grade_id": "cell-a2f0eddf5eb48f1d",
          "locked": false,
          "points": 2,
          "schema_version": 3,
          "solution": true,
          "task": false
        },
        "id": "WphO9a8gdwTH"
      },
      "source": [
        "Nessa matriz escolhida $A$, temos que o determinante da matriz $A^T \\cdot A $ é zero, caracterizando-a como uma matriz singular. Portanto, mesmo que a matriz $A^T \\cdot A $ seja quadrada, se ela é singular, ou seja, se não é inversível, então não existe solução para o sistema linear utilizando a função `np.linalg.solve`. A seguir o cálculo do determinante da matriz quadrada $A^T \\cdot A$:"
      ],
      "id": "WphO9a8gdwTH"
    },
    {
      "cell_type": "code",
      "source": [
        "det_A = np.linalg.det(A.T @ A)\n",
        "print(det_A)"
      ],
      "metadata": {
        "colab": {
          "base_uri": "https://localhost:8080/"
        },
        "id": "Iml9B_BMNE7R",
        "outputId": "fdb0ba14-dd2a-428d-86d4-0ec5f598d9db"
      },
      "id": "Iml9B_BMNE7R",
      "execution_count": 24,
      "outputs": [
        {
          "output_type": "stream",
          "name": "stdout",
          "text": [
            "0.0\n"
          ]
        }
      ]
    }
  ],
  "metadata": {
    "kernelspec": {
      "display_name": "Python 3 (ipykernel)",
      "language": "python",
      "name": "python3"
    },
    "language_info": {
      "codemirror_mode": {
        "name": "ipython",
        "version": 3
      },
      "file_extension": ".py",
      "mimetype": "text/x-python",
      "name": "python",
      "nbconvert_exporter": "python",
      "pygments_lexer": "ipython3",
      "version": "3.9.5"
    },
    "colab": {
      "name": "MayaraAragao_Teste9.ipynb",
      "provenance": [],
      "collapsed_sections": []
    }
  },
  "nbformat": 4,
  "nbformat_minor": 5
}